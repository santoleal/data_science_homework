{
 "cells": [
  {
   "cell_type": "markdown",
   "metadata": {},
   "source": [
    "# **DESAFÍO Nº3: VARIABLES ALEATORIAS I - TABAQUISMO Y GESTACIÓN**\n",
    "### **Módulo 4: Análisis Estadístico con Python**\n",
    "#### *Carrera Data Science - G-68 - Desafio Latam*\n",
    "#### Estudiante: Felipe Leal Arancibia"
   ]
  },
  {
   "cell_type": "markdown",
   "metadata": {},
   "source": [
    "En este desafío validaremos nuestros conocimientos sobre variables aleatorias. Para lograrlo, necesitarás aplicar lo visto en clases.\n",
    "\n",
    "Lee todo el documento antes de comenzar el desarrollo individual, para asegurarte de tener el máximo de puntaje y enfocar bien los esfuerzos.\n",
    "\n",
    "Tiempo asociado: 2 horas cronológicas"
   ]
  },
  {
   "cell_type": "markdown",
   "metadata": {},
   "source": [
    "## Descripción\n",
    "\n",
    "#### Un grupo de investigadores está interesado en analizar la relación entre el hábito de fumar con el crecimiento de los bebés en edad gestacional. Para esto han recopilado los datos guardados en el dataset baby.csv, que contiene los siguientes campos de datos:\n",
    "##### - Birth.Weight : Peso del bebe\n",
    "##### - Gestational.Days: Días de gestación\n",
    "##### - Maternal.Age: Edad de la madre\n",
    "##### - Maternal.Height: Altura de la madre\n",
    "##### - Maternal.Pregnancy.Weight: Peso de la madre\n",
    "##### - Maternal.Smoker: ¿Es la madre fumadora? (True: fumadora, False: no es fumadora)\n",
    "\n",
    "\n",
    "#### A partir de estos datos se solicita:"
   ]
  },
  {
   "cell_type": "code",
   "execution_count": 1,
   "id": "f7c7412d",
   "metadata": {},
   "outputs": [],
   "source": [
    "# Primero importar todas las potenciales librería sa utilizar\n",
    "import pandas as pd\n",
    "import numpy as np\n",
    "import matplotlib.pyplot as plt\n",
    "import scipy.stats as stats\n"
   ]
  },
  {
   "cell_type": "markdown",
   "metadata": {},
   "source": [
    "#### 1. Realiza una exploración de los datos, considerando sus tipos y los descriptivos correspondientes."
   ]
  },
  {
   "cell_type": "code",
   "execution_count": 10,
   "id": "54448168",
   "metadata": {},
   "outputs": [
    {
     "data": {
      "text/html": [
       "<div>\n",
       "<style scoped>\n",
       "    .dataframe tbody tr th:only-of-type {\n",
       "        vertical-align: middle;\n",
       "    }\n",
       "\n",
       "    .dataframe tbody tr th {\n",
       "        vertical-align: top;\n",
       "    }\n",
       "\n",
       "    .dataframe thead th {\n",
       "        text-align: right;\n",
       "    }\n",
       "</style>\n",
       "<table border=\"1\" class=\"dataframe\">\n",
       "  <thead>\n",
       "    <tr style=\"text-align: right;\">\n",
       "      <th></th>\n",
       "      <th>Unnamed: 0</th>\n",
       "      <th>Birth.Weight</th>\n",
       "      <th>Gestational.Days</th>\n",
       "      <th>Maternal.Age</th>\n",
       "      <th>Maternal.Height</th>\n",
       "      <th>Maternal.Pregnancy.Weight</th>\n",
       "      <th>Maternal.Smoker</th>\n",
       "    </tr>\n",
       "  </thead>\n",
       "  <tbody>\n",
       "    <tr>\n",
       "      <th>0</th>\n",
       "      <td>1</td>\n",
       "      <td>120</td>\n",
       "      <td>284</td>\n",
       "      <td>27</td>\n",
       "      <td>62</td>\n",
       "      <td>100</td>\n",
       "      <td>False</td>\n",
       "    </tr>\n",
       "    <tr>\n",
       "      <th>1</th>\n",
       "      <td>2</td>\n",
       "      <td>113</td>\n",
       "      <td>282</td>\n",
       "      <td>33</td>\n",
       "      <td>64</td>\n",
       "      <td>135</td>\n",
       "      <td>False</td>\n",
       "    </tr>\n",
       "    <tr>\n",
       "      <th>2</th>\n",
       "      <td>3</td>\n",
       "      <td>128</td>\n",
       "      <td>279</td>\n",
       "      <td>28</td>\n",
       "      <td>64</td>\n",
       "      <td>115</td>\n",
       "      <td>True</td>\n",
       "    </tr>\n",
       "    <tr>\n",
       "      <th>3</th>\n",
       "      <td>4</td>\n",
       "      <td>108</td>\n",
       "      <td>282</td>\n",
       "      <td>23</td>\n",
       "      <td>67</td>\n",
       "      <td>125</td>\n",
       "      <td>True</td>\n",
       "    </tr>\n",
       "    <tr>\n",
       "      <th>4</th>\n",
       "      <td>5</td>\n",
       "      <td>136</td>\n",
       "      <td>286</td>\n",
       "      <td>25</td>\n",
       "      <td>62</td>\n",
       "      <td>93</td>\n",
       "      <td>False</td>\n",
       "    </tr>\n",
       "    <tr>\n",
       "      <th>...</th>\n",
       "      <td>...</td>\n",
       "      <td>...</td>\n",
       "      <td>...</td>\n",
       "      <td>...</td>\n",
       "      <td>...</td>\n",
       "      <td>...</td>\n",
       "      <td>...</td>\n",
       "    </tr>\n",
       "    <tr>\n",
       "      <th>1169</th>\n",
       "      <td>1170</td>\n",
       "      <td>113</td>\n",
       "      <td>275</td>\n",
       "      <td>27</td>\n",
       "      <td>60</td>\n",
       "      <td>100</td>\n",
       "      <td>False</td>\n",
       "    </tr>\n",
       "    <tr>\n",
       "      <th>1170</th>\n",
       "      <td>1171</td>\n",
       "      <td>128</td>\n",
       "      <td>265</td>\n",
       "      <td>24</td>\n",
       "      <td>67</td>\n",
       "      <td>120</td>\n",
       "      <td>False</td>\n",
       "    </tr>\n",
       "    <tr>\n",
       "      <th>1171</th>\n",
       "      <td>1172</td>\n",
       "      <td>130</td>\n",
       "      <td>291</td>\n",
       "      <td>30</td>\n",
       "      <td>65</td>\n",
       "      <td>150</td>\n",
       "      <td>True</td>\n",
       "    </tr>\n",
       "    <tr>\n",
       "      <th>1172</th>\n",
       "      <td>1173</td>\n",
       "      <td>125</td>\n",
       "      <td>281</td>\n",
       "      <td>21</td>\n",
       "      <td>65</td>\n",
       "      <td>110</td>\n",
       "      <td>False</td>\n",
       "    </tr>\n",
       "    <tr>\n",
       "      <th>1173</th>\n",
       "      <td>1174</td>\n",
       "      <td>117</td>\n",
       "      <td>297</td>\n",
       "      <td>38</td>\n",
       "      <td>65</td>\n",
       "      <td>129</td>\n",
       "      <td>False</td>\n",
       "    </tr>\n",
       "  </tbody>\n",
       "</table>\n",
       "<p>1174 rows × 7 columns</p>\n",
       "</div>"
      ],
      "text/plain": [
       "      Unnamed: 0  Birth.Weight  Gestational.Days  Maternal.Age  \\\n",
       "0              1           120               284            27   \n",
       "1              2           113               282            33   \n",
       "2              3           128               279            28   \n",
       "3              4           108               282            23   \n",
       "4              5           136               286            25   \n",
       "...          ...           ...               ...           ...   \n",
       "1169        1170           113               275            27   \n",
       "1170        1171           128               265            24   \n",
       "1171        1172           130               291            30   \n",
       "1172        1173           125               281            21   \n",
       "1173        1174           117               297            38   \n",
       "\n",
       "      Maternal.Height  Maternal.Pregnancy.Weight  Maternal.Smoker  \n",
       "0                  62                        100            False  \n",
       "1                  64                        135            False  \n",
       "2                  64                        115             True  \n",
       "3                  67                        125             True  \n",
       "4                  62                         93            False  \n",
       "...               ...                        ...              ...  \n",
       "1169               60                        100            False  \n",
       "1170               67                        120            False  \n",
       "1171               65                        150             True  \n",
       "1172               65                        110            False  \n",
       "1173               65                        129            False  \n",
       "\n",
       "[1174 rows x 7 columns]"
      ]
     },
     "execution_count": 10,
     "metadata": {},
     "output_type": "execute_result"
    }
   ],
   "source": [
    "# Se importa base de datos\n",
    "estudio_gestacional = pd.read_csv('baby.csv', delimiter=',')\n",
    "estudio_gestacional"
   ]
  },
  {
   "cell_type": "code",
   "execution_count": 9,
   "id": "a6716e86",
   "metadata": {},
   "outputs": [
    {
     "name": "stdout",
     "output_type": "stream",
     "text": [
      "<class 'pandas.core.frame.DataFrame'>\n",
      "RangeIndex: 1174 entries, 0 to 1173\n",
      "Data columns (total 7 columns):\n",
      " #   Column                     Non-Null Count  Dtype\n",
      "---  ------                     --------------  -----\n",
      " 0   Unnamed: 0                 1174 non-null   int64\n",
      " 1   Birth.Weight               1174 non-null   int64\n",
      " 2   Gestational.Days           1174 non-null   int64\n",
      " 3   Maternal.Age               1174 non-null   int64\n",
      " 4   Maternal.Height            1174 non-null   int64\n",
      " 5   Maternal.Pregnancy.Weight  1174 non-null   int64\n",
      " 6   Maternal.Smoker            1174 non-null   bool \n",
      "dtypes: bool(1), int64(6)\n",
      "memory usage: 56.3 KB\n"
     ]
    }
   ],
   "source": [
    "# Tipo de datos de las columnas\n",
    "estudio_gestacional.info()"
   ]
  },
  {
   "cell_type": "markdown",
   "id": "94ddf8a5",
   "metadata": {},
   "source": [
    "### R. Hasta el momento, se ve que el dataset contiene 1.174 casos identificados en la columna \"unnamed\"; 5 variables numéricas (presumiblemente discretas, ya que no se ven ni decimales, ni números negativos ni otro elemento de los números reales que no sea entero); y 1 boleana, en cuyo caso, para efectos de la teoría de la probabilidad, se puede considerar como discreta (ya que asume dos valores que pueden asumir 0 y 1, falso y verdadero respectivamente). \n",
    "\n"
   ]
  },
  {
   "cell_type": "code",
   "execution_count": 11,
   "id": "4e0d4e48",
   "metadata": {},
   "outputs": [
    {
     "data": {
      "text/html": [
       "<div>\n",
       "<style scoped>\n",
       "    .dataframe tbody tr th:only-of-type {\n",
       "        vertical-align: middle;\n",
       "    }\n",
       "\n",
       "    .dataframe tbody tr th {\n",
       "        vertical-align: top;\n",
       "    }\n",
       "\n",
       "    .dataframe thead th {\n",
       "        text-align: right;\n",
       "    }\n",
       "</style>\n",
       "<table border=\"1\" class=\"dataframe\">\n",
       "  <thead>\n",
       "    <tr style=\"text-align: right;\">\n",
       "      <th></th>\n",
       "      <th>Unnamed: 0</th>\n",
       "      <th>Birth.Weight</th>\n",
       "      <th>Gestational.Days</th>\n",
       "      <th>Maternal.Age</th>\n",
       "      <th>Maternal.Height</th>\n",
       "      <th>Maternal.Pregnancy.Weight</th>\n",
       "    </tr>\n",
       "  </thead>\n",
       "  <tbody>\n",
       "    <tr>\n",
       "      <th>count</th>\n",
       "      <td>1174.00</td>\n",
       "      <td>1174.00</td>\n",
       "      <td>1174.00</td>\n",
       "      <td>1174.00</td>\n",
       "      <td>1174.00</td>\n",
       "      <td>1174.00</td>\n",
       "    </tr>\n",
       "    <tr>\n",
       "      <th>mean</th>\n",
       "      <td>587.50</td>\n",
       "      <td>119.46</td>\n",
       "      <td>279.10</td>\n",
       "      <td>27.23</td>\n",
       "      <td>64.05</td>\n",
       "      <td>128.48</td>\n",
       "    </tr>\n",
       "    <tr>\n",
       "      <th>std</th>\n",
       "      <td>339.05</td>\n",
       "      <td>18.33</td>\n",
       "      <td>16.01</td>\n",
       "      <td>5.82</td>\n",
       "      <td>2.53</td>\n",
       "      <td>20.73</td>\n",
       "    </tr>\n",
       "    <tr>\n",
       "      <th>min</th>\n",
       "      <td>1.00</td>\n",
       "      <td>55.00</td>\n",
       "      <td>148.00</td>\n",
       "      <td>15.00</td>\n",
       "      <td>53.00</td>\n",
       "      <td>87.00</td>\n",
       "    </tr>\n",
       "    <tr>\n",
       "      <th>25%</th>\n",
       "      <td>294.25</td>\n",
       "      <td>108.00</td>\n",
       "      <td>272.00</td>\n",
       "      <td>23.00</td>\n",
       "      <td>62.00</td>\n",
       "      <td>114.25</td>\n",
       "    </tr>\n",
       "    <tr>\n",
       "      <th>50%</th>\n",
       "      <td>587.50</td>\n",
       "      <td>120.00</td>\n",
       "      <td>280.00</td>\n",
       "      <td>26.00</td>\n",
       "      <td>64.00</td>\n",
       "      <td>125.00</td>\n",
       "    </tr>\n",
       "    <tr>\n",
       "      <th>75%</th>\n",
       "      <td>880.75</td>\n",
       "      <td>131.00</td>\n",
       "      <td>288.00</td>\n",
       "      <td>31.00</td>\n",
       "      <td>66.00</td>\n",
       "      <td>139.00</td>\n",
       "    </tr>\n",
       "    <tr>\n",
       "      <th>max</th>\n",
       "      <td>1174.00</td>\n",
       "      <td>176.00</td>\n",
       "      <td>353.00</td>\n",
       "      <td>45.00</td>\n",
       "      <td>72.00</td>\n",
       "      <td>250.00</td>\n",
       "    </tr>\n",
       "  </tbody>\n",
       "</table>\n",
       "</div>"
      ],
      "text/plain": [
       "       Unnamed: 0  Birth.Weight  Gestational.Days  Maternal.Age  \\\n",
       "count     1174.00       1174.00           1174.00       1174.00   \n",
       "mean       587.50        119.46            279.10         27.23   \n",
       "std        339.05         18.33             16.01          5.82   \n",
       "min          1.00         55.00            148.00         15.00   \n",
       "25%        294.25        108.00            272.00         23.00   \n",
       "50%        587.50        120.00            280.00         26.00   \n",
       "75%        880.75        131.00            288.00         31.00   \n",
       "max       1174.00        176.00            353.00         45.00   \n",
       "\n",
       "       Maternal.Height  Maternal.Pregnancy.Weight  \n",
       "count          1174.00                    1174.00  \n",
       "mean             64.05                     128.48  \n",
       "std               2.53                      20.73  \n",
       "min              53.00                      87.00  \n",
       "25%              62.00                     114.25  \n",
       "50%              64.00                     125.00  \n",
       "75%              66.00                     139.00  \n",
       "max              72.00                     250.00  "
      ]
     },
     "execution_count": 11,
     "metadata": {},
     "output_type": "execute_result"
    }
   ],
   "source": [
    "# Sondeo general de medidas de tendencia central y distribución\n",
    "round(estudio_gestacional.describe(), 2)"
   ]
  },
  {
   "cell_type": "code",
   "execution_count": null,
   "id": "d4e083d1",
   "metadata": {},
   "outputs": [],
   "source": []
  },
  {
   "cell_type": "markdown",
   "id": "19982c29",
   "metadata": {},
   "source": [
    "-\n",
    "-\n",
    "-\n",
    "___0___o___\n",
    "-\n",
    "-\n",
    "-"
   ]
  },
  {
   "cell_type": "markdown",
   "id": "f22289d9",
   "metadata": {},
   "source": [
    "#### 2. Considera los pesos de los bebés. ¿Se puede decir que siguen una distribución normal? Justifica tu respuesta creando los gráficos y modelos necesarios."
   ]
  },
  {
   "cell_type": "code",
   "execution_count": 29,
   "id": "51127bbe",
   "metadata": {},
   "outputs": [
    {
     "data": {
      "text/plain": [
       "Text(0.5, 1.0, 'Distribución empírica del peso del bebé')"
      ]
     },
     "execution_count": 29,
     "metadata": {},
     "output_type": "execute_result"
    },
    {
     "data": {
      "image/png": "[encoded data removed]",
      "text/plain": [
       "<Figure size 1000x600 with 1 Axes>"
      ]
     },
     "metadata": {},
     "output_type": "display_data"
    }
   ],
   "source": [
    "# Configuración de estilos de gráficos\n",
    "plt.rcParams[\"figure.figsize\"] = (10, 6) # Tamaño gráficos\n",
    "plt.style.use('seaborn-v0_8-whitegrid')\n",
    "\n",
    "plt.hist(estudio_gestacional['Birth.Weight'], bins=100, color='red', alpha=.5)\n",
    "plt.title(\"Distribución empírica del peso del bebé\")"
   ]
  },
  {
   "cell_type": "markdown",
   "id": "9cce3263",
   "metadata": {},
   "source": [
    "-\n",
    "-\n",
    "-\n",
    "___0___o___\n",
    "-\n",
    "-\n",
    "-"
   ]
  },
  {
   "cell_type": "markdown",
   "id": "bf2d3102",
   "metadata": {},
   "source": [
    "#### 3. Considerando lo anterior, verifica el modelo de distribución normal de los pesos para 5 valores diferentes. Compara con los datos reales."
   ]
  },
  {
   "cell_type": "code",
   "execution_count": null,
   "id": "5fa21396",
   "metadata": {},
   "outputs": [],
   "source": []
  },
  {
   "cell_type": "markdown",
   "id": "6049c9a5",
   "metadata": {},
   "source": [
    "-\n",
    "-\n",
    "-\n",
    "___0___o___\n",
    "-\n",
    "-\n",
    "-"
   ]
  },
  {
   "cell_type": "markdown",
   "id": "c475e22f",
   "metadata": {},
   "source": [
    "#### 4. Compara los pesos de los bebés de madres fumadoras y no fumadoras. ¿Qué diferencias existen? Explica y construye los modelos correspondientes."
   ]
  },
  {
   "cell_type": "code",
   "execution_count": null,
   "id": "29228ec1",
   "metadata": {},
   "outputs": [],
   "source": []
  },
  {
   "cell_type": "markdown",
   "id": "f4d1da17",
   "metadata": {},
   "source": [
    "-\n",
    "-\n",
    "-\n",
    "___0___o___\n",
    "-\n",
    "-\n",
    "-"
   ]
  },
  {
   "cell_type": "markdown",
   "id": "3028dd31",
   "metadata": {},
   "source": [
    "#### 5. Considerando los datos dados:\n",
    "##### ● Calcula la probabilidad de que una madre escogida al azar fume.\n",
    "##### ● A partir del valor anterior, construye un modelo de distribución binomial que modele el experimento correspondiente a escoger 5 madres al azar y observar cuántas fuman.\n",
    "##### ● Utilizando este modelo, simula 1000 muestras de tamaño 8, y calcula sus medias muestrales.\n",
    "##### ● Utilizando los datos directamente, extrae 1000 muestras de tamaño 8 y calcula sus respectivas medias muestrales."
   ]
  },
  {
   "cell_type": "markdown",
   "id": "74cea7bb",
   "metadata": {},
   "source": [
    "#### Utilizando lo anterior:\n",
    "##### ● compara gráficamente los resultados obtenidos anteriormente.\n",
    "##### ● verifica el teorema del límite central, considerando las muestras de datos reales y las simuladas con el modelo binomial.\n",
    "##### ● construye un modelo de distribución normal derivado del modelo binomial, y grafícalo junto a los anteriores para comparar. Concluye.\n",
    "\n"
   ]
  },
  {
   "cell_type": "markdown",
   "metadata": {},
   "source": [
    "-\n",
    "-\n",
    "-\n",
    "___0_FiN__o___\n",
    "-\n",
    "-\n",
    "-"
   ]
  },
  {
   "cell_type": "code",
   "execution_count": null,
   "metadata": {},
   "outputs": [],
   "source": []
  },
  {
   "cell_type": "markdown",
   "metadata": {},
   "source": [
    "### Requerimientos\n",
    "\n",
    "1. Conoce y aplica la distribución normal de datos, con sus respectivos parámetros. (3 puntos)\n",
    "\n",
    "2. Relaciona las distribuciones reales de datos con modelos de distribución binomial y normal. (4 puntos)\n",
    "\n",
    "3. Comprende y verifica la ley de los grandes números y el teorema del límite central. (3 puntos)"
   ]
  }
 ],
 "metadata": {
  "kernelspec": {
   "display_name": "desafiolatam1",
   "language": "python",
   "name": "python3"
  },
  "language_info": {
   "codemirror_mode": {
    "name": "ipython",
    "version": 3
   },
   "file_extension": ".py",
   "mimetype": "text/x-python",
   "name": "python",
   "nbconvert_exporter": "python",
   "pygments_lexer": "ipython3",
   "version": "3.9.18"
  }
 },
 "nbformat": 4,
 "nbformat_minor": 5
}
