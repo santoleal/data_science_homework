{
 "cells": [
  {
   "cell_type": "markdown",
   "metadata": {},
   "source": [
    "# **PRUEBA: ANÁLISIS ESTADÍSTICO CON PYTHON**\n",
    "### **Módulo 4: Análisis Estadístico con Python**\n",
    "#### *Carrera Data Science - G-93 - Desafio Latam*\n",
    "#### Estudiante: Felipe Leal Arancibia"
   ]
  },
  {
   "cell_type": "markdown",
   "metadata": {},
   "source": [
    "En esta prueba validaremos los conocimientos adquiridos durante este módulo..\n",
    "\n",
    "Lee todo el documento antes de comenzar el desarrollo individual, para asegurarte de tener el máximo de puntaje y enfocar bien los esfuerzos.\n",
    "\n",
    "Tiempo asociado: 2 horas cronológicas"
   ]
  },
  {
   "cell_type": "markdown",
   "metadata": {},
   "source": [
    "## Descripción\n",
    "\n",
    "#### La OMS estima que cada año se producen 12 millones de muertes en todo el mundo debido a enfermedades cardíacas, producidas en su gran mayoría por enfermedades cardiovasculares. El pronóstico temprano de las enfermedades cardiovasculares puede ayudar en la toma de decisiones sobre cambios en el estilo de vida en pacientes de alto riesgo y reducir las complicaciones.\n",
    "\n",
    "\n",
    "#### La base de datos cardio.csv contiene mediciones realizadas a pacientes hace 10 años, entre los cuales se encuentran:"
   ]
  },
  {
   "cell_type": "markdown",
   "id": "90450da5",
   "metadata": {},
   "source": [
    "##### ● Sex: M - F\n",
    "##### ● Age: edad\n",
    "##### ● Education: codificada, considerando que un valor más alto corresponde a un mayor nivel educativo.\n",
    "##### ● currentSmoker: si el paciente es o no fumador actual\n",
    "##### ● cigsPerDay: el número de cigarrillos que la persona fumaba en promedio en un día.\n",
    "##### ● BPMeds: si el paciente estaba tomando medicamentos para la presión arterial (0: No, 1: Sí)\n",
    "##### ● prevalenStroke: si el paciente había tenido un accidente cerebrovascular previamente (0: No, 1: Sí)\n",
    "##### ● prevalentHyp:: si el paciente era hipertenso o no (0: No, 1: Sí)\n",
    "##### ● diabetes: si el paciente tenía diabetes o no (0: No, 1: Sí)\n",
    "##### ● totChol: nivel de colesterol total\n",
    "##### ● sysBP: presión arterial sistólica\n",
    "##### ● diaBP_BMI: presión arterial diastólica\n",
    "##### ● BMI: Índice de masa corporal\n",
    "##### ● heartRate: : ritmo cardíaco\n",
    "##### ● glucose: nivel de glucosa\n",
    "##### ● TenYearCHD: se indica si el paciente sufrió o no una enfermedad coronaria en los últimos 10 años.(0: No, 1: Sí)"
   ]
  },
  {
   "cell_type": "markdown",
   "id": "c597ef0e",
   "metadata": {},
   "source": [
    "#### A partir de estos datos, buscaremos realizar algunas descripciones predictivos."
   ]
  },
  {
   "cell_type": "code",
   "execution_count": null,
   "id": "d4986d24",
   "metadata": {},
   "outputs": [],
   "source": []
  },
  {
   "cell_type": "code",
   "execution_count": 2,
   "id": "f7c7412d",
   "metadata": {},
   "outputs": [],
   "source": [
    "# Primero importar todas las potenciales librería sa utilizar\n",
    "import pandas as pd\n",
    "import numpy as np\n",
    "import matplotlib.pyplot as plt\n",
    "from matplotlib.colors import ListedColormap\n",
    "import seaborn as sns\n",
    "import statsmodels.api as sm\n",
    "import scipy.stats as stats\n",
    "from scipy.stats import norm, skew\n",
    "from sklearn.linear_model import LogisticRegression\n",
    "from sklearn.metrics import accuracy_score, classification_report, confusion_matrix, precision_score,confusion_matrix, roc_auc_score, average_precision_score, roc_curve, precision_recall_curve, auc\n",
    "from sklearn.preprocessing import StandardScaler,MinMaxScaler,RobustScaler,LabelEncoder\n",
    "from sklearn.linear_model import LogisticRegression\n",
    "from imblearn.over_sampling import SMOTE\n"
   ]
  },
  {
   "cell_type": "markdown",
   "metadata": {},
   "source": [
    "#### 1. Carga los datos y explóralos. Elimina los datos nulos o incorrectos"
   ]
  },
  {
   "cell_type": "code",
   "execution_count": 3,
   "id": "d2e65849",
   "metadata": {},
   "outputs": [
    {
     "name": "stdout",
     "output_type": "stream",
     "text": [
      "  sex  age  education currentSmoker  cigsPerDay  BPMeds  prevalentStroke  \\\n",
      "0   M   39        4.0            No         0.0     0.0                0   \n",
      "1   F   46        2.0            No         0.0     0.0                0   \n",
      "2   M   48        1.0           Yes        20.0     0.0                0   \n",
      "3   F   61        3.0           Yes        30.0     0.0                0   \n",
      "4   F   46        3.0           Yes        23.0     0.0                0   \n",
      "\n",
      "   prevalentHyp  diabetes  totChol  sysBP  diaBP    BMI  heartRate  glucose  \\\n",
      "0             0         0    195.0  106.0   70.0  26.97       80.0     77.0   \n",
      "1             0         0    250.0  121.0   81.0  28.73       95.0     76.0   \n",
      "2             0         0    245.0  127.5   80.0  25.34       75.0     70.0   \n",
      "3             1         0    225.0  150.0   95.0  28.58       65.0    103.0   \n",
      "4             0         0    285.0  130.0   84.0  23.10       85.0     85.0   \n",
      "\n",
      "   TenYearCHD  \n",
      "0           0  \n",
      "1           0  \n",
      "2           0  \n",
      "3           1  \n",
      "4           0  \n",
      "<class 'pandas.core.frame.DataFrame'>\n",
      "RangeIndex: 4238 entries, 0 to 4237\n",
      "Data columns (total 16 columns):\n",
      " #   Column           Non-Null Count  Dtype  \n",
      "---  ------           --------------  -----  \n",
      " 0   sex              4238 non-null   object \n",
      " 1   age              4238 non-null   int64  \n",
      " 2   education        4133 non-null   float64\n",
      " 3   currentSmoker    4238 non-null   object \n",
      " 4   cigsPerDay       4209 non-null   float64\n",
      " 5   BPMeds           4185 non-null   float64\n",
      " 6   prevalentStroke  4238 non-null   int64  \n",
      " 7   prevalentHyp     4238 non-null   int64  \n",
      " 8   diabetes         4238 non-null   int64  \n",
      " 9   totChol          4188 non-null   float64\n",
      " 10  sysBP            4238 non-null   float64\n",
      " 11  diaBP            4238 non-null   float64\n",
      " 12  BMI              4219 non-null   float64\n",
      " 13  heartRate        4237 non-null   float64\n",
      " 14  glucose          3850 non-null   float64\n",
      " 15  TenYearCHD       4238 non-null   int64  \n",
      "dtypes: float64(9), int64(5), object(2)\n",
      "memory usage: 529.9+ KB\n",
      "None\n",
      "               age    education   cigsPerDay       BPMeds  prevalentStroke  \\\n",
      "count  4238.000000  4133.000000  4209.000000  4185.000000      4238.000000   \n",
      "mean     49.584946     1.978950     9.003089     0.029630         0.005899   \n",
      "std       8.572160     1.019791    11.920094     0.169584         0.076587   \n",
      "min      32.000000     1.000000     0.000000     0.000000         0.000000   \n",
      "25%      42.000000     1.000000     0.000000     0.000000         0.000000   \n",
      "50%      49.000000     2.000000     0.000000     0.000000         0.000000   \n",
      "75%      56.000000     3.000000    20.000000     0.000000         0.000000   \n",
      "max      70.000000     4.000000    70.000000     1.000000         1.000000   \n",
      "\n",
      "       prevalentHyp     diabetes      totChol        sysBP        diaBP  \\\n",
      "count   4238.000000  4238.000000  4188.000000  4238.000000  4238.000000   \n",
      "mean       0.310524     0.025720   236.721585   132.352407    82.893464   \n",
      "std        0.462763     0.158316    44.590334    22.038097    11.910850   \n",
      "min        0.000000     0.000000   107.000000    83.500000    48.000000   \n",
      "25%        0.000000     0.000000   206.000000   117.000000    75.000000   \n",
      "50%        0.000000     0.000000   234.000000   128.000000    82.000000   \n",
      "75%        1.000000     0.000000   263.000000   144.000000    89.875000   \n",
      "max        1.000000     1.000000   696.000000   295.000000   142.500000   \n",
      "\n",
      "               BMI    heartRate      glucose   TenYearCHD  \n",
      "count  4219.000000  4237.000000  3850.000000  4238.000000  \n",
      "mean     25.802008    75.878924    81.966753     0.151958  \n",
      "std       4.080111    12.026596    23.959998     0.359023  \n",
      "min      15.540000    44.000000    40.000000     0.000000  \n",
      "25%      23.070000    68.000000    71.000000     0.000000  \n",
      "50%      25.400000    75.000000    78.000000     0.000000  \n",
      "75%      28.040000    83.000000    87.000000     0.000000  \n",
      "max      56.800000   143.000000   394.000000     1.000000  \n"
     ]
    },
    {
     "ename": "KeyError",
     "evalue": "'Age'",
     "output_type": "error",
     "traceback": [
      "\u001b[0;31m---------------------------------------------------------------------------\u001b[0m",
      "\u001b[0;31mKeyError\u001b[0m                                  Traceback (most recent call last)",
      "File \u001b[0;32m~/Escritorio/COMPUTIN 2022/DATA_SCIENCE/.env-datascience/lib/python3.10/site-packages/pandas/core/indexes/base.py:3805\u001b[0m, in \u001b[0;36mIndex.get_loc\u001b[0;34m(self, key)\u001b[0m\n\u001b[1;32m   3804\u001b[0m \u001b[38;5;28;01mtry\u001b[39;00m:\n\u001b[0;32m-> 3805\u001b[0m     \u001b[38;5;28;01mreturn\u001b[39;00m \u001b[38;5;28;43mself\u001b[39;49m\u001b[38;5;241;43m.\u001b[39;49m\u001b[43m_engine\u001b[49m\u001b[38;5;241;43m.\u001b[39;49m\u001b[43mget_loc\u001b[49m\u001b[43m(\u001b[49m\u001b[43mcasted_key\u001b[49m\u001b[43m)\u001b[49m\n\u001b[1;32m   3806\u001b[0m \u001b[38;5;28;01mexcept\u001b[39;00m \u001b[38;5;167;01mKeyError\u001b[39;00m \u001b[38;5;28;01mas\u001b[39;00m err:\n",
      "File \u001b[0;32mindex.pyx:167\u001b[0m, in \u001b[0;36mpandas._libs.index.IndexEngine.get_loc\u001b[0;34m()\u001b[0m\n",
      "File \u001b[0;32mindex.pyx:196\u001b[0m, in \u001b[0;36mpandas._libs.index.IndexEngine.get_loc\u001b[0;34m()\u001b[0m\n",
      "File \u001b[0;32mpandas/_libs/hashtable_class_helper.pxi:7081\u001b[0m, in \u001b[0;36mpandas._libs.hashtable.PyObjectHashTable.get_item\u001b[0;34m()\u001b[0m\n",
      "File \u001b[0;32mpandas/_libs/hashtable_class_helper.pxi:7089\u001b[0m, in \u001b[0;36mpandas._libs.hashtable.PyObjectHashTable.get_item\u001b[0;34m()\u001b[0m\n",
      "\u001b[0;31mKeyError\u001b[0m: 'Age'",
      "\nThe above exception was the direct cause of the following exception:\n",
      "\u001b[0;31mKeyError\u001b[0m                                  Traceback (most recent call last)",
      "Cell \u001b[0;32mIn[3], line 13\u001b[0m\n\u001b[1;32m     10\u001b[0m df \u001b[38;5;241m=\u001b[39m df\u001b[38;5;241m.\u001b[39mdropna()\n\u001b[1;32m     12\u001b[0m \u001b[38;5;66;03m# Eliminar datos incorrectos (por ejemplo, valores negativos en columnas que no deberían tenerlos)\u001b[39;00m\n\u001b[0;32m---> 13\u001b[0m df \u001b[38;5;241m=\u001b[39m df[(\u001b[43mdf\u001b[49m\u001b[43m[\u001b[49m\u001b[38;5;124;43m'\u001b[39;49m\u001b[38;5;124;43mAge\u001b[39;49m\u001b[38;5;124;43m'\u001b[39;49m\u001b[43m]\u001b[49m \u001b[38;5;241m>\u001b[39m \u001b[38;5;241m0\u001b[39m) \u001b[38;5;241m&\u001b[39m (df[\u001b[38;5;124m'\u001b[39m\u001b[38;5;124mcigsPerDay\u001b[39m\u001b[38;5;124m'\u001b[39m] \u001b[38;5;241m>\u001b[39m\u001b[38;5;241m=\u001b[39m \u001b[38;5;241m0\u001b[39m) \u001b[38;5;241m&\u001b[39m (df[\u001b[38;5;124m'\u001b[39m\u001b[38;5;124mtotChol\u001b[39m\u001b[38;5;124m'\u001b[39m] \u001b[38;5;241m>\u001b[39m \u001b[38;5;241m0\u001b[39m) \u001b[38;5;241m&\u001b[39m (df[\u001b[38;5;124m'\u001b[39m\u001b[38;5;124msysBP\u001b[39m\u001b[38;5;124m'\u001b[39m] \u001b[38;5;241m>\u001b[39m \u001b[38;5;241m0\u001b[39m) \u001b[38;5;241m&\u001b[39m (df[\u001b[38;5;124m'\u001b[39m\u001b[38;5;124mdiaBP_BMI\u001b[39m\u001b[38;5;124m'\u001b[39m] \u001b[38;5;241m>\u001b[39m \u001b[38;5;241m0\u001b[39m) \u001b[38;5;241m&\u001b[39m (df[\u001b[38;5;124m'\u001b[39m\u001b[38;5;124mBMI\u001b[39m\u001b[38;5;124m'\u001b[39m] \u001b[38;5;241m>\u001b[39m \u001b[38;5;241m0\u001b[39m) \u001b[38;5;241m&\u001b[39m (df[\u001b[38;5;124m'\u001b[39m\u001b[38;5;124mheartRate\u001b[39m\u001b[38;5;124m'\u001b[39m] \u001b[38;5;241m>\u001b[39m \u001b[38;5;241m0\u001b[39m) \u001b[38;5;241m&\u001b[39m (df[\u001b[38;5;124m'\u001b[39m\u001b[38;5;124mglucose\u001b[39m\u001b[38;5;124m'\u001b[39m] \u001b[38;5;241m>\u001b[39m \u001b[38;5;241m0\u001b[39m)]\n\u001b[1;32m     15\u001b[0m \u001b[38;5;66;03m# Verificar nuevamente la información del dataframe\u001b[39;00m\n\u001b[1;32m     16\u001b[0m \u001b[38;5;28mprint\u001b[39m(df\u001b[38;5;241m.\u001b[39minfo())\n",
      "File \u001b[0;32m~/Escritorio/COMPUTIN 2022/DATA_SCIENCE/.env-datascience/lib/python3.10/site-packages/pandas/core/frame.py:4102\u001b[0m, in \u001b[0;36mDataFrame.__getitem__\u001b[0;34m(self, key)\u001b[0m\n\u001b[1;32m   4100\u001b[0m \u001b[38;5;28;01mif\u001b[39;00m \u001b[38;5;28mself\u001b[39m\u001b[38;5;241m.\u001b[39mcolumns\u001b[38;5;241m.\u001b[39mnlevels \u001b[38;5;241m>\u001b[39m \u001b[38;5;241m1\u001b[39m:\n\u001b[1;32m   4101\u001b[0m     \u001b[38;5;28;01mreturn\u001b[39;00m \u001b[38;5;28mself\u001b[39m\u001b[38;5;241m.\u001b[39m_getitem_multilevel(key)\n\u001b[0;32m-> 4102\u001b[0m indexer \u001b[38;5;241m=\u001b[39m \u001b[38;5;28;43mself\u001b[39;49m\u001b[38;5;241;43m.\u001b[39;49m\u001b[43mcolumns\u001b[49m\u001b[38;5;241;43m.\u001b[39;49m\u001b[43mget_loc\u001b[49m\u001b[43m(\u001b[49m\u001b[43mkey\u001b[49m\u001b[43m)\u001b[49m\n\u001b[1;32m   4103\u001b[0m \u001b[38;5;28;01mif\u001b[39;00m is_integer(indexer):\n\u001b[1;32m   4104\u001b[0m     indexer \u001b[38;5;241m=\u001b[39m [indexer]\n",
      "File \u001b[0;32m~/Escritorio/COMPUTIN 2022/DATA_SCIENCE/.env-datascience/lib/python3.10/site-packages/pandas/core/indexes/base.py:3812\u001b[0m, in \u001b[0;36mIndex.get_loc\u001b[0;34m(self, key)\u001b[0m\n\u001b[1;32m   3807\u001b[0m     \u001b[38;5;28;01mif\u001b[39;00m \u001b[38;5;28misinstance\u001b[39m(casted_key, \u001b[38;5;28mslice\u001b[39m) \u001b[38;5;129;01mor\u001b[39;00m (\n\u001b[1;32m   3808\u001b[0m         \u001b[38;5;28misinstance\u001b[39m(casted_key, abc\u001b[38;5;241m.\u001b[39mIterable)\n\u001b[1;32m   3809\u001b[0m         \u001b[38;5;129;01mand\u001b[39;00m \u001b[38;5;28many\u001b[39m(\u001b[38;5;28misinstance\u001b[39m(x, \u001b[38;5;28mslice\u001b[39m) \u001b[38;5;28;01mfor\u001b[39;00m x \u001b[38;5;129;01min\u001b[39;00m casted_key)\n\u001b[1;32m   3810\u001b[0m     ):\n\u001b[1;32m   3811\u001b[0m         \u001b[38;5;28;01mraise\u001b[39;00m InvalidIndexError(key)\n\u001b[0;32m-> 3812\u001b[0m     \u001b[38;5;28;01mraise\u001b[39;00m \u001b[38;5;167;01mKeyError\u001b[39;00m(key) \u001b[38;5;28;01mfrom\u001b[39;00m \u001b[38;5;21;01merr\u001b[39;00m\n\u001b[1;32m   3813\u001b[0m \u001b[38;5;28;01mexcept\u001b[39;00m \u001b[38;5;167;01mTypeError\u001b[39;00m:\n\u001b[1;32m   3814\u001b[0m     \u001b[38;5;66;03m# If we have a listlike key, _check_indexing_error will raise\u001b[39;00m\n\u001b[1;32m   3815\u001b[0m     \u001b[38;5;66;03m#  InvalidIndexError. Otherwise we fall through and re-raise\u001b[39;00m\n\u001b[1;32m   3816\u001b[0m     \u001b[38;5;66;03m#  the TypeError.\u001b[39;00m\n\u001b[1;32m   3817\u001b[0m     \u001b[38;5;28mself\u001b[39m\u001b[38;5;241m.\u001b[39m_check_indexing_error(key)\n",
      "\u001b[0;31mKeyError\u001b[0m: 'Age'"
     ]
    }
   ],
   "source": [
    "# Cargar los datos\n",
    "df = pd.read_csv('cardio.csv')\n",
    "\n",
    "# Explorar los datos\n",
    "print(df.head())\n",
    "print(df.info())\n",
    "print(df.describe())\n",
    "\n",
    "# Eliminar datos nulos\n",
    "df = df.dropna()\n",
    "\n",
    "# Eliminar datos incorrectos (por ejemplo, valores negativos en columnas que no deberían tenerlos)\n",
    "df = df[(df['Age'] > 0) & (df['cigsPerDay'] >= 0) & (df['totChol'] > 0) & (df['sysBP'] > 0) & (df['diaBP_BMI'] > 0) & (df['BMI'] > 0) & (df['heartRate'] > 0) & (df['glucose'] > 0)]\n",
    "\n",
    "# Verificar nuevamente la información del dataframe\n",
    "print(df.info())\n",
    "print(df.describe())"
   ]
  },
  {
   "cell_type": "code",
   "execution_count": null,
   "id": "f28f31c3",
   "metadata": {},
   "outputs": [],
   "source": []
  },
  {
   "cell_type": "markdown",
   "id": "ae585805",
   "metadata": {},
   "source": [
    "#### 2. Escoge tres variables cuantitativas y realiza un análisis descriptivo de ellas, utilizando indicadores y gráficos. ¿Cuaĺ presenta mayor dispersión?"
   ]
  },
  {
   "cell_type": "code",
   "execution_count": 4,
   "id": "5a39eb1e",
   "metadata": {},
   "outputs": [
    {
     "name": "stdout",
     "output_type": "stream",
     "text": [
      "               age      totChol          BMI\n",
      "count  3656.000000  3656.000000  3656.000000\n",
      "mean     49.557440   236.873085    25.784185\n",
      "std       8.561133    44.096223     4.065913\n",
      "min      32.000000   113.000000    15.540000\n",
      "25%      42.000000   206.000000    23.080000\n",
      "50%      49.000000   234.000000    25.380000\n",
      "75%      56.000000   263.250000    28.040000\n",
      "max      70.000000   600.000000    56.800000\n"
     ]
    },
    {
     "data": {
      "image/png": "[encoded data removed]",
      "text/plain": [
       "<Figure size 1500x1000 with 6 Axes>"
      ]
     },
     "metadata": {},
     "output_type": "display_data"
    },
    {
     "name": "stdout",
     "output_type": "stream",
     "text": [
      "Dispersión (Coeficiente de variación):\n",
      "age        0.172752\n",
      "totChol    0.186160\n",
      "BMI        0.157690\n",
      "dtype: float64\n"
     ]
    }
   ],
   "source": [
    "# Seleccionar las tres variables cuantitativas\n",
    "variables = ['age', 'totChol', 'BMI']\n",
    "\n",
    "# Calcular indicadores estadísticos\n",
    "descriptive_stats = df[variables].describe()\n",
    "print(descriptive_stats)\n",
    "\n",
    "# Graficar histogramas y boxplots\n",
    "fig, axes = plt.subplots(2, 3, figsize=(15, 10))\n",
    "\n",
    "for i, var in enumerate(variables):\n",
    "    sns.histplot(df[var], kde=True, ax=axes[0, i])\n",
    "    axes[0, i].set_title(f'Histograma de {var}')\n",
    "    \n",
    "    sns.boxplot(y=df[var], ax=axes[1, i])\n",
    "    axes[1, i].set_title(f'Boxplot de {var}')\n",
    "\n",
    "plt.tight_layout()\n",
    "plt.show()\n",
    "\n",
    "# Calcular la dispersión (coeficiente de variación)\n",
    "dispersion = descriptive_stats.loc['std'] / descriptive_stats.loc['mean']\n",
    "print(\"Dispersión (Coeficiente de variación):\")\n",
    "print(dispersion)"
   ]
  },
  {
   "cell_type": "code",
   "execution_count": null,
   "id": "ff942f15",
   "metadata": {},
   "outputs": [],
   "source": []
  },
  {
   "cell_type": "markdown",
   "id": "3a1808f7",
   "metadata": {},
   "source": [
    "#### 3. Elimina los datos atípicos del dataset. Para las siguientes preguntas, considera el dataset \"limpio\"\n"
   ]
  },
  {
   "cell_type": "code",
   "execution_count": 5,
   "id": "aca0c131",
   "metadata": {},
   "outputs": [
    {
     "name": "stdout",
     "output_type": "stream",
     "text": [
      "<class 'pandas.core.frame.DataFrame'>\n",
      "Index: 3528 entries, 0 to 4237\n",
      "Data columns (total 16 columns):\n",
      " #   Column           Non-Null Count  Dtype  \n",
      "---  ------           --------------  -----  \n",
      " 0   sex              3528 non-null   object \n",
      " 1   age              3528 non-null   int64  \n",
      " 2   education        3528 non-null   float64\n",
      " 3   currentSmoker    3528 non-null   object \n",
      " 4   cigsPerDay       3528 non-null   float64\n",
      " 5   BPMeds           3528 non-null   float64\n",
      " 6   prevalentStroke  3528 non-null   int64  \n",
      " 7   prevalentHyp     3528 non-null   int64  \n",
      " 8   diabetes         3528 non-null   int64  \n",
      " 9   totChol          3528 non-null   float64\n",
      " 10  sysBP            3528 non-null   float64\n",
      " 11  diaBP            3528 non-null   float64\n",
      " 12  BMI              3528 non-null   float64\n",
      " 13  heartRate        3528 non-null   float64\n",
      " 14  glucose          3528 non-null   float64\n",
      " 15  TenYearCHD       3528 non-null   int64  \n",
      "dtypes: float64(9), int64(5), object(2)\n",
      "memory usage: 468.6+ KB\n",
      "None\n",
      "               age    education   cigsPerDay       BPMeds  prevalentStroke  \\\n",
      "count  3528.000000  3528.000000  3528.000000  3528.000000      3528.000000   \n",
      "mean     49.442177     1.994048     9.109127     0.027494         0.005385   \n",
      "std       8.547109     1.024353    11.959659     0.163542         0.073198   \n",
      "min      32.000000     1.000000     0.000000     0.000000         0.000000   \n",
      "25%      42.000000     1.000000     0.000000     0.000000         0.000000   \n",
      "50%      49.000000     2.000000     0.000000     0.000000         0.000000   \n",
      "75%      56.000000     3.000000    20.000000     0.000000         0.000000   \n",
      "max      70.000000     4.000000    70.000000     1.000000         1.000000   \n",
      "\n",
      "       prevalentHyp     diabetes      totChol        sysBP        diaBP  \\\n",
      "count   3528.000000  3528.000000  3528.000000  3528.000000  3528.000000   \n",
      "mean       0.297052     0.024943   235.089853   131.558957    82.526644   \n",
      "std        0.457024     0.155974    40.938974    21.329222    11.671102   \n",
      "min        0.000000     0.000000   124.000000    83.500000    48.000000   \n",
      "25%        0.000000     0.000000   206.000000   116.000000    74.000000   \n",
      "50%        0.000000     0.000000   233.000000   128.000000    81.750000   \n",
      "75%        1.000000     0.000000   262.000000   142.500000    89.000000   \n",
      "max        1.000000     1.000000   347.000000   244.000000   142.500000   \n",
      "\n",
      "               BMI    heartRate      glucose   TenYearCHD  \n",
      "count  3528.000000  3528.000000  3528.000000  3528.000000  \n",
      "mean     25.473277    75.490079    81.650510     0.148526  \n",
      "std       3.515985    11.874613    23.299203     0.355671  \n",
      "min      15.960000    44.000000    40.000000     0.000000  \n",
      "25%      23.030000    67.000000    71.000000     0.000000  \n",
      "50%      25.255000    75.000000    78.000000     0.000000  \n",
      "75%      27.820000    82.000000    87.000000     0.000000  \n",
      "max      35.420000   143.000000   394.000000     1.000000  \n"
     ]
    }
   ],
   "source": [
    "# Eliminar datos atípicos utilizando el rango intercuartílico (IQR)\n",
    "Q1 = df[variables].quantile(0.25)\n",
    "Q3 = df[variables].quantile(0.75)\n",
    "IQR = Q3 - Q1\n",
    "\n",
    "# Filtrar los datos que no son atípicos\n",
    "df_clean = df[~((df[variables] < (Q1 - 1.5 * IQR)) | (df[variables] > (Q3 + 1.5 * IQR))).any(axis=1)]\n",
    "\n",
    "# Verificar la información del dataframe limpio\n",
    "print(df_clean.info())\n",
    "print(df_clean.describe())"
   ]
  },
  {
   "cell_type": "markdown",
   "id": "ee89b7e5",
   "metadata": {},
   "source": [
    "#### 4. ¿Qué variables cuantitativas presentan mayor correlación? Explica.\n"
   ]
  },
  {
   "cell_type": "code",
   "execution_count": 7,
   "id": "b2662d1b",
   "metadata": {},
   "outputs": [
    {
     "name": "stdout",
     "output_type": "stream",
     "text": [
      "                      age  education  cigsPerDay    BPMeds  prevalentStroke  \\\n",
      "age              1.000000  -0.152712   -0.183288  0.128012         0.048762   \n",
      "education       -0.152712   1.000000    0.012041 -0.005793        -0.026042   \n",
      "cigsPerDay      -0.183288   0.012041    1.000000 -0.041978        -0.033383   \n",
      "BPMeds           0.128012  -0.005793   -0.041978  1.000000         0.082365   \n",
      "prevalentStroke  0.048762  -0.026042   -0.033383  0.082365         1.000000   \n",
      "prevalentHyp     0.305764  -0.073137   -0.058738  0.258655         0.062344   \n",
      "diabetes         0.100403  -0.032787   -0.031858  0.039797         0.013064   \n",
      "totChol          0.275765  -0.011373   -0.029144  0.073146         0.013841   \n",
      "sysBP            0.387366  -0.116789   -0.090130  0.263293         0.058454   \n",
      "diaBP            0.209557  -0.047418   -0.051023  0.199110         0.054426   \n",
      "BMI              0.133782  -0.111728   -0.076122  0.078233         0.009064   \n",
      "heartRate       -0.010659  -0.061459    0.061243 -0.004604        -0.018042   \n",
      "glucose          0.114572  -0.029287   -0.054474  0.038760         0.016232   \n",
      "TenYearCHD       0.236459  -0.056717    0.058244  0.076006         0.056391   \n",
      "\n",
      "                 prevalentHyp  diabetes   totChol     sysBP     diaBP  \\\n",
      "age                  0.305764  0.100403  0.275765  0.387366  0.209557   \n",
      "education           -0.073137 -0.032787 -0.011373 -0.116789 -0.047418   \n",
      "cigsPerDay          -0.058738 -0.031858 -0.029144 -0.090130 -0.051023   \n",
      "BPMeds               0.258655  0.039797  0.073146  0.263293  0.199110   \n",
      "prevalentStroke      0.062344  0.013064  0.013841  0.058454  0.054426   \n",
      "prevalentHyp         1.000000  0.071034  0.153792  0.697715  0.616149   \n",
      "diabetes             0.071034  1.000000  0.039122  0.084016  0.030240   \n",
      "totChol              0.153792  0.039122  1.000000  0.212771  0.185114   \n",
      "sysBP                0.697715  0.084016  0.212771  1.000000  0.784440   \n",
      "diaBP                0.616149  0.030240  0.185114  0.784440  1.000000   \n",
      "BMI                  0.263172  0.060568  0.147721  0.277421  0.338586   \n",
      "heartRate            0.132198  0.050497  0.074680  0.165572  0.164281   \n",
      "glucose              0.078529  0.611649  0.046539  0.120708  0.042951   \n",
      "TenYearCHD           0.176770  0.096747  0.070720  0.214774  0.140261   \n",
      "\n",
      "                      BMI  heartRate   glucose  TenYearCHD  \n",
      "age              0.133782  -0.010659  0.114572    0.236459  \n",
      "education       -0.111728  -0.061459 -0.029287   -0.056717  \n",
      "cigsPerDay      -0.076122   0.061243 -0.054474    0.058244  \n",
      "BPMeds           0.078233  -0.004604  0.038760    0.076006  \n",
      "prevalentStroke  0.009064  -0.018042  0.016232    0.056391  \n",
      "prevalentHyp     0.263172   0.132198  0.078529    0.176770  \n",
      "diabetes         0.060568   0.050497  0.611649    0.096747  \n",
      "totChol          0.147721   0.074680  0.046539    0.070720  \n",
      "sysBP            0.277421   0.165572  0.120708    0.214774  \n",
      "diaBP            0.338586   0.164281  0.042951    0.140261  \n",
      "BMI              1.000000   0.041799  0.061188    0.068653  \n",
      "heartRate        0.041799   1.000000  0.089709    0.011761  \n",
      "glucose          0.061188   0.089709  1.000000    0.119104  \n",
      "TenYearCHD       0.068653   0.011761  0.119104    1.000000  \n",
      "Pares de variables con mayor correlación:\n",
      "sysBP         diaBP           0.784440\n",
      "diaBP         sysBP           0.784440\n",
      "sysBP         prevalentHyp    0.697715\n",
      "prevalentHyp  sysBP           0.697715\n",
      "              diaBP           0.616149\n",
      "diaBP         prevalentHyp    0.616149\n",
      "diabetes      glucose         0.611649\n",
      "glucose       diabetes        0.611649\n",
      "dtype: float64\n"
     ]
    }
   ],
   "source": [
    "# Calcular la matriz de correlación excluyendo las variables categóricas\n",
    "correlation_matrix = df_clean.select_dtypes(include=[np.number]).corr()\n",
    "\n",
    "# Mostrar la matriz de correlación\n",
    "print(correlation_matrix)\n",
    "\n",
    "# Identificar las variables con mayor correlación\n",
    "correlation_pairs = correlation_matrix.unstack()\n",
    "sorted_pairs = correlation_pairs.sort_values(kind=\"quicksort\", ascending=False)\n",
    "\n",
    "# Filtrar las correlaciones más altas (excluyendo la diagonal de 1.0)\n",
    "high_corr = sorted_pairs[(sorted_pairs < 1) & (sorted_pairs > 0.5)]\n",
    "print(\"Pares de variables con mayor correlación:\")\n",
    "print(high_corr)"
   ]
  },
  {
   "cell_type": "markdown",
   "id": "0c3ec0e6",
   "metadata": {},
   "source": [
    "#### 5. Si de este dataset se escoge un paciente al azar, ¿cuál es la probabilidad de que sea hombre, si se sabe que pertenece al mayor cuartil de la variable correspondiente al índice de masa corporal?\n"
   ]
  },
  {
   "cell_type": "code",
   "execution_count": 8,
   "id": "c425c09e",
   "metadata": {},
   "outputs": [
    {
     "name": "stdout",
     "output_type": "stream",
     "text": [
      "La probabilidad de que un paciente sea hombre, dado que pertenece al mayor cuartil de BMI, es: 0.52\n"
     ]
    }
   ],
   "source": [
    "# Filtrar el dataset para obtener los pacientes que pertenecen al mayor cuartil de BMI\n",
    "Q3_BMI = Q3['BMI']\n",
    "patients_high_BMI = df_clean[df_clean['BMI'] > Q3_BMI]\n",
    "\n",
    "# Calcular la proporción de hombres en este subconjunto\n",
    "prob_hombre = patients_high_BMI['sex'].value_counts(normalize=True)['M']\n",
    "print(f\"La probabilidad de que un paciente sea hombre, dado que pertenece al mayor cuartil de BMI, es: {prob_hombre:.2f}\")"
   ]
  },
  {
   "cell_type": "markdown",
   "id": "ccb4a667",
   "metadata": {},
   "source": [
    "#### 6. ¿Es razonable afirmar que, para una persona cualquiera (no necesariamente dentro del dataset), su ritmo cardiaco promedio es 75? Explica y justifica.\n"
   ]
  },
  {
   "cell_type": "code",
   "execution_count": null,
   "id": "ffbabc9b",
   "metadata": {
    "vscode": {
     "languageId": "r"
    }
   },
   "outputs": [],
   "source": [
    "# Definir la media poblacional hipotética\n",
    "mu = 75\n",
    "\n",
    "# Calcular la media y desviación estándar de la muestra\n",
    "sample_mean = df_clean['heartRate'].mean()\n",
    "sample_std = df_clean['heartRate'].std()\n",
    "n = df_clean['heartRate'].count()\n",
    "\n",
    "# Calcular la estadística t\n",
    "t_stat = (sample_mean - mu) / (sample_std / np.sqrt(n))\n",
    "\n",
    "# Calcular el p-valor\n",
    "p_value = 2 * (1 - stats.t.cdf(abs(t_stat), df=n-1))\n",
    "\n",
    "print(f\"Estadística t: {t_stat}\")\n",
    "print(f\"p-valor: {p_value}\")\n",
    "\n",
    "# Decisión basada en el p-valor\n",
    "alpha = 0.05\n",
    "if p_value < alpha:\n",
    "    print(\"Rechazamos la hipótesis nula. No es razonable afirmar que el ritmo cardíaco promedio es 75.\")\n",
    "else:\n",
    "    print(\"No rechazamos la hipótesis nula. Es razonable afirmar que el ritmo cardíaco promedio es 75.\")"
   ]
  },
  {
   "cell_type": "code",
   "execution_count": null,
   "id": "e9e6d6e7",
   "metadata": {},
   "outputs": [],
   "source": [
    "# Definir la media poblacional hipotética\n",
    "mu = 75\n",
    "\n",
    "# Calcular la media y desviación estándar de la muestra\n",
    "sample_mean = df_clean['heartRate'].mean()\n",
    "sample_std = df_clean['heartRate'].std()\n",
    "n = df_clean['heartRate'].count()\n",
    "\n",
    "# Calcular la estadística t\n",
    "t_stat = (sample_mean - mu) / (sample_std / np.sqrt(n))\n",
    "\n",
    "# Calcular el p-valor# Definir la media poblacional hipotética\n",
    "mu = 75\n",
    "\n",
    "# Calcular la media y desviación estándar de la muestra\n",
    "sample_mean = df_clean['heartRate'].mean()\n",
    "sample_std = df_clean['heartRate'].std()\n",
    "n = df_clean['heartRate'].count()\n",
    "\n",
    "# Calcular la estadística t\n",
    "t_stat = (sample_mean - mu) / (sample_std / np.sqrt(n))\n",
    "\n",
    "# Calcular el p-valor"
   ]
  },
  {
   "cell_type": "code",
   "execution_count": null,
   "id": "938ed2da",
   "metadata": {
    "vscode": {
     "languageId": "r"
    }
   },
   "outputs": [],
   "source": [
    "# Definir la media poblacional hipotética\n",
    "mu = 75\n",
    "\n",
    "# Calcular la media y desviación estándar de la muestra\n",
    "sample_mean = df_clean['heartRate'].mean()\n",
    "sample_std = df_clean['heartRate'].std()\n",
    "n = df_clean['heartRate'].count()\n",
    "\n",
    "# Calcular la estadística t\n",
    "t_stat = (sample_mean - mu) / (sample_std / np.sqrt(n))\n",
    "\n",
    "# Calcular el p-valor\n",
    "p_value = 2 * (1 - stats.t.cdf(abs(t_stat), df=n-1))\n",
    "\n",
    "print(f\"Estadística t: {t_stat}\")\n",
    "print(f\"p-valor: {p_value}\")\n",
    "\n",
    "# Decisión basada en el p-valor\n",
    "alpha = 0.05\n",
    "if p_value < alpha:\n",
    "    print(\"Rechazamos la hipótesis nula. No es razonable afirmar que el ritmo cardíaco promedio es 75.\")\n",
    "else:\n",
    "    print(\"No rechazamos la hipótesis nula. Es razonable afirmar que el ritmo cardíaco promedio es 75.\")"
   ]
  },
  {
   "cell_type": "markdown",
   "id": "f4f31e00",
   "metadata": {},
   "source": [
    "#### 7. Ser hombre, ¿influye en el promedio de cigarrillos consumidos por día, dentro de los pacientes fumadores? Explica.\n"
   ]
  },
  {
   "cell_type": "code",
   "execution_count": 9,
   "id": "f0f0a507",
   "metadata": {},
   "outputs": [
    {
     "name": "stdout",
     "output_type": "stream",
     "text": [
      "Media de cigarrillos por día (hombres): 22.28\n",
      "Media de cigarrillos por día (mujeres): 13.79\n",
      "Desviación estándar (hombres): 10.88\n",
      "Desviación estándar (mujeres): 8.62\n",
      "Estadística t: 17.68\n",
      "p-valor: 0.0000\n",
      "Rechazamos la hipótesis nula. Ser hombre influye en el promedio de cigarrillos consumidos por día.\n"
     ]
    }
   ],
   "source": [
    "# Filtrar los datos para obtener solo los pacientes fumadores\n",
    "smokers = df_clean[df_clean['currentSmoker'] == 'Yes']\n",
    "\n",
    "# Separar los datos en dos grupos: hombres y mujeres\n",
    "male_smokers = smokers[smokers['sex'] == 'M']['cigsPerDay']\n",
    "female_smokers = smokers[smokers['sex'] == 'F']['cigsPerDay']\n",
    "\n",
    "# Calcular las medias y desviaciones estándar de ambos grupos\n",
    "mean_male = male_smokers.mean()\n",
    "mean_female = female_smokers.mean()\n",
    "std_male = male_smokers.std()\n",
    "std_female = female_smokers.std()\n",
    "\n",
    "# Realizar la prueba t de dos muestras\n",
    "t_stat, p_value = stats.ttest_ind(male_smokers, female_smokers)\n",
    "\n",
    "print(f\"Media de cigarrillos por día (hombres): {mean_male:.2f}\")\n",
    "print(f\"Media de cigarrillos por día (mujeres): {mean_female:.2f}\")\n",
    "print(f\"Desviación estándar (hombres): {std_male:.2f}\")\n",
    "print(f\"Desviación estándar (mujeres): {std_female:.2f}\")\n",
    "print(f\"Estadística t: {t_stat:.2f}\")\n",
    "print(f\"p-valor: {p_value:.4f}\")\n",
    "\n",
    "# Decisión basada en el p-valor\n",
    "alpha = 0.05\n",
    "if p_value < alpha:\n",
    "    print(\"Rechazamos la hipótesis nula. Ser hombre influye en el promedio de cigarrillos consumidos por día.\")\n",
    "else:\n",
    "    print(\"No rechazamos la hipótesis nula. No hay evidencia suficiente para afirmar que ser hombre influye en el promedio de cigarrillos consumidos por día.\")"
   ]
  },
  {
   "cell_type": "markdown",
   "id": "980ea71c",
   "metadata": {},
   "source": [
    "#### 8. Construye un modelo de regresión lineal que permita relacionar 6 variables del dataset con el índice de masa corporal. (Debes incluir al menos dos variables cualitativas). Evalúa tu modelo y explica.\n"
   ]
  },
  {
   "cell_type": "code",
   "execution_count": 10,
   "id": "2cce14f4",
   "metadata": {},
   "outputs": [
    {
     "name": "stdout",
     "output_type": "stream",
     "text": [
      "Mean Squared Error: 10.24967778347261\n",
      "R-squared: 0.16491785359080002\n",
      "                   Coefficient\n",
      "age                  -0.002296\n",
      "totChol               0.008723\n",
      "sysBP                 0.035629\n",
      "heartRate             0.008264\n",
      "sex_M                 1.329443\n",
      "currentSmoker_Yes    -1.154760\n"
     ]
    }
   ],
   "source": [
    "from sklearn.model_selection import train_test_split\n",
    "from sklearn.linear_model import LinearRegression\n",
    "from sklearn.metrics import mean_squared_error, r2_score\n",
    "\n",
    "# Seleccionar las variables (incluyendo al menos dos cualitativas)\n",
    "selected_variables = ['age', 'totChol', 'sysBP', 'heartRate', 'sex', 'currentSmoker']\n",
    "\n",
    "# Convertir variables cualitativas en variables dummy\n",
    "df_clean_dummies = pd.get_dummies(df_clean[selected_variables], drop_first=True)\n",
    "\n",
    "# Definir las variables independientes (X) y la variable dependiente (y)\n",
    "X = df_clean_dummies\n",
    "y = df_clean['BMI']\n",
    "\n",
    "# Dividir los datos en conjuntos de entrenamiento y prueba\n",
    "X_train, X_test, y_train, y_test = train_test_split(X, y, test_size=0.2, random_state=42)\n",
    "\n",
    "# Ajustar el modelo de regresión lineal\n",
    "model = LinearRegression()\n",
    "model.fit(X_train, y_train)\n",
    "\n",
    "# Realizar predicciones\n",
    "y_pred = model.predict(X_test)\n",
    "\n",
    "# Evaluar el modelo\n",
    "mse = mean_squared_error(y_test, y_pred)\n",
    "r2 = r2_score(y_test, y_pred)\n",
    "\n",
    "print(f\"Mean Squared Error: {mse}\")\n",
    "print(f\"R-squared: {r2}\")\n",
    "\n",
    "# Mostrar los coeficientes del modelo\n",
    "coefficients = pd.DataFrame(model.coef_, X.columns, columns=['Coefficient'])\n",
    "print(coefficients)"
   ]
  },
  {
   "cell_type": "markdown",
   "id": "13542f53",
   "metadata": {},
   "source": [
    "#### 9. Construye un modelo de regresión logística para predecir el riesgo de sufrir una enfermedad coronaria en los próximos diez años, a partir de las variables descritas. Verifica el balanceo de datos y evalúa tu modelo.\n"
   ]
  },
  {
   "cell_type": "code",
   "execution_count": 11,
   "id": "c1e4f709",
   "metadata": {},
   "outputs": [
    {
     "name": "stdout",
     "output_type": "stream",
     "text": [
      "TenYearCHD\n",
      "0    3004\n",
      "1     524\n",
      "Name: count, dtype: int64\n",
      "Accuracy: 0.7110481586402266\n",
      "Confusion Matrix:\n",
      "[[440 160]\n",
      " [ 44  62]]\n",
      "Classification Report:\n",
      "              precision    recall  f1-score   support\n",
      "\n",
      "           0       0.91      0.73      0.81       600\n",
      "           1       0.28      0.58      0.38       106\n",
      "\n",
      "    accuracy                           0.71       706\n",
      "   macro avg       0.59      0.66      0.59       706\n",
      "weighted avg       0.81      0.71      0.75       706\n",
      "\n",
      "ROC AUC Score: 0.659119496855346\n"
     ]
    }
   ],
   "source": [
    "# Preparar los datos\n",
    "selected_variables = ['age', 'totChol', 'sysBP', 'heartRate', 'sex', 'currentSmoker']\n",
    "df_clean_dummies = pd.get_dummies(df_clean[selected_variables], drop_first=True)\n",
    "X = df_clean_dummies\n",
    "y = df_clean['TenYearCHD']\n",
    "\n",
    "# Verificar el balanceo de datos\n",
    "print(y.value_counts())\n",
    "\n",
    "# Dividir los datos en conjuntos de entrenamiento y prueba\n",
    "X_train, X_test, y_train, y_test = train_test_split(X, y, test_size=0.2, random_state=42)\n",
    "\n",
    "# Balancear los datos utilizando SMOTE\n",
    "smote = SMOTE(random_state=42)\n",
    "X_train_balanced, y_train_balanced = smote.fit_resample(X_train, y_train)\n",
    "\n",
    "# Ajustar el modelo de regresión logística\n",
    "logistic_model = LogisticRegression(max_iter=1000)\n",
    "logistic_model.fit(X_train_balanced, y_train_balanced)\n",
    "\n",
    "# Realizar predicciones\n",
    "y_pred = logistic_model.predict(X_test)\n",
    "\n",
    "# Evaluar el modelo\n",
    "accuracy = accuracy_score(y_test, y_pred)\n",
    "conf_matrix = confusion_matrix(y_test, y_pred)\n",
    "class_report = classification_report(y_test, y_pred)\n",
    "roc_auc = roc_auc_score(y_test, y_pred)\n",
    "\n",
    "print(f\"Accuracy: {accuracy}\")\n",
    "print(\"Confusion Matrix:\")\n",
    "print(conf_matrix)\n",
    "print(\"Classification Report:\")\n",
    "print(class_report)\n",
    "print(f\"ROC AUC Score: {roc_auc}\")"
   ]
  },
  {
   "cell_type": "code",
   "execution_count": null,
   "id": "996d04b1",
   "metadata": {},
   "outputs": [],
   "source": []
  },
  {
   "cell_type": "markdown",
   "id": "c661ad8b",
   "metadata": {},
   "source": [
    "#### 10. Separa los modelos de regresión anteriores en dos distintos, respectivamente, considerando alguna variable categórica. Compara y concluye."
   ]
  },
  {
   "cell_type": "code",
   "execution_count": 12,
   "id": "66881a31",
   "metadata": {},
   "outputs": [
    {
     "name": "stdout",
     "output_type": "stream",
     "text": [
      "Mean Squared Error (Male): 9.617288384378346\n",
      "R-squared (Male): 0.0025690807573135466\n",
      "Mean Squared Error (Female): 11.944705553268369\n",
      "R-squared (Female): 0.17410997575241272\n",
      "Coefficients (Male):\n",
      "                   Coefficient\n",
      "age                  -0.041044\n",
      "totChol               0.010005\n",
      "sysBP                 0.036208\n",
      "heartRate             0.019571\n",
      "currentSmoker_Yes    -1.288392\n",
      "Coefficients (Female):\n",
      "                   Coefficient\n",
      "age                   0.020408\n",
      "totChol               0.004291\n",
      "sysBP                 0.037986\n",
      "heartRate             0.006953\n",
      "currentSmoker_Yes    -1.184555\n"
     ]
    }
   ],
   "source": [
    "# Separar los datos en dos grupos basados en la variable categórica 'sex'\n",
    "df_male = df_clean[df_clean['sex'] == 'M']\n",
    "df_female = df_clean[df_clean['sex'] == 'F']\n",
    "\n",
    "# Convertir variables cualitativas en variables dummy para ambos grupos\n",
    "df_male_dummies = pd.get_dummies(df_male[selected_variables], drop_first=True)\n",
    "df_female_dummies = pd.get_dummies(df_female[selected_variables], drop_first=True)\n",
    "\n",
    "# Definir las variables independientes (X) y la variable dependiente (y) para ambos grupos\n",
    "X_male = df_male_dummies\n",
    "y_male = df_male['BMI']\n",
    "\n",
    "X_female = df_female_dummies\n",
    "y_female = df_female['BMI']\n",
    "\n",
    "# Dividir los datos en conjuntos de entrenamiento y prueba para ambos grupos\n",
    "X_train_male, X_test_male, y_train_male, y_test_male = train_test_split(X_male, y_male, test_size=0.2, random_state=42)\n",
    "X_train_female, X_test_female, y_train_female, y_test_female = train_test_split(X_female, y_female, test_size=0.2, random_state=42)\n",
    "\n",
    "# Ajustar el modelo de regresión lineal para ambos grupos\n",
    "model_male = LinearRegression()\n",
    "model_male.fit(X_train_male, y_train_male)\n",
    "\n",
    "model_female = LinearRegression()\n",
    "model_female.fit(X_train_female, y_train_female)\n",
    "\n",
    "# Realizar predicciones para ambos grupos\n",
    "y_pred_male = model_male.predict(X_test_male)\n",
    "y_pred_female = model_female.predict(X_test_female)\n",
    "\n",
    "# Evaluar el modelo para ambos grupos\n",
    "mse_male = mean_squared_error(y_test_male, y_pred_male)\n",
    "r2_male = r2_score(y_test_male, y_pred_male)\n",
    "\n",
    "mse_female = mean_squared_error(y_test_female, y_pred_female)\n",
    "r2_female = r2_score(y_test_female, y_pred_female)\n",
    "\n",
    "print(f\"Mean Squared Error (Male): {mse_male}\")\n",
    "print(f\"R-squared (Male): {r2_male}\")\n",
    "\n",
    "print(f\"Mean Squared Error (Female): {mse_female}\")\n",
    "print(f\"R-squared (Female): {r2_female}\")\n",
    "\n",
    "# Mostrar los coeficientes del modelo para ambos grupos\n",
    "coefficients_male = pd.DataFrame(model_male.coef_, X_male.columns, columns=['Coefficient'])\n",
    "coefficients_female = pd.DataFrame(model_female.coef_, X_female.columns, columns=['Coefficient'])\n",
    "\n",
    "print(\"Coefficients (Male):\")\n",
    "print(coefficients_male)\n",
    "\n",
    "print(\"Coefficients (Female):\")\n",
    "print(coefficients_female)"
   ]
  },
  {
   "cell_type": "code",
   "execution_count": null,
   "id": "478ec384",
   "metadata": {},
   "outputs": [],
   "source": []
  },
  {
   "cell_type": "markdown",
   "id": "19982c29",
   "metadata": {},
   "source": [
    "-\n",
    "-\n",
    "-\n",
    "___0___o___\n",
    "-\n",
    "-\n",
    "-"
   ]
  },
  {
   "cell_type": "code",
   "execution_count": null,
   "id": "e46d2d64",
   "metadata": {},
   "outputs": [],
   "source": []
  },
  {
   "cell_type": "markdown",
   "id": "9cce3263",
   "metadata": {},
   "source": [
    "-\n",
    "-\n",
    "-\n",
    "___0___o___\n",
    "-\n",
    "-\n",
    "-"
   ]
  },
  {
   "cell_type": "code",
   "execution_count": null,
   "id": "5fa21396",
   "metadata": {},
   "outputs": [],
   "source": []
  },
  {
   "cell_type": "markdown",
   "metadata": {},
   "source": [
    "-\n",
    "-\n",
    "-\n",
    "___0_FiN__o___\n",
    "-\n",
    "-\n",
    "-"
   ]
  },
  {
   "cell_type": "code",
   "execution_count": null,
   "metadata": {},
   "outputs": [],
   "source": []
  },
  {
   "cell_type": "markdown",
   "metadata": {},
   "source": [
    "### Requerimientos\n",
    "\n",
    "Dentro del archivo de Jupyter Notebook debes ir ejecutando las siguientes acciones y explicar lo que estás haciendo:\n",
    "\n",
    "1. Carga, explora y prepara datos para su análisis, utilizando las funciones correspondientes. (2 Puntos)\n",
    "\n",
    "2. Analiza datos, calculando e interpretando diversos indicadores estadísticos y probabilidades. (2 puntos)\n",
    "\n",
    "3. Plantea y realiza pruebas de hipótesis e inferencias, interpretando correctamente sus resultados (3 puntos)\n",
    "\n",
    "4. Plantea y aplica modelos de regresión, e interpreta sus métricas de evaluación (3 Puntos)\n",
    "\n",
    "¡Mucho éxito!"
   ]
  }
 ],
 "metadata": {
  "kernelspec": {
   "display_name": ".env-datascience",
   "language": "python",
   "name": "python3"
  },
  "language_info": {
   "codemirror_mode": {
    "name": "ipython",
    "version": 3
   },
   "file_extension": ".py",
   "mimetype": "text/x-python",
   "name": "python",
   "nbconvert_exporter": "python",
   "pygments_lexer": "ipython3",
   "version": "3.10.12"
  }
 },
 "nbformat": 4,
 "nbformat_minor": 5
}
