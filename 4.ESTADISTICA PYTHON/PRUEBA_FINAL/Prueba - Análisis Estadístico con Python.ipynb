{
 "cells": [
  {
   "cell_type": "markdown",
   "metadata": {},
   "source": [
    "# **PRUEBA: ANÁLISIS ESTADÍSTICO CON PYTHON**\n",
    "### **Módulo 4: Análisis Estadístico con Python**\n",
    "#### *Carrera Data Science - G-68 - Desafio Latam*\n",
    "#### Estudiante: Felipe Leal Arancibia"
   ]
  },
  {
   "cell_type": "markdown",
   "metadata": {},
   "source": [
    "En esta prueba validaremos los conocimientos adquiridos durante este módulo..\n",
    "\n",
    "Lee todo el documento antes de comenzar el desarrollo individual, para asegurarte de tener el máximo de puntaje y enfocar bien los esfuerzos.\n",
    "\n",
    "Tiempo asociado: 2 horas cronológicas"
   ]
  },
  {
   "cell_type": "markdown",
   "metadata": {},
   "source": [
    "## Descripción\n",
    "\n",
    "#### La OMS estima que cada año se producen 12 millones de muertes en todo el mundo debido a enfermedades cardíacas, producidas en su gran mayoría por enfermedades cardiovasculares. El pronóstico temprano de las enfermedades cardiovasculares puede ayudar en la toma de decisiones sobre cambios en el estilo de vida en pacientes de alto riesgo y reducir las complicaciones.\n",
    "\n",
    "#### La base de datos cardio.csv contiene mediciones realizadas a pacientes hace 10 años, entre los cuales se encuentran:"
   ]
  },
  {
   "cell_type": "markdown",
   "id": "90450da5",
   "metadata": {},
   "source": [
    "##### ● Sex: M - F\n",
    "##### ● Age: edad\n",
    "##### ● Education: codificada, considerando que un valor más alto corresponde a un mayor nivel educativo.\n",
    "##### ● currentSmoker: si el paciente es o no fumador actual\n",
    "##### ● cigsPerDay: el número de cigarrillos que la persona fumaba en promedio en un día.\n",
    "##### ● BPMeds: si el paciente estaba tomando medicamentos para la presión arterial (0: No, 1: Sí)\n",
    "##### ● prevalenStroke: si el paciente había tenido un accidente cerebrovascular previamente (0: No, 1: Sí)\n",
    "##### ● prevalentHyp:: si el paciente era hipertenso o no (0: No, 1: Sí)\n",
    "##### ● diabetes: si el paciente tenía diabetes o no (0: No, 1: Sí)\n",
    "##### ● totChol: nivel de colesterol total\n",
    "##### ● sysBP: presión arterial sistólica\n",
    "##### ● diaBP_BMI: presión arterial diastólica\n",
    "##### ● BMI: Índice de masa corporal\n",
    "##### ● heartRate: : ritmo cardíaco\n",
    "##### ● glucose: nivel de glucosa\n",
    "##### ● TenYearCHD: se indica si el paciente sufrió o no una enfermedad coronaria en los últimos 10 años.(0: No, 1: Sí)"
   ]
  },
  {
   "cell_type": "markdown",
   "id": "c597ef0e",
   "metadata": {},
   "source": [
    "#### A partir de estos datos, buscaremos realizar algunas descripciones predictivos."
   ]
  },
  {
   "cell_type": "code",
   "execution_count": 1,
   "id": "f7c7412d",
   "metadata": {},
   "outputs": [],
   "source": [
    "# Primero importar todas las potenciales librería sa utilizar\n",
    "import pandas as pd\n",
    "import numpy as np\n",
    "import matplotlib.pyplot as plt\n",
    "import scipy.stats as stats\n"
   ]
  },
  {
   "cell_type": "markdown",
   "metadata": {},
   "source": [
    "#### 1. Carga los datos y explóralos. Elimina los datos nulos o incorrectos"
   ]
  },
  {
   "cell_type": "markdown",
   "id": "ae585805",
   "metadata": {},
   "source": [
    "#### 2. Escoge tres variables cuantitativas y realiza un análisis descriptivo de ellas, utilizando indicadores y gráficos. ¿Cuaĺ presenta mayor dispersión?"
   ]
  },
  {
   "cell_type": "markdown",
   "id": "3a1808f7",
   "metadata": {},
   "source": [
    "#### 3. Elimina los datos atípicos del dataset. Para las siguientes preguntas, considera el dataset \"limpio\"\n"
   ]
  },
  {
   "cell_type": "markdown",
   "id": "ee89b7e5",
   "metadata": {},
   "source": [
    "#### 4. ¿Qué variables cuantitativas presentan mayor correlación? Explica.\n"
   ]
  },
  {
   "cell_type": "markdown",
   "id": "0c3ec0e6",
   "metadata": {},
   "source": [
    "#### 5. Si de este dataset se escoge un paciente al azar, ¿cuál es la probabilidad de que sea hombre, si se sabe que pertenece al mayor cuartil de la variable correspondiente al índice de masa corporal?\n"
   ]
  },
  {
   "cell_type": "markdown",
   "id": "ccb4a667",
   "metadata": {},
   "source": [
    "#### 6. ¿Es razonable afirmar que, para una persona cualquiera (no necesariamente dentro del dataset), su ritmo cardiaco promedio es 75? Explica y justifica.\n"
   ]
  },
  {
   "cell_type": "markdown",
   "id": "f4f31e00",
   "metadata": {},
   "source": [
    "#### 7. Ser hombre, ¿influye en el promedio de cigarrillos consumidos por día, dentro de los pacientes fumadores? Explica.\n"
   ]
  },
  {
   "cell_type": "markdown",
   "id": "980ea71c",
   "metadata": {},
   "source": [
    "#### 8. Construye un modelo de regresión lineal que permita relacionar 6 variables del dataset con el índice de masa corporal. (Debes incluir al menos dos variables cualitativas). Evalúa tu modelo y explica.\n"
   ]
  },
  {
   "cell_type": "markdown",
   "id": "13542f53",
   "metadata": {},
   "source": [
    "#### 9. Construye un modelo de regresión logística para predecir el riesgo de sufrir una enfermedad coronaria en los próximos diez años, a partir de las variables descritas. Verifica el balanceo de datos y evalúa tu modelo.\n"
   ]
  },
  {
   "cell_type": "markdown",
   "id": "c661ad8b",
   "metadata": {},
   "source": [
    "#### 10. Separa los modelos de regresión anteriores en dos distintos, respectivamente, considerando alguna variable categórica. Compara y concluye."
   ]
  },
  {
   "cell_type": "code",
   "execution_count": 5,
   "id": "93ff1ef2",
   "metadata": {},
   "outputs": [
    {
     "name": "stdout",
     "output_type": "stream",
     "text": [
      "<class 'pandas.core.frame.DataFrame'>\n",
      "RangeIndex: 1816 entries, 0 to 1815\n",
      "Data columns (total 15 columns):\n",
      " #   Column            Non-Null Count  Dtype  \n",
      "---  ------            --------------  -----  \n",
      " 0   height            1816 non-null   int64  \n",
      " 1   weight            1789 non-null   float64\n",
      " 2   male              1816 non-null   int64  \n",
      " 3   earn              1816 non-null   float64\n",
      " 4   earnk             1816 non-null   float64\n",
      " 5   ethnicity         1816 non-null   object \n",
      " 6   education         1814 non-null   float64\n",
      " 7   mother_education  1572 non-null   float64\n",
      " 8   father_education  1521 non-null   float64\n",
      " 9   walk              1816 non-null   int64  \n",
      " 10  exercise          1816 non-null   int64  \n",
      " 11  smokenow          1815 non-null   float64\n",
      " 12  tense             1815 non-null   float64\n",
      " 13  angry             1815 non-null   float64\n",
      " 14  age               1816 non-null   int64  \n",
      "dtypes: float64(9), int64(5), object(1)\n",
      "memory usage: 212.9+ KB\n"
     ]
    }
   ],
   "source": [
    "# 1. Considerando las variables earn, height y age, vamos a suponer que nuestro dataset fuera una población completa. (Prepara los datos adecuadamente).\n",
    "\n",
    "# Cargamos el dataset\n",
    "df_earnings = pd.read_csv('earnings.csv')\n",
    "\n",
    "df_earnings.info()"
   ]
  },
  {
   "cell_type": "code",
   "execution_count": null,
   "id": "882c8907",
   "metadata": {},
   "outputs": [],
   "source": [
    "\n",
    "\n"
   ]
  },
  {
   "cell_type": "code",
   "execution_count": null,
   "id": "478ec384",
   "metadata": {},
   "outputs": [],
   "source": []
  },
  {
   "cell_type": "markdown",
   "id": "19982c29",
   "metadata": {},
   "source": [
    "-\n",
    "-\n",
    "-\n",
    "___0___o___\n",
    "-\n",
    "-\n",
    "-"
   ]
  },
  {
   "cell_type": "code",
   "execution_count": null,
   "id": "e46d2d64",
   "metadata": {},
   "outputs": [],
   "source": []
  },
  {
   "cell_type": "markdown",
   "id": "9cce3263",
   "metadata": {},
   "source": [
    "-\n",
    "-\n",
    "-\n",
    "___0___o___\n",
    "-\n",
    "-\n",
    "-"
   ]
  },
  {
   "cell_type": "code",
   "execution_count": null,
   "id": "5fa21396",
   "metadata": {},
   "outputs": [],
   "source": []
  },
  {
   "cell_type": "markdown",
   "metadata": {},
   "source": [
    "-\n",
    "-\n",
    "-\n",
    "___0_FiN__o___\n",
    "-\n",
    "-\n",
    "-"
   ]
  },
  {
   "cell_type": "code",
   "execution_count": null,
   "metadata": {},
   "outputs": [],
   "source": []
  },
  {
   "cell_type": "markdown",
   "metadata": {},
   "source": [
    "### Requerimientos\n",
    "\n",
    "Dentro del archivo de Jupyter Notebook debes ir ejecutando las siguientes acciones y explicar lo que estás haciendo:\n",
    "\n",
    "1. Carga, explora y prepara datos para su análisis, utilizando las funciones correspondientes. (2 Puntos)\n",
    "\n",
    "2. Analiza datos, calculando e interpretando diversos indicadores estadísticos y probabilidades. (2 puntos)\n",
    "\n",
    "3. Plantea y realiza pruebas de hipótesis e inferencias, interpretando correctamente sus resultados (3 puntos)\n",
    "\n",
    "4. Plantea y aplica modelos de regresión, e interpreta sus métricas de evaluación (3 Puntos)\n",
    "\n",
    "¡Mucho éxito!"
   ]
  }
 ],
 "metadata": {
  "kernelspec": {
   "display_name": "desafiolatam1",
   "language": "python",
   "name": "python3"
  },
  "language_info": {
   "codemirror_mode": {
    "name": "ipython",
    "version": 3
   },
   "file_extension": ".py",
   "mimetype": "text/x-python",
   "name": "python",
   "nbconvert_exporter": "python",
   "pygments_lexer": "ipython3",
   "version": "3.9.18"
  }
 },
 "nbformat": 4,
 "nbformat_minor": 5
}
