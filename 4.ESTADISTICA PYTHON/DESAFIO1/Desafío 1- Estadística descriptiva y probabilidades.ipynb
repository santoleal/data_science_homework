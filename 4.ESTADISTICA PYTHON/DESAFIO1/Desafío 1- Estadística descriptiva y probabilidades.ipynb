{
 "cells": [
  {
   "cell_type": "markdown",
   "metadata": {},
   "source": [
    "# **DESAFÍO Nº1: ESTADÍSTICAS DESCRIPTIVAS Y PROBABILIDADES (PARTE I)**\n",
    "### **Módulo: Análisis Estadístico con Python**\n",
    "#### *Carrera Data Science - G-93 - Desafio Latam*\n",
    "#### Estudiante: Felipe Leal Arancibia"
   ]
  },
  {
   "cell_type": "markdown",
   "metadata": {},
   "source": [
    "En este desafío validaremos nuestros conocimientos de estadística descriptiva aprendidos en la sesión. Para lograrlo, necesitarás aplicar lo aprendido, analizando un set de datos asociados a los ingresos obtenidos por la población en base de a la información demográfica entregada en el archivo ds_salaries.csv.\n",
    "\n",
    "Lee todo el documento antes de comenzar el desarrollo individual, para asegurarte de tener el máximo de puntaje y enfocar bien los esfuerzos. \n",
    "\n",
    "Tiempo asociado: 1 hora cronológica"
   ]
  },
  {
   "cell_type": "markdown",
   "metadata": {},
   "source": [
    "## Descripción\n",
    "\n",
    "#### El conjunto de datos contiene un informe salarial fabricado en el que puedes realizar análisis para tratar de estimar el salario basado en las condiciones dadas.\n",
    "(...)\n",
    "Se busca realizar un análisis estadístico de estos salarios, considerando:"
   ]
  },
  {
   "cell_type": "markdown",
   "metadata": {},
   "source": [
    "#### P1. El promedio general de los salarios, desviación estándar, quintiles y rango. (hint: escoge la columna adecuada para comparar)"
   ]
  },
  {
   "cell_type": "code",
   "execution_count": 1,
   "metadata": {},
   "outputs": [],
   "source": [
    "# Se importan librerías para explorar bbdd en cvs\n",
    "import pandas as pd\n",
    "import numpy as np"
   ]
  },
  {
   "cell_type": "code",
   "execution_count": 2,
   "metadata": {},
   "outputs": [
    {
     "name": "stdout",
     "output_type": "stream",
     "text": [
      "<class 'pandas.core.frame.DataFrame'>\n",
      "RangeIndex: 3755 entries, 0 to 3754\n",
      "Data columns (total 11 columns):\n",
      " #   Column              Non-Null Count  Dtype \n",
      "---  ------              --------------  ----- \n",
      " 0   work_year           3755 non-null   int64 \n",
      " 1   experience_level    3755 non-null   object\n",
      " 2   employment_type     3755 non-null   object\n",
      " 3   job_title           3755 non-null   object\n",
      " 4   salary              3755 non-null   int64 \n",
      " 5   salary_currency     3755 non-null   object\n",
      " 6   salary_in_usd       3755 non-null   int64 \n",
      " 7   employee_residence  3755 non-null   object\n",
      " 8   remote_ratio        3755 non-null   int64 \n",
      " 9   company_location    3755 non-null   object\n",
      " 10  company_size        3755 non-null   object\n",
      "dtypes: int64(4), object(7)\n",
      "memory usage: 322.8+ KB\n"
     ]
    }
   ],
   "source": [
    "# Se cargan los datos de archivo\n",
    "\n",
    "salarios = pd.read_csv('ds_salaries.csv')\n",
    "salarios.info()"
   ]
  },
  {
   "cell_type": "code",
   "execution_count": 3,
   "metadata": {},
   "outputs": [
    {
     "data": {
      "text/html": [
       "<div>\n",
       "<style scoped>\n",
       "    .dataframe tbody tr th:only-of-type {\n",
       "        vertical-align: middle;\n",
       "    }\n",
       "\n",
       "    .dataframe tbody tr th {\n",
       "        vertical-align: top;\n",
       "    }\n",
       "\n",
       "    .dataframe thead th {\n",
       "        text-align: right;\n",
       "    }\n",
       "</style>\n",
       "<table border=\"1\" class=\"dataframe\">\n",
       "  <thead>\n",
       "    <tr style=\"text-align: right;\">\n",
       "      <th></th>\n",
       "      <th>work_year</th>\n",
       "      <th>experience_level</th>\n",
       "      <th>employment_type</th>\n",
       "      <th>job_title</th>\n",
       "      <th>salary</th>\n",
       "      <th>salary_currency</th>\n",
       "      <th>salary_in_usd</th>\n",
       "      <th>employee_residence</th>\n",
       "      <th>remote_ratio</th>\n",
       "      <th>company_location</th>\n",
       "      <th>company_size</th>\n",
       "    </tr>\n",
       "  </thead>\n",
       "  <tbody>\n",
       "    <tr>\n",
       "      <th>0</th>\n",
       "      <td>2023</td>\n",
       "      <td>SE</td>\n",
       "      <td>FT</td>\n",
       "      <td>Principal Data Scientist</td>\n",
       "      <td>80000</td>\n",
       "      <td>EUR</td>\n",
       "      <td>85847</td>\n",
       "      <td>ES</td>\n",
       "      <td>100</td>\n",
       "      <td>ES</td>\n",
       "      <td>L</td>\n",
       "    </tr>\n",
       "    <tr>\n",
       "      <th>1</th>\n",
       "      <td>2023</td>\n",
       "      <td>MI</td>\n",
       "      <td>CT</td>\n",
       "      <td>ML Engineer</td>\n",
       "      <td>30000</td>\n",
       "      <td>USD</td>\n",
       "      <td>30000</td>\n",
       "      <td>US</td>\n",
       "      <td>100</td>\n",
       "      <td>US</td>\n",
       "      <td>S</td>\n",
       "    </tr>\n",
       "    <tr>\n",
       "      <th>2</th>\n",
       "      <td>2023</td>\n",
       "      <td>MI</td>\n",
       "      <td>CT</td>\n",
       "      <td>ML Engineer</td>\n",
       "      <td>25500</td>\n",
       "      <td>USD</td>\n",
       "      <td>25500</td>\n",
       "      <td>US</td>\n",
       "      <td>100</td>\n",
       "      <td>US</td>\n",
       "      <td>S</td>\n",
       "    </tr>\n",
       "  </tbody>\n",
       "</table>\n",
       "</div>"
      ],
      "text/plain": [
       "   work_year experience_level employment_type                 job_title  \\\n",
       "0       2023               SE              FT  Principal Data Scientist   \n",
       "1       2023               MI              CT               ML Engineer   \n",
       "2       2023               MI              CT               ML Engineer   \n",
       "\n",
       "   salary salary_currency  salary_in_usd employee_residence  remote_ratio  \\\n",
       "0   80000             EUR          85847                 ES           100   \n",
       "1   30000             USD          30000                 US           100   \n",
       "2   25500             USD          25500                 US           100   \n",
       "\n",
       "  company_location company_size  \n",
       "0               ES            L  \n",
       "1               US            S  \n",
       "2               US            S  "
      ]
     },
     "execution_count": 3,
     "metadata": {},
     "output_type": "execute_result"
    }
   ],
   "source": [
    "# Se exploran tipo de datos y cómo se presentan los registros en concreto\n",
    "salarios.head(3)"
   ]
  },
  {
   "cell_type": "markdown",
   "id": "25ed7bf9",
   "metadata": {},
   "source": [
    "Se puede observar que están presentes estos tipos de datos:\n",
    "- Nominales: 'employment_type', 'job_title', 'salary_currency', 'employee_residence', 'company_location'\n",
    "- Ordinales: 'experience_level', 'company_size'\n",
    "- Datos de intervalo: 'work_year'\n",
    "- Datos de razón: 'salary', 'salary_in_usd', 'remote_ratio'"
   ]
  },
  {
   "cell_type": "code",
   "execution_count": 4,
   "metadata": {},
   "outputs": [
    {
     "data": {
      "text/html": [
       "<div>\n",
       "<style scoped>\n",
       "    .dataframe tbody tr th:only-of-type {\n",
       "        vertical-align: middle;\n",
       "    }\n",
       "\n",
       "    .dataframe tbody tr th {\n",
       "        vertical-align: top;\n",
       "    }\n",
       "\n",
       "    .dataframe thead th {\n",
       "        text-align: right;\n",
       "    }\n",
       "</style>\n",
       "<table border=\"1\" class=\"dataframe\">\n",
       "  <thead>\n",
       "    <tr style=\"text-align: right;\">\n",
       "      <th></th>\n",
       "      <th>work_year</th>\n",
       "      <th>salary</th>\n",
       "      <th>salary_in_usd</th>\n",
       "      <th>remote_ratio</th>\n",
       "    </tr>\n",
       "  </thead>\n",
       "  <tbody>\n",
       "    <tr>\n",
       "      <th>count</th>\n",
       "      <td>3755.000000</td>\n",
       "      <td>3.755000e+03</td>\n",
       "      <td>3755.000000</td>\n",
       "      <td>3755.000000</td>\n",
       "    </tr>\n",
       "    <tr>\n",
       "      <th>mean</th>\n",
       "      <td>2022.373635</td>\n",
       "      <td>1.906956e+05</td>\n",
       "      <td>137570.389880</td>\n",
       "      <td>46.271638</td>\n",
       "    </tr>\n",
       "    <tr>\n",
       "      <th>std</th>\n",
       "      <td>0.691448</td>\n",
       "      <td>6.716765e+05</td>\n",
       "      <td>63055.625278</td>\n",
       "      <td>48.589050</td>\n",
       "    </tr>\n",
       "    <tr>\n",
       "      <th>min</th>\n",
       "      <td>2020.000000</td>\n",
       "      <td>6.000000e+03</td>\n",
       "      <td>5132.000000</td>\n",
       "      <td>0.000000</td>\n",
       "    </tr>\n",
       "    <tr>\n",
       "      <th>25%</th>\n",
       "      <td>2022.000000</td>\n",
       "      <td>1.000000e+05</td>\n",
       "      <td>95000.000000</td>\n",
       "      <td>0.000000</td>\n",
       "    </tr>\n",
       "    <tr>\n",
       "      <th>50%</th>\n",
       "      <td>2022.000000</td>\n",
       "      <td>1.380000e+05</td>\n",
       "      <td>135000.000000</td>\n",
       "      <td>0.000000</td>\n",
       "    </tr>\n",
       "    <tr>\n",
       "      <th>75%</th>\n",
       "      <td>2023.000000</td>\n",
       "      <td>1.800000e+05</td>\n",
       "      <td>175000.000000</td>\n",
       "      <td>100.000000</td>\n",
       "    </tr>\n",
       "    <tr>\n",
       "      <th>max</th>\n",
       "      <td>2023.000000</td>\n",
       "      <td>3.040000e+07</td>\n",
       "      <td>450000.000000</td>\n",
       "      <td>100.000000</td>\n",
       "    </tr>\n",
       "  </tbody>\n",
       "</table>\n",
       "</div>"
      ],
      "text/plain": [
       "         work_year        salary  salary_in_usd  remote_ratio\n",
       "count  3755.000000  3.755000e+03    3755.000000   3755.000000\n",
       "mean   2022.373635  1.906956e+05  137570.389880     46.271638\n",
       "std       0.691448  6.716765e+05   63055.625278     48.589050\n",
       "min    2020.000000  6.000000e+03    5132.000000      0.000000\n",
       "25%    2022.000000  1.000000e+05   95000.000000      0.000000\n",
       "50%    2022.000000  1.380000e+05  135000.000000      0.000000\n",
       "75%    2023.000000  1.800000e+05  175000.000000    100.000000\n",
       "max    2023.000000  3.040000e+07  450000.000000    100.000000"
      ]
     },
     "execution_count": 4,
     "metadata": {},
     "output_type": "execute_result"
    }
   ],
   "source": [
    "# Se entrega una vista general del dataset, con medidas centrales de tipo int64 (datos de intervalo y de razón) \n",
    "\n",
    "salarios.describe()"
   ]
  },
  {
   "cell_type": "code",
   "execution_count": 5,
   "id": "d1bd9ad7",
   "metadata": {},
   "outputs": [
    {
     "data": {
      "text/html": [
       "<div>\n",
       "<style scoped>\n",
       "    .dataframe tbody tr th:only-of-type {\n",
       "        vertical-align: middle;\n",
       "    }\n",
       "\n",
       "    .dataframe tbody tr th {\n",
       "        vertical-align: top;\n",
       "    }\n",
       "\n",
       "    .dataframe thead th {\n",
       "        text-align: right;\n",
       "    }\n",
       "</style>\n",
       "<table border=\"1\" class=\"dataframe\">\n",
       "  <thead>\n",
       "    <tr style=\"text-align: right;\">\n",
       "      <th></th>\n",
       "      <th>count</th>\n",
       "      <th>mean</th>\n",
       "      <th>std</th>\n",
       "      <th>min</th>\n",
       "      <th>25%</th>\n",
       "      <th>50%</th>\n",
       "      <th>75%</th>\n",
       "      <th>max</th>\n",
       "    </tr>\n",
       "  </thead>\n",
       "  <tbody>\n",
       "    <tr>\n",
       "      <th>work_year</th>\n",
       "      <td>3755.0</td>\n",
       "      <td>2022.37</td>\n",
       "      <td>0.69</td>\n",
       "      <td>2020.0</td>\n",
       "      <td>2022.0</td>\n",
       "      <td>2022.0</td>\n",
       "      <td>2023.0</td>\n",
       "      <td>2023.0</td>\n",
       "    </tr>\n",
       "    <tr>\n",
       "      <th>salary</th>\n",
       "      <td>3755.0</td>\n",
       "      <td>190695.57</td>\n",
       "      <td>671676.50</td>\n",
       "      <td>6000.0</td>\n",
       "      <td>100000.0</td>\n",
       "      <td>138000.0</td>\n",
       "      <td>180000.0</td>\n",
       "      <td>30400000.0</td>\n",
       "    </tr>\n",
       "    <tr>\n",
       "      <th>salary_in_usd</th>\n",
       "      <td>3755.0</td>\n",
       "      <td>137570.39</td>\n",
       "      <td>63055.63</td>\n",
       "      <td>5132.0</td>\n",
       "      <td>95000.0</td>\n",
       "      <td>135000.0</td>\n",
       "      <td>175000.0</td>\n",
       "      <td>450000.0</td>\n",
       "    </tr>\n",
       "    <tr>\n",
       "      <th>remote_ratio</th>\n",
       "      <td>3755.0</td>\n",
       "      <td>46.27</td>\n",
       "      <td>48.59</td>\n",
       "      <td>0.0</td>\n",
       "      <td>0.0</td>\n",
       "      <td>0.0</td>\n",
       "      <td>100.0</td>\n",
       "      <td>100.0</td>\n",
       "    </tr>\n",
       "  </tbody>\n",
       "</table>\n",
       "</div>"
      ],
      "text/plain": [
       "                count       mean        std     min       25%       50%  \\\n",
       "work_year      3755.0    2022.37       0.69  2020.0    2022.0    2022.0   \n",
       "salary         3755.0  190695.57  671676.50  6000.0  100000.0  138000.0   \n",
       "salary_in_usd  3755.0  137570.39   63055.63  5132.0   95000.0  135000.0   \n",
       "remote_ratio   3755.0      46.27      48.59     0.0       0.0       0.0   \n",
       "\n",
       "                    75%         max  \n",
       "work_year        2023.0      2023.0  \n",
       "salary         180000.0  30400000.0  \n",
       "salary_in_usd  175000.0    450000.0  \n",
       "remote_ratio      100.0       100.0  "
      ]
     },
     "execution_count": 5,
     "metadata": {},
     "output_type": "execute_result"
    }
   ],
   "source": [
    "# Una forma distinta de mostrarlos, rendondeando a 2 decimales máximo\n",
    "\n",
    "salarios.describe().round(2).T"
   ]
  },
  {
   "cell_type": "markdown",
   "metadata": {},
   "source": [
    "##### **Respuesta P1:**\n",
    "\n",
    "A partir de la tabla anterior ya se puede ver que se presentan los siguientes datos:\n",
    "- Promedio de salarios (USD): 137,570.39\n",
    "- Desviación estándar salarios (USD): 63,055.6\n",
    "\n",
    "Ambos datos se comprobarán a continuación por separado, y se sumarán los quintiles y el rango."
   ]
  },
  {
   "cell_type": "code",
   "execution_count": 6,
   "metadata": {},
   "outputs": [
    {
     "data": {
      "text/plain": [
       "'La media de salario en dólares es de: 137570.39'"
      ]
     },
     "execution_count": 6,
     "metadata": {},
     "output_type": "execute_result"
    }
   ],
   "source": [
    "# Media de salarios en dólares\n",
    "\n",
    "salarios_promedio = round((salarios['salary_in_usd'].mean()),2)\n",
    "\n",
    "f'La media de salario en dólares es de: {salarios_promedio}'"
   ]
  },
  {
   "cell_type": "code",
   "execution_count": 7,
   "metadata": {},
   "outputs": [
    {
     "data": {
      "text/plain": [
       "'La desviación estándar de los salarios (USD) es de: 63055.6'"
      ]
     },
     "execution_count": 7,
     "metadata": {},
     "output_type": "execute_result"
    }
   ],
   "source": [
    "# Desviación Estándar, con otra forma de redondear decimales.\n",
    "\n",
    "desviacion_std_salarios = salarios['salary_in_usd'].std().round(1)\n",
    "\n",
    "f'La desviación estándar de los salarios (USD) es de: {desviacion_std_salarios}'"
   ]
  },
  {
   "cell_type": "markdown",
   "id": "f23089ac",
   "metadata": {},
   "source": [
    "Se puede ver que, a pesar de haber un promedio de USD 137.570 al año, la dispersión de salarios de acuerdo a la desviación estándar es de USD 63.056 anual. \n",
    "\n",
    "Es decir, gran parte de los salarios se encuentran en un rango de distribución que pueden estar USD 63.056 por encima o por debajo de la media, habiendo con ello una gran brecha salarial."
   ]
  },
  {
   "cell_type": "markdown",
   "id": "bd26c0a5",
   "metadata": {},
   "source": [
    "Ahora veamos rangos y percentiles, para ver cómo se pueden conformar agrupaciones de acuerdo a la data entregada."
   ]
  },
  {
   "cell_type": "code",
   "execution_count": 8,
   "metadata": {},
   "outputs": [
    {
     "data": {
      "text/plain": [
       "'El rango de salarios (USD) es de: 444868'"
      ]
     },
     "execution_count": 8,
     "metadata": {},
     "output_type": "execute_result"
    }
   ],
   "source": [
    "# Rango\n",
    "\n",
    "salarios_rango = salarios['salary_in_usd'].max() - salarios['salary_in_usd'].min()\n",
    "\n",
    "f'El rango de salarios (USD) es de: {salarios_rango}'"
   ]
  },
  {
   "cell_type": "markdown",
   "id": "3a756d44",
   "metadata": {},
   "source": [
    "El rango permite distinguir la diferencia entre los ingresos máximos y los ingresos mínimos, quedando esta diferencia de sueldo en USD 444.868 anuales. Claramente esta medida de dispersión no refleja el grueso de los valores, sino que toma en cuenta sólo los extremos.\n",
    "\n",
    "Por ello, ahora veremos los quintiles, para tener una mirada más completa de cómo se distribuyen los datos dividido en 5 partes homogéneas."
   ]
  },
  {
   "cell_type": "code",
   "execution_count": 9,
   "id": "07c55723",
   "metadata": {},
   "outputs": [
    {
     "name": "stdout",
     "output_type": "stream",
     "text": [
      "Cada corte de quintil (tope superior) de los salarios en UDS es: \n",
      "Quintil 1 = 83972.8\n",
      "Quintil 2 = 120000.0\n",
      "Quintil 3 = 149850.0\n",
      "Quintil 4 = 185900.0\n",
      "Quintil 5 = 450000.0\n"
     ]
    }
   ],
   "source": [
    "# quintiles\n",
    "# Una primera opción es esta: q1 = salarios['salary_in_usd'].quantile(0.2) ... por cada uno\n",
    "# Ahora se prefiere hacer una matriz para simplificar:\n",
    "quintiles = np.quantile(salarios['salary_in_usd'], [1/5, 2/5, 3/5, 4/5, 1])\n",
    "corte = 1\n",
    "\n",
    "print('Cada corte de quintil (tope superior) de los salarios en UDS es: ')\n",
    "# ciclo para simplificar la identificación de los cortes por cada quintil\n",
    "for quintil in quintiles:\n",
    "    print(f\"Quintil {corte} = {quintil}\")\n",
    "    corte = corte+1"
   ]
  },
  {
   "cell_type": "markdown",
   "id": "31ac827f",
   "metadata": {},
   "source": [
    "Aquí podemos ver que:\n",
    "- Hasta el 20% (primer quintil), el salario tope es de USD 83.973.-\n",
    "- Sobre el 20% hasta el 40% (segundo quintil), el salario va sobre USD 83.973 hasta USD 120.000.-\n",
    "- Sobre el 40% hasta el 60% (tercer quintil), el salario va sobre USD 120.000 hasta USD 149.850.-\n",
    "- Sobre el 60% hasta el 80% (cuarto quintil), el salario va desde USD 149,850 hasta USD 185.900.-\n",
    "- Sobre el 80% hasta el 100% (quinto quintil), el salario va desde USD 185,900 hasta USD 450.000.-\n"
   ]
  },
  {
   "cell_type": "markdown",
   "id": "084ab11f",
   "metadata": {},
   "source": [
    "De esta forma, se distingue de manera más nítida qué tipo de ingresos existen y cómo posicionar un valor dado. "
   ]
  },
  {
   "cell_type": "markdown",
   "metadata": {},
   "source": [
    "-\n",
    "-\n",
    "-\n",
    "___0___o___\n",
    "-\n",
    "-\n",
    "-"
   ]
  },
  {
   "cell_type": "markdown",
   "metadata": {},
   "source": [
    "#### P2. Una comparación entre los salarios agrupados por 3 diferentes categorías a tu elección. ¿Para cuál de ellas las medidas de tendencia central son más representativas? ¿Para cuál son menos representativas? Explica."
   ]
  },
  {
   "cell_type": "code",
   "execution_count": 10,
   "id": "ac32c37c",
   "metadata": {},
   "outputs": [],
   "source": [
    "# se importa librería para trabajar con gráficos e identificar mejor las medidas centrales\n",
    "import matplotlib.pyplot as plt\n",
    "import seaborn\n"
   ]
  },
  {
   "cell_type": "code",
   "execution_count": 11,
   "metadata": {},
   "outputs": [
    {
     "data": {
      "text/plain": [
       "Index(['work_year', 'experience_level', 'employment_type', 'job_title',\n",
       "       'salary', 'salary_currency', 'salary_in_usd', 'employee_residence',\n",
       "       'remote_ratio', 'company_location', 'company_size'],\n",
       "      dtype='object')"
      ]
     },
     "execution_count": 11,
     "metadata": {},
     "output_type": "execute_result"
    }
   ],
   "source": [
    "# se chequean las categorías\n",
    "salarios.columns"
   ]
  },
  {
   "cell_type": "code",
   "execution_count": 13,
   "metadata": {},
   "outputs": [],
   "source": [
    "# Se escogen tres categorías a comparar: 1) experience_level, 2) employment_type, 3) remote_ratio"
   ]
  },
  {
   "cell_type": "code",
   "execution_count": 14,
   "id": "ace36366",
   "metadata": {},
   "outputs": [
    {
     "data": {
      "text/plain": [
       "array(['Senior/Experto', 'Medio/Intermedio', 'Entrada/Junior',\n",
       "       'Ejecutivo/Director'], dtype=object)"
      ]
     },
     "execution_count": 14,
     "metadata": {},
     "output_type": "execute_result"
    }
   ],
   "source": [
    "# SE RENOMBRAN LAS CATEGORÍAS DE CADA COLUMNA SELECCIONADA \n",
    "\n",
    "# Renombrar: EN (nivel de entrada / junior), MI (nivel medio / intermedio), SE (nivel senior / experto), EX (nivel ejecutivo / director)\n",
    "\n",
    "renombrar = {'EN': 'Entrada/Junior', 'MI': 'Medio/Intermedio', 'SE': 'Senior/Experto', 'EX': 'Ejecutivo/Director'}\n",
    "\n",
    "salarios['experience_level'] = salarios['experience_level'].replace(renombrar)\n",
    "\n",
    "salarios['experience_level'].unique()\n",
    "\n",
    "\n"
   ]
  },
  {
   "cell_type": "code",
   "execution_count": 17,
   "id": "b0267098",
   "metadata": {},
   "outputs": [
    {
     "data": {
      "text/plain": [
       "array(['Remoto', 'Presencial', 'Híbrido'], dtype=object)"
      ]
     },
     "execution_count": 17,
     "metadata": {},
     "output_type": "execute_result"
    }
   ],
   "source": [
    "\n",
    "# renombrar los valores en 'remote_ratio'\n",
    "# 0 (sin trabajo remoto, menos del 20%), 50 (parcialmente remoto), 100 (totalmente remoto, más del 80%)\n",
    "\n",
    "renombre_ratios = {0: 'Presencial', 50: 'Híbrido', 100: 'Remoto'}\n",
    "\n",
    "salarios['remote_ratio'] = salarios['remote_ratio'].replace(renombre_ratios)\n",
    "\n",
    "salarios['remote_ratio'].unique()\n",
    "\n"
   ]
  },
  {
   "cell_type": "code",
   "execution_count": 19,
   "id": "37fd2187",
   "metadata": {},
   "outputs": [
    {
     "data": {
      "text/plain": [
       "array(['Tiempo completo', 'Contrato', 'Trabajo freelance',\n",
       "       'Tiempo parcial'], dtype=object)"
      ]
     },
     "execution_count": 19,
     "metadata": {},
     "output_type": "execute_result"
    }
   ],
   "source": [
    "\n",
    "# renombrar typo de empleo\n",
    "# PT (tiempo parcial), FT (tiempo completo), CT (contrato), FL (trabajo freelance)\n",
    "renombre_tipo_empleo = {'PT':'Tiempo parcial', 'FT': 'Tiempo completo', 'CT': 'Contrato', 'FL': 'Trabajo freelance'}\n",
    "\n",
    "salarios['employment_type'] = salarios['employment_type'].replace(renombre_tipo_empleo)\n",
    "salarios['employment_type'].unique()"
   ]
  },
  {
   "cell_type": "code",
   "execution_count": 20,
   "id": "3c1b957c",
   "metadata": {},
   "outputs": [],
   "source": [
    "# Para no repetir el código por cada columna, se decide crear una función para sacar medidas centrales por columna\n",
    "\n",
    "def medidas_centrales_columna(columna):\n",
    "\n",
    "    # Agrupar columna\n",
    "    salario_x_columna = salarios.groupby(columna)['salary_in_usd']\n",
    "\n",
    "    # se especifican las medidas de tendencia central a considerar.\n",
    "    media_columna = round(salario_x_columna.mean(),2)\n",
    "    mediana_columna = round(salario_x_columna.median(),2)\n",
    "    moda_columna = salario_x_columna.apply(lambda x: x.mode().iloc[0])\n",
    "    minimo_columna = salario_x_columna.min()\n",
    "    maximo_columna = salario_x_columna.max()\n",
    "\n",
    "    # Se pasan a un dataframe\n",
    "\n",
    "    medidas_centrales_columna = pd.DataFrame({'Mínimo': minimo_columna, 'Máximo': maximo_columna, 'Media': media_columna, 'Mediana': mediana_columna, 'Moda': moda_columna})\n",
    "\n",
    "    # ahora, se retorna la columna en forma de dataframe, con las medidas de tendencia central\n",
    "\n",
    "    print(f'Estas son las medidas de tendencia central de salario por {columna}:')\n",
    "    return medidas_centrales_columna\n",
    "\n"
   ]
  },
  {
   "cell_type": "code",
   "execution_count": 43,
   "id": "0875e074",
   "metadata": {},
   "outputs": [],
   "source": [
    "# SE CREAR LOS DATAFRAMES POR CADA COLUMNA SELECCIONADA, CRUZADA POR SALARIO EN USD"
   ]
  },
  {
   "cell_type": "code",
   "execution_count": 21,
   "id": "58911e7d",
   "metadata": {},
   "outputs": [
    {
     "name": "stdout",
     "output_type": "stream",
     "text": [
      "Estas son las medidas de tendencia central de salario por experience_level:\n"
     ]
    },
    {
     "data": {
      "text/html": [
       "<div>\n",
       "<style scoped>\n",
       "    .dataframe tbody tr th:only-of-type {\n",
       "        vertical-align: middle;\n",
       "    }\n",
       "\n",
       "    .dataframe tbody tr th {\n",
       "        vertical-align: top;\n",
       "    }\n",
       "\n",
       "    .dataframe thead th {\n",
       "        text-align: right;\n",
       "    }\n",
       "</style>\n",
       "<table border=\"1\" class=\"dataframe\">\n",
       "  <thead>\n",
       "    <tr style=\"text-align: right;\">\n",
       "      <th></th>\n",
       "      <th>Mínimo</th>\n",
       "      <th>Máximo</th>\n",
       "      <th>Media</th>\n",
       "      <th>Mediana</th>\n",
       "      <th>Moda</th>\n",
       "    </tr>\n",
       "    <tr>\n",
       "      <th>experience_level</th>\n",
       "      <th></th>\n",
       "      <th></th>\n",
       "      <th></th>\n",
       "      <th></th>\n",
       "      <th></th>\n",
       "    </tr>\n",
       "  </thead>\n",
       "  <tbody>\n",
       "    <tr>\n",
       "      <th>Ejecutivo/Director</th>\n",
       "      <td>15000</td>\n",
       "      <td>416000</td>\n",
       "      <td>194930.93</td>\n",
       "      <td>196000.0</td>\n",
       "      <td>200000</td>\n",
       "    </tr>\n",
       "    <tr>\n",
       "      <th>Entrada/Junior</th>\n",
       "      <td>5409</td>\n",
       "      <td>300000</td>\n",
       "      <td>78546.28</td>\n",
       "      <td>70000.0</td>\n",
       "      <td>100000</td>\n",
       "    </tr>\n",
       "    <tr>\n",
       "      <th>Medio/Intermedio</th>\n",
       "      <td>5132</td>\n",
       "      <td>450000</td>\n",
       "      <td>104525.94</td>\n",
       "      <td>100000.0</td>\n",
       "      <td>100000</td>\n",
       "    </tr>\n",
       "    <tr>\n",
       "      <th>Senior/Experto</th>\n",
       "      <td>8000</td>\n",
       "      <td>423834</td>\n",
       "      <td>153051.07</td>\n",
       "      <td>146000.0</td>\n",
       "      <td>120000</td>\n",
       "    </tr>\n",
       "  </tbody>\n",
       "</table>\n",
       "</div>"
      ],
      "text/plain": [
       "                    Mínimo  Máximo      Media   Mediana    Moda\n",
       "experience_level                                               \n",
       "Ejecutivo/Director   15000  416000  194930.93  196000.0  200000\n",
       "Entrada/Junior        5409  300000   78546.28   70000.0  100000\n",
       "Medio/Intermedio      5132  450000  104525.94  100000.0  100000\n",
       "Senior/Experto        8000  423834  153051.07  146000.0  120000"
      ]
     },
     "execution_count": 21,
     "metadata": {},
     "output_type": "execute_result"
    }
   ],
   "source": [
    "mtc_experience_level = medidas_centrales_columna('experience_level')\n",
    "mtc_experience_level"
   ]
  },
  {
   "cell_type": "code",
   "execution_count": 22,
   "id": "b9b49111",
   "metadata": {},
   "outputs": [
    {
     "name": "stdout",
     "output_type": "stream",
     "text": [
      "Estas son las medidas de tendencia central de salario por remote_ratio:\n"
     ]
    },
    {
     "data": {
      "text/html": [
       "<div>\n",
       "<style scoped>\n",
       "    .dataframe tbody tr th:only-of-type {\n",
       "        vertical-align: middle;\n",
       "    }\n",
       "\n",
       "    .dataframe tbody tr th {\n",
       "        vertical-align: top;\n",
       "    }\n",
       "\n",
       "    .dataframe thead th {\n",
       "        text-align: right;\n",
       "    }\n",
       "</style>\n",
       "<table border=\"1\" class=\"dataframe\">\n",
       "  <thead>\n",
       "    <tr style=\"text-align: right;\">\n",
       "      <th></th>\n",
       "      <th>Mínimo</th>\n",
       "      <th>Máximo</th>\n",
       "      <th>Media</th>\n",
       "      <th>Mediana</th>\n",
       "      <th>Moda</th>\n",
       "    </tr>\n",
       "    <tr>\n",
       "      <th>remote_ratio</th>\n",
       "      <th></th>\n",
       "      <th></th>\n",
       "      <th></th>\n",
       "      <th></th>\n",
       "      <th></th>\n",
       "    </tr>\n",
       "  </thead>\n",
       "  <tbody>\n",
       "    <tr>\n",
       "      <th>Híbrido</th>\n",
       "      <td>5409</td>\n",
       "      <td>423000</td>\n",
       "      <td>78400.69</td>\n",
       "      <td>63312.0</td>\n",
       "      <td>50000</td>\n",
       "    </tr>\n",
       "    <tr>\n",
       "      <th>Presencial</th>\n",
       "      <td>5882</td>\n",
       "      <td>450000</td>\n",
       "      <td>144316.20</td>\n",
       "      <td>139600.0</td>\n",
       "      <td>120000</td>\n",
       "    </tr>\n",
       "    <tr>\n",
       "      <th>Remoto</th>\n",
       "      <td>5132</td>\n",
       "      <td>416000</td>\n",
       "      <td>136481.45</td>\n",
       "      <td>135000.0</td>\n",
       "      <td>150000</td>\n",
       "    </tr>\n",
       "  </tbody>\n",
       "</table>\n",
       "</div>"
      ],
      "text/plain": [
       "              Mínimo  Máximo      Media   Mediana    Moda\n",
       "remote_ratio                                             \n",
       "Híbrido         5409  423000   78400.69   63312.0   50000\n",
       "Presencial      5882  450000  144316.20  139600.0  120000\n",
       "Remoto          5132  416000  136481.45  135000.0  150000"
      ]
     },
     "execution_count": 22,
     "metadata": {},
     "output_type": "execute_result"
    }
   ],
   "source": [
    "mtc_remote_ratio = medidas_centrales_columna('remote_ratio')\n",
    "\n",
    "mtc_remote_ratio"
   ]
  },
  {
   "cell_type": "code",
   "execution_count": 23,
   "id": "576cfb40",
   "metadata": {},
   "outputs": [
    {
     "name": "stdout",
     "output_type": "stream",
     "text": [
      "Estas son las medidas de tendencia central de salario por employment_type:\n"
     ]
    },
    {
     "data": {
      "text/html": [
       "<div>\n",
       "<style scoped>\n",
       "    .dataframe tbody tr th:only-of-type {\n",
       "        vertical-align: middle;\n",
       "    }\n",
       "\n",
       "    .dataframe tbody tr th {\n",
       "        vertical-align: top;\n",
       "    }\n",
       "\n",
       "    .dataframe thead th {\n",
       "        text-align: right;\n",
       "    }\n",
       "</style>\n",
       "<table border=\"1\" class=\"dataframe\">\n",
       "  <thead>\n",
       "    <tr style=\"text-align: right;\">\n",
       "      <th></th>\n",
       "      <th>Mínimo</th>\n",
       "      <th>Máximo</th>\n",
       "      <th>Media</th>\n",
       "      <th>Mediana</th>\n",
       "      <th>Moda</th>\n",
       "    </tr>\n",
       "    <tr>\n",
       "      <th>employment_type</th>\n",
       "      <th></th>\n",
       "      <th></th>\n",
       "      <th></th>\n",
       "      <th></th>\n",
       "      <th></th>\n",
       "    </tr>\n",
       "  </thead>\n",
       "  <tbody>\n",
       "    <tr>\n",
       "      <th>Contrato</th>\n",
       "      <td>7500</td>\n",
       "      <td>416000</td>\n",
       "      <td>113446.90</td>\n",
       "      <td>75000.0</td>\n",
       "      <td>7500</td>\n",
       "    </tr>\n",
       "    <tr>\n",
       "      <th>Tiempo completo</th>\n",
       "      <td>5132</td>\n",
       "      <td>450000</td>\n",
       "      <td>138314.20</td>\n",
       "      <td>135000.0</td>\n",
       "      <td>150000</td>\n",
       "    </tr>\n",
       "    <tr>\n",
       "      <th>Tiempo parcial</th>\n",
       "      <td>5409</td>\n",
       "      <td>125404</td>\n",
       "      <td>39533.71</td>\n",
       "      <td>21669.0</td>\n",
       "      <td>12000</td>\n",
       "    </tr>\n",
       "    <tr>\n",
       "      <th>Trabajo freelance</th>\n",
       "      <td>12000</td>\n",
       "      <td>100000</td>\n",
       "      <td>51807.80</td>\n",
       "      <td>50000.0</td>\n",
       "      <td>50000</td>\n",
       "    </tr>\n",
       "  </tbody>\n",
       "</table>\n",
       "</div>"
      ],
      "text/plain": [
       "                   Mínimo  Máximo      Media   Mediana    Moda\n",
       "employment_type                                               \n",
       "Contrato             7500  416000  113446.90   75000.0    7500\n",
       "Tiempo completo      5132  450000  138314.20  135000.0  150000\n",
       "Tiempo parcial       5409  125404   39533.71   21669.0   12000\n",
       "Trabajo freelance   12000  100000   51807.80   50000.0   50000"
      ]
     },
     "execution_count": 23,
     "metadata": {},
     "output_type": "execute_result"
    }
   ],
   "source": [
    "mtc_employment_type = medidas_centrales_columna('employment_type')\n",
    "\n",
    "mtc_employment_type\n"
   ]
  },
  {
   "cell_type": "code",
   "execution_count": 32,
   "id": "25059b6e",
   "metadata": {},
   "outputs": [],
   "source": [
    "# Ahora se crea una función para Graficar, en base a los dataset creados con la función anterior\n",
    "\n",
    "\n",
    "def grafico_medidas_centrales_columna(df_columna):\n",
    "\n",
    "    # Para poder interpretar de mejor forma los resultados, se pasa a graficar. \n",
    "    # El siguiente código -para hacer un gráfico- fue con apoyo de GPT\n",
    "\n",
    "    seaborn.set(style='whitegrid')\n",
    "\n",
    "    plt.figure(figsize=(10, 6))\n",
    "    seaborn.barplot(x=df_columna.index, y='Media', data=df_columna, color='red', linestyle = '-.', label='Media')\n",
    "    seaborn.barplot(x=df_columna.index, y='Mediana', data=df_columna, color='green',linestyle = '--',label='Mediana')\n",
    "\n",
    "    # Líneas para el mínimo y máximo\n",
    "    for i, nivel in enumerate(df_columna.index):\n",
    "        plt.gca().hlines(y=df_columna['Mínimo'][nivel], xmin=i - 0.2, xmax=i + 0.2, colors='red', linestyles='dashed', label='Mínimo' if i == 0 else '')\n",
    "        plt.gca().hlines(y=df_columna['Máximo'][nivel], xmin=i - 0.2, xmax=i + 0.2, colors='red', linestyles='dashed', label='Máximo' if i == 0 else '')\n",
    "\n",
    "    nombre_ejeX = input(\"Escriba el nombre del eje X (columna a visualizar que se cruza con Salario en USD)\")\n",
    "\n",
    "    plt.title(f'Medidas de Tendencia Central por {nombre_ejeX}')\n",
    "    plt.xlabel(nombre_ejeX)\n",
    "    plt.ylabel('Salario en USD')\n",
    "    plt.legend()\n",
    "\n",
    "    return plt.show()"
   ]
  },
  {
   "cell_type": "code",
   "execution_count": 25,
   "id": "5f3f3774",
   "metadata": {},
   "outputs": [],
   "source": [
    "# AHORA, SE GRAFICAN LOS TRES POR SEPARADO, SUMANDO A CADA GRÁFICO UNA BREVE INTERPRETACIÓN"
   ]
  },
  {
   "cell_type": "code",
   "execution_count": 33,
   "id": "bb18476f",
   "metadata": {},
   "outputs": [
    {
     "data": {
      "image/png": "[encoded data removed]",
      "text/plain": [
       "<Figure size 1000x600 with 1 Axes>"
      ]
     },
     "metadata": {},
     "output_type": "display_data"
    }
   ],
   "source": [
    "grafico_medidas_centrales_columna(mtc_experience_level)\n"
   ]
  },
  {
   "cell_type": "markdown",
   "id": "e34d2dbc",
   "metadata": {},
   "source": [
    "#### Se puede ver que, de acuerdo al nivel de experiencia, las medidas de tendencia central del salario (en USD) están más alejadas del máximo de ingresos, siendo el más próximo a una mitad real el nivel de ingresos del grupo \"Ejejutivo/Director\", y el más cargado a ingresos mínimos los del grupo \"Medio/Intermedio\" y \"Entrada/junior\". "
   ]
  },
  {
   "cell_type": "code",
   "execution_count": 27,
   "id": "0c291e3d",
   "metadata": {},
   "outputs": [
    {
     "data": {
      "image/png": "[encoded data removed]",
      "text/plain": [
       "<Figure size 1000x600 with 1 Axes>"
      ]
     },
     "metadata": {},
     "output_type": "display_data"
    }
   ],
   "source": [
    "grafico_medidas_centrales_columna(mtc_employment_type)\n"
   ]
  },
  {
   "cell_type": "markdown",
   "id": "bbeae0b5",
   "metadata": {},
   "source": [
    "#### Se puede apreciar que la categoría \"Trabajo freelance\" es el que más se acerca a un promedio representativo de los ingresos mínimos y máximos registrados. En el caso de \"Contrato\" se ve una diferencia notoria entre mediada y promedio, pero ambos, a la vez, están más cargada a los ingresos mínimos y muy alejados de los ingresos máximos. Esa lejanía también se aprecia en categoría \"Tiempo completo\""
   ]
  },
  {
   "cell_type": "code",
   "execution_count": 34,
   "id": "b8618949",
   "metadata": {},
   "outputs": [
    {
     "data": {
      "image/png": "[encoded data removed]",
      "text/plain": [
       "<Figure size 1000x600 with 1 Axes>"
      ]
     },
     "metadata": {},
     "output_type": "display_data"
    }
   ],
   "source": [
    "grafico_medidas_centrales_columna(mtc_remote_ratio)"
   ]
  },
  {
   "cell_type": "markdown",
   "id": "fdfe3cf1",
   "metadata": {},
   "source": [
    "#### En este últio caso, se aprecia que la tendencia central de todas las modalidades de trabajo están cargadas a los sueldos más bajos, demostrando que los sueldos más altos son valores atípicos dentro de cada una de sus categorías. "
   ]
  },
  {
   "cell_type": "code",
   "execution_count": 36,
   "id": "a04a213c",
   "metadata": {},
   "outputs": [
    {
     "data": {
      "text/html": [
       "<div>\n",
       "<style scoped>\n",
       "    .dataframe tbody tr th:only-of-type {\n",
       "        vertical-align: middle;\n",
       "    }\n",
       "\n",
       "    .dataframe tbody tr th {\n",
       "        vertical-align: top;\n",
       "    }\n",
       "\n",
       "    .dataframe thead th {\n",
       "        text-align: right;\n",
       "    }\n",
       "</style>\n",
       "<table border=\"1\" class=\"dataframe\">\n",
       "  <thead>\n",
       "    <tr style=\"text-align: right;\">\n",
       "      <th></th>\n",
       "      <th>Mínimo</th>\n",
       "      <th>Máximo</th>\n",
       "      <th>Media</th>\n",
       "      <th>Mediana</th>\n",
       "      <th>Moda</th>\n",
       "    </tr>\n",
       "  </thead>\n",
       "  <tbody>\n",
       "    <tr>\n",
       "      <th>Contrato</th>\n",
       "      <td>7500</td>\n",
       "      <td>416000</td>\n",
       "      <td>113446.90</td>\n",
       "      <td>75000.0</td>\n",
       "      <td>7500</td>\n",
       "    </tr>\n",
       "    <tr>\n",
       "      <th>Tiempo completo</th>\n",
       "      <td>5132</td>\n",
       "      <td>450000</td>\n",
       "      <td>138314.20</td>\n",
       "      <td>135000.0</td>\n",
       "      <td>150000</td>\n",
       "    </tr>\n",
       "    <tr>\n",
       "      <th>Tiempo parcial</th>\n",
       "      <td>5409</td>\n",
       "      <td>125404</td>\n",
       "      <td>39533.71</td>\n",
       "      <td>21669.0</td>\n",
       "      <td>12000</td>\n",
       "    </tr>\n",
       "    <tr>\n",
       "      <th>Trabajo freelance</th>\n",
       "      <td>12000</td>\n",
       "      <td>100000</td>\n",
       "      <td>51807.80</td>\n",
       "      <td>50000.0</td>\n",
       "      <td>50000</td>\n",
       "    </tr>\n",
       "    <tr>\n",
       "      <th>Ejecutivo/Director</th>\n",
       "      <td>15000</td>\n",
       "      <td>416000</td>\n",
       "      <td>194930.93</td>\n",
       "      <td>196000.0</td>\n",
       "      <td>200000</td>\n",
       "    </tr>\n",
       "    <tr>\n",
       "      <th>Entrada/Junior</th>\n",
       "      <td>5409</td>\n",
       "      <td>300000</td>\n",
       "      <td>78546.28</td>\n",
       "      <td>70000.0</td>\n",
       "      <td>100000</td>\n",
       "    </tr>\n",
       "    <tr>\n",
       "      <th>Medio/Intermedio</th>\n",
       "      <td>5132</td>\n",
       "      <td>450000</td>\n",
       "      <td>104525.94</td>\n",
       "      <td>100000.0</td>\n",
       "      <td>100000</td>\n",
       "    </tr>\n",
       "    <tr>\n",
       "      <th>Senior/Experto</th>\n",
       "      <td>8000</td>\n",
       "      <td>423834</td>\n",
       "      <td>153051.07</td>\n",
       "      <td>146000.0</td>\n",
       "      <td>120000</td>\n",
       "    </tr>\n",
       "    <tr>\n",
       "      <th>Híbrido</th>\n",
       "      <td>5409</td>\n",
       "      <td>423000</td>\n",
       "      <td>78400.69</td>\n",
       "      <td>63312.0</td>\n",
       "      <td>50000</td>\n",
       "    </tr>\n",
       "    <tr>\n",
       "      <th>Presencial</th>\n",
       "      <td>5882</td>\n",
       "      <td>450000</td>\n",
       "      <td>144316.20</td>\n",
       "      <td>139600.0</td>\n",
       "      <td>120000</td>\n",
       "    </tr>\n",
       "    <tr>\n",
       "      <th>Remoto</th>\n",
       "      <td>5132</td>\n",
       "      <td>416000</td>\n",
       "      <td>136481.45</td>\n",
       "      <td>135000.0</td>\n",
       "      <td>150000</td>\n",
       "    </tr>\n",
       "  </tbody>\n",
       "</table>\n",
       "</div>"
      ],
      "text/plain": [
       "                    Mínimo  Máximo      Media   Mediana    Moda\n",
       "Contrato              7500  416000  113446.90   75000.0    7500\n",
       "Tiempo completo       5132  450000  138314.20  135000.0  150000\n",
       "Tiempo parcial        5409  125404   39533.71   21669.0   12000\n",
       "Trabajo freelance    12000  100000   51807.80   50000.0   50000\n",
       "Ejecutivo/Director   15000  416000  194930.93  196000.0  200000\n",
       "Entrada/Junior        5409  300000   78546.28   70000.0  100000\n",
       "Medio/Intermedio      5132  450000  104525.94  100000.0  100000\n",
       "Senior/Experto        8000  423834  153051.07  146000.0  120000\n",
       "Híbrido               5409  423000   78400.69   63312.0   50000\n",
       "Presencial            5882  450000  144316.20  139600.0  120000\n",
       "Remoto                5132  416000  136481.45  135000.0  150000"
      ]
     },
     "execution_count": 36,
     "metadata": {},
     "output_type": "execute_result"
    }
   ],
   "source": [
    "# Por último, se unen los 3 DATAFRAMES creados, para luego compararlos en una gráfica\n",
    "\n",
    "\n",
    "comparacion_columnas =  pd.concat([mtc_employment_type, mtc_experience_level, mtc_remote_ratio], ignore_index=False)\n",
    "\n",
    "comparacion_columnas"
   ]
  },
  {
   "cell_type": "code",
   "execution_count": 37,
   "id": "af702e68",
   "metadata": {},
   "outputs": [
    {
     "data": {
      "text/html": [
       "<div>\n",
       "<style scoped>\n",
       "    .dataframe tbody tr th:only-of-type {\n",
       "        vertical-align: middle;\n",
       "    }\n",
       "\n",
       "    .dataframe tbody tr th {\n",
       "        vertical-align: top;\n",
       "    }\n",
       "\n",
       "    .dataframe thead th {\n",
       "        text-align: right;\n",
       "    }\n",
       "</style>\n",
       "<table border=\"1\" class=\"dataframe\">\n",
       "  <thead>\n",
       "    <tr style=\"text-align: right;\">\n",
       "      <th></th>\n",
       "      <th>Mínimo</th>\n",
       "      <th>Máximo</th>\n",
       "      <th>Media</th>\n",
       "      <th>Mediana</th>\n",
       "      <th>Moda</th>\n",
       "    </tr>\n",
       "  </thead>\n",
       "  <tbody>\n",
       "    <tr>\n",
       "      <th>Contrato</th>\n",
       "      <td>7500</td>\n",
       "      <td>416000</td>\n",
       "      <td>113446.90</td>\n",
       "      <td>75000.0</td>\n",
       "      <td>7500</td>\n",
       "    </tr>\n",
       "    <tr>\n",
       "      <th>T-Completo</th>\n",
       "      <td>5132</td>\n",
       "      <td>450000</td>\n",
       "      <td>138314.20</td>\n",
       "      <td>135000.0</td>\n",
       "      <td>150000</td>\n",
       "    </tr>\n",
       "    <tr>\n",
       "      <th>T-Parcial</th>\n",
       "      <td>5409</td>\n",
       "      <td>125404</td>\n",
       "      <td>39533.71</td>\n",
       "      <td>21669.0</td>\n",
       "      <td>12000</td>\n",
       "    </tr>\n",
       "    <tr>\n",
       "      <th>Freelance</th>\n",
       "      <td>12000</td>\n",
       "      <td>100000</td>\n",
       "      <td>51807.80</td>\n",
       "      <td>50000.0</td>\n",
       "      <td>50000</td>\n",
       "    </tr>\n",
       "    <tr>\n",
       "      <th>Director</th>\n",
       "      <td>15000</td>\n",
       "      <td>416000</td>\n",
       "      <td>194930.93</td>\n",
       "      <td>196000.0</td>\n",
       "      <td>200000</td>\n",
       "    </tr>\n",
       "    <tr>\n",
       "      <th>Junior</th>\n",
       "      <td>5409</td>\n",
       "      <td>300000</td>\n",
       "      <td>78546.28</td>\n",
       "      <td>70000.0</td>\n",
       "      <td>100000</td>\n",
       "    </tr>\n",
       "    <tr>\n",
       "      <th>Intermedio</th>\n",
       "      <td>5132</td>\n",
       "      <td>450000</td>\n",
       "      <td>104525.94</td>\n",
       "      <td>100000.0</td>\n",
       "      <td>100000</td>\n",
       "    </tr>\n",
       "    <tr>\n",
       "      <th>Senior</th>\n",
       "      <td>8000</td>\n",
       "      <td>423834</td>\n",
       "      <td>153051.07</td>\n",
       "      <td>146000.0</td>\n",
       "      <td>120000</td>\n",
       "    </tr>\n",
       "    <tr>\n",
       "      <th>Híbrido</th>\n",
       "      <td>5409</td>\n",
       "      <td>423000</td>\n",
       "      <td>78400.69</td>\n",
       "      <td>63312.0</td>\n",
       "      <td>50000</td>\n",
       "    </tr>\n",
       "    <tr>\n",
       "      <th>Presencial</th>\n",
       "      <td>5882</td>\n",
       "      <td>450000</td>\n",
       "      <td>144316.20</td>\n",
       "      <td>139600.0</td>\n",
       "      <td>120000</td>\n",
       "    </tr>\n",
       "    <tr>\n",
       "      <th>Remoto</th>\n",
       "      <td>5132</td>\n",
       "      <td>416000</td>\n",
       "      <td>136481.45</td>\n",
       "      <td>135000.0</td>\n",
       "      <td>150000</td>\n",
       "    </tr>\n",
       "  </tbody>\n",
       "</table>\n",
       "</div>"
      ],
      "text/plain": [
       "            Mínimo  Máximo      Media   Mediana    Moda\n",
       "Contrato      7500  416000  113446.90   75000.0    7500\n",
       "T-Completo    5132  450000  138314.20  135000.0  150000\n",
       "T-Parcial     5409  125404   39533.71   21669.0   12000\n",
       "Freelance    12000  100000   51807.80   50000.0   50000\n",
       "Director     15000  416000  194930.93  196000.0  200000\n",
       "Junior        5409  300000   78546.28   70000.0  100000\n",
       "Intermedio    5132  450000  104525.94  100000.0  100000\n",
       "Senior        8000  423834  153051.07  146000.0  120000\n",
       "Híbrido       5409  423000   78400.69   63312.0   50000\n",
       "Presencial    5882  450000  144316.20  139600.0  120000\n",
       "Remoto        5132  416000  136481.45  135000.0  150000"
      ]
     },
     "execution_count": 37,
     "metadata": {},
     "output_type": "execute_result"
    }
   ],
   "source": [
    "# Rename para que se visualice bien en el gráfico\n",
    "\n",
    "renombrar = {'Contrato': 'Contrato', 'Tiempo completo': 'T-Completo', 'Tiempo parcial': 'T-Parcial', 'Trabajo freelance': 'Freelance', 'Ejecutivo/Director': 'Director', 'Entrada/Junior': 'Junior', 'Medio/Intermedio': 'Intermedio', 'Senior/Experto': 'Senior', 'Híbrido':'Híbrido', 'Presencial':'Presencial', 'Remoto':'Remoto'}\n",
    "\n",
    "\n",
    "comparacion_columnas.rename(index=renombrar, inplace=True)\n",
    "\n",
    "comparacion_columnas\n"
   ]
  },
  {
   "cell_type": "code",
   "execution_count": 38,
   "id": "41250671",
   "metadata": {},
   "outputs": [
    {
     "data": {
      "image/png": "[encoded data removed]",
      "text/plain": [
       "<Figure size 1000x600 with 1 Axes>"
      ]
     },
     "metadata": {},
     "output_type": "display_data"
    }
   ],
   "source": [
    "grafico_medidas_centrales_columna(comparacion_columnas)"
   ]
  },
  {
   "cell_type": "markdown",
   "id": "ee379da0",
   "metadata": {},
   "source": [
    "#### Por último, si se visualizan todas las categorías en una sola gráfica, se puede ver que las medidas de tendencia central que son más representativas de un equilibrio son las de la columna \"Ejecutivo/Director\" y la de \"Freelance\". Todas las demás están cargadas a sueldos más bajos."
   ]
  },
  {
   "cell_type": "markdown",
   "id": "b856a6cc",
   "metadata": {},
   "source": [
    "#### Lo dicho anteriormente se comprueba si se revisa el siguiente gráfico -un BOXPLOT-, en donde las cajas y sus bigotes son acotados, y se mantienen en cierta posición simétrica entre los outliers mínimos y máximos representados por círculos.  Los ouliers máximos, para casi todas las otras categorías, están muy distantes."
   ]
  },
  {
   "cell_type": "code",
   "execution_count": 39,
   "id": "70ae15be",
   "metadata": {},
   "outputs": [
    {
     "data": {
      "image/png": "[encoded data removed]",
      "text/plain": [
       "<Figure size 1200x800 with 1 Axes>"
      ]
     },
     "metadata": {},
     "output_type": "display_data"
    }
   ],
   "source": [
    "comparacion_columnas2 = comparacion_columnas.T \n",
    "\n",
    "plt.figure(figsize=(12, 8))\n",
    "comparacion_columnas2.boxplot()\n",
    "plt.title('Boxplot de Salarios por Todas las categorías')\n",
    "plt.ylabel('Salario en USD')\n",
    "plt.show()"
   ]
  },
  {
   "cell_type": "markdown",
   "metadata": {},
   "source": [
    "-\n",
    "-\n",
    "-\n",
    "___0___o___\n",
    "-\n",
    "-\n",
    "-"
   ]
  },
  {
   "cell_type": "markdown",
   "metadata": {},
   "source": [
    "#### **P3. ¿Qué cargos reciben mejores sueldos en las empresas con sede en Estados Unidos?**"
   ]
  },
  {
   "cell_type": "code",
   "execution_count": 40,
   "id": "444474d3",
   "metadata": {},
   "outputs": [
    {
     "data": {
      "text/html": [
       "<div>\n",
       "<style scoped>\n",
       "    .dataframe tbody tr th:only-of-type {\n",
       "        vertical-align: middle;\n",
       "    }\n",
       "\n",
       "    .dataframe tbody tr th {\n",
       "        vertical-align: top;\n",
       "    }\n",
       "\n",
       "    .dataframe thead th {\n",
       "        text-align: right;\n",
       "    }\n",
       "</style>\n",
       "<table border=\"1\" class=\"dataframe\">\n",
       "  <thead>\n",
       "    <tr style=\"text-align: right;\">\n",
       "      <th></th>\n",
       "      <th>work_year</th>\n",
       "      <th>experience_level</th>\n",
       "      <th>employment_type</th>\n",
       "      <th>job_title</th>\n",
       "      <th>salary</th>\n",
       "      <th>salary_currency</th>\n",
       "      <th>salary_in_usd</th>\n",
       "      <th>employee_residence</th>\n",
       "      <th>remote_ratio</th>\n",
       "      <th>company_location</th>\n",
       "      <th>company_size</th>\n",
       "    </tr>\n",
       "  </thead>\n",
       "  <tbody>\n",
       "    <tr>\n",
       "      <th>1</th>\n",
       "      <td>2023</td>\n",
       "      <td>Medio/Intermedio</td>\n",
       "      <td>Contrato</td>\n",
       "      <td>ML Engineer</td>\n",
       "      <td>30000</td>\n",
       "      <td>USD</td>\n",
       "      <td>30000</td>\n",
       "      <td>US</td>\n",
       "      <td>Remoto</td>\n",
       "      <td>US</td>\n",
       "      <td>S</td>\n",
       "    </tr>\n",
       "    <tr>\n",
       "      <th>2</th>\n",
       "      <td>2023</td>\n",
       "      <td>Medio/Intermedio</td>\n",
       "      <td>Contrato</td>\n",
       "      <td>ML Engineer</td>\n",
       "      <td>25500</td>\n",
       "      <td>USD</td>\n",
       "      <td>25500</td>\n",
       "      <td>US</td>\n",
       "      <td>Remoto</td>\n",
       "      <td>US</td>\n",
       "      <td>S</td>\n",
       "    </tr>\n",
       "    <tr>\n",
       "      <th>5</th>\n",
       "      <td>2023</td>\n",
       "      <td>Senior/Experto</td>\n",
       "      <td>Tiempo completo</td>\n",
       "      <td>Applied Scientist</td>\n",
       "      <td>222200</td>\n",
       "      <td>USD</td>\n",
       "      <td>222200</td>\n",
       "      <td>US</td>\n",
       "      <td>Presencial</td>\n",
       "      <td>US</td>\n",
       "      <td>L</td>\n",
       "    </tr>\n",
       "  </tbody>\n",
       "</table>\n",
       "</div>"
      ],
      "text/plain": [
       "   work_year  experience_level  employment_type          job_title  salary  \\\n",
       "1       2023  Medio/Intermedio         Contrato        ML Engineer   30000   \n",
       "2       2023  Medio/Intermedio         Contrato        ML Engineer   25500   \n",
       "5       2023    Senior/Experto  Tiempo completo  Applied Scientist  222200   \n",
       "\n",
       "  salary_currency  salary_in_usd employee_residence remote_ratio  \\\n",
       "1             USD          30000                 US       Remoto   \n",
       "2             USD          25500                 US       Remoto   \n",
       "5             USD         222200                 US   Presencial   \n",
       "\n",
       "  company_location company_size  \n",
       "1               US            S  \n",
       "2               US            S  \n",
       "5               US            L  "
      ]
     },
     "execution_count": 40,
     "metadata": {},
     "output_type": "execute_result"
    }
   ],
   "source": [
    "# Primero debo filtrar las filas que tengan los datos de interés. En este caso, las empresas con sede en EEUU.\n",
    "empresas_usa = salarios[salarios['company_location'] == 'US']\n",
    "\n",
    "empresas_usa.head(3)"
   ]
  },
  {
   "cell_type": "code",
   "execution_count": 41,
   "id": "0a222f1b",
   "metadata": {},
   "outputs": [
    {
     "data": {
      "text/html": [
       "<div>\n",
       "<style scoped>\n",
       "    .dataframe tbody tr th:only-of-type {\n",
       "        vertical-align: middle;\n",
       "    }\n",
       "\n",
       "    .dataframe tbody tr th {\n",
       "        vertical-align: top;\n",
       "    }\n",
       "\n",
       "    .dataframe thead th {\n",
       "        text-align: right;\n",
       "    }\n",
       "</style>\n",
       "<table border=\"1\" class=\"dataframe\">\n",
       "  <thead>\n",
       "    <tr style=\"text-align: right;\">\n",
       "      <th></th>\n",
       "      <th>min</th>\n",
       "      <th>max</th>\n",
       "      <th>mean</th>\n",
       "      <th>count</th>\n",
       "    </tr>\n",
       "    <tr>\n",
       "      <th>job_title</th>\n",
       "      <th></th>\n",
       "      <th></th>\n",
       "      <th></th>\n",
       "      <th></th>\n",
       "    </tr>\n",
       "  </thead>\n",
       "  <tbody>\n",
       "    <tr>\n",
       "      <th>Machine Learning Engineer</th>\n",
       "      <td>81000</td>\n",
       "      <td>342300</td>\n",
       "      <td>174385.13</td>\n",
       "      <td>219</td>\n",
       "    </tr>\n",
       "    <tr>\n",
       "      <th>Data Architect</th>\n",
       "      <td>63000</td>\n",
       "      <td>376080</td>\n",
       "      <td>163092.69</td>\n",
       "      <td>97</td>\n",
       "    </tr>\n",
       "    <tr>\n",
       "      <th>Data Scientist</th>\n",
       "      <td>5679</td>\n",
       "      <td>412000</td>\n",
       "      <td>158283.88</td>\n",
       "      <td>674</td>\n",
       "    </tr>\n",
       "    <tr>\n",
       "      <th>Data Engineer</th>\n",
       "      <td>20000</td>\n",
       "      <td>324000</td>\n",
       "      <td>152798.02</td>\n",
       "      <td>907</td>\n",
       "    </tr>\n",
       "    <tr>\n",
       "      <th>Data Analyst</th>\n",
       "      <td>20000</td>\n",
       "      <td>385000</td>\n",
       "      <td>116656.98</td>\n",
       "      <td>525</td>\n",
       "    </tr>\n",
       "  </tbody>\n",
       "</table>\n",
       "</div>"
      ],
      "text/plain": [
       "                             min     max       mean  count\n",
       "job_title                                                 \n",
       "Machine Learning Engineer  81000  342300  174385.13    219\n",
       "Data Architect             63000  376080  163092.69     97\n",
       "Data Scientist              5679  412000  158283.88    674\n",
       "Data Engineer              20000  324000  152798.02    907\n",
       "Data Analyst               20000  385000  116656.98    525"
      ]
     },
     "execution_count": 41,
     "metadata": {},
     "output_type": "execute_result"
    }
   ],
   "source": [
    "sueldos_x_cargo = empresas_usa.groupby('job_title')['salary_in_usd'].agg(['min', 'max', 'mean', 'count']).sort_values(by='count', ascending=False)\n",
    "\n",
    "sueldos_x_cargos_cantidad = round(sueldos_x_cargo.head(5),2)\n",
    "\n",
    "sueldos_x_cargos_cantidad.sort_values(by='mean', ascending=False)"
   ]
  },
  {
   "cell_type": "markdown",
   "id": "9fc5d24d",
   "metadata": {},
   "source": [
    "##### Si se filtra por los 5 puestos con más participantes en la muestra, se pueden ver los cargos de Machine Learning Engineer (USD 174,385 promedio), Data Architect (USD 163,092 promedio) y Data Scientist (USD 158,283 promedio) como los que reciben los mejores sueldos en Estados Unidos."
   ]
  },
  {
   "cell_type": "code",
   "execution_count": 43,
   "id": "6ccbe5c7",
   "metadata": {},
   "outputs": [
    {
     "data": {
      "text/html": [
       "<div>\n",
       "<style scoped>\n",
       "    .dataframe tbody tr th:only-of-type {\n",
       "        vertical-align: middle;\n",
       "    }\n",
       "\n",
       "    .dataframe tbody tr th {\n",
       "        vertical-align: top;\n",
       "    }\n",
       "\n",
       "    .dataframe thead th {\n",
       "        text-align: right;\n",
       "    }\n",
       "</style>\n",
       "<table border=\"1\" class=\"dataframe\">\n",
       "  <thead>\n",
       "    <tr style=\"text-align: right;\">\n",
       "      <th></th>\n",
       "      <th>min</th>\n",
       "      <th>max</th>\n",
       "      <th>mean</th>\n",
       "      <th>count</th>\n",
       "    </tr>\n",
       "    <tr>\n",
       "      <th>job_title</th>\n",
       "      <th></th>\n",
       "      <th></th>\n",
       "      <th></th>\n",
       "      <th></th>\n",
       "    </tr>\n",
       "  </thead>\n",
       "  <tbody>\n",
       "    <tr>\n",
       "      <th>Data Analytics Lead</th>\n",
       "      <td>405000</td>\n",
       "      <td>405000</td>\n",
       "      <td>405000.0</td>\n",
       "      <td>1</td>\n",
       "    </tr>\n",
       "    <tr>\n",
       "      <th>Data Science Tech Lead</th>\n",
       "      <td>375000</td>\n",
       "      <td>375000</td>\n",
       "      <td>375000.0</td>\n",
       "      <td>1</td>\n",
       "    </tr>\n",
       "    <tr>\n",
       "      <th>Director of Data Science</th>\n",
       "      <td>249300</td>\n",
       "      <td>353200</td>\n",
       "      <td>294375.0</td>\n",
       "      <td>4</td>\n",
       "    </tr>\n",
       "    <tr>\n",
       "      <th>Principal Data Scientist</th>\n",
       "      <td>151000</td>\n",
       "      <td>416000</td>\n",
       "      <td>255500.0</td>\n",
       "      <td>4</td>\n",
       "    </tr>\n",
       "    <tr>\n",
       "      <th>Cloud Data Architect</th>\n",
       "      <td>250000</td>\n",
       "      <td>250000</td>\n",
       "      <td>250000.0</td>\n",
       "      <td>1</td>\n",
       "    </tr>\n",
       "  </tbody>\n",
       "</table>\n",
       "</div>"
      ],
      "text/plain": [
       "                             min     max      mean  count\n",
       "job_title                                                \n",
       "Data Analytics Lead       405000  405000  405000.0      1\n",
       "Data Science Tech Lead    375000  375000  375000.0      1\n",
       "Director of Data Science  249300  353200  294375.0      4\n",
       "Principal Data Scientist  151000  416000  255500.0      4\n",
       "Cloud Data Architect      250000  250000  250000.0      1"
      ]
     },
     "execution_count": 43,
     "metadata": {},
     "output_type": "execute_result"
    }
   ],
   "source": [
    "sueldos_x_cargo_monto = empresas_usa.groupby('job_title')['salary_in_usd'].agg(['min', 'max', 'mean', 'count']).sort_values(by='mean', ascending=False)\n",
    "\n",
    "sueldos_x_cargo_monto = round(sueldos_x_cargo_monto.head(5),2)\n",
    "sueldos_x_cargo_monto\n"
   ]
  },
  {
   "cell_type": "markdown",
   "id": "173fe870",
   "metadata": {},
   "source": [
    "##### En tanto, si se filtran y ordenan por promedio de salario (sin importar la cantidad de participantes en cada uno de esos cargos), podemos encontrar dentro de los 3 primeros lugares a Data Analytics Lead (USD 405,000 promedio), Data Science Tech Lead (USD 375,000 promedio) y Director of Data Science (USD 294,375). \n",
    "\n",
    "\n"
   ]
  },
  {
   "cell_type": "markdown",
   "id": "84840d72",
   "metadata": {},
   "source": [
    "##### Para finalizar, se puede observar que, frente a un mismo dataset, se pueden interpretar dos cosas totalmente distintas, sólo por considerar o no ciertos valores. "
   ]
  },
  {
   "cell_type": "markdown",
   "metadata": {},
   "source": [
    "-\n",
    "-\n",
    "-\n",
    "___0_FiN__o___\n",
    "-\n",
    "-\n",
    "-"
   ]
  },
  {
   "cell_type": "code",
   "execution_count": null,
   "metadata": {},
   "outputs": [],
   "source": []
  },
  {
   "cell_type": "markdown",
   "metadata": {},
   "source": [
    "### Requerimientos\n",
    "Dentro del archivo de Jupyter Notebook debes ir ejecutando las siguientes acciones y explicar lo que estás haciendo. Debes considerar los siguientes aspectos.\n",
    "\n",
    "1. Calcular los indicadores estadísticos solicitados, sobre columnas específicas. (3 Puntos)\n",
    "\n",
    "2. Calcular indicadores estadísticos, agrupando y filtrando los \n",
    "valores (3 Puntos)\n",
    "\n",
    "3. Interpretar los indicadores estadísticos en cada caso, considerando medidas de tendencia central y dispersión.(4 Puntos)"
   ]
  }
 ],
 "metadata": {
  "kernelspec": {
   "display_name": "datascience",
   "language": "python",
   "name": "python3"
  },
  "language_info": {
   "codemirror_mode": {
    "name": "ipython",
    "version": 3
   },
   "file_extension": ".py",
   "mimetype": "text/x-python",
   "name": "python",
   "nbconvert_exporter": "python",
   "pygments_lexer": "ipython3",
   "version": "3.10.12"
  }
 },
 "nbformat": 4,
 "nbformat_minor": 5
}
