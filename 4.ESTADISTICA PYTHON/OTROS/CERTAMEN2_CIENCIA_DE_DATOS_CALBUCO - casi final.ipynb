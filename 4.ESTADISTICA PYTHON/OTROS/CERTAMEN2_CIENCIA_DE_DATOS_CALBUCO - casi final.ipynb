{
 "cells": [
  {
   "cell_type": "markdown",
   "metadata": {
    "id": "ia0OfHSpUeAt"
   },
   "source": [
    "# **CERTAMEN Nº 2**\n",
    "# **INTRODUCCIÓN A LA CIENCIA DE DATOS**\n",
    "\n",
    "### **Integrantes**:\n",
    "- Escarlet Sepúlveda\n",
    "- José Rodriguez\n",
    "- Felipe Leal\n",
    "- Victor Castro\n",
    "\n",
    "### **Profesor**:\n",
    "- Gustavo Osorio Neira\n",
    "\n",
    "\n",
    "##### **Fecha:** 10 de noviembre 2024\n",
    "##### **Carrera:** Ingeniería Ejecución Industrial\n",
    "##### **Instituto** Profesional Virginio Gomez"
   ]
  },
  {
   "cell_type": "markdown",
   "metadata": {
    "id": "xv77JczhR6me"
   },
   "source": [
    "\n",
    "### **a) Introducción: Describir el objetivo del trabajo y la importancia de los temas a evaluar. Elija y proponga una variable de estudio para su tema y justifique por qué es importante realizar el análisis en este temade trabajo.** (2,5 pts.)\n",
    "\n",
    "\n"
   ]
  },
  {
   "cell_type": "markdown",
   "metadata": {
    "id": "WsDo7bQmU5bQ"
   },
   "source": [
    "El objetivo de este trabajo es efectuar métodos de manejo, importación de datos, además de la utilización de instrumentos estadísticos y de visualización, en el ámbito de la Ciencia de Datos (Gráficos). Lo que nos permitirá no solo comprender la organización y características de los datos de permisos de circulación, sino también reconocer patrones significativos y efectuar interpretaciones relevantes en nuestro informe.\n",
    "\n",
    "Este trabajo también busca potenciar la utilización de Python y Jupyter Lab, instrumentos fundamentales en el ámbito de la Ciencia de Datos, facilitando de esta manera el análisis y la visualización de grandes cantidades de datos de forma eficaz, como es el caso de nuestra base de datos CSV.\n",
    "\n",
    "En ese sentido, para este trabajo hemos decido analizar los datos relacionados al pago de permiso de circulación pertenecientes al año 2024 en la Municipalidad de Calbuco. El propósito es evaluar los patrones en el pago de permisos, identificando factores que pudieran influir en la recaudación de fondos municipales.\n",
    "\n",
    "La comuna de Calbuco se encuentra ubicada en la región de Los Lagos, es considerada una comuna pequeña, pero posee conectividad con ciudades más grandes como Puerto Montt, lo cual facilita el flujo de bienes, lo que podría verse reflejado dentro los datos que analizaremos.\n",
    "\n",
    "La variable de estudio será el tipo de vehículo y sus detalles respectivos como año, valor del permiso, tipo de pago de permiso de circulación entre otras más, esto nos permitirá saber si los tipos de vehículos registrados en Calbuco están relacionados, por ejemplo, con la actividad económica que se desarrolla en el sector, que tipo de vehículos son los que proporcionan mayor recaudación en cuanto a pago de permisos, necesidades de transporte, etc.\n",
    "\n",
    "El análisis de la base de datos de permisos de circulación para el año 2024 es importante por varias razones:\n",
    "\n",
    "- Perfeccionamiento de Políticas Públicas e implementación de recursos: La información relacionada con los permisos de circulación, facilita a las autoridades la comprensión del volumen y tener claridad de los vehículos que circulan en una zona determinada. Esto también ayuda a la organización a mejorar los recursos e invertir en infraestructura de carreteras y la asignación correcta de los recursos en la regulación del tráfico y la seguridad en las vías.\n",
    "\n",
    "- Análisis del Efecto Ambiental: El estudio de las categorías de vehículos registrados (tales como la cilindrada, el año o el tipo de combustible) ayuda a comprender el efecto ambiental que pudieran producir los vehículos. Esto facilita la creación de políticas medioambientales más eficaces, para no dañar el medio ambiente.\n",
    "\n",
    "En conclusión, el análisis de nuestra base de datos no solo ofrece una perspectiva actualizada de los vehículos en Calbuco, sino que también permitirá mejorar la administración de los fondos públicos, la elaboración de políticas públicas y el impulso de la seguridad de los automovilistas."
   ]
  },
  {
   "cell_type": "markdown",
   "metadata": {
    "id": "i5c44MIhSE3E"
   },
   "source": [
    "### **b) Recolección de datos: Recopile y Explicar el proceso de recolección de datos y la fuente de estos. Considere una muestra mínima de 200 filas y 4 columnas, independiente que al filtrar use menos datos.** (5 pts.)"
   ]
  },
  {
   "cell_type": "markdown",
   "metadata": {
    "id": "rJXUaFoeWmpU"
   },
   "source": [
    "Lo primero que realizamos fue escoger el tema a trabajar para ser ingresado a JUPYTER LAB, nuestra base de datos consiste en una serie de antecedentes relacionado a los permisos de circulación correspondiente al año 2024 en la comuna de Calbuco. Esa base de datos fue extraida del portal de datos de abirto Datos.gob.cl (https://datos.gob.cl/).\n",
    "\n",
    "El archivo original es un Excel, razón por la cual para poder trabajar con el debimos guardarlo como archivo CSV UTF-8 (DELIMITADO POR COMAS).  \n",
    "\n",
    "Paralelo a eso, se instaló  PHYTON, el entorno JUPYTER LAB. Poco a poco se fueron instalando las librerías PANDAS y SEABORN\n",
    "\n",
    "Una vez cargado nuestro archivo en JUPYTER LAB utilizando la biblioteca PANDAS, permisos_calbuco = pd.read_csv(\"permiso-de-circulacion-2024.csv\", decimal=\",\").\n",
    "De esta manera, cargamos nuestra base de datos para comenzar a programar, conforme a las requerimientos entregados en el Certamen N.º 2.\n",
    "\n"
   ]
  },
  {
   "cell_type": "markdown",
   "metadata": {
    "id": "9_V1tZPxSKRU"
   },
   "source": [
    "### **c) Exportación y Carga de Datos: Exporte desde un Excel los datos a un archivo csv y cárguelos en el Juypiter Lab mediante librería pandas. Esto debe ser parte de su video (deben explicar cómo lo hicieron)** (5 pts.)"
   ]
  },
  {
   "cell_type": "code",
   "execution_count": 1,
   "metadata": {
    "id": "uKa6U_OWUOAc"
   },
   "outputs": [],
   "source": [
    "import pandas as pd"
   ]
  },
  {
   "cell_type": "code",
   "execution_count": 2,
   "metadata": {
    "id": "OXTlgO2yXaNM"
   },
   "outputs": [],
   "source": [
    "permisos_calbuco = pd.read_csv(\"permisos_calbuco.csv\", sep=\";\", decimal=\",\", encoding=\"latin1\")"
   ]
  },
  {
   "cell_type": "code",
   "execution_count": 3,
   "metadata": {
    "colab": {
     "base_uri": "https://localhost:8080/",
     "height": 360
    },
    "id": "xJhxxSfzZE-A",
    "outputId": "e121a7dd-b503-4664-d219-9856be600816"
   },
   "outputs": [
    {
     "data": {
      "text/html": [
       "<div>\n",
       "<style scoped>\n",
       "    .dataframe tbody tr th:only-of-type {\n",
       "        vertical-align: middle;\n",
       "    }\n",
       "\n",
       "    .dataframe tbody tr th {\n",
       "        vertical-align: top;\n",
       "    }\n",
       "\n",
       "    .dataframe thead th {\n",
       "        text-align: right;\n",
       "    }\n",
       "</style>\n",
       "<table border=\"1\" class=\"dataframe\">\n",
       "  <thead>\n",
       "    <tr style=\"text-align: right;\">\n",
       "      <th></th>\n",
       "      <th>Grupo Vehiculo</th>\n",
       "      <th>Placa</th>\n",
       "      <th>digito</th>\n",
       "      <th>Codigo SII</th>\n",
       "      <th>Año Vehículo</th>\n",
       "      <th>Tasacion</th>\n",
       "      <th>Tipo de Pago</th>\n",
       "      <th>Valor_Neto</th>\n",
       "      <th>Valor_IPC</th>\n",
       "      <th>Valor_Multa</th>\n",
       "      <th>...</th>\n",
       "      <th>Año Permiso</th>\n",
       "      <th>Tipo Vehiculo</th>\n",
       "      <th>Marca</th>\n",
       "      <th>Modelo</th>\n",
       "      <th>Color</th>\n",
       "      <th>Transmisión</th>\n",
       "      <th>Tipo Combustible</th>\n",
       "      <th>Cilindrada</th>\n",
       "      <th>Equipamiento</th>\n",
       "      <th>Numero Puertas</th>\n",
       "    </tr>\n",
       "  </thead>\n",
       "  <tbody>\n",
       "    <tr>\n",
       "      <th>0</th>\n",
       "      <td>Vehiculo Liviano</td>\n",
       "      <td>LA-7982</td>\n",
       "      <td>7</td>\n",
       "      <td>CT050003194</td>\n",
       "      <td>1994</td>\n",
       "      <td>755417.0</td>\n",
       "      <td>Presencial</td>\n",
       "      <td>42177</td>\n",
       "      <td>4491</td>\n",
       "      <td>10465</td>\n",
       "      <td>...</td>\n",
       "      <td>2022</td>\n",
       "      <td>CAMIONETA</td>\n",
       "      <td>CHEVROLET</td>\n",
       "      <td>LUV 4WD D/C</td>\n",
       "      <td>ROJO</td>\n",
       "      <td>Mec</td>\n",
       "      <td>Benc</td>\n",
       "      <td>2300.0</td>\n",
       "      <td>Norm</td>\n",
       "      <td>4</td>\n",
       "    </tr>\n",
       "    <tr>\n",
       "      <th>1</th>\n",
       "      <td>Vehiculo Liviano</td>\n",
       "      <td>LA-7982</td>\n",
       "      <td>7</td>\n",
       "      <td>CT050003194</td>\n",
       "      <td>1994</td>\n",
       "      <td>747863.0</td>\n",
       "      <td>Presencial</td>\n",
       "      <td>36832</td>\n",
       "      <td>1143</td>\n",
       "      <td>4804</td>\n",
       "      <td>...</td>\n",
       "      <td>2023</td>\n",
       "      <td>CAMIONETA</td>\n",
       "      <td>CHEVROLET</td>\n",
       "      <td>LUV 4WD D/C</td>\n",
       "      <td>ROJO</td>\n",
       "      <td>Mec</td>\n",
       "      <td>Benc</td>\n",
       "      <td>2300.0</td>\n",
       "      <td>Norm</td>\n",
       "      <td>4</td>\n",
       "    </tr>\n",
       "    <tr>\n",
       "      <th>2</th>\n",
       "      <td>Vehiculo Liviano</td>\n",
       "      <td>RL-8230</td>\n",
       "      <td>1</td>\n",
       "      <td>CT050008698</td>\n",
       "      <td>1998</td>\n",
       "      <td>973121.0</td>\n",
       "      <td>Presencial</td>\n",
       "      <td>17203</td>\n",
       "      <td>360</td>\n",
       "      <td>1200</td>\n",
       "      <td>...</td>\n",
       "      <td>2023</td>\n",
       "      <td>CAMIONETA</td>\n",
       "      <td>CHEVROLET</td>\n",
       "      <td>LUV</td>\n",
       "      <td>ROJO BURDEO</td>\n",
       "      <td>Mec</td>\n",
       "      <td>Benc</td>\n",
       "      <td>2300.0</td>\n",
       "      <td>Equi</td>\n",
       "      <td>4</td>\n",
       "    </tr>\n",
       "    <tr>\n",
       "      <th>3</th>\n",
       "      <td>Vehiculo Liviano</td>\n",
       "      <td>FBCH-75</td>\n",
       "      <td>0</td>\n",
       "      <td>CT176030913</td>\n",
       "      <td>2013</td>\n",
       "      <td>6064560.0</td>\n",
       "      <td>Presencial</td>\n",
       "      <td>137321</td>\n",
       "      <td>14623</td>\n",
       "      <td>34072</td>\n",
       "      <td>...</td>\n",
       "      <td>2022</td>\n",
       "      <td>CAMIONETA</td>\n",
       "      <td>NISSAN</td>\n",
       "      <td>TERRANO</td>\n",
       "      <td>ROJO</td>\n",
       "      <td>Mec</td>\n",
       "      <td>Dies</td>\n",
       "      <td>2500.0</td>\n",
       "      <td>Equi</td>\n",
       "      <td>4</td>\n",
       "    </tr>\n",
       "    <tr>\n",
       "      <th>4</th>\n",
       "      <td>Vehiculo Liviano</td>\n",
       "      <td>FBCH-75</td>\n",
       "      <td>0</td>\n",
       "      <td>CT176030913</td>\n",
       "      <td>2013</td>\n",
       "      <td>5974179.0</td>\n",
       "      <td>Presencial</td>\n",
       "      <td>98293</td>\n",
       "      <td>3050</td>\n",
       "      <td>12821</td>\n",
       "      <td>...</td>\n",
       "      <td>2023</td>\n",
       "      <td>CAMIONETA</td>\n",
       "      <td>NISSAN</td>\n",
       "      <td>TERRANO</td>\n",
       "      <td>ROJO</td>\n",
       "      <td>Mec</td>\n",
       "      <td>Dies</td>\n",
       "      <td>2500.0</td>\n",
       "      <td>Equi</td>\n",
       "      <td>4</td>\n",
       "    </tr>\n",
       "  </tbody>\n",
       "</table>\n",
       "<p>5 rows × 23 columns</p>\n",
       "</div>"
      ],
      "text/plain": [
       "     Grupo Vehiculo    Placa digito   Codigo SII  Año Vehículo   Tasacion  \\\n",
       "0  Vehiculo Liviano  LA-7982      7  CT050003194          1994   755417.0   \n",
       "1  Vehiculo Liviano  LA-7982      7  CT050003194          1994   747863.0   \n",
       "2  Vehiculo Liviano  RL-8230      1  CT050008698          1998   973121.0   \n",
       "3  Vehiculo Liviano  FBCH-75      0  CT176030913          2013  6064560.0   \n",
       "4  Vehiculo Liviano  FBCH-75      0  CT176030913          2013  5974179.0   \n",
       "\n",
       "  Tipo de Pago  Valor_Neto  Valor_IPC  Valor_Multa  ...  Año Permiso  \\\n",
       "0   Presencial       42177       4491        10465  ...         2022   \n",
       "1   Presencial       36832       1143         4804  ...         2023   \n",
       "2   Presencial       17203        360         1200  ...         2023   \n",
       "3   Presencial      137321      14623        34072  ...         2022   \n",
       "4   Presencial       98293       3050        12821  ...         2023   \n",
       "\n",
       "  Tipo Vehiculo      Marca       Modelo        Color Transmisión  \\\n",
       "0     CAMIONETA  CHEVROLET  LUV 4WD D/C         ROJO         Mec   \n",
       "1     CAMIONETA  CHEVROLET  LUV 4WD D/C         ROJO         Mec   \n",
       "2     CAMIONETA  CHEVROLET          LUV  ROJO BURDEO         Mec   \n",
       "3     CAMIONETA     NISSAN      TERRANO         ROJO         Mec   \n",
       "4     CAMIONETA     NISSAN      TERRANO         ROJO         Mec   \n",
       "\n",
       "  Tipo Combustible Cilindrada Equipamiento Numero Puertas  \n",
       "0             Benc     2300.0         Norm              4  \n",
       "1             Benc     2300.0         Norm              4  \n",
       "2             Benc     2300.0         Equi              4  \n",
       "3             Dies     2500.0         Equi              4  \n",
       "4             Dies     2500.0         Equi              4  \n",
       "\n",
       "[5 rows x 23 columns]"
      ]
     },
     "execution_count": 3,
     "metadata": {},
     "output_type": "execute_result"
    }
   ],
   "source": [
    "# Revisión para ver si cargó bien... las 5 primeras filas\n",
    "permisos_calbuco.head(5)"
   ]
  },
  {
   "cell_type": "code",
   "execution_count": 4,
   "metadata": {
    "colab": {
     "base_uri": "https://localhost:8080/",
     "height": 395
    },
    "id": "lqLBFh0Qan_v",
    "outputId": "beee35fc-c658-44c3-c51a-40b59fd6e1c3"
   },
   "outputs": [
    {
     "data": {
      "text/html": [
       "<div>\n",
       "<style scoped>\n",
       "    .dataframe tbody tr th:only-of-type {\n",
       "        vertical-align: middle;\n",
       "    }\n",
       "\n",
       "    .dataframe tbody tr th {\n",
       "        vertical-align: top;\n",
       "    }\n",
       "\n",
       "    .dataframe thead th {\n",
       "        text-align: right;\n",
       "    }\n",
       "</style>\n",
       "<table border=\"1\" class=\"dataframe\">\n",
       "  <thead>\n",
       "    <tr style=\"text-align: right;\">\n",
       "      <th></th>\n",
       "      <th>Grupo Vehiculo</th>\n",
       "      <th>Placa</th>\n",
       "      <th>digito</th>\n",
       "      <th>Codigo SII</th>\n",
       "      <th>Año Vehículo</th>\n",
       "      <th>Tasacion</th>\n",
       "      <th>Tipo de Pago</th>\n",
       "      <th>Valor_Neto</th>\n",
       "      <th>Valor_IPC</th>\n",
       "      <th>Valor_Multa</th>\n",
       "      <th>...</th>\n",
       "      <th>Año Permiso</th>\n",
       "      <th>Tipo Vehiculo</th>\n",
       "      <th>Marca</th>\n",
       "      <th>Modelo</th>\n",
       "      <th>Color</th>\n",
       "      <th>Transmisión</th>\n",
       "      <th>Tipo Combustible</th>\n",
       "      <th>Cilindrada</th>\n",
       "      <th>Equipamiento</th>\n",
       "      <th>Numero Puertas</th>\n",
       "    </tr>\n",
       "  </thead>\n",
       "  <tbody>\n",
       "    <tr>\n",
       "      <th>9609</th>\n",
       "      <td>Vehiculo Liviano</td>\n",
       "      <td>SCJZ-66</td>\n",
       "      <td>9</td>\n",
       "      <td>CO050002022</td>\n",
       "      <td>2022</td>\n",
       "      <td>7464055.0</td>\n",
       "      <td>Internet</td>\n",
       "      <td>56180</td>\n",
       "      <td>0</td>\n",
       "      <td>0</td>\n",
       "      <td>...</td>\n",
       "      <td>2024</td>\n",
       "      <td>FURGON</td>\n",
       "      <td>CHEVROLET</td>\n",
       "      <td>N400</td>\n",
       "      <td>BLANCO</td>\n",
       "      <td>Mec</td>\n",
       "      <td>Benc</td>\n",
       "      <td>1500.0</td>\n",
       "      <td>NaN</td>\n",
       "      <td>4</td>\n",
       "    </tr>\n",
       "    <tr>\n",
       "      <th>9610</th>\n",
       "      <td>Vehiculo Liviano</td>\n",
       "      <td>GZHK-94</td>\n",
       "      <td>1</td>\n",
       "      <td>SU091002115</td>\n",
       "      <td>2015</td>\n",
       "      <td>4129261.0</td>\n",
       "      <td>Internet</td>\n",
       "      <td>22265</td>\n",
       "      <td>0</td>\n",
       "      <td>0</td>\n",
       "      <td>...</td>\n",
       "      <td>2024</td>\n",
       "      <td>AUTOMOVIL</td>\n",
       "      <td>GREAT WALL</td>\n",
       "      <td>HAVAL-M4 1.5 SR</td>\n",
       "      <td>PLATEADO PLATA</td>\n",
       "      <td>Mec</td>\n",
       "      <td>Benc</td>\n",
       "      <td>1500.0</td>\n",
       "      <td>Full</td>\n",
       "      <td>4</td>\n",
       "    </tr>\n",
       "    <tr>\n",
       "      <th>9611</th>\n",
       "      <td>Vehiculo Liviano</td>\n",
       "      <td>RTRZ-20</td>\n",
       "      <td>9</td>\n",
       "      <td>SU562000222</td>\n",
       "      <td>2022</td>\n",
       "      <td>11770627.0</td>\n",
       "      <td>Internet</td>\n",
       "      <td>120372</td>\n",
       "      <td>0</td>\n",
       "      <td>0</td>\n",
       "      <td>...</td>\n",
       "      <td>2024</td>\n",
       "      <td>STATION WAGON</td>\n",
       "      <td>GAC</td>\n",
       "      <td>GS3</td>\n",
       "      <td>GRIS PLATA</td>\n",
       "      <td>Aut</td>\n",
       "      <td>Benc</td>\n",
       "      <td>1300.0</td>\n",
       "      <td>NaN</td>\n",
       "      <td>4</td>\n",
       "    </tr>\n",
       "    <tr>\n",
       "      <th>9612</th>\n",
       "      <td>Vehiculo Liviano</td>\n",
       "      <td>NK-1121</td>\n",
       "      <td>4</td>\n",
       "      <td>CT235000496</td>\n",
       "      <td>1996</td>\n",
       "      <td>883109.0</td>\n",
       "      <td>Internet</td>\n",
       "      <td>16442</td>\n",
       "      <td>0</td>\n",
       "      <td>0</td>\n",
       "      <td>...</td>\n",
       "      <td>2024</td>\n",
       "      <td>CAMIONETA</td>\n",
       "      <td>TOYOTA</td>\n",
       "      <td>HILUX C/S</td>\n",
       "      <td>VERDE MICA</td>\n",
       "      <td>Mec</td>\n",
       "      <td>Benc</td>\n",
       "      <td>2000.0</td>\n",
       "      <td>Norm</td>\n",
       "      <td>2</td>\n",
       "    </tr>\n",
       "    <tr>\n",
       "      <th>9613</th>\n",
       "      <td>Vehiculo Liviano</td>\n",
       "      <td>KLZW-92</td>\n",
       "      <td>K</td>\n",
       "      <td>SU225008318</td>\n",
       "      <td>2018</td>\n",
       "      <td>15298727.0</td>\n",
       "      <td>Internet</td>\n",
       "      <td>174194</td>\n",
       "      <td>0</td>\n",
       "      <td>0</td>\n",
       "      <td>...</td>\n",
       "      <td>2024</td>\n",
       "      <td>STATION WAGON</td>\n",
       "      <td>SSANGYONG</td>\n",
       "      <td>REXTON</td>\n",
       "      <td>AZUL</td>\n",
       "      <td>Aut</td>\n",
       "      <td>Dies</td>\n",
       "      <td>2200.0</td>\n",
       "      <td>Full</td>\n",
       "      <td>4</td>\n",
       "    </tr>\n",
       "  </tbody>\n",
       "</table>\n",
       "<p>5 rows × 23 columns</p>\n",
       "</div>"
      ],
      "text/plain": [
       "        Grupo Vehiculo    Placa digito   Codigo SII  Año Vehículo    Tasacion  \\\n",
       "9609  Vehiculo Liviano  SCJZ-66      9  CO050002022          2022   7464055.0   \n",
       "9610  Vehiculo Liviano  GZHK-94      1  SU091002115          2015   4129261.0   \n",
       "9611  Vehiculo Liviano  RTRZ-20      9  SU562000222          2022  11770627.0   \n",
       "9612  Vehiculo Liviano  NK-1121      4  CT235000496          1996    883109.0   \n",
       "9613  Vehiculo Liviano  KLZW-92      K  SU225008318          2018  15298727.0   \n",
       "\n",
       "     Tipo de Pago  Valor_Neto  Valor_IPC  Valor_Multa  ...  Año Permiso  \\\n",
       "9609     Internet       56180          0            0  ...         2024   \n",
       "9610     Internet       22265          0            0  ...         2024   \n",
       "9611     Internet      120372          0            0  ...         2024   \n",
       "9612     Internet       16442          0            0  ...         2024   \n",
       "9613     Internet      174194          0            0  ...         2024   \n",
       "\n",
       "      Tipo Vehiculo       Marca           Modelo           Color Transmisión  \\\n",
       "9609         FURGON   CHEVROLET             N400          BLANCO         Mec   \n",
       "9610      AUTOMOVIL  GREAT WALL  HAVAL-M4 1.5 SR  PLATEADO PLATA         Mec   \n",
       "9611  STATION WAGON         GAC              GS3      GRIS PLATA         Aut   \n",
       "9612      CAMIONETA      TOYOTA        HILUX C/S      VERDE MICA         Mec   \n",
       "9613  STATION WAGON   SSANGYONG           REXTON            AZUL         Aut   \n",
       "\n",
       "     Tipo Combustible Cilindrada Equipamiento Numero Puertas  \n",
       "9609             Benc     1500.0          NaN              4  \n",
       "9610             Benc     1500.0         Full              4  \n",
       "9611             Benc     1300.0          NaN              4  \n",
       "9612             Benc     2000.0         Norm              2  \n",
       "9613             Dies     2200.0         Full              4  \n",
       "\n",
       "[5 rows x 23 columns]"
      ]
     },
     "execution_count": 4,
     "metadata": {},
     "output_type": "execute_result"
    }
   ],
   "source": [
    "# Visualización de las últimas 5, para indagar de poco en esta base de datos...\n",
    "permisos_calbuco.tail(5)"
   ]
  },
  {
   "cell_type": "code",
   "execution_count": 5,
   "metadata": {
    "colab": {
     "base_uri": "https://localhost:8080/"
    },
    "id": "CH0GunpxZZZG",
    "outputId": "90098b0b-2c45-46d0-df85-07c84eecbf92"
   },
   "outputs": [
    {
     "name": "stdout",
     "output_type": "stream",
     "text": [
      "<class 'pandas.core.frame.DataFrame'>\n",
      "RangeIndex: 9614 entries, 0 to 9613\n",
      "Data columns (total 23 columns):\n",
      " #   Column            Non-Null Count  Dtype  \n",
      "---  ------            --------------  -----  \n",
      " 0   Grupo Vehiculo    9614 non-null   object \n",
      " 1   Placa             9614 non-null   object \n",
      " 2   digito            9614 non-null   object \n",
      " 3   Codigo SII        8745 non-null   object \n",
      " 4   Año Vehículo      9614 non-null   int64  \n",
      " 5   Tasacion          9614 non-null   float64\n",
      " 6   Tipo de Pago      9614 non-null   object \n",
      " 7   Valor_Neto        9614 non-null   int64  \n",
      " 8   Valor_IPC         9614 non-null   int64  \n",
      " 9   Valor_Multa       9614 non-null   int64  \n",
      " 10  Valor Pagado      9614 non-null   int64  \n",
      " 11  Forma Pago        9614 non-null   object \n",
      " 12  Fecha_Pago        9614 non-null   object \n",
      " 13  Año Permiso       9614 non-null   int64  \n",
      " 14  Tipo Vehiculo     9614 non-null   object \n",
      " 15  Marca             9614 non-null   object \n",
      " 16  Modelo            9614 non-null   object \n",
      " 17  Color             9614 non-null   object \n",
      " 18  Transmisión       9204 non-null   object \n",
      " 19  Tipo Combustible  9226 non-null   object \n",
      " 20  Cilindrada        9176 non-null   float64\n",
      " 21  Equipamiento      7562 non-null   object \n",
      " 22  Numero Puertas    9614 non-null   int64  \n",
      "dtypes: float64(2), int64(7), object(14)\n",
      "memory usage: 1.7+ MB\n"
     ]
    }
   ],
   "source": [
    "permisos_calbuco.info()"
   ]
  },
  {
   "cell_type": "markdown",
   "metadata": {
    "id": "-k7LTggXZjgC"
   },
   "source": [
    "Primera descripción de la base de datos de los permisos municipales de circulación 2024:\n",
    "- 9.614 filas\n",
    "- 23 columnas\n",
    "- 14 columnas de datos tipo Object (puede ser cualitativos)\n",
    "- 7 columnas de tipo int64\n",
    "- 2 columna de tipo float64\n",
    "\n",
    "Algunos nombres de columnas tienen tildes, y también hay algunas que usan letra Ñ, por lo que hay que tener precaución."
   ]
  },
  {
   "cell_type": "markdown",
   "metadata": {
    "id": "skxKXGcbSO2E"
   },
   "source": [
    "### **d)  Análisis de medidas de tendencia central: Calcular y analizar la media, mediana y cuartiles de los datos. Interprete los resultados obtenidos, escriba sus respuestas en su informe y explíquelos en su video.** (5 pts.)"
   ]
  },
  {
   "cell_type": "code",
   "execution_count": 6,
   "metadata": {
    "colab": {
     "base_uri": "https://localhost:8080/",
     "height": 300
    },
    "id": "Cz-IFzHdUOpS",
    "outputId": "06f881da-c2e7-45f7-e47f-4cd01488cd7a"
   },
   "outputs": [
    {
     "data": {
      "text/html": [
       "<div>\n",
       "<style scoped>\n",
       "    .dataframe tbody tr th:only-of-type {\n",
       "        vertical-align: middle;\n",
       "    }\n",
       "\n",
       "    .dataframe tbody tr th {\n",
       "        vertical-align: top;\n",
       "    }\n",
       "\n",
       "    .dataframe thead th {\n",
       "        text-align: right;\n",
       "    }\n",
       "</style>\n",
       "<table border=\"1\" class=\"dataframe\">\n",
       "  <thead>\n",
       "    <tr style=\"text-align: right;\">\n",
       "      <th></th>\n",
       "      <th>Año Vehículo</th>\n",
       "      <th>Tasacion</th>\n",
       "      <th>Valor_Neto</th>\n",
       "      <th>Valor_IPC</th>\n",
       "      <th>Valor_Multa</th>\n",
       "      <th>Valor Pagado</th>\n",
       "      <th>Año Permiso</th>\n",
       "      <th>Cilindrada</th>\n",
       "      <th>Numero Puertas</th>\n",
       "    </tr>\n",
       "  </thead>\n",
       "  <tbody>\n",
       "    <tr>\n",
       "      <th>count</th>\n",
       "      <td>9614.0</td>\n",
       "      <td>9614.0</td>\n",
       "      <td>9614.0</td>\n",
       "      <td>9614.0</td>\n",
       "      <td>9614.0</td>\n",
       "      <td>9614.0</td>\n",
       "      <td>9614.0</td>\n",
       "      <td>9176.0</td>\n",
       "      <td>9614.0</td>\n",
       "    </tr>\n",
       "    <tr>\n",
       "      <th>mean</th>\n",
       "      <td>2013.4</td>\n",
       "      <td>6166630.4</td>\n",
       "      <td>89201.9</td>\n",
       "      <td>537.3</td>\n",
       "      <td>1679.2</td>\n",
       "      <td>91418.3</td>\n",
       "      <td>2023.9</td>\n",
       "      <td>1886.6</td>\n",
       "      <td>3.5</td>\n",
       "    </tr>\n",
       "    <tr>\n",
       "      <th>std</th>\n",
       "      <td>7.2</td>\n",
       "      <td>5469283.1</td>\n",
       "      <td>110887.4</td>\n",
       "      <td>2939.0</td>\n",
       "      <td>8556.9</td>\n",
       "      <td>114819.4</td>\n",
       "      <td>0.5</td>\n",
       "      <td>677.7</td>\n",
       "      <td>1.3</td>\n",
       "    </tr>\n",
       "    <tr>\n",
       "      <th>min</th>\n",
       "      <td>1978.0</td>\n",
       "      <td>0.0</td>\n",
       "      <td>0.0</td>\n",
       "      <td>0.0</td>\n",
       "      <td>0.0</td>\n",
       "      <td>0.0</td>\n",
       "      <td>2018.0</td>\n",
       "      <td>0.0</td>\n",
       "      <td>0.0</td>\n",
       "    </tr>\n",
       "    <tr>\n",
       "      <th>25%</th>\n",
       "      <td>2009.0</td>\n",
       "      <td>2233510.2</td>\n",
       "      <td>32683.2</td>\n",
       "      <td>0.0</td>\n",
       "      <td>0.0</td>\n",
       "      <td>32722.0</td>\n",
       "      <td>2024.0</td>\n",
       "      <td>1500.0</td>\n",
       "      <td>4.0</td>\n",
       "    </tr>\n",
       "    <tr>\n",
       "      <th>50%</th>\n",
       "      <td>2014.0</td>\n",
       "      <td>4738519.5</td>\n",
       "      <td>53529.0</td>\n",
       "      <td>0.0</td>\n",
       "      <td>0.0</td>\n",
       "      <td>56791.5</td>\n",
       "      <td>2024.0</td>\n",
       "      <td>1600.0</td>\n",
       "      <td>4.0</td>\n",
       "    </tr>\n",
       "    <tr>\n",
       "      <th>75%</th>\n",
       "      <td>2019.0</td>\n",
       "      <td>8897274.0</td>\n",
       "      <td>104383.0</td>\n",
       "      <td>194.0</td>\n",
       "      <td>488.0</td>\n",
       "      <td>107235.2</td>\n",
       "      <td>2024.0</td>\n",
       "      <td>2400.0</td>\n",
       "      <td>4.0</td>\n",
       "    </tr>\n",
       "    <tr>\n",
       "      <th>max</th>\n",
       "      <td>2024.0</td>\n",
       "      <td>67455534.0</td>\n",
       "      <td>3241360.0</td>\n",
       "      <td>140249.0</td>\n",
       "      <td>494445.0</td>\n",
       "      <td>3836366.0</td>\n",
       "      <td>2024.0</td>\n",
       "      <td>6700.0</td>\n",
       "      <td>5.0</td>\n",
       "    </tr>\n",
       "  </tbody>\n",
       "</table>\n",
       "</div>"
      ],
      "text/plain": [
       "       Año Vehículo    Tasacion  Valor_Neto  Valor_IPC  Valor_Multa  \\\n",
       "count        9614.0      9614.0      9614.0     9614.0       9614.0   \n",
       "mean         2013.4   6166630.4     89201.9      537.3       1679.2   \n",
       "std             7.2   5469283.1    110887.4     2939.0       8556.9   \n",
       "min          1978.0         0.0         0.0        0.0          0.0   \n",
       "25%          2009.0   2233510.2     32683.2        0.0          0.0   \n",
       "50%          2014.0   4738519.5     53529.0        0.0          0.0   \n",
       "75%          2019.0   8897274.0    104383.0      194.0        488.0   \n",
       "max          2024.0  67455534.0   3241360.0   140249.0     494445.0   \n",
       "\n",
       "       Valor Pagado  Año Permiso  Cilindrada  Numero Puertas  \n",
       "count        9614.0       9614.0      9176.0          9614.0  \n",
       "mean        91418.3       2023.9      1886.6             3.5  \n",
       "std        114819.4          0.5       677.7             1.3  \n",
       "min             0.0       2018.0         0.0             0.0  \n",
       "25%         32722.0       2024.0      1500.0             4.0  \n",
       "50%         56791.5       2024.0      1600.0             4.0  \n",
       "75%        107235.2       2024.0      2400.0             4.0  \n",
       "max       3836366.0       2024.0      6700.0             5.0  "
      ]
     },
     "execution_count": 6,
     "metadata": {},
     "output_type": "execute_result"
    }
   ],
   "source": [
    "permisos_calbuco.describe().round(1)"
   ]
  },
  {
   "cell_type": "markdown",
   "metadata": {
    "id": "UDZrrhEW_VP1"
   },
   "source": [
    "#### Interpretacion de valores:\n"
   ]
  },
  {
   "cell_type": "markdown",
   "metadata": {
    "id": "IqPwCllQVqBZ"
   },
   "source": [
    "**1. Año de Vehículo:**"
   ]
  },
  {
   "cell_type": "code",
   "execution_count": 7,
   "metadata": {
    "colab": {
     "base_uri": "https://localhost:8080/",
     "height": 81
    },
    "id": "WGOhLzTchDzU",
    "outputId": "2d8b7de8-811f-4732-e797-092c1d1597e7"
   },
   "outputs": [
    {
     "data": {
      "text/html": [
       "<div>\n",
       "<style scoped>\n",
       "    .dataframe tbody tr th:only-of-type {\n",
       "        vertical-align: middle;\n",
       "    }\n",
       "\n",
       "    .dataframe tbody tr th {\n",
       "        vertical-align: top;\n",
       "    }\n",
       "\n",
       "    .dataframe thead th {\n",
       "        text-align: right;\n",
       "    }\n",
       "</style>\n",
       "<table border=\"1\" class=\"dataframe\">\n",
       "  <thead>\n",
       "    <tr style=\"text-align: right;\">\n",
       "      <th></th>\n",
       "      <th>count</th>\n",
       "      <th>mean</th>\n",
       "      <th>std</th>\n",
       "      <th>min</th>\n",
       "      <th>25%</th>\n",
       "      <th>50%</th>\n",
       "      <th>75%</th>\n",
       "      <th>max</th>\n",
       "    </tr>\n",
       "  </thead>\n",
       "  <tbody>\n",
       "    <tr>\n",
       "      <th>Año Vehículo</th>\n",
       "      <td>9614.0</td>\n",
       "      <td>2013.4</td>\n",
       "      <td>7.2</td>\n",
       "      <td>1978.0</td>\n",
       "      <td>2009.0</td>\n",
       "      <td>2014.0</td>\n",
       "      <td>2019.0</td>\n",
       "      <td>2024.0</td>\n",
       "    </tr>\n",
       "  </tbody>\n",
       "</table>\n",
       "</div>"
      ],
      "text/plain": [
       "               count    mean  std     min     25%     50%     75%     max\n",
       "Año Vehículo  9614.0  2013.4  7.2  1978.0  2009.0  2014.0  2019.0  2024.0"
      ]
     },
     "execution_count": 7,
     "metadata": {},
     "output_type": "execute_result"
    }
   ],
   "source": [
    "permisos_calbuco['Año Vehículo'].describe().round(1).to_frame().T"
   ]
  },
  {
   "cell_type": "markdown",
   "metadata": {
    "id": "0Ro-Pomg_fDM"
   },
   "source": [
    "*   Count= 9614, esto quiere decir que la cantidad de datos es de 9.614 vehiculos\n",
    "*   Mean= 2013, el año promedio de fabricación o registro de automóviles es el año 2013, lo que implica que en promedio los vehiculos tienen de 10 a 11 años de antigüedad.\n",
    "* Std= Desviacion standar de 7.16 años, esto indica que existe una variabilidad significativa respecto a los años del vehiculo, existen algunos muy antiguos y otros muy nuevos.\n",
    "* Min= 1978, el vehiculo mas antiguo en la cuidad fue fabricado o registrado en dicho año.\n",
    "* 25%= 2009, el 25% de los vehiculos en la base de datos son del año 2009 o anteriores a dicha fecha.\n",
    "* 50%= Mediana 2014, la mitad de los vehiculos de la base de datos fueron fabricados en el año 2014 o antes.\n",
    "* 75%= Tercer cuartil 2019, el 75% de los vehiculos de la base fueron fabricados el año 2019 o antes, por consiguiente un 25% de la base corresponde a vehiculos relativamente nuevos (2020-2024)\n",
    "* Max= 2024, el o los vehiculos mas nuevos son de fabricacion o registro año 2024."
   ]
  },
  {
   "cell_type": "markdown",
   "metadata": {
    "id": "XjnmoWaQV5J5"
   },
   "source": [
    "**2. Valor Neto:**"
   ]
  },
  {
   "cell_type": "code",
   "execution_count": 8,
   "metadata": {
    "colab": {
     "base_uri": "https://localhost:8080/",
     "height": 81
    },
    "id": "qslccUNW_lms",
    "outputId": "fa6a2341-a6d1-4cb1-cab4-c2bdfef17a39"
   },
   "outputs": [
    {
     "data": {
      "text/html": [
       "<div>\n",
       "<style scoped>\n",
       "    .dataframe tbody tr th:only-of-type {\n",
       "        vertical-align: middle;\n",
       "    }\n",
       "\n",
       "    .dataframe tbody tr th {\n",
       "        vertical-align: top;\n",
       "    }\n",
       "\n",
       "    .dataframe thead th {\n",
       "        text-align: right;\n",
       "    }\n",
       "</style>\n",
       "<table border=\"1\" class=\"dataframe\">\n",
       "  <thead>\n",
       "    <tr style=\"text-align: right;\">\n",
       "      <th></th>\n",
       "      <th>count</th>\n",
       "      <th>mean</th>\n",
       "      <th>std</th>\n",
       "      <th>min</th>\n",
       "      <th>25%</th>\n",
       "      <th>50%</th>\n",
       "      <th>75%</th>\n",
       "      <th>max</th>\n",
       "    </tr>\n",
       "  </thead>\n",
       "  <tbody>\n",
       "    <tr>\n",
       "      <th>Valor_Neto</th>\n",
       "      <td>9614.0</td>\n",
       "      <td>89201.9</td>\n",
       "      <td>110887.4</td>\n",
       "      <td>0.0</td>\n",
       "      <td>32683.2</td>\n",
       "      <td>53529.0</td>\n",
       "      <td>104383.0</td>\n",
       "      <td>3241360.0</td>\n",
       "    </tr>\n",
       "  </tbody>\n",
       "</table>\n",
       "</div>"
      ],
      "text/plain": [
       "             count     mean       std  min      25%      50%       75%  \\\n",
       "Valor_Neto  9614.0  89201.9  110887.4  0.0  32683.2  53529.0  104383.0   \n",
       "\n",
       "                  max  \n",
       "Valor_Neto  3241360.0  "
      ]
     },
     "execution_count": 8,
     "metadata": {},
     "output_type": "execute_result"
    }
   ],
   "source": [
    "permisos_calbuco['Valor_Neto'].describe().round(1).to_frame().T"
   ]
  },
  {
   "cell_type": "markdown",
   "metadata": {
    "id": "bDfLCEQbhEFN"
   },
   "source": [
    "*   Mean= 89.201, el valor neto promedio del valor de los permisos de circulacion es de $89.201.\n",
    "\n",
    "* Std= Desviacion standar de 110.887, esto indica que existe una variabilidad muy alta respecto al valor neto del permiso de circulacion.\n",
    "* Min= 0, en la base de datos existen vehiculos que no tendrian que pagar permiso de circulacion.\n",
    "\n",
    "* 25%= 32.638, el 25% de los vehiculos tiene un valor neto a pagar de $32.638\n",
    "\n",
    "* 50%= Mediana 53529, el valor neto medio de valor de permiso de circulacion es de $53.529.\n",
    "\n",
    "* 75%= Tercer cuartil 104.383, el 75% de los vehiculos de la base tienen un valor neto de $104.383 o menos.\n",
    "\n",
    "* Max= 3.241.360, el valor neto de permiso de circulacion mas alto es de #3.241.360, lo cual podria corresponder a un auto de lujo.\n",
    "\n"
   ]
  },
  {
   "cell_type": "markdown",
   "metadata": {
    "id": "BzMLXQTnWMTD"
   },
   "source": [
    "**3. Valor IPC:**"
   ]
  },
  {
   "cell_type": "code",
   "execution_count": 9,
   "metadata": {
    "colab": {
     "base_uri": "https://localhost:8080/",
     "height": 81
    },
    "id": "zqBS83PDAd_D",
    "outputId": "d019f3a0-36df-4c3f-d836-07be405514c8"
   },
   "outputs": [
    {
     "data": {
      "text/html": [
       "<div>\n",
       "<style scoped>\n",
       "    .dataframe tbody tr th:only-of-type {\n",
       "        vertical-align: middle;\n",
       "    }\n",
       "\n",
       "    .dataframe tbody tr th {\n",
       "        vertical-align: top;\n",
       "    }\n",
       "\n",
       "    .dataframe thead th {\n",
       "        text-align: right;\n",
       "    }\n",
       "</style>\n",
       "<table border=\"1\" class=\"dataframe\">\n",
       "  <thead>\n",
       "    <tr style=\"text-align: right;\">\n",
       "      <th></th>\n",
       "      <th>count</th>\n",
       "      <th>mean</th>\n",
       "      <th>std</th>\n",
       "      <th>min</th>\n",
       "      <th>25%</th>\n",
       "      <th>50%</th>\n",
       "      <th>75%</th>\n",
       "      <th>max</th>\n",
       "    </tr>\n",
       "  </thead>\n",
       "  <tbody>\n",
       "    <tr>\n",
       "      <th>Valor_IPC</th>\n",
       "      <td>9614.0</td>\n",
       "      <td>537.3</td>\n",
       "      <td>2939.0</td>\n",
       "      <td>0.0</td>\n",
       "      <td>0.0</td>\n",
       "      <td>0.0</td>\n",
       "      <td>194.0</td>\n",
       "      <td>140249.0</td>\n",
       "    </tr>\n",
       "  </tbody>\n",
       "</table>\n",
       "</div>"
      ],
      "text/plain": [
       "            count   mean     std  min  25%  50%    75%       max\n",
       "Valor_IPC  9614.0  537.3  2939.0  0.0  0.0  0.0  194.0  140249.0"
      ]
     },
     "execution_count": 9,
     "metadata": {},
     "output_type": "execute_result"
    }
   ],
   "source": [
    "permisos_calbuco['Valor_IPC'].describe().round(1).to_frame().T\n"
   ]
  },
  {
   "cell_type": "markdown",
   "metadata": {
    "id": "zFK0oI2yAIBw"
   },
   "source": [
    "*   Mean= 537, el valor promedio del IPC aplicado es de $537.\n",
    "\n",
    "* Std= Desviacion standar de 2.939, esto indica que existe una variabilidad muy alta respecto al valor del IPC\n",
    "* Min= 0, dicho valor podria indicicar que no todos los vehiculos tuvieron reajuste por IPC.\n",
    "* 25%= 0, el 25% tiene asocioado un valor de IPC 0.\n",
    "* 50%= Mediana 0, la mitad de la muestra no tiene asociado un valor de IPC o es igual a 0.\n",
    "*75%= Tercer cuartil 194, el 75% posee un valor de IPC de $194.\n",
    "\n",
    "* Max= 140.249, El valor mas alto de IPC que se aplico a vehiculos fue de $140.249.\n"
   ]
  },
  {
   "cell_type": "markdown",
   "metadata": {
    "id": "llNDm4qLWjIe"
   },
   "source": [
    "**4. Valor multa:**"
   ]
  },
  {
   "cell_type": "code",
   "execution_count": 10,
   "metadata": {
    "colab": {
     "base_uri": "https://localhost:8080/",
     "height": 81
    },
    "id": "vblcAkGoAQKU",
    "outputId": "bbcefa71-06aa-409e-8084-118903fc80b8"
   },
   "outputs": [
    {
     "data": {
      "text/html": [
       "<div>\n",
       "<style scoped>\n",
       "    .dataframe tbody tr th:only-of-type {\n",
       "        vertical-align: middle;\n",
       "    }\n",
       "\n",
       "    .dataframe tbody tr th {\n",
       "        vertical-align: top;\n",
       "    }\n",
       "\n",
       "    .dataframe thead th {\n",
       "        text-align: right;\n",
       "    }\n",
       "</style>\n",
       "<table border=\"1\" class=\"dataframe\">\n",
       "  <thead>\n",
       "    <tr style=\"text-align: right;\">\n",
       "      <th></th>\n",
       "      <th>count</th>\n",
       "      <th>mean</th>\n",
       "      <th>std</th>\n",
       "      <th>min</th>\n",
       "      <th>25%</th>\n",
       "      <th>50%</th>\n",
       "      <th>75%</th>\n",
       "      <th>max</th>\n",
       "    </tr>\n",
       "  </thead>\n",
       "  <tbody>\n",
       "    <tr>\n",
       "      <th>Valor_Multa</th>\n",
       "      <td>9614.0</td>\n",
       "      <td>1679.2</td>\n",
       "      <td>8556.9</td>\n",
       "      <td>0.0</td>\n",
       "      <td>0.0</td>\n",
       "      <td>0.0</td>\n",
       "      <td>488.0</td>\n",
       "      <td>494445.0</td>\n",
       "    </tr>\n",
       "  </tbody>\n",
       "</table>\n",
       "</div>"
      ],
      "text/plain": [
       "              count    mean     std  min  25%  50%    75%       max\n",
       "Valor_Multa  9614.0  1679.2  8556.9  0.0  0.0  0.0  488.0  494445.0"
      ]
     },
     "execution_count": 10,
     "metadata": {},
     "output_type": "execute_result"
    }
   ],
   "source": [
    "permisos_calbuco['Valor_Multa'].describe().round(1).to_frame().T\n",
    "\n"
   ]
  },
  {
   "cell_type": "markdown",
   "metadata": {
    "id": "61ddqJjkAN5F"
   },
   "source": [
    "*   Mean= 1.679, el valor promedio de multas es de $1.679.\n",
    "\n",
    "* Std= Desviacion standar de 8.556, esto indica que existe una variabilidad muy alta respecto al valor multa.\n",
    "* Min= 0, esto indica que existen vehiculos que no tiene multas.\n",
    "* 25%= 0, al menos un cuarto de la muestra no tiene multas.\n",
    "* 50%= Mediana 0, mas de la mitad de la muestra no posee multas\n",
    "* 75%= Tercer cuartil 488, el 75% posee multas iguales o inferiores a $488.\n",
    "\n",
    "* Max= 494.445, El valor mas alto pagado en multas fue de $494.445.\n",
    "\n"
   ]
  },
  {
   "cell_type": "markdown",
   "metadata": {
    "id": "RR2WUUMCXOiq"
   },
   "source": [
    "**5. Valor Pagado**"
   ]
  },
  {
   "cell_type": "code",
   "execution_count": 11,
   "metadata": {
    "colab": {
     "base_uri": "https://localhost:8080/",
     "height": 81
    },
    "id": "3bvX_75zAe3o",
    "outputId": "4876cf83-9182-45bb-8dff-fb1d306bd9a7"
   },
   "outputs": [
    {
     "data": {
      "text/html": [
       "<div>\n",
       "<style scoped>\n",
       "    .dataframe tbody tr th:only-of-type {\n",
       "        vertical-align: middle;\n",
       "    }\n",
       "\n",
       "    .dataframe tbody tr th {\n",
       "        vertical-align: top;\n",
       "    }\n",
       "\n",
       "    .dataframe thead th {\n",
       "        text-align: right;\n",
       "    }\n",
       "</style>\n",
       "<table border=\"1\" class=\"dataframe\">\n",
       "  <thead>\n",
       "    <tr style=\"text-align: right;\">\n",
       "      <th></th>\n",
       "      <th>count</th>\n",
       "      <th>mean</th>\n",
       "      <th>std</th>\n",
       "      <th>min</th>\n",
       "      <th>25%</th>\n",
       "      <th>50%</th>\n",
       "      <th>75%</th>\n",
       "      <th>max</th>\n",
       "    </tr>\n",
       "  </thead>\n",
       "  <tbody>\n",
       "    <tr>\n",
       "      <th>Valor Pagado</th>\n",
       "      <td>9614.0</td>\n",
       "      <td>91418.3</td>\n",
       "      <td>114819.4</td>\n",
       "      <td>0.0</td>\n",
       "      <td>32722.0</td>\n",
       "      <td>56791.5</td>\n",
       "      <td>107235.2</td>\n",
       "      <td>3836366.0</td>\n",
       "    </tr>\n",
       "  </tbody>\n",
       "</table>\n",
       "</div>"
      ],
      "text/plain": [
       "               count     mean       std  min      25%      50%       75%  \\\n",
       "Valor Pagado  9614.0  91418.3  114819.4  0.0  32722.0  56791.5  107235.2   \n",
       "\n",
       "                    max  \n",
       "Valor Pagado  3836366.0  "
      ]
     },
     "execution_count": 11,
     "metadata": {},
     "output_type": "execute_result"
    }
   ],
   "source": [
    "permisos_calbuco['Valor Pagado'].describe().round(1).to_frame().T"
   ]
  },
  {
   "cell_type": "markdown",
   "metadata": {
    "id": "92dC_NxxARAt"
   },
   "source": [
    "*   Mean= 91.418, el valor promedio de pagado es de $91.418.\n",
    "\n",
    "* Std= Desviacion standar de 114.819, esto indica que existe una variabilidad muy alta respecto al valor pagado.\n",
    "* Min= 0, esto indica que existen vehiculos que no pagaron o estaban exentos de pago.\n",
    "* 25%= 32.722, al menos un cuarto de la muestra pagaron $32.722.\n",
    "* 50%= Mediana 56.791, la mitad de la pagó hasta $56.791.\n",
    "\n",
    "* 75%= Tercer cuartil 107.235, el 75% de los vehiculos registrados pago por $107.235 o menos.\n",
    "\n",
    "* Max= 3.836.366, El valor mas alto pagado fue de $3.836.366.\n",
    "\n"
   ]
  },
  {
   "cell_type": "markdown",
   "metadata": {
    "id": "tDq2v_pfXl5h"
   },
   "source": [
    "**6. Año Permiso**"
   ]
  },
  {
   "cell_type": "code",
   "execution_count": 12,
   "metadata": {
    "colab": {
     "base_uri": "https://localhost:8080/",
     "height": 81
    },
    "id": "fhtq4Z0oAf2a",
    "outputId": "2c0cf272-d804-453e-bbd0-6e67285e5155"
   },
   "outputs": [
    {
     "data": {
      "text/html": [
       "<div>\n",
       "<style scoped>\n",
       "    .dataframe tbody tr th:only-of-type {\n",
       "        vertical-align: middle;\n",
       "    }\n",
       "\n",
       "    .dataframe tbody tr th {\n",
       "        vertical-align: top;\n",
       "    }\n",
       "\n",
       "    .dataframe thead th {\n",
       "        text-align: right;\n",
       "    }\n",
       "</style>\n",
       "<table border=\"1\" class=\"dataframe\">\n",
       "  <thead>\n",
       "    <tr style=\"text-align: right;\">\n",
       "      <th></th>\n",
       "      <th>count</th>\n",
       "      <th>mean</th>\n",
       "      <th>std</th>\n",
       "      <th>min</th>\n",
       "      <th>25%</th>\n",
       "      <th>50%</th>\n",
       "      <th>75%</th>\n",
       "      <th>max</th>\n",
       "    </tr>\n",
       "  </thead>\n",
       "  <tbody>\n",
       "    <tr>\n",
       "      <th>Año Permiso</th>\n",
       "      <td>9614.0</td>\n",
       "      <td>2023.9</td>\n",
       "      <td>0.5</td>\n",
       "      <td>2018.0</td>\n",
       "      <td>2024.0</td>\n",
       "      <td>2024.0</td>\n",
       "      <td>2024.0</td>\n",
       "      <td>2024.0</td>\n",
       "    </tr>\n",
       "  </tbody>\n",
       "</table>\n",
       "</div>"
      ],
      "text/plain": [
       "              count    mean  std     min     25%     50%     75%     max\n",
       "Año Permiso  9614.0  2023.9  0.5  2018.0  2024.0  2024.0  2024.0  2024.0"
      ]
     },
     "execution_count": 12,
     "metadata": {},
     "output_type": "execute_result"
    }
   ],
   "source": [
    "permisos_calbuco['Año Permiso'].describe().round(1).to_frame().T"
   ]
  },
  {
   "cell_type": "markdown",
   "metadata": {
    "id": "SdH4fWLQAWSk"
   },
   "source": [
    "*   Mean= 2023.87, rededondeado 2024, esto significa que en promedio se esta pagando el permiso de circulacion del año 2024, indicando que la mayoria de los permisos estan actualizados.\n",
    "\n",
    "* Std= Desviacion standar de 0.5, esto indica que los años de permiso de circulacion estan muy cercanos entre si.\n",
    "\n",
    "* Min= 2018, esto indica que existen vehiculos que no han pagado permiso de circulacion en los ultimos años.\n",
    "* 25%= 2024, al menos un cuarto de la muestra tienen permiso de circulacion 2024.\n",
    "* 50%= Mediana 2024, la mitad de los vehiculos tiene permiso de circulacion año 2024\n",
    "\n",
    "* 75%= Tercer cuartil 2024, el 75% de los vehiculos registrados tienen permiso de circulacion año 2024.\n",
    "\n",
    "* Max= 2024, el permiso mas reciente es el del año 2024.\n",
    "\n"
   ]
  },
  {
   "cell_type": "markdown",
   "metadata": {
    "id": "sECRkiseXxLF"
   },
   "source": [
    "**7. Cilindrada**"
   ]
  },
  {
   "cell_type": "code",
   "execution_count": 13,
   "metadata": {
    "colab": {
     "base_uri": "https://localhost:8080/",
     "height": 81
    },
    "id": "wo9uSS_9Ag-u",
    "outputId": "a1b67387-b40a-4d91-c483-c13da694a1fd"
   },
   "outputs": [
    {
     "data": {
      "text/html": [
       "<div>\n",
       "<style scoped>\n",
       "    .dataframe tbody tr th:only-of-type {\n",
       "        vertical-align: middle;\n",
       "    }\n",
       "\n",
       "    .dataframe tbody tr th {\n",
       "        vertical-align: top;\n",
       "    }\n",
       "\n",
       "    .dataframe thead th {\n",
       "        text-align: right;\n",
       "    }\n",
       "</style>\n",
       "<table border=\"1\" class=\"dataframe\">\n",
       "  <thead>\n",
       "    <tr style=\"text-align: right;\">\n",
       "      <th></th>\n",
       "      <th>count</th>\n",
       "      <th>mean</th>\n",
       "      <th>std</th>\n",
       "      <th>min</th>\n",
       "      <th>25%</th>\n",
       "      <th>50%</th>\n",
       "      <th>75%</th>\n",
       "      <th>max</th>\n",
       "    </tr>\n",
       "  </thead>\n",
       "  <tbody>\n",
       "    <tr>\n",
       "      <th>Cilindrada</th>\n",
       "      <td>9176.0</td>\n",
       "      <td>1886.6</td>\n",
       "      <td>677.7</td>\n",
       "      <td>0.0</td>\n",
       "      <td>1500.0</td>\n",
       "      <td>1600.0</td>\n",
       "      <td>2400.0</td>\n",
       "      <td>6700.0</td>\n",
       "    </tr>\n",
       "  </tbody>\n",
       "</table>\n",
       "</div>"
      ],
      "text/plain": [
       "             count    mean    std  min     25%     50%     75%     max\n",
       "Cilindrada  9176.0  1886.6  677.7  0.0  1500.0  1600.0  2400.0  6700.0"
      ]
     },
     "execution_count": 13,
     "metadata": {},
     "output_type": "execute_result"
    }
   ],
   "source": [
    "permisos_calbuco['Cilindrada'].describe().round(1).to_frame().T"
   ]
  },
  {
   "cell_type": "markdown",
   "metadata": {
    "id": "0qWSUJIyAYRW"
   },
   "source": [
    "*   Mean= 1.886, la cilindrada promedio de los vehiculos es de 1.886 cc.\n",
    "\n",
    "* Std= Desviacion standar de 677, esto indica que existe una amplia variedad entre cilindrada de los vehiculos.\n",
    "\n",
    "* Min= 0, esto indica que existen dentro de la base carros de arrastre, los cuales no poseen cilindrada y tambien esta la posibilidad de que existan vehisulos sin especificacion de cilindrada.\n",
    "* 25%= 1500, al menos un cuarto de la muestra tienen cilidrada 1500 cc o menos.\n",
    "* 50%= Mediana 1600, la mitad de los vehiculos tiene cilindrada 1600 cc.\n",
    "\n",
    "* 75%= Tercer cuartil 2400, el 75% de los vehiculos registrados tienen una cilindrada de 2400 cc o menos.\n",
    "\n",
    "* Max= 6700, la cilindrada maxima corresponde a 6.700 cc.\n",
    "\n"
   ]
  },
  {
   "cell_type": "markdown",
   "metadata": {
    "id": "pbNw2Kv1YjJW"
   },
   "source": [
    "**8.   Numero de puertas:**\n"
   ]
  },
  {
   "cell_type": "code",
   "execution_count": 13,
   "metadata": {
    "colab": {
     "base_uri": "https://localhost:8080/",
     "height": 81
    },
    "id": "egGxPnlxAho5",
    "outputId": "554c71c2-24f3-4d08-adae-5be8f86ce3ac"
   },
   "outputs": [
    {
     "data": {
      "text/html": [
       "<div>\n",
       "<style scoped>\n",
       "    .dataframe tbody tr th:only-of-type {\n",
       "        vertical-align: middle;\n",
       "    }\n",
       "\n",
       "    .dataframe tbody tr th {\n",
       "        vertical-align: top;\n",
       "    }\n",
       "\n",
       "    .dataframe thead th {\n",
       "        text-align: right;\n",
       "    }\n",
       "</style>\n",
       "<table border=\"1\" class=\"dataframe\">\n",
       "  <thead>\n",
       "    <tr style=\"text-align: right;\">\n",
       "      <th></th>\n",
       "      <th>count</th>\n",
       "      <th>mean</th>\n",
       "      <th>std</th>\n",
       "      <th>min</th>\n",
       "      <th>25%</th>\n",
       "      <th>50%</th>\n",
       "      <th>75%</th>\n",
       "      <th>max</th>\n",
       "    </tr>\n",
       "  </thead>\n",
       "  <tbody>\n",
       "    <tr>\n",
       "      <th>Numero Puertas</th>\n",
       "      <td>9614.0</td>\n",
       "      <td>3.5</td>\n",
       "      <td>1.3</td>\n",
       "      <td>0.0</td>\n",
       "      <td>4.0</td>\n",
       "      <td>4.0</td>\n",
       "      <td>4.0</td>\n",
       "      <td>5.0</td>\n",
       "    </tr>\n",
       "  </tbody>\n",
       "</table>\n",
       "</div>"
      ],
      "text/plain": [
       "                 count  mean  std  min  25%  50%  75%  max\n",
       "Numero Puertas  9614.0   3.5  1.3  0.0  4.0  4.0  4.0  5.0"
      ]
     },
     "execution_count": 13,
     "metadata": {},
     "output_type": "execute_result"
    }
   ],
   "source": [
    "permisos_calbuco['Numero Puertas'].describe().round(1).to_frame().T"
   ]
  },
  {
   "cell_type": "markdown",
   "metadata": {
    "id": "T87qbDJoAb2j"
   },
   "source": [
    "*   Mean= 3.5, en promedio los vehiculos tienen 3,5 o 4 puertas.\n",
    "\n",
    "* Std= Desviacion standar de 1.26, esto indica que existe una variabilidad no muy ampia entre el numero de puertas.\n",
    "\n",
    "* Min= 0, esto indica que existen dentro de la base carros de arrastre, los cuales no poseen puertas y tambien esta la posibilidad de que existan vehiculos sin especificacion de puertas.\n",
    "* 25%= 4, al menos un cuarto de la muestra tiene 4 puertas.\n",
    "* 50%= Mediana 4, la mitad de los vehiculos tiene 4 puertas.\n",
    "\n",
    "* 75%= Tercer cuartil 4, el 75% de los vehiculos registrados tienen 4 puertas.\n",
    "\n",
    "* Max= 5, el maximo de puertas registrado es de 5, lo cual podria corresponder a vehiculos SUV."
   ]
  },
  {
   "cell_type": "markdown",
   "metadata": {
    "id": "3ik9g3WNSUD_"
   },
   "source": [
    "### **e) Gráficos, Tendencias, Correlación: Construir al menos 2 gráficos mediante Seaborn que le permitan interpretar los datos de su problema. Responda a su problema o inquietud mediante la interpretación de esos gráficos. Escriba como respuesta el análisis de sus resultados por escrito en su informe y descríbalos en su video.** (10 pts.)"
   ]
  },
  {
   "cell_type": "code",
   "execution_count": 14,
   "metadata": {
    "id": "Rc4q6UrO1FLn"
   },
   "outputs": [],
   "source": [
    "import seaborn as sns"
   ]
  },
  {
   "cell_type": "markdown",
   "metadata": {
    "id": "ZnqZyDuS1BlR"
   },
   "source": [
    "Para este punto, filtraremos la base de datos y trabajaremos sólo con algunas columnas, para responder algunas preguntas puntuales.\n",
    "\n",
    "Las columnas son:\n",
    "- Grupo Vehiculo\n",
    "- Año Vehículo\n",
    "- Tasacion\n",
    "- Valor_Neto\n",
    "- Valor_IPC\n",
    "- Valor_Multa\n",
    "- Valor Pagado\n",
    "\n",
    "Para trabajar con este filtro, crearemos una nuevo dataframe.\n"
   ]
  },
  {
   "cell_type": "code",
   "execution_count": 15,
   "metadata": {
    "id": "TZw0IGR7UPoW"
   },
   "outputs": [],
   "source": [
    "permisos_filtro = permisos_calbuco[['Grupo Vehiculo','Año Vehículo','Tasacion', 'Valor_Neto', 'Valor_IPC', 'Valor_Multa','Valor Pagado']]"
   ]
  },
  {
   "cell_type": "code",
   "execution_count": 16,
   "metadata": {
    "colab": {
     "base_uri": "https://localhost:8080/",
     "height": 175
    },
    "id": "I9KOHX9M1P_z",
    "outputId": "be210f84-b812-4575-c4d7-1784de7f2947"
   },
   "outputs": [
    {
     "data": {
      "text/html": [
       "<div>\n",
       "<style scoped>\n",
       "    .dataframe tbody tr th:only-of-type {\n",
       "        vertical-align: middle;\n",
       "    }\n",
       "\n",
       "    .dataframe tbody tr th {\n",
       "        vertical-align: top;\n",
       "    }\n",
       "\n",
       "    .dataframe thead th {\n",
       "        text-align: right;\n",
       "    }\n",
       "</style>\n",
       "<table border=\"1\" class=\"dataframe\">\n",
       "  <thead>\n",
       "    <tr style=\"text-align: right;\">\n",
       "      <th></th>\n",
       "      <th>Grupo Vehiculo</th>\n",
       "      <th>Año Vehículo</th>\n",
       "      <th>Tasacion</th>\n",
       "      <th>Valor_Neto</th>\n",
       "      <th>Valor_IPC</th>\n",
       "      <th>Valor_Multa</th>\n",
       "      <th>Valor Pagado</th>\n",
       "    </tr>\n",
       "  </thead>\n",
       "  <tbody>\n",
       "    <tr>\n",
       "      <th>0</th>\n",
       "      <td>Vehiculo Liviano</td>\n",
       "      <td>1994</td>\n",
       "      <td>755417.0</td>\n",
       "      <td>42177</td>\n",
       "      <td>4491</td>\n",
       "      <td>10465</td>\n",
       "      <td>57133</td>\n",
       "    </tr>\n",
       "    <tr>\n",
       "      <th>1</th>\n",
       "      <td>Vehiculo Liviano</td>\n",
       "      <td>1994</td>\n",
       "      <td>747863.0</td>\n",
       "      <td>36832</td>\n",
       "      <td>1143</td>\n",
       "      <td>4804</td>\n",
       "      <td>42779</td>\n",
       "    </tr>\n",
       "    <tr>\n",
       "      <th>2</th>\n",
       "      <td>Vehiculo Liviano</td>\n",
       "      <td>1998</td>\n",
       "      <td>973121.0</td>\n",
       "      <td>17203</td>\n",
       "      <td>360</td>\n",
       "      <td>1200</td>\n",
       "      <td>18763</td>\n",
       "    </tr>\n",
       "    <tr>\n",
       "      <th>3</th>\n",
       "      <td>Vehiculo Liviano</td>\n",
       "      <td>2013</td>\n",
       "      <td>6064560.0</td>\n",
       "      <td>137321</td>\n",
       "      <td>14623</td>\n",
       "      <td>34072</td>\n",
       "      <td>186016</td>\n",
       "    </tr>\n",
       "  </tbody>\n",
       "</table>\n",
       "</div>"
      ],
      "text/plain": [
       "     Grupo Vehiculo  Año Vehículo   Tasacion  Valor_Neto  Valor_IPC  \\\n",
       "0  Vehiculo Liviano          1994   755417.0       42177       4491   \n",
       "1  Vehiculo Liviano          1994   747863.0       36832       1143   \n",
       "2  Vehiculo Liviano          1998   973121.0       17203        360   \n",
       "3  Vehiculo Liviano          2013  6064560.0      137321      14623   \n",
       "\n",
       "   Valor_Multa  Valor Pagado  \n",
       "0        10465         57133  \n",
       "1         4804         42779  \n",
       "2         1200         18763  \n",
       "3        34072        186016  "
      ]
     },
     "execution_count": 16,
     "metadata": {},
     "output_type": "execute_result"
    }
   ],
   "source": [
    "permisos_filtro.head(4)"
   ]
  },
  {
   "cell_type": "code",
   "execution_count": 17,
   "metadata": {
    "colab": {
     "base_uri": "https://localhost:8080/"
    },
    "id": "xvh8HLZn1S2E",
    "outputId": "4d222a50-04df-48b9-a92f-e34ce53c04d4"
   },
   "outputs": [
    {
     "name": "stdout",
     "output_type": "stream",
     "text": [
      "<class 'pandas.core.frame.DataFrame'>\n",
      "RangeIndex: 9614 entries, 0 to 9613\n",
      "Data columns (total 7 columns):\n",
      " #   Column          Non-Null Count  Dtype  \n",
      "---  ------          --------------  -----  \n",
      " 0   Grupo Vehiculo  9614 non-null   object \n",
      " 1   Año Vehículo    9614 non-null   int64  \n",
      " 2   Tasacion        9614 non-null   float64\n",
      " 3   Valor_Neto      9614 non-null   int64  \n",
      " 4   Valor_IPC       9614 non-null   int64  \n",
      " 5   Valor_Multa     9614 non-null   int64  \n",
      " 6   Valor Pagado    9614 non-null   int64  \n",
      "dtypes: float64(1), int64(5), object(1)\n",
      "memory usage: 525.9+ KB\n"
     ]
    }
   ],
   "source": [
    "permisos_filtro.info()"
   ]
  },
  {
   "cell_type": "markdown",
   "metadata": {
    "id": "G0YcnSu-e8zq"
   },
   "source": [
    "Ahora se hace una visualización delas medidas de tendencia central de las categorías filtradas."
   ]
  },
  {
   "cell_type": "code",
   "execution_count": 18,
   "metadata": {
    "colab": {
     "base_uri": "https://localhost:8080/",
     "height": 300
    },
    "id": "goj66ijq1VJL",
    "outputId": "55ebadf7-75e4-4b23-9c81-1217f33418ad"
   },
   "outputs": [
    {
     "data": {
      "text/html": [
       "<div>\n",
       "<style scoped>\n",
       "    .dataframe tbody tr th:only-of-type {\n",
       "        vertical-align: middle;\n",
       "    }\n",
       "\n",
       "    .dataframe tbody tr th {\n",
       "        vertical-align: top;\n",
       "    }\n",
       "\n",
       "    .dataframe thead th {\n",
       "        text-align: right;\n",
       "    }\n",
       "</style>\n",
       "<table border=\"1\" class=\"dataframe\">\n",
       "  <thead>\n",
       "    <tr style=\"text-align: right;\">\n",
       "      <th></th>\n",
       "      <th>Año Vehículo</th>\n",
       "      <th>Tasacion</th>\n",
       "      <th>Valor_Neto</th>\n",
       "      <th>Valor_IPC</th>\n",
       "      <th>Valor_Multa</th>\n",
       "      <th>Valor Pagado</th>\n",
       "    </tr>\n",
       "  </thead>\n",
       "  <tbody>\n",
       "    <tr>\n",
       "      <th>count</th>\n",
       "      <td>9614.0</td>\n",
       "      <td>9614.0</td>\n",
       "      <td>9614.0</td>\n",
       "      <td>9614.0</td>\n",
       "      <td>9614.0</td>\n",
       "      <td>9614.0</td>\n",
       "    </tr>\n",
       "    <tr>\n",
       "      <th>mean</th>\n",
       "      <td>2013.4</td>\n",
       "      <td>6166630.4</td>\n",
       "      <td>89201.9</td>\n",
       "      <td>537.3</td>\n",
       "      <td>1679.2</td>\n",
       "      <td>91418.3</td>\n",
       "    </tr>\n",
       "    <tr>\n",
       "      <th>std</th>\n",
       "      <td>7.2</td>\n",
       "      <td>5469283.1</td>\n",
       "      <td>110887.4</td>\n",
       "      <td>2939.0</td>\n",
       "      <td>8556.9</td>\n",
       "      <td>114819.4</td>\n",
       "    </tr>\n",
       "    <tr>\n",
       "      <th>min</th>\n",
       "      <td>1978.0</td>\n",
       "      <td>0.0</td>\n",
       "      <td>0.0</td>\n",
       "      <td>0.0</td>\n",
       "      <td>0.0</td>\n",
       "      <td>0.0</td>\n",
       "    </tr>\n",
       "    <tr>\n",
       "      <th>25%</th>\n",
       "      <td>2009.0</td>\n",
       "      <td>2233510.2</td>\n",
       "      <td>32683.2</td>\n",
       "      <td>0.0</td>\n",
       "      <td>0.0</td>\n",
       "      <td>32722.0</td>\n",
       "    </tr>\n",
       "    <tr>\n",
       "      <th>50%</th>\n",
       "      <td>2014.0</td>\n",
       "      <td>4738519.5</td>\n",
       "      <td>53529.0</td>\n",
       "      <td>0.0</td>\n",
       "      <td>0.0</td>\n",
       "      <td>56791.5</td>\n",
       "    </tr>\n",
       "    <tr>\n",
       "      <th>75%</th>\n",
       "      <td>2019.0</td>\n",
       "      <td>8897274.0</td>\n",
       "      <td>104383.0</td>\n",
       "      <td>194.0</td>\n",
       "      <td>488.0</td>\n",
       "      <td>107235.2</td>\n",
       "    </tr>\n",
       "    <tr>\n",
       "      <th>max</th>\n",
       "      <td>2024.0</td>\n",
       "      <td>67455534.0</td>\n",
       "      <td>3241360.0</td>\n",
       "      <td>140249.0</td>\n",
       "      <td>494445.0</td>\n",
       "      <td>3836366.0</td>\n",
       "    </tr>\n",
       "  </tbody>\n",
       "</table>\n",
       "</div>"
      ],
      "text/plain": [
       "       Año Vehículo    Tasacion  Valor_Neto  Valor_IPC  Valor_Multa  \\\n",
       "count        9614.0      9614.0      9614.0     9614.0       9614.0   \n",
       "mean         2013.4   6166630.4     89201.9      537.3       1679.2   \n",
       "std             7.2   5469283.1    110887.4     2939.0       8556.9   \n",
       "min          1978.0         0.0         0.0        0.0          0.0   \n",
       "25%          2009.0   2233510.2     32683.2        0.0          0.0   \n",
       "50%          2014.0   4738519.5     53529.0        0.0          0.0   \n",
       "75%          2019.0   8897274.0    104383.0      194.0        488.0   \n",
       "max          2024.0  67455534.0   3241360.0   140249.0     494445.0   \n",
       "\n",
       "       Valor Pagado  \n",
       "count        9614.0  \n",
       "mean        91418.3  \n",
       "std        114819.4  \n",
       "min             0.0  \n",
       "25%         32722.0  \n",
       "50%         56791.5  \n",
       "75%        107235.2  \n",
       "max       3836366.0  "
      ]
     },
     "execution_count": 18,
     "metadata": {},
     "output_type": "execute_result"
    }
   ],
   "source": [
    "permisos_filtro.describe().round(1)"
   ]
  },
  {
   "cell_type": "markdown",
   "metadata": {
    "id": "dEQedTNF6f1W"
   },
   "source": [
    "Ya con esa visualización desde un cuadro general se procede a generar gráficos son Seaborn que nos permitan hacer cruces y entender mejor los datos a partir de algunas preguntas guías.\n"
   ]
  },
  {
   "cell_type": "markdown",
   "metadata": {
    "id": "oryEPk8HfaSg"
   },
   "source": [
    "**Pregunta 1: ¿A qué año de origen corresponden los vehículos que más pagan, en cuanto a permisos de circulación, en la Municipalidad de Calbuco, durante el 2024?**"
   ]
  },
  {
   "cell_type": "code",
   "execution_count": 21,
   "metadata": {
    "colab": {
     "base_uri": "https://localhost:8080/",
     "height": 522
    },
    "id": "_kdwHdtC8OSK",
    "outputId": "e3dab551-8024-4c4f-cea9-99160049eed6"
   },
   "outputs": [
    {
     "data": {
      "image/png": "[encoded data removed]",
      "text/plain": [
       "<Figure size 1900x600 with 1 Axes>"
      ]
     },
     "metadata": {},
     "output_type": "display_data"
    }
   ],
   "source": [
    "sns.barplot(data=permisos_filtro, x='Año Vehículo', y='Valor Pagado')\n",
    "sns.set(rc={'figure.figsize':(19,6)})\n",
    "sns.despine()\n",
    "\n",
    "sns.set_context(\"talk\", font_scale=0.6)\n"
   ]
  },
  {
   "cell_type": "markdown",
   "metadata": {
    "id": "3hfHjZRyLopr"
   },
   "source": [
    "Este primer gráfico podemos observar la relacion entre año del vehiculo con el valor pagado en el permiso de circulacion, donde el la barra azul representa el valor promedio pagado por permiso de circulacion de cada año, y la linea vertical negra representa la desviacion estandar, que indica cuán dispersos se encuentran los datos.\n",
    "\n",
    "1. Se observa una tendencia de aumento en el valor pagado a medida que los vehiculos son mas nuevos.\n",
    "2. Los años 1984 y 1988 poseen una desviacion estandar alta, esto quiere decir que hay una diferencia importante en los valores de los permisos, una posible causa es que los vehiculos de dicho año tienen distintos modelos (ejemplo no todos son autos y camionetas, pueden existir buses y camiones)\n",
    "3.Entre los años 1991 y 2011 los valores de los permisos se mantienen estables y con menor variacion, ademas de tener valores bajos.\n"
   ]
  },
  {
   "cell_type": "markdown",
   "metadata": {
    "id": "Q5xmPrWggtHU"
   },
   "source": [
    "**Pregunta 2: ¿Qué tipo de vehículo aporta más al pago de permisos de circulación en la comuna de Calbuco, año 2024?**"
   ]
  },
  {
   "cell_type": "markdown",
   "metadata": {
    "id": "8_CbEqdehJoC"
   },
   "source": [
    "Primero, veremos un gráfico simple con la cantidad de cada tipo de vehículo que paga permiso de circulación."
   ]
  },
  {
   "cell_type": "code",
   "execution_count": 22,
   "metadata": {
    "colab": {
     "base_uri": "https://localhost:8080/",
     "height": 544
    },
    "id": "CDe1I4ulHbHt",
    "outputId": "f88764c7-4ac0-41fe-9c61-4c6f7f1ef683"
   },
   "outputs": [
    {
     "data": {
      "text/plain": [
       "<Axes: xlabel='Grupo Vehiculo', ylabel='Count'>"
      ]
     },
     "execution_count": 22,
     "metadata": {},
     "output_type": "execute_result"
    },
    {
     "data": {
      "image/png": "[encoded data removed]",
      "text/plain": [
       "<Figure size 1900x600 with 1 Axes>"
      ]
     },
     "metadata": {},
     "output_type": "display_data"
    }
   ],
   "source": [
    "sns.histplot(data=permisos_filtro, x='Grupo Vehiculo')\n"
   ]
  },
  {
   "cell_type": "markdown",
   "metadata": {
    "id": "gU4lH1J6Lyvl"
   },
   "source": [
    "En el gráfico anterior sobresale el grupo de \"Vehículo Liviano\", muy por encima del grupo que le sigue: \"Transporte Público\". Por último, le sigue \"Carga\".\n",
    "\n",
    "Esto puede interpretarse que gran parte del parque automotriz está asociada al uso de vehiculos particulares, lo que podría ser consecuencia del bajo número de transporte público.\n",
    "\n",
    "El escaso número de vehículos de carga también podría significar que existen pocas actividades económicas que sean de la comuna y que demanden ese tipo de transporte comercial."
   ]
  },
  {
   "cell_type": "markdown",
   "metadata": {
    "id": "K9NG3CbVjYl5"
   },
   "source": [
    "**Pregunta 3: ¿Existe relación entre montos pagados por cada tipo de vehículos?**"
   ]
  },
  {
   "cell_type": "code",
   "execution_count": 23,
   "metadata": {
    "colab": {
     "base_uri": "https://localhost:8080/",
     "height": 507
    },
    "id": "17Rsxa3j6oX7",
    "outputId": "f7c8f49a-ffd4-412a-e881-fb7556cb5f69"
   },
   "outputs": [
    {
     "data": {
      "text/plain": [
       "<Axes: xlabel='Valor Pagado', ylabel='Grupo Vehiculo'>"
      ]
     },
     "execution_count": 23,
     "metadata": {},
     "output_type": "execute_result"
    },
    {
     "data": {
      "image/png": "[encoded data removed]",
      "text/plain": [
       "<Figure size 1900x600 with 1 Axes>"
      ]
     },
     "metadata": {},
     "output_type": "display_data"
    }
   ],
   "source": [
    "sns.boxplot(data=permisos_filtro, x='Valor Pagado',  y='Grupo Vehiculo')\n"
   ]
  },
  {
   "cell_type": "markdown",
   "metadata": {
    "id": "7yNQzD37MIiy"
   },
   "source": [
    "En este tercer gráfico, a diferencia del segundo, se ve que quienes más pagan son los vehículos de carga. Los vehículos livianos pagan menos, pero hay más valores repartidos hacia el extremo superior del pago, por fuera de las medidas de tendencia central, encontrándose en este grupo los valores pagados más altos.\n",
    "\n",
    "El transporte público, por último, se presenta con un pago más compacto, con valores por extremos (superior e inferior) bastante repartidos en relación a sus medidas de tendencia central."
   ]
  },
  {
   "cell_type": "markdown",
   "metadata": {
    "id": "QJ4ifGPTScxN"
   },
   "source": [
    "### **f) Tabla Cross: Construya una tabla de Equivalencias CrossTab en función de dos variables de estudio y analice su resultado. Escriba su respuesta en el informe.** (10 pts.)"
   ]
  },
  {
   "cell_type": "code",
   "execution_count": 24,
   "metadata": {
    "colab": {
     "base_uri": "https://localhost:8080/",
     "height": 298
    },
    "id": "fNeLo2vqUQdQ",
    "outputId": "197f33bb-aa0c-4bc0-f57a-bc4fc3151ac7"
   },
   "outputs": [
    {
     "data": {
      "text/html": [
       "<div>\n",
       "<style scoped>\n",
       "    .dataframe tbody tr th:only-of-type {\n",
       "        vertical-align: middle;\n",
       "    }\n",
       "\n",
       "    .dataframe tbody tr th {\n",
       "        vertical-align: top;\n",
       "    }\n",
       "\n",
       "    .dataframe thead th {\n",
       "        text-align: right;\n",
       "    }\n",
       "</style>\n",
       "<table border=\"1\" class=\"dataframe\">\n",
       "  <thead>\n",
       "    <tr style=\"text-align: right;\">\n",
       "      <th>Cilindrada</th>\n",
       "      <th>0.0</th>\n",
       "      <th>1.0</th>\n",
       "      <th>2.0</th>\n",
       "      <th>110.0</th>\n",
       "      <th>125.0</th>\n",
       "      <th>150.0</th>\n",
       "      <th>155.0</th>\n",
       "      <th>157.0</th>\n",
       "      <th>160.0</th>\n",
       "      <th>165.0</th>\n",
       "      <th>...</th>\n",
       "      <th>4460.0</th>\n",
       "      <th>4600.0</th>\n",
       "      <th>4700.0</th>\n",
       "      <th>5000.0</th>\n",
       "      <th>5200.0</th>\n",
       "      <th>5300.0</th>\n",
       "      <th>5400.0</th>\n",
       "      <th>5700.0</th>\n",
       "      <th>5900.0</th>\n",
       "      <th>6700.0</th>\n",
       "    </tr>\n",
       "    <tr>\n",
       "      <th>Transmisión</th>\n",
       "      <th></th>\n",
       "      <th></th>\n",
       "      <th></th>\n",
       "      <th></th>\n",
       "      <th></th>\n",
       "      <th></th>\n",
       "      <th></th>\n",
       "      <th></th>\n",
       "      <th></th>\n",
       "      <th></th>\n",
       "      <th></th>\n",
       "      <th></th>\n",
       "      <th></th>\n",
       "      <th></th>\n",
       "      <th></th>\n",
       "      <th></th>\n",
       "      <th></th>\n",
       "      <th></th>\n",
       "      <th></th>\n",
       "      <th></th>\n",
       "      <th></th>\n",
       "    </tr>\n",
       "  </thead>\n",
       "  <tbody>\n",
       "    <tr>\n",
       "      <th>AUT</th>\n",
       "      <td>0</td>\n",
       "      <td>0</td>\n",
       "      <td>0</td>\n",
       "      <td>0</td>\n",
       "      <td>0</td>\n",
       "      <td>0</td>\n",
       "      <td>0</td>\n",
       "      <td>0</td>\n",
       "      <td>0</td>\n",
       "      <td>0</td>\n",
       "      <td>...</td>\n",
       "      <td>0</td>\n",
       "      <td>0</td>\n",
       "      <td>1</td>\n",
       "      <td>0</td>\n",
       "      <td>0</td>\n",
       "      <td>0</td>\n",
       "      <td>0</td>\n",
       "      <td>0</td>\n",
       "      <td>0</td>\n",
       "      <td>0</td>\n",
       "    </tr>\n",
       "    <tr>\n",
       "      <th>Aut</th>\n",
       "      <td>0</td>\n",
       "      <td>0</td>\n",
       "      <td>0</td>\n",
       "      <td>0</td>\n",
       "      <td>0</td>\n",
       "      <td>1</td>\n",
       "      <td>0</td>\n",
       "      <td>0</td>\n",
       "      <td>0</td>\n",
       "      <td>0</td>\n",
       "      <td>...</td>\n",
       "      <td>0</td>\n",
       "      <td>2</td>\n",
       "      <td>7</td>\n",
       "      <td>9</td>\n",
       "      <td>4</td>\n",
       "      <td>6</td>\n",
       "      <td>2</td>\n",
       "      <td>13</td>\n",
       "      <td>2</td>\n",
       "      <td>5</td>\n",
       "    </tr>\n",
       "    <tr>\n",
       "      <th>CVT</th>\n",
       "      <td>0</td>\n",
       "      <td>0</td>\n",
       "      <td>0</td>\n",
       "      <td>0</td>\n",
       "      <td>0</td>\n",
       "      <td>0</td>\n",
       "      <td>0</td>\n",
       "      <td>0</td>\n",
       "      <td>0</td>\n",
       "      <td>0</td>\n",
       "      <td>...</td>\n",
       "      <td>0</td>\n",
       "      <td>0</td>\n",
       "      <td>0</td>\n",
       "      <td>0</td>\n",
       "      <td>0</td>\n",
       "      <td>0</td>\n",
       "      <td>0</td>\n",
       "      <td>0</td>\n",
       "      <td>0</td>\n",
       "      <td>0</td>\n",
       "    </tr>\n",
       "    <tr>\n",
       "      <th>DCT</th>\n",
       "      <td>0</td>\n",
       "      <td>0</td>\n",
       "      <td>0</td>\n",
       "      <td>0</td>\n",
       "      <td>0</td>\n",
       "      <td>0</td>\n",
       "      <td>0</td>\n",
       "      <td>0</td>\n",
       "      <td>0</td>\n",
       "      <td>0</td>\n",
       "      <td>...</td>\n",
       "      <td>0</td>\n",
       "      <td>0</td>\n",
       "      <td>0</td>\n",
       "      <td>0</td>\n",
       "      <td>0</td>\n",
       "      <td>0</td>\n",
       "      <td>0</td>\n",
       "      <td>0</td>\n",
       "      <td>0</td>\n",
       "      <td>0</td>\n",
       "    </tr>\n",
       "    <tr>\n",
       "      <th>MEC</th>\n",
       "      <td>10</td>\n",
       "      <td>28</td>\n",
       "      <td>1</td>\n",
       "      <td>0</td>\n",
       "      <td>0</td>\n",
       "      <td>8</td>\n",
       "      <td>1</td>\n",
       "      <td>1</td>\n",
       "      <td>2</td>\n",
       "      <td>1</td>\n",
       "      <td>...</td>\n",
       "      <td>1</td>\n",
       "      <td>0</td>\n",
       "      <td>0</td>\n",
       "      <td>0</td>\n",
       "      <td>0</td>\n",
       "      <td>0</td>\n",
       "      <td>0</td>\n",
       "      <td>0</td>\n",
       "      <td>0</td>\n",
       "      <td>0</td>\n",
       "    </tr>\n",
       "    <tr>\n",
       "      <th>Mec</th>\n",
       "      <td>9</td>\n",
       "      <td>0</td>\n",
       "      <td>0</td>\n",
       "      <td>1</td>\n",
       "      <td>10</td>\n",
       "      <td>31</td>\n",
       "      <td>0</td>\n",
       "      <td>0</td>\n",
       "      <td>1</td>\n",
       "      <td>0</td>\n",
       "      <td>...</td>\n",
       "      <td>0</td>\n",
       "      <td>0</td>\n",
       "      <td>0</td>\n",
       "      <td>0</td>\n",
       "      <td>0</td>\n",
       "      <td>0</td>\n",
       "      <td>0</td>\n",
       "      <td>0</td>\n",
       "      <td>0</td>\n",
       "      <td>0</td>\n",
       "    </tr>\n",
       "  </tbody>\n",
       "</table>\n",
       "<p>6 rows × 89 columns</p>\n",
       "</div>"
      ],
      "text/plain": [
       "Cilindrada   0.0     1.0     2.0     110.0   125.0   150.0   155.0   157.0   \\\n",
       "Transmisión                                                                   \n",
       "AUT               0       0       0       0       0       0       0       0   \n",
       "Aut               0       0       0       0       0       1       0       0   \n",
       "CVT               0       0       0       0       0       0       0       0   \n",
       "DCT               0       0       0       0       0       0       0       0   \n",
       "MEC              10      28       1       0       0       8       1       1   \n",
       "Mec               9       0       0       1      10      31       0       0   \n",
       "\n",
       "Cilindrada   160.0   165.0   ...  4460.0  4600.0  4700.0  5000.0  5200.0  \\\n",
       "Transmisión                  ...                                           \n",
       "AUT               0       0  ...       0       0       1       0       0   \n",
       "Aut               0       0  ...       0       2       7       9       4   \n",
       "CVT               0       0  ...       0       0       0       0       0   \n",
       "DCT               0       0  ...       0       0       0       0       0   \n",
       "MEC               2       1  ...       1       0       0       0       0   \n",
       "Mec               1       0  ...       0       0       0       0       0   \n",
       "\n",
       "Cilindrada   5300.0  5400.0  5700.0  5900.0  6700.0  \n",
       "Transmisión                                          \n",
       "AUT               0       0       0       0       0  \n",
       "Aut               6       2      13       2       5  \n",
       "CVT               0       0       0       0       0  \n",
       "DCT               0       0       0       0       0  \n",
       "MEC               0       0       0       0       0  \n",
       "Mec               0       0       0       0       0  \n",
       "\n",
       "[6 rows x 89 columns]"
      ]
     },
     "execution_count": 24,
     "metadata": {},
     "output_type": "execute_result"
    }
   ],
   "source": [
    "pd.crosstab(permisos_calbuco.Transmisión, permisos_calbuco.Cilindrada)"
   ]
  },
  {
   "cell_type": "markdown",
   "metadata": {
    "id": "oevcyhqFZaUy"
   },
   "source": [
    "El cuadro de equivalencias mostrado es un cuadro que refleja la correlación entre el tipo de transmisión de los automóviles y su cilindrada. A continuación, se detallan ciertos elementos significativos del análisis:\n",
    "- Características de Transmisión: La tabla presenta diversos tipos de transmisión, que parecen estar redactados en diferentes formatos para la transmisión automática (\"AUT\" y \"Aut\"), la transmisión variable continua (\"CVT\"), la transmisión de doble embrague (\"DCT\") y la transmisión manual (\"MEC\" y \"Mec\").\n",
    "- Cilíndrico: La cilindrada se muestra en aumentos concretos, desde cifras bajas (1.0, 2.0, etc.) hasta cifras elevadas (6,700), lo que indica una extensa variedad de tamaños motores en la información.\n",
    "- Distribución y Cilindrada de Transmisión: Para las transmisiones automáticas (AUT y Aut), la mayoría de los automóviles poseen cilindradas de tamaño reducido, con un incremento en cilindradas más habituales como 1500 y 2000.\n",
    "- Las transmisiones manuales (MEC y Mec) también se concentran en cilindradas más bajas, especialmente entre 1500 y 2000, aunque existe un rango de cilindradas más amplio que incluye motores de mayor tamaño, como 4400 y superiores.\n",
    "\n",
    "Definición General: Los vehículos de transmisión manual y automática comprenden una variedad de cilindradas, sin embargo, los de transmisión automática parecen dominar las cilindradas habituales para vehículos de uso frecuente (hasta 2000 cc)."
   ]
  },
  {
   "cell_type": "markdown",
   "metadata": {
    "id": "kODfoMuBSibg"
   },
   "source": [
    "### **g) Conclusiones: Resumir los hallazgos del trabajo y reflexionar sobre el proceso y los resultados obtenidos mediante las herramientas de ciencia de datos utilizadas (Python, Pandas, Seaborn).** (2,5 pts.)\n",
    "\n",
    "En este análisis de datos, sobre el pago de permisos de circulación en la Municipalidad de Calbuco para el año 2024, se han identificado patrones significativos en relación con las características de los vehículos y su impacto en la recaudación municipal.\n",
    "\n",
    "Queda en evidencia que existe una tendencia entre los vehículos más nuevos a pagar valores más altos por sus permisos, lo que refleja la relación que existe entre el valor de tasación del vehículo y lo que se paga. Aunque los vehículos de carga y de servicio público aparecen entre los que pagan mayores cantidades, aunque en menor número, las tarifas de registro de vehículos siguen siendo altas para la mayoría de los vehículos livianos, con una probabilidad de que sus pagos se dispersen en un número mayor de rangos de pago más amplios.  Esto se capta claramente en el análisis gráfico.\n",
    "\n",
    "La interpretación de estos datos podría aportar valor a la administración municipal, ya que permite identificar qué tipo de vehículos contribuyen de manera más significativa a la recaudación y cómo el parque vehicular refleja la actividad económica y las necesidades de transporte de la comuna.\n",
    "\n",
    "A través de los análisis realizados con las herramientas aprendidas en clase, también se comprendieron que las interrelaciones gráficas muestran, respectivamente, cómo se relacionan las variables y el cálculo de las medidas de tendencia central, lo cual es importante para ver los patrones en los datos.\n",
    "El proceso de trabajar con estas herramientas fue enriquecedor; permite comprender grandes cantidades de datos y llegar a conclusiones prácticas aplicables al contexto de Calbuco: optimizar políticas de recaudación o identificar tendencias futuras en el parque automotriz de la comuna mediante la reproducción y ampliación de este tipo de análisis."
   ]
  },
  {
   "cell_type": "markdown",
   "metadata": {
    "id": "zo2ll-4tSp7U"
   },
   "source": [
    "### **h) Realice una grabación en un máximo de 10 minutos explicando cada una de las secciones anteriores. 5 pts. de descuento por cada integrante del grupo que no participe en el video.** (20 pts.)\n"
   ]
  },
  {
   "cell_type": "markdown",
   "metadata": {},
   "source": [
    "Video disponible en este enlace, así como CSV utilizado: \n",
    "\n",
    "https://drive.google.com/drive/folders/1cHEp4vVIcm5OY8qne5UEOMRIdZsJ9K_Q?usp=drive_link\n",
    "\n"
   ]
  }
 ],
 "metadata": {
  "colab": {
   "provenance": []
  },
  "kernelspec": {
   "display_name": "desafiolatam1",
   "language": "python",
   "name": "python3"
  },
  "language_info": {
   "codemirror_mode": {
    "name": "ipython",
    "version": 3
   },
   "file_extension": ".py",
   "mimetype": "text/x-python",
   "name": "python",
   "nbconvert_exporter": "python",
   "pygments_lexer": "ipython3",
   "version": "3.9.18"
  }
 },
 "nbformat": 4,
 "nbformat_minor": 4
}
