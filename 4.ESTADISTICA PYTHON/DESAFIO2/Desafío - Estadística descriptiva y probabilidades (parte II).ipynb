{
 "cells": [
  {
   "cell_type": "markdown",
   "metadata": {},
   "source": [
    "# **DESAFÍO Nº2: ESTADÍSTICAS DESCRIPTIVAS Y PROBABILIDADES (PARTE II)**\n",
    "### **Módulo 4: Análisis Estadístico con Python**\n",
    "#### *Carrera Data Science - G-78 - Desafio Latam*\n",
    "#### Estudiante: Felipe Leal Arancibia"
   ]
  },
  {
   "cell_type": "markdown",
   "metadata": {},
   "source": [
    "En este desafío validaremos nuestros conocimientos relacionados con probabilidades. Para lograrlo, necesitarás aplicar lo que has aprendido durante esa sesión.\n",
    "\n",
    "Lee todo el documento antes de comenzar el desarrollo individual, para asegurarte de tener el máximo de puntaje y enfocar bien los esfuerzos.\n",
    "\n",
    "Tiempo asociado: 2 horas cronológicas"
   ]
  },
  {
   "cell_type": "markdown",
   "metadata": {},
   "source": [
    "## Descripción\n",
    "\n",
    "#### Una casa de apuestas quiere perfeccionar sus modelos de estimaciones de factores de apuestas, por lo que quiere hacer una revisión sobre los resultados del Mundial 2014.\n",
    "\n",
    "#### Para resolver este desafío deberás cargar datos desde el dataset worldcup2014.csv, y realizar las operaciones necesarias para determinar lo pedido."
   ]
  },
  {
   "cell_type": "code",
   "execution_count": 1,
   "id": "51fa0f81",
   "metadata": {},
   "outputs": [],
   "source": [
    "# Se importan librerías para explorar bbdd en cvs\n",
    "import pandas as pd\n",
    "import numpy as np"
   ]
  },
  {
   "cell_type": "code",
   "execution_count": 2,
   "id": "3dcd4300",
   "metadata": {},
   "outputs": [
    {
     "data": {
      "text/html": [
       "<div>\n",
       "<style scoped>\n",
       "    .dataframe tbody tr th:only-of-type {\n",
       "        vertical-align: middle;\n",
       "    }\n",
       "\n",
       "    .dataframe tbody tr th {\n",
       "        vertical-align: top;\n",
       "    }\n",
       "\n",
       "    .dataframe thead th {\n",
       "        text-align: right;\n",
       "    }\n",
       "</style>\n",
       "<table border=\"1\" class=\"dataframe\">\n",
       "  <thead>\n",
       "    <tr style=\"text-align: right;\">\n",
       "      <th></th>\n",
       "      <th>team</th>\n",
       "      <th>continent</th>\n",
       "      <th>group</th>\n",
       "      <th>group_pos</th>\n",
       "      <th>cantidad_juegos</th>\n",
       "      <th>juegos_ganados</th>\n",
       "      <th>juegos_empatados</th>\n",
       "      <th>juegos_perdidos</th>\n",
       "      <th>goles_favor</th>\n",
       "      <th>goles_contra</th>\n",
       "      <th>goles_diferencia</th>\n",
       "      <th>puntos</th>\n",
       "      <th>clasificado</th>\n",
       "    </tr>\n",
       "  </thead>\n",
       "  <tbody>\n",
       "    <tr>\n",
       "      <th>0</th>\n",
       "      <td>Brazil</td>\n",
       "      <td>southamerica</td>\n",
       "      <td>A</td>\n",
       "      <td>1</td>\n",
       "      <td>3</td>\n",
       "      <td>2</td>\n",
       "      <td>1</td>\n",
       "      <td>0</td>\n",
       "      <td>7</td>\n",
       "      <td>2</td>\n",
       "      <td>5</td>\n",
       "      <td>7</td>\n",
       "      <td>1</td>\n",
       "    </tr>\n",
       "    <tr>\n",
       "      <th>1</th>\n",
       "      <td>Mexico</td>\n",
       "      <td>northamerica</td>\n",
       "      <td>A</td>\n",
       "      <td>2</td>\n",
       "      <td>3</td>\n",
       "      <td>2</td>\n",
       "      <td>1</td>\n",
       "      <td>0</td>\n",
       "      <td>4</td>\n",
       "      <td>1</td>\n",
       "      <td>3</td>\n",
       "      <td>7</td>\n",
       "      <td>1</td>\n",
       "    </tr>\n",
       "    <tr>\n",
       "      <th>2</th>\n",
       "      <td>Croatia</td>\n",
       "      <td>europe</td>\n",
       "      <td>A</td>\n",
       "      <td>3</td>\n",
       "      <td>3</td>\n",
       "      <td>1</td>\n",
       "      <td>0</td>\n",
       "      <td>2</td>\n",
       "      <td>6</td>\n",
       "      <td>6</td>\n",
       "      <td>0</td>\n",
       "      <td>3</td>\n",
       "      <td>0</td>\n",
       "    </tr>\n",
       "    <tr>\n",
       "      <th>3</th>\n",
       "      <td>Cameroon</td>\n",
       "      <td>africa</td>\n",
       "      <td>A</td>\n",
       "      <td>4</td>\n",
       "      <td>3</td>\n",
       "      <td>0</td>\n",
       "      <td>0</td>\n",
       "      <td>3</td>\n",
       "      <td>1</td>\n",
       "      <td>9</td>\n",
       "      <td>−8</td>\n",
       "      <td>0</td>\n",
       "      <td>0</td>\n",
       "    </tr>\n",
       "    <tr>\n",
       "      <th>4</th>\n",
       "      <td>Netherlands</td>\n",
       "      <td>europe</td>\n",
       "      <td>B</td>\n",
       "      <td>1</td>\n",
       "      <td>3</td>\n",
       "      <td>3</td>\n",
       "      <td>0</td>\n",
       "      <td>0</td>\n",
       "      <td>10</td>\n",
       "      <td>3</td>\n",
       "      <td>7</td>\n",
       "      <td>9</td>\n",
       "      <td>1</td>\n",
       "    </tr>\n",
       "    <tr>\n",
       "      <th>5</th>\n",
       "      <td>Chile</td>\n",
       "      <td>southamerica</td>\n",
       "      <td>B</td>\n",
       "      <td>2</td>\n",
       "      <td>3</td>\n",
       "      <td>2</td>\n",
       "      <td>0</td>\n",
       "      <td>1</td>\n",
       "      <td>5</td>\n",
       "      <td>3</td>\n",
       "      <td>2</td>\n",
       "      <td>6</td>\n",
       "      <td>1</td>\n",
       "    </tr>\n",
       "    <tr>\n",
       "      <th>6</th>\n",
       "      <td>Spain</td>\n",
       "      <td>europe</td>\n",
       "      <td>B</td>\n",
       "      <td>3</td>\n",
       "      <td>3</td>\n",
       "      <td>1</td>\n",
       "      <td>0</td>\n",
       "      <td>2</td>\n",
       "      <td>4</td>\n",
       "      <td>7</td>\n",
       "      <td>−3</td>\n",
       "      <td>3</td>\n",
       "      <td>0</td>\n",
       "    </tr>\n",
       "    <tr>\n",
       "      <th>7</th>\n",
       "      <td>Australia</td>\n",
       "      <td>asia</td>\n",
       "      <td>B</td>\n",
       "      <td>4</td>\n",
       "      <td>3</td>\n",
       "      <td>0</td>\n",
       "      <td>0</td>\n",
       "      <td>3</td>\n",
       "      <td>3</td>\n",
       "      <td>9</td>\n",
       "      <td>−6</td>\n",
       "      <td>0</td>\n",
       "      <td>0</td>\n",
       "    </tr>\n",
       "    <tr>\n",
       "      <th>8</th>\n",
       "      <td>Colombia</td>\n",
       "      <td>southamerica</td>\n",
       "      <td>C</td>\n",
       "      <td>1</td>\n",
       "      <td>3</td>\n",
       "      <td>3</td>\n",
       "      <td>0</td>\n",
       "      <td>0</td>\n",
       "      <td>9</td>\n",
       "      <td>2</td>\n",
       "      <td>7</td>\n",
       "      <td>9</td>\n",
       "      <td>1</td>\n",
       "    </tr>\n",
       "    <tr>\n",
       "      <th>9</th>\n",
       "      <td>Greece</td>\n",
       "      <td>europe</td>\n",
       "      <td>C</td>\n",
       "      <td>2</td>\n",
       "      <td>3</td>\n",
       "      <td>1</td>\n",
       "      <td>1</td>\n",
       "      <td>1</td>\n",
       "      <td>2</td>\n",
       "      <td>4</td>\n",
       "      <td>−2</td>\n",
       "      <td>4</td>\n",
       "      <td>1</td>\n",
       "    </tr>\n",
       "    <tr>\n",
       "      <th>10</th>\n",
       "      <td>Ivory Coast</td>\n",
       "      <td>africa</td>\n",
       "      <td>C</td>\n",
       "      <td>3</td>\n",
       "      <td>3</td>\n",
       "      <td>1</td>\n",
       "      <td>0</td>\n",
       "      <td>2</td>\n",
       "      <td>4</td>\n",
       "      <td>5</td>\n",
       "      <td>−1</td>\n",
       "      <td>3</td>\n",
       "      <td>0</td>\n",
       "    </tr>\n",
       "    <tr>\n",
       "      <th>11</th>\n",
       "      <td>Japan</td>\n",
       "      <td>asia</td>\n",
       "      <td>C</td>\n",
       "      <td>4</td>\n",
       "      <td>3</td>\n",
       "      <td>0</td>\n",
       "      <td>1</td>\n",
       "      <td>2</td>\n",
       "      <td>2</td>\n",
       "      <td>6</td>\n",
       "      <td>−4</td>\n",
       "      <td>1</td>\n",
       "      <td>0</td>\n",
       "    </tr>\n",
       "    <tr>\n",
       "      <th>12</th>\n",
       "      <td>Costa Rica</td>\n",
       "      <td>northamerica</td>\n",
       "      <td>D</td>\n",
       "      <td>1</td>\n",
       "      <td>3</td>\n",
       "      <td>2</td>\n",
       "      <td>1</td>\n",
       "      <td>0</td>\n",
       "      <td>4</td>\n",
       "      <td>1</td>\n",
       "      <td>3</td>\n",
       "      <td>7</td>\n",
       "      <td>1</td>\n",
       "    </tr>\n",
       "    <tr>\n",
       "      <th>13</th>\n",
       "      <td>Uruguay</td>\n",
       "      <td>southamerica</td>\n",
       "      <td>D</td>\n",
       "      <td>2</td>\n",
       "      <td>3</td>\n",
       "      <td>2</td>\n",
       "      <td>0</td>\n",
       "      <td>1</td>\n",
       "      <td>4</td>\n",
       "      <td>4</td>\n",
       "      <td>0</td>\n",
       "      <td>6</td>\n",
       "      <td>1</td>\n",
       "    </tr>\n",
       "    <tr>\n",
       "      <th>14</th>\n",
       "      <td>Italy</td>\n",
       "      <td>europe</td>\n",
       "      <td>D</td>\n",
       "      <td>3</td>\n",
       "      <td>3</td>\n",
       "      <td>1</td>\n",
       "      <td>0</td>\n",
       "      <td>2</td>\n",
       "      <td>2</td>\n",
       "      <td>3</td>\n",
       "      <td>−1</td>\n",
       "      <td>3</td>\n",
       "      <td>0</td>\n",
       "    </tr>\n",
       "    <tr>\n",
       "      <th>15</th>\n",
       "      <td>England</td>\n",
       "      <td>europe</td>\n",
       "      <td>D</td>\n",
       "      <td>4</td>\n",
       "      <td>3</td>\n",
       "      <td>0</td>\n",
       "      <td>1</td>\n",
       "      <td>2</td>\n",
       "      <td>2</td>\n",
       "      <td>4</td>\n",
       "      <td>−2</td>\n",
       "      <td>1</td>\n",
       "      <td>0</td>\n",
       "    </tr>\n",
       "    <tr>\n",
       "      <th>16</th>\n",
       "      <td>France</td>\n",
       "      <td>europe</td>\n",
       "      <td>E</td>\n",
       "      <td>1</td>\n",
       "      <td>3</td>\n",
       "      <td>2</td>\n",
       "      <td>1</td>\n",
       "      <td>0</td>\n",
       "      <td>8</td>\n",
       "      <td>2</td>\n",
       "      <td>6</td>\n",
       "      <td>7</td>\n",
       "      <td>1</td>\n",
       "    </tr>\n",
       "    <tr>\n",
       "      <th>17</th>\n",
       "      <td>Switzerland</td>\n",
       "      <td>europe</td>\n",
       "      <td>E</td>\n",
       "      <td>2</td>\n",
       "      <td>3</td>\n",
       "      <td>2</td>\n",
       "      <td>0</td>\n",
       "      <td>1</td>\n",
       "      <td>7</td>\n",
       "      <td>6</td>\n",
       "      <td>1</td>\n",
       "      <td>6</td>\n",
       "      <td>1</td>\n",
       "    </tr>\n",
       "    <tr>\n",
       "      <th>18</th>\n",
       "      <td>Ecuador</td>\n",
       "      <td>southamerica</td>\n",
       "      <td>E</td>\n",
       "      <td>3</td>\n",
       "      <td>3</td>\n",
       "      <td>1</td>\n",
       "      <td>1</td>\n",
       "      <td>1</td>\n",
       "      <td>3</td>\n",
       "      <td>3</td>\n",
       "      <td>0</td>\n",
       "      <td>4</td>\n",
       "      <td>0</td>\n",
       "    </tr>\n",
       "    <tr>\n",
       "      <th>19</th>\n",
       "      <td>Honduras</td>\n",
       "      <td>northamerica</td>\n",
       "      <td>E</td>\n",
       "      <td>4</td>\n",
       "      <td>3</td>\n",
       "      <td>0</td>\n",
       "      <td>0</td>\n",
       "      <td>3</td>\n",
       "      <td>1</td>\n",
       "      <td>8</td>\n",
       "      <td>−7</td>\n",
       "      <td>0</td>\n",
       "      <td>0</td>\n",
       "    </tr>\n",
       "    <tr>\n",
       "      <th>20</th>\n",
       "      <td>Argentina</td>\n",
       "      <td>southamerica</td>\n",
       "      <td>F</td>\n",
       "      <td>1</td>\n",
       "      <td>3</td>\n",
       "      <td>3</td>\n",
       "      <td>0</td>\n",
       "      <td>0</td>\n",
       "      <td>6</td>\n",
       "      <td>3</td>\n",
       "      <td>3</td>\n",
       "      <td>9</td>\n",
       "      <td>1</td>\n",
       "    </tr>\n",
       "    <tr>\n",
       "      <th>21</th>\n",
       "      <td>Nigeria</td>\n",
       "      <td>africa</td>\n",
       "      <td>F</td>\n",
       "      <td>2</td>\n",
       "      <td>3</td>\n",
       "      <td>1</td>\n",
       "      <td>1</td>\n",
       "      <td>1</td>\n",
       "      <td>3</td>\n",
       "      <td>3</td>\n",
       "      <td>0</td>\n",
       "      <td>4</td>\n",
       "      <td>1</td>\n",
       "    </tr>\n",
       "    <tr>\n",
       "      <th>22</th>\n",
       "      <td>Bosnia and Herzegovina</td>\n",
       "      <td>europe</td>\n",
       "      <td>F</td>\n",
       "      <td>3</td>\n",
       "      <td>3</td>\n",
       "      <td>1</td>\n",
       "      <td>0</td>\n",
       "      <td>2</td>\n",
       "      <td>4</td>\n",
       "      <td>4</td>\n",
       "      <td>0</td>\n",
       "      <td>3</td>\n",
       "      <td>0</td>\n",
       "    </tr>\n",
       "    <tr>\n",
       "      <th>23</th>\n",
       "      <td>Iran</td>\n",
       "      <td>asia</td>\n",
       "      <td>F</td>\n",
       "      <td>4</td>\n",
       "      <td>3</td>\n",
       "      <td>0</td>\n",
       "      <td>1</td>\n",
       "      <td>2</td>\n",
       "      <td>1</td>\n",
       "      <td>4</td>\n",
       "      <td>−3</td>\n",
       "      <td>1</td>\n",
       "      <td>0</td>\n",
       "    </tr>\n",
       "    <tr>\n",
       "      <th>24</th>\n",
       "      <td>Germany</td>\n",
       "      <td>europe</td>\n",
       "      <td>G</td>\n",
       "      <td>1</td>\n",
       "      <td>3</td>\n",
       "      <td>2</td>\n",
       "      <td>1</td>\n",
       "      <td>0</td>\n",
       "      <td>7</td>\n",
       "      <td>2</td>\n",
       "      <td>5</td>\n",
       "      <td>7</td>\n",
       "      <td>1</td>\n",
       "    </tr>\n",
       "    <tr>\n",
       "      <th>25</th>\n",
       "      <td>United States</td>\n",
       "      <td>northamerica</td>\n",
       "      <td>G</td>\n",
       "      <td>2</td>\n",
       "      <td>3</td>\n",
       "      <td>1</td>\n",
       "      <td>1</td>\n",
       "      <td>1</td>\n",
       "      <td>4</td>\n",
       "      <td>4</td>\n",
       "      <td>0</td>\n",
       "      <td>4</td>\n",
       "      <td>1</td>\n",
       "    </tr>\n",
       "    <tr>\n",
       "      <th>26</th>\n",
       "      <td>Portugal</td>\n",
       "      <td>europe</td>\n",
       "      <td>G</td>\n",
       "      <td>3</td>\n",
       "      <td>3</td>\n",
       "      <td>1</td>\n",
       "      <td>1</td>\n",
       "      <td>1</td>\n",
       "      <td>4</td>\n",
       "      <td>7</td>\n",
       "      <td>−3</td>\n",
       "      <td>4</td>\n",
       "      <td>0</td>\n",
       "    </tr>\n",
       "    <tr>\n",
       "      <th>27</th>\n",
       "      <td>Ghana</td>\n",
       "      <td>africa</td>\n",
       "      <td>G</td>\n",
       "      <td>4</td>\n",
       "      <td>3</td>\n",
       "      <td>0</td>\n",
       "      <td>1</td>\n",
       "      <td>2</td>\n",
       "      <td>4</td>\n",
       "      <td>6</td>\n",
       "      <td>−2</td>\n",
       "      <td>1</td>\n",
       "      <td>0</td>\n",
       "    </tr>\n",
       "    <tr>\n",
       "      <th>28</th>\n",
       "      <td>Belgium</td>\n",
       "      <td>europe</td>\n",
       "      <td>H</td>\n",
       "      <td>1</td>\n",
       "      <td>3</td>\n",
       "      <td>3</td>\n",
       "      <td>0</td>\n",
       "      <td>0</td>\n",
       "      <td>4</td>\n",
       "      <td>1</td>\n",
       "      <td>3</td>\n",
       "      <td>9</td>\n",
       "      <td>1</td>\n",
       "    </tr>\n",
       "    <tr>\n",
       "      <th>29</th>\n",
       "      <td>Algeria</td>\n",
       "      <td>africa</td>\n",
       "      <td>H</td>\n",
       "      <td>2</td>\n",
       "      <td>3</td>\n",
       "      <td>1</td>\n",
       "      <td>1</td>\n",
       "      <td>1</td>\n",
       "      <td>6</td>\n",
       "      <td>5</td>\n",
       "      <td>1</td>\n",
       "      <td>4</td>\n",
       "      <td>1</td>\n",
       "    </tr>\n",
       "    <tr>\n",
       "      <th>30</th>\n",
       "      <td>Russia</td>\n",
       "      <td>europe</td>\n",
       "      <td>H</td>\n",
       "      <td>3</td>\n",
       "      <td>3</td>\n",
       "      <td>0</td>\n",
       "      <td>2</td>\n",
       "      <td>1</td>\n",
       "      <td>2</td>\n",
       "      <td>3</td>\n",
       "      <td>−1</td>\n",
       "      <td>2</td>\n",
       "      <td>0</td>\n",
       "    </tr>\n",
       "    <tr>\n",
       "      <th>31</th>\n",
       "      <td>South Korea</td>\n",
       "      <td>asia</td>\n",
       "      <td>H</td>\n",
       "      <td>4</td>\n",
       "      <td>3</td>\n",
       "      <td>0</td>\n",
       "      <td>1</td>\n",
       "      <td>2</td>\n",
       "      <td>3</td>\n",
       "      <td>6</td>\n",
       "      <td>−3</td>\n",
       "      <td>1</td>\n",
       "      <td>0</td>\n",
       "    </tr>\n",
       "  </tbody>\n",
       "</table>\n",
       "</div>"
      ],
      "text/plain": [
       "                      team     continent group  group_pos  cantidad_juegos  \\\n",
       "0                   Brazil  southamerica     A          1                3   \n",
       "1                   Mexico  northamerica     A          2                3   \n",
       "2                  Croatia        europe     A          3                3   \n",
       "3                 Cameroon        africa     A          4                3   \n",
       "4              Netherlands        europe     B          1                3   \n",
       "5                    Chile  southamerica     B          2                3   \n",
       "6                    Spain        europe     B          3                3   \n",
       "7                Australia          asia     B          4                3   \n",
       "8                 Colombia  southamerica     C          1                3   \n",
       "9                   Greece        europe     C          2                3   \n",
       "10             Ivory Coast        africa     C          3                3   \n",
       "11                   Japan          asia     C          4                3   \n",
       "12              Costa Rica  northamerica     D          1                3   \n",
       "13                 Uruguay  southamerica     D          2                3   \n",
       "14                   Italy        europe     D          3                3   \n",
       "15                 England        europe     D          4                3   \n",
       "16                  France        europe     E          1                3   \n",
       "17             Switzerland        europe     E          2                3   \n",
       "18                 Ecuador  southamerica     E          3                3   \n",
       "19                Honduras  northamerica     E          4                3   \n",
       "20               Argentina  southamerica     F          1                3   \n",
       "21                 Nigeria        africa     F          2                3   \n",
       "22  Bosnia and Herzegovina        europe     F          3                3   \n",
       "23                    Iran          asia     F          4                3   \n",
       "24                 Germany        europe     G          1                3   \n",
       "25           United States  northamerica     G          2                3   \n",
       "26                Portugal        europe     G          3                3   \n",
       "27                   Ghana        africa     G          4                3   \n",
       "28                 Belgium        europe     H          1                3   \n",
       "29                 Algeria        africa     H          2                3   \n",
       "30                  Russia        europe     H          3                3   \n",
       "31             South Korea          asia     H          4                3   \n",
       "\n",
       "    juegos_ganados  juegos_empatados  juegos_perdidos  goles_favor  \\\n",
       "0                2                 1                0            7   \n",
       "1                2                 1                0            4   \n",
       "2                1                 0                2            6   \n",
       "3                0                 0                3            1   \n",
       "4                3                 0                0           10   \n",
       "5                2                 0                1            5   \n",
       "6                1                 0                2            4   \n",
       "7                0                 0                3            3   \n",
       "8                3                 0                0            9   \n",
       "9                1                 1                1            2   \n",
       "10               1                 0                2            4   \n",
       "11               0                 1                2            2   \n",
       "12               2                 1                0            4   \n",
       "13               2                 0                1            4   \n",
       "14               1                 0                2            2   \n",
       "15               0                 1                2            2   \n",
       "16               2                 1                0            8   \n",
       "17               2                 0                1            7   \n",
       "18               1                 1                1            3   \n",
       "19               0                 0                3            1   \n",
       "20               3                 0                0            6   \n",
       "21               1                 1                1            3   \n",
       "22               1                 0                2            4   \n",
       "23               0                 1                2            1   \n",
       "24               2                 1                0            7   \n",
       "25               1                 1                1            4   \n",
       "26               1                 1                1            4   \n",
       "27               0                 1                2            4   \n",
       "28               3                 0                0            4   \n",
       "29               1                 1                1            6   \n",
       "30               0                 2                1            2   \n",
       "31               0                 1                2            3   \n",
       "\n",
       "    goles_contra goles_diferencia  puntos  clasificado  \n",
       "0              2                5       7            1  \n",
       "1              1                3       7            1  \n",
       "2              6                0       3            0  \n",
       "3              9               −8       0            0  \n",
       "4              3                7       9            1  \n",
       "5              3                2       6            1  \n",
       "6              7               −3       3            0  \n",
       "7              9               −6       0            0  \n",
       "8              2                7       9            1  \n",
       "9              4               −2       4            1  \n",
       "10             5               −1       3            0  \n",
       "11             6               −4       1            0  \n",
       "12             1                3       7            1  \n",
       "13             4                0       6            1  \n",
       "14             3               −1       3            0  \n",
       "15             4               −2       1            0  \n",
       "16             2                6       7            1  \n",
       "17             6                1       6            1  \n",
       "18             3                0       4            0  \n",
       "19             8               −7       0            0  \n",
       "20             3                3       9            1  \n",
       "21             3                0       4            1  \n",
       "22             4                0       3            0  \n",
       "23             4               −3       1            0  \n",
       "24             2                5       7            1  \n",
       "25             4                0       4            1  \n",
       "26             7               −3       4            0  \n",
       "27             6               −2       1            0  \n",
       "28             1                3       9            1  \n",
       "29             5                1       4            1  \n",
       "30             3               −1       2            0  \n",
       "31             6               −3       1            0  "
      ]
     },
     "execution_count": 2,
     "metadata": {},
     "output_type": "execute_result"
    }
   ],
   "source": [
    "# Se cargan los datos de archivo\n",
    "\n",
    "mundial_2014 = pd.read_csv('worldcup2014.csv', delimiter=',')\n",
    "mundial_2014"
   ]
  },
  {
   "cell_type": "markdown",
   "metadata": {},
   "source": [
    "#### 1. Considerando el experimento de seleccionar un país participante al azar, se pide determinar las probabilidades de los siguientes sucesos:\n",
    "\n",
    "#### *Hint: define previamente condiciones para realizar los conteos*\n"
   ]
  },
  {
   "cell_type": "code",
   "execution_count": 121,
   "id": "fcb3eb3b",
   "metadata": {},
   "outputs": [
    {
     "name": "stdout",
     "output_type": "stream",
     "text": [
      "De África participan 5 selecciones.\n",
      "De Asia participan 4 selecciones.\n",
      "De Europa participan 13 selecciones.\n",
      "De Norteamérica participan 4 selecciones.\n",
      "De Sudamérica participan 6 selecciones.\n"
     ]
    }
   ],
   "source": [
    "# conteos iniciales\n",
    "\n",
    "conteo_africa = mundial_2014['continent'].value_counts()['africa']\n",
    "conteo_asia = mundial_2014['continent'].value_counts()['asia']\n",
    "conteo_europa = mundial_2014['continent'].value_counts()['europe']\n",
    "conteo_norteamerica = mundial_2014['continent'].value_counts()['northamerica']\n",
    "conteo_sudamerica = mundial_2014['continent'].value_counts()['southamerica']\n",
    "\n",
    "# Se define un diccionario para mayor claridad de un próximo print\n",
    "dict_conteos = {\"África\": conteo_africa, \"Asia\": conteo_asia, \"Europa\": conteo_europa, \"Norteamérica\": conteo_norteamerica, \"Sudamérica\": conteo_sudamerica} \n",
    "# ciclo\n",
    "for continente, cantidad in dict_conteos.items():\n",
    "    print(f\"De {continente} participan {cantidad} selecciones.\")"
   ]
  },
  {
   "cell_type": "markdown",
   "id": "5ccad8bd",
   "metadata": {},
   "source": [
    "##### a. pertenecer a África"
   ]
  },
  {
   "cell_type": "code",
   "execution_count": 3,
   "metadata": {},
   "outputs": [
    {
     "data": {
      "text/plain": [
       "'La probabilidad de que una selección sea de África es de: 0.16'"
      ]
     },
     "execution_count": 3,
     "metadata": {},
     "output_type": "execute_result"
    }
   ],
   "source": [
    "# probabilidad --> p = casos / total\n",
    "p_africa = round((conteo_africa / len(mundial_2014)),2)\n",
    "f'La probabilidad de que una selección sea de África es de: {p_africa}'"
   ]
  },
  {
   "cell_type": "markdown",
   "id": "d8f7e07b",
   "metadata": {},
   "source": [
    "##### b. pertenecer a Asia"
   ]
  },
  {
   "cell_type": "code",
   "execution_count": 4,
   "id": "8f388901",
   "metadata": {},
   "outputs": [
    {
     "data": {
      "text/plain": [
       "'La probabilidad de que una selección sea de Asia es de: 0.12'"
      ]
     },
     "execution_count": 4,
     "metadata": {},
     "output_type": "execute_result"
    }
   ],
   "source": [
    "p_asia = round((conteo_asia / len(mundial_2014)),2)\n",
    "f'La probabilidad de que una selección sea de Asia es de: {p_asia}'"
   ]
  },
  {
   "cell_type": "markdown",
   "id": "53997a4c",
   "metadata": {},
   "source": [
    "##### c. pertenecer a Europa"
   ]
  },
  {
   "cell_type": "code",
   "execution_count": 5,
   "id": "badc6f0a",
   "metadata": {},
   "outputs": [
    {
     "data": {
      "text/plain": [
       "'La probabilidad de que una selección sea de Europa es de: 0.41'"
      ]
     },
     "execution_count": 5,
     "metadata": {},
     "output_type": "execute_result"
    }
   ],
   "source": [
    "p_europa = round((conteo_europa / len(mundial_2014)),2)\n",
    "f'La probabilidad de que una selección sea de Europa es de: {p_europa}'"
   ]
  },
  {
   "cell_type": "markdown",
   "id": "c91da452",
   "metadata": {},
   "source": [
    "##### d. pertenecer a Norteamérica"
   ]
  },
  {
   "cell_type": "code",
   "execution_count": 6,
   "id": "37829dc4",
   "metadata": {},
   "outputs": [
    {
     "data": {
      "text/plain": [
       "'La probabilidad de que una selección sea de Norteamérica es de: 0.12'"
      ]
     },
     "execution_count": 6,
     "metadata": {},
     "output_type": "execute_result"
    }
   ],
   "source": [
    "p_norteamerica = round((conteo_norteamerica / len(mundial_2014)),2)\n",
    "f'La probabilidad de que una selección sea de Norteamérica es de: {p_norteamerica}'"
   ]
  },
  {
   "cell_type": "markdown",
   "id": "2e4894d5",
   "metadata": {},
   "source": [
    "##### e. pertenecer a Sudamérica\n"
   ]
  },
  {
   "cell_type": "code",
   "execution_count": 7,
   "id": "5fa88dad",
   "metadata": {},
   "outputs": [
    {
     "data": {
      "text/plain": [
       "'La probabilidad de que una selección sea de Sudamérica es de: 0.19'"
      ]
     },
     "execution_count": 7,
     "metadata": {},
     "output_type": "execute_result"
    }
   ],
   "source": [
    "p_sudamerica = round((conteo_sudamerica / len(mundial_2014)),2)\n",
    "f'La probabilidad de que una selección sea de Sudamérica es de: {p_sudamerica}'"
   ]
  },
  {
   "cell_type": "markdown",
   "id": "b5c6f8ff",
   "metadata": {},
   "source": [
    "##### f. clasificar a segunda ronda"
   ]
  },
  {
   "cell_type": "code",
   "execution_count": 174,
   "id": "d63f6740",
   "metadata": {},
   "outputs": [
    {
     "data": {
      "text/plain": [
       "'La probabilidad de que una selección clasifique a segunda ronda es: 0.5'"
      ]
     },
     "execution_count": 174,
     "metadata": {},
     "output_type": "execute_result"
    }
   ],
   "source": [
    "# Se considera que el valor 1 es \"clasificados\", por lo que se hace un llamado directo a ese valor\n",
    "conteo_clasificados = mundial_2014['clasificado'].value_counts()[1]\n",
    "\n",
    "# p = casos / total\n",
    "p_clasificados = round((conteo_clasificados / len(mundial_2014)),2)\n",
    "f'La probabilidad de que una selección clasifique a segunda ronda es: {p_clasificados}'"
   ]
  },
  {
   "cell_type": "markdown",
   "id": "dfc5d930",
   "metadata": {},
   "source": [
    "##### g. ganar al menos un partido"
   ]
  },
  {
   "cell_type": "code",
   "execution_count": 210,
   "id": "0246dd44",
   "metadata": {},
   "outputs": [
    {
     "name": "stdout",
     "output_type": "stream",
     "text": [
      "Conteo de partidos ganados: juegos_ganados\n",
      "1    11\n",
      "0     9\n",
      "2     8\n",
      "3     4\n",
      "Name: count, dtype: int64\n",
      "Suma de partidos ganados (desde 1 partido): 23\n",
      "La probabilidad de ganar al menos 1 partido es de: 0.71875\n"
     ]
    }
   ],
   "source": [
    "# conteo de todos los partidos ganados\n",
    "conteo_partidos_ganados = mundial_2014['juegos_ganados'].value_counts()\n",
    "print(f\"Conteo de partidos ganados: {conteo_partidos_ganados}\")\n",
    "\n",
    "\n",
    "# sumo para ver eventos favorables\n",
    "conteo_desde_1_partido_ganado = conteo_partidos_ganados[1] + conteo_partidos_ganados[2] + conteo_partidos_ganados[3] \n",
    "print(f\"Suma de partidos ganados (desde 1 partido): {conteo_desde_1_partido_ganado}\")\n",
    "\n",
    "# Probabilidad de ganar al menos 1 partido. \n",
    "\n",
    "p_almenos1partido = conteo_desde_1_partido_ganado / len(mundial_2014) \n",
    "print(f\"La probabilidad de ganar al menos 1 partido es de: {p_almenos1partido}\")"
   ]
  },
  {
   "cell_type": "markdown",
   "id": "735f56cc",
   "metadata": {},
   "source": [
    "##### h. pertenecer a África y clasificar a segunda ronda"
   ]
  },
  {
   "cell_type": "code",
   "execution_count": 177,
   "id": "4e2d52a6",
   "metadata": {},
   "outputs": [
    {
     "name": "stdout",
     "output_type": "stream",
     "text": [
      "Opción 1: Según la totalidad de equipos participantes del mundial, las probabilidades de que sea alguna selección africana y pase a 2da ronda es de: 0.062\n",
      "Opción 2: Considerando sólo los equipos clasificados, las probabilidades de que sea alguna selección africana y pase a 2da ronda es de: 0.125\n"
     ]
    }
   ],
   "source": [
    "# Prob condicional \n",
    "cond_africa_y_clasificado = mundial_2014[(mundial_2014[\"continent\"]==\"africa\")  & (mundial_2014[\"clasificado\"]==1) ]\n",
    "\n",
    "\n",
    "# Opción 1: Prob. calculada de acuerdo al total de selecciones participantes del mundial.  \n",
    "p_africa_segunda_ronda = round((len(cond_africa_y_clasificado) / len(mundial_2014)),3)\n",
    "print(f'Opción 1: Según la totalidad de equipos participantes del mundial, las probabilidades de que sea alguna selección africana y pase a 2da ronda es de: {p_africa_segunda_ronda}')\n",
    "# Opción 2: Considerando sólo los equipos que pasaron a segunda ronda\n",
    "p_africa_segunda_ronda_op2 = round(len(cond_africa_y_clasificado) / conteo_clasificados,3)\n",
    "print(f'Opción 2: Considerando sólo los equipos clasificados, las probabilidades de que sea alguna selección africana y pase a 2da ronda es de: {p_africa_segunda_ronda_op2}')\n",
    "\n"
   ]
  },
  {
   "cell_type": "markdown",
   "id": "079e604e",
   "metadata": {},
   "source": [
    "##### i. pertenecer a Europa y clasificar a segunda ronda"
   ]
  },
  {
   "cell_type": "code",
   "execution_count": 178,
   "id": "e4faf5a8",
   "metadata": {},
   "outputs": [
    {
     "name": "stdout",
     "output_type": "stream",
     "text": [
      "Las probabilidades de que sea alguna selección europea y pase a 2da ronda es de: 0.188\n"
     ]
    }
   ],
   "source": [
    "# Prob condicional \n",
    "cond_europa_y_clasificado = mundial_2014[(mundial_2014[\"continent\"]==\"europe\")  & (mundial_2014[\"clasificado\"]==1) ]\n",
    "\n",
    "\n",
    "# Tengo mis dudas de si dividir por el conteo de selecciones sólo clasificadas o con el total de selecciones participantes del mundial.  \n",
    "p_europa_segunda_ronda = round((len(cond_europa_y_clasificado) / len(mundial_2014)),3)\n",
    "print(f'Las probabilidades de que sea alguna selección europea y pase a 2da ronda es de: {p_europa_segunda_ronda}')\n"
   ]
  },
  {
   "cell_type": "markdown",
   "id": "cf8456e4",
   "metadata": {},
   "source": [
    "##### j. pertenecer a Asia y clasificar a segunda ronda"
   ]
  },
  {
   "cell_type": "code",
   "execution_count": 179,
   "id": "84509822",
   "metadata": {},
   "outputs": [
    {
     "name": "stdout",
     "output_type": "stream",
     "text": [
      "Las probabilidades de que sea alguna selección asiática y pase a 2da ronda es de: 0.0\n"
     ]
    }
   ],
   "source": [
    "# Prob condicional \n",
    "cond_asia_y_clasificado = mundial_2014[(mundial_2014[\"continent\"]==\"asia\")  & (mundial_2014[\"clasificado\"]==1) ]\n",
    "\n",
    "# Se escoge la Prob. calculada de acuerdo al total de selecciones participantes del mundial.  \n",
    "p_asia_segunda_ronda = len(cond_asia_y_clasificado) /  len(mundial_2014)\n",
    "\n",
    "print(f'Las probabilidades de que sea alguna selección asiática y pase a 2da ronda es de: {p_asia_segunda_ronda}')\n"
   ]
  },
  {
   "cell_type": "markdown",
   "id": "e0410851",
   "metadata": {},
   "source": [
    "##### k. pertenecer a Sudamérica y clasificar a segunda ronda"
   ]
  },
  {
   "cell_type": "code",
   "execution_count": 187,
   "id": "fd54415a",
   "metadata": {},
   "outputs": [
    {
     "name": "stdout",
     "output_type": "stream",
     "text": [
      "Las probabilidades de que sea alguna selección sudamericana y pase a 2da ronda es de: 0.156\n"
     ]
    }
   ],
   "source": [
    "# Prob condicional \n",
    "cond_sudamerica_y_clasificado = mundial_2014[(mundial_2014[\"continent\"]==\"southamerica\")  & (mundial_2014[\"clasificado\"]==1) ]\n",
    "\n",
    "# Se escoge la Prob. calculada de acuerdo al total de selecciones participantes del mundial.  \n",
    "p_sudamerica_segunda_ronda = round((len(cond_sudamerica_y_clasificado) /  len(mundial_2014)),3)\n",
    "\n",
    "print(f'Las probabilidades de que sea alguna selección sudamericana y pase a 2da ronda es de: {p_sudamerica_segunda_ronda}')"
   ]
  },
  {
   "cell_type": "markdown",
   "id": "402a914c",
   "metadata": {},
   "source": [
    "##### l. pertenecer a Norteamérica y clasificar a segunda ronda"
   ]
  },
  {
   "cell_type": "code",
   "execution_count": 181,
   "id": "cf7ccd73",
   "metadata": {},
   "outputs": [
    {
     "name": "stdout",
     "output_type": "stream",
     "text": [
      "Las probabilidades de que sea alguna selección de norteamérica y pase a 2da ronda es de: 0.094\n"
     ]
    }
   ],
   "source": [
    "# Prob condicional \n",
    "cond_norteamerica_y_clasificado = mundial_2014[(mundial_2014[\"continent\"]==\"northamerica\")  & (mundial_2014[\"clasificado\"]==1) ]\n",
    "\n",
    "\n",
    "# Se escoge la Prob. calculada de acuerdo al total de selecciones participantes del mundial.  \n",
    "p_norteamerica_segunda_ronda = round((len(cond_norteamerica_y_clasificado) /  len(mundial_2014)),3)\n",
    "\n",
    "print(f'Las probabilidades de que sea alguna selección de norteamérica y pase a 2da ronda es de: {p_norteamerica_segunda_ronda}')"
   ]
  },
  {
   "cell_type": "markdown",
   "id": "1e206ed7",
   "metadata": {},
   "source": [
    "##### m. pertenecer a África o clasificar a segunda ronda"
   ]
  },
  {
   "cell_type": "code",
   "execution_count": 173,
   "id": "8ae38868",
   "metadata": {},
   "outputs": [
    {
     "name": "stdout",
     "output_type": "stream",
     "text": [
      "La probabilidad de pertenecer a África o clasificar a segunda vuelta es de: 0.59375\n"
     ]
    }
   ],
   "source": [
    "# Se establece la condición\n",
    "condicion_africa_o_clasificado = mundial_2014[(mundial_2014[\"continent\"]==\"africa\")  | (mundial_2014[\"clasificado\"]==1) ]\n",
    "\n",
    "\n",
    "# Se calcula la probabilidad en base al conjunto total de equipos\n",
    "p_africa_o_clasificado= len(condicion_africa_o_clasificado) / len(mundial_2014)\n",
    "\n",
    "print(f\"La probabilidad de pertenecer a África o clasificar a segunda vuelta es de: {p_africa_o_clasificado}\")"
   ]
  },
  {
   "cell_type": "code",
   "execution_count": 163,
   "id": "4d06e190",
   "metadata": {},
   "outputs": [
    {
     "data": {
      "text/plain": [
       "0.5980000000000001"
      ]
     },
     "execution_count": 163,
     "metadata": {},
     "output_type": "execute_result"
    }
   ],
   "source": [
    "# otra forma es con la fórmula de  probabilidad de unión no excluyente:\n",
    "(p_africa + p_clasificados) - p_africa_segunda_ronda"
   ]
  },
  {
   "cell_type": "markdown",
   "id": "55c7c5fd",
   "metadata": {},
   "source": [
    "##### n. pertenecer a Europa o clasificar a segunda ronda"
   ]
  },
  {
   "cell_type": "code",
   "execution_count": 93,
   "id": "6e1d7608",
   "metadata": {},
   "outputs": [
    {
     "name": "stdout",
     "output_type": "stream",
     "text": [
      "La probabilidad de pertenecer a Europa o clasificar a segunda vuelta es de: 0.719\n"
     ]
    }
   ],
   "source": [
    "# Se establece la condición\n",
    "condicion_europa_o_clasificado = mundial_2014[(mundial_2014[\"continent\"]==\"europe\")  | (mundial_2014[\"clasificado\"]==1) ]\n",
    "\n",
    "# Se cuenta el total de casos\n",
    "conteo_europa_o_clasificado =  len(condicion_europa_o_clasificado)\n",
    "\n",
    "# Se calcula la probabilidad en base al conjunto total de equipos\n",
    "p_europa_o_clasificado= round((conteo_europa_o_clasificado / len(mundial_2014)), 3)\n",
    "\n",
    "print(f\"La probabilidad de pertenecer a Europa o clasificar a segunda vuelta es de: {p_europa_o_clasificado}\")"
   ]
  },
  {
   "cell_type": "code",
   "execution_count": 166,
   "id": "0f90e36d",
   "metadata": {},
   "outputs": [
    {
     "data": {
      "text/plain": [
       "0.722"
      ]
     },
     "execution_count": 166,
     "metadata": {},
     "output_type": "execute_result"
    }
   ],
   "source": [
    "# otra forma es con la fórmula de  probabilidad de unión no excluyente:\n",
    "(p_europa + p_clasificados) - p_europa_segunda_ronda"
   ]
  },
  {
   "cell_type": "markdown",
   "id": "d27ab5a0",
   "metadata": {},
   "source": [
    "##### o. pertenecer a Asia o clasificar a segunda ronda"
   ]
  },
  {
   "cell_type": "code",
   "execution_count": 109,
   "id": "68b09604",
   "metadata": {},
   "outputs": [
    {
     "name": "stdout",
     "output_type": "stream",
     "text": [
      "La probabilidad de pertenecer a Asia o clasificar a segunda vuelta es de: 0.625\n"
     ]
    }
   ],
   "source": [
    "# Se establece la condición\n",
    "condicion_asia_o_clasificado = mundial_2014[(mundial_2014[\"continent\"]==\"asia\")  | (mundial_2014[\"clasificado\"]==1) ]\n",
    "\n",
    "# Se cuenta el total de casos\n",
    "conteo_asia_o_clasificado =  len(condicion_asia_o_clasificado)\n",
    "\n",
    "# Se calcula la probabilidad en base al conjunto total de equipos\n",
    "p_asia_o_clasificado= round((conteo_asia_o_clasificado / len(mundial_2014)), 3)\n",
    "\n",
    "print(f\"La probabilidad de pertenecer a Asia o clasificar a segunda vuelta es de: {p_asia_o_clasificado}\")"
   ]
  },
  {
   "cell_type": "code",
   "execution_count": 168,
   "id": "50cfad10",
   "metadata": {},
   "outputs": [
    {
     "data": {
      "text/plain": [
       "0.62"
      ]
     },
     "execution_count": 168,
     "metadata": {},
     "output_type": "execute_result"
    }
   ],
   "source": [
    "# otra forma es con la fórmula de  probabilidad de unión no excluyente:\n",
    "(p_asia + p_clasificados) - p_asia_segunda_ronda"
   ]
  },
  {
   "cell_type": "markdown",
   "id": "7e696dbe",
   "metadata": {},
   "source": [
    "##### p. pertenecer a Sudamérica o clasificar a segunda ronda"
   ]
  },
  {
   "cell_type": "code",
   "execution_count": 116,
   "id": "c6f3e852",
   "metadata": {},
   "outputs": [
    {
     "name": "stdout",
     "output_type": "stream",
     "text": [
      "La probabilidad de pertenecer a Sudamérica o clasificar a segunda vuelta es de: 0.53125\n"
     ]
    }
   ],
   "source": [
    "# Se establece la condición\n",
    "condicion_sudamerica_o_clasificado = mundial_2014[(mundial_2014[\"continent\"]==\"southamerica\")  | (mundial_2014[\"clasificado\"]==1) ]\n",
    "\n",
    "# Se cuenta el total de casos\n",
    "conteo_sudamerica_o_clasificado =  len(condicion_sudamerica_o_clasificado)\n",
    "\n",
    "# Se calcula la probabilidad en base al conjunto total de equipos\n",
    "p_sudamerica_o_clasificado= conteo_sudamerica_o_clasificado / len(mundial_2014)\n",
    "\n",
    "print(f\"La probabilidad de pertenecer a Sudamérica o clasificar a segunda vuelta es de: {p_sudamerica_o_clasificado}\")"
   ]
  },
  {
   "cell_type": "code",
   "execution_count": 169,
   "id": "427ff7cb",
   "metadata": {},
   "outputs": [
    {
     "data": {
      "text/plain": [
       "0.5339999999999999"
      ]
     },
     "execution_count": 169,
     "metadata": {},
     "output_type": "execute_result"
    }
   ],
   "source": [
    "# otra forma es con la fórmula de  probabilidad de unión no excluyente:\n",
    "(p_sudamerica + p_clasificados) - p_sudamerica_segunda_ronda"
   ]
  },
  {
   "cell_type": "markdown",
   "id": "2b0a49d5",
   "metadata": {},
   "source": [
    "##### q. pertenecer a Norteamérica o clasificar a segunda ronda"
   ]
  },
  {
   "cell_type": "code",
   "execution_count": 172,
   "id": "614c02a6",
   "metadata": {},
   "outputs": [
    {
     "name": "stdout",
     "output_type": "stream",
     "text": [
      "La probabilidad de pertenecer a Norteamérica o clasificar a segunda vuelta es de: 0.53125\n"
     ]
    }
   ],
   "source": [
    "# Se establece la condición\n",
    "condicion_norteamerica_o_clasificado = mundial_2014[(mundial_2014[\"continent\"]==\"northamerica\")  | (mundial_2014[\"clasificado\"]==1) ]\n",
    "\n",
    "# Se calcula la probabilidad en base al conjunto total de equipos\n",
    "p_norteamerica_o_clasificado= len(condicion_norteamerica_o_clasificado) / len(mundial_2014)\n",
    "\n",
    "print(f\"La probabilidad de pertenecer a Norteamérica o clasificar a segunda vuelta es de: {p_norteamerica_o_clasificado}\")"
   ]
  },
  {
   "cell_type": "code",
   "execution_count": 171,
   "id": "c39ccc6e",
   "metadata": {},
   "outputs": [
    {
     "data": {
      "text/plain": [
       "0.526"
      ]
     },
     "execution_count": 171,
     "metadata": {},
     "output_type": "execute_result"
    }
   ],
   "source": [
    "# otra forma es con la fórmula de  probabilidad de unión no excluyente:\n",
    "(p_norteamerica + p_clasificados) - p_norteamerica_segunda_ronda"
   ]
  },
  {
   "cell_type": "markdown",
   "id": "70e564df",
   "metadata": {},
   "source": [
    "##### r. pertenecer a África y haber ganado al menos un partido"
   ]
  },
  {
   "cell_type": "code",
   "execution_count": 217,
   "id": "d6647c29",
   "metadata": {},
   "outputs": [],
   "source": [
    "# Se calcula la probabilidad multiplicando las dos probabilidades sacadas anteriormente, dado que son sucesos independientes.\n",
    "# Serían probabilidades teóricas, dado que no se basan en una intersección real del dataframe\n",
    "#p_africa_y_ganar1partido = round((p_africa * p_almenos1partido),3)\n",
    "\n",
    "#print(f\"La probabilidad de pertenecer a África y haber ganado al menos un partido es de: {p_africa_y_ganar1partido}\")"
   ]
  },
  {
   "cell_type": "code",
   "execution_count": 218,
   "id": "45d553fa",
   "metadata": {},
   "outputs": [
    {
     "name": "stdout",
     "output_type": "stream",
     "text": [
      "La probabilidad de pertenecer a África y haber ganado al menos un partido es de: 0.09375\n"
     ]
    }
   ],
   "source": [
    "# Probabilidad experimental, a partir de la intersección real del dataframe\n",
    "\n",
    "cond_africa_y_ganar1partido =  mundial_2014[(mundial_2014[\"continent\"]==\"africa\") & (mundial_2014[\"juegos_ganados\"]>=1) ]\n",
    "\n",
    "p_africa_y_ganar1partido_n =  len(cond_africa_y_ganar1partido) / len(mundial_2014) \n",
    "\n",
    "print(f\"La probabilidad de pertenecer a África y haber ganado al menos un partido es de: {p_africa_y_ganar1partido_n}\")"
   ]
  },
  {
   "cell_type": "markdown",
   "id": "7c91f220",
   "metadata": {},
   "source": [
    "##### s. pertenecer a Europa y haber ganado al menos un partido"
   ]
  },
  {
   "cell_type": "code",
   "execution_count": 219,
   "id": "230d4142",
   "metadata": {},
   "outputs": [],
   "source": [
    "# Se calcula la probabilidad multiplicando las dos probabilidades sacadas anteriormente, dado que son sucesos independientes\n",
    "# Serían probabilidades teóricas, dado que no se basan en una intersección real del dataframe\n",
    "\n",
    "#p_europa_y_ganar1partido = round((p_europa * p_almenos1partido),3)\n",
    "\n",
    "#print(f\"La probabilidad de pertenecer a Europa y haber ganado al menos un partido es de: {p_europa_y_ganar1partido}\")"
   ]
  },
  {
   "cell_type": "code",
   "execution_count": 213,
   "id": "25260838",
   "metadata": {},
   "outputs": [
    {
     "name": "stdout",
     "output_type": "stream",
     "text": [
      "La probabilidad de pertenecer a Europa y haber ganado al menos un partido es de: 0.34375\n"
     ]
    }
   ],
   "source": [
    "# Probabilidad experimental, a partir de la intersección real del dataframe\n",
    "\n",
    "cond_europa_y_ganar1partido =  mundial_2014[(mundial_2014[\"continent\"]==\"europe\") & (mundial_2014[\"juegos_ganados\"]>=1) ]\n",
    "\n",
    "p_europa_y_ganar1partido_n =  len(cond_europa_y_ganar1partido) / len(mundial_2014) \n",
    "\n",
    "print(f\"La probabilidad de pertenecer a Europa y haber ganado al menos un partido es de: {p_europa_y_ganar1partido_n}\")"
   ]
  },
  {
   "cell_type": "markdown",
   "id": "ed8d1e03",
   "metadata": {},
   "source": [
    "##### t. pertenecer a Asia y haber ganado al menos un partido\n"
   ]
  },
  {
   "cell_type": "code",
   "execution_count": 221,
   "id": "84c3b85b",
   "metadata": {},
   "outputs": [
    {
     "name": "stdout",
     "output_type": "stream",
     "text": [
      "La probabilidad de pertenecer a Asia y haber ganado al menos un partido es de: 0.086\n"
     ]
    }
   ],
   "source": [
    "# Se calcula la probabilidad multiplicando las dos probabilidades sacadas anteriormente, dado que son sucesos independientes\n",
    "# Serían probabilidades teóricas, dado que no se basan en una intersección real del dataframe\n",
    "\n",
    "#p_asia_y_ganar1partido = round((p_asia * p_almenos1partido),3)\n",
    "\n",
    "#print(f\"La probabilidad de pertenecer a Asia y haber ganado al menos un partido es de: {p_asia_y_ganar1partido}\")"
   ]
  },
  {
   "cell_type": "code",
   "execution_count": 222,
   "id": "ab39a607",
   "metadata": {},
   "outputs": [
    {
     "name": "stdout",
     "output_type": "stream",
     "text": [
      "La probabilidad de pertenecer a Asia y haber ganado al menos un partido es de: 0.0\n"
     ]
    }
   ],
   "source": [
    "# Probabilidad experimental, a partir de la intersección real del dataframe\n",
    "\n",
    "cond_asia_y_ganar1partido =  mundial_2014[(mundial_2014[\"continent\"]==\"asia\") & (mundial_2014[\"juegos_ganados\"]>=1) ]\n",
    "\n",
    "p_asia_y_ganar1partido_n =  len(cond_asia_y_ganar1partido) / len(mundial_2014) \n",
    "\n",
    "print(f\"La probabilidad de pertenecer a Asia y haber ganado al menos un partido es de: {p_asia_y_ganar1partido_n}\")"
   ]
  },
  {
   "cell_type": "markdown",
   "id": "793ca99d",
   "metadata": {},
   "source": [
    "##### u. pertenecer a Sudamérica y haber ganado al menos un partido"
   ]
  },
  {
   "cell_type": "code",
   "execution_count": 129,
   "id": "90064a2d",
   "metadata": {},
   "outputs": [
    {
     "name": "stdout",
     "output_type": "stream",
     "text": [
      "La probabilidad de pertenecer a Sudamérica y haber ganado al menos un partido es de: 0.137\n"
     ]
    }
   ],
   "source": [
    "# Se calcula la probabilidad multiplicando las dos probabilidades sacadas anteriormente, dado que son sucesos independientes\n",
    "# Serían probabilidades teóricas, dado que no se basan en una intersección real del dataframe\n",
    "\n",
    "#p_sudamerica_y_ganar1partido = round((p_sudamerica * p_almenos1partido),3)\n",
    "\n",
    "#print(f\"La probabilidad de pertenecer a Sudamérica y haber ganado al menos un partido es de: {p_sudamerica_y_ganar1partido}\")"
   ]
  },
  {
   "cell_type": "code",
   "execution_count": 223,
   "id": "3b07ad56",
   "metadata": {},
   "outputs": [
    {
     "name": "stdout",
     "output_type": "stream",
     "text": [
      "La probabilidad de pertenecer a Sudamérica y haber ganado al menos un partido es de: 0.1875\n"
     ]
    }
   ],
   "source": [
    "# Probabilidad experimental, a partir de la intersección real del dataframe\n",
    "\n",
    "cond_sudamerica_y_ganar1partido =  mundial_2014[(mundial_2014[\"continent\"]==\"southamerica\") & (mundial_2014[\"juegos_ganados\"]>=1) ]\n",
    "\n",
    "p_sudamerica_y_ganar1partido_n =  len(cond_sudamerica_y_ganar1partido) / len(mundial_2014) \n",
    "\n",
    "print(f\"La probabilidad de pertenecer a Sudamérica y haber ganado al menos un partido es de: {p_sudamerica_y_ganar1partido_n}\")"
   ]
  },
  {
   "cell_type": "markdown",
   "id": "44d19f95",
   "metadata": {},
   "source": [
    "##### v. pertenecer a Norteamérica y haber ganado al menos un partido"
   ]
  },
  {
   "cell_type": "code",
   "execution_count": 130,
   "id": "31ed2b79",
   "metadata": {},
   "outputs": [
    {
     "name": "stdout",
     "output_type": "stream",
     "text": [
      "La probabilidad de pertenecer a Norteamérica y haber ganado al menos un partido es de: 0.086\n"
     ]
    }
   ],
   "source": [
    "# Se calcula la probabilidad multiplicando las dos probabilidades sacadas anteriormente, dado que son sucesos independientes\n",
    "# Serían probabilidades teóricas, dado que no se basan en una intersección real del dataframe\n",
    "\n",
    "#p_norteamerica_y_ganar1partido = round((p_norteamerica * p_almenos1partido),3)\n",
    "#print(f\"La probabilidad de pertenecer a Norteamérica y haber ganado al menos un partido es de: {p_norteamerica_y_ganar1partido}\")"
   ]
  },
  {
   "cell_type": "code",
   "execution_count": 224,
   "id": "f6a13cd6",
   "metadata": {},
   "outputs": [
    {
     "name": "stdout",
     "output_type": "stream",
     "text": [
      "La probabilidad de pertenecer a Norteamérica y haber ganado al menos un partido es de: 0.09375\n"
     ]
    }
   ],
   "source": [
    "# Probabilidad experimental, a partir de la intersección real del dataframe\n",
    "cond_norteamerica_y_ganar1partido =  mundial_2014[(mundial_2014[\"continent\"]==\"northamerica\") & (mundial_2014[\"juegos_ganados\"]>=1) ]\n",
    "\n",
    "p_norteamerica_y_ganar1partido_n =  len(cond_norteamerica_y_ganar1partido) / len(mundial_2014) \n",
    "\n",
    "print(f\"La probabilidad de pertenecer a Norteamérica y haber ganado al menos un partido es de: {p_norteamerica_y_ganar1partido_n}\")"
   ]
  },
  {
   "cell_type": "markdown",
   "id": "3b8fff81",
   "metadata": {},
   "source": [
    "##### w. haber ganado al menos un partido y clasificar a segunda ronda"
   ]
  },
  {
   "cell_type": "code",
   "execution_count": 226,
   "id": "c5878eca",
   "metadata": {},
   "outputs": [
    {
     "name": "stdout",
     "output_type": "stream",
     "text": [
      "La probabilidad de haber ganado al menos un partido y clasificar a segunda ronda sería de:  0.5\n"
     ]
    }
   ],
   "source": [
    "# Esta condición seŕia dependiente, por lo que la prob = (p_a) x (p_b) / p_b\n",
    "\n",
    "p_ganaralmenos1partido_y_clasificar =   p_clasificados * p_almenos1partido / p_almenos1partido\n",
    "\n",
    "print(f\"La probabilidad de haber ganado al menos un partido y clasificar a segunda ronda sería de:  {p_ganaralmenos1partido_y_clasificar}\")"
   ]
  },
  {
   "cell_type": "markdown",
   "metadata": {},
   "source": [
    "-\n",
    "-\n",
    "-\n",
    "___0___o___\n",
    "-\n",
    "-\n",
    "-"
   ]
  },
  {
   "cell_type": "markdown",
   "id": "e66fee70",
   "metadata": {},
   "source": [
    "#### 2. A partir de las probabilidades anteriores, y sin realizar conteos, calcular las siguientes probabilidades:\n"
   ]
  },
  {
   "cell_type": "code",
   "execution_count": 227,
   "id": "28339964",
   "metadata": {},
   "outputs": [],
   "source": [
    "# P ( a | b ) = P ( a y b) / b"
   ]
  },
  {
   "cell_type": "markdown",
   "metadata": {},
   "source": [
    "#### a. pertenecer a Europa, si se sabe que clasificó"
   ]
  },
  {
   "cell_type": "code",
   "execution_count": 243,
   "id": "3aa1a9ce",
   "metadata": {},
   "outputs": [
    {
     "name": "stdout",
     "output_type": "stream",
     "text": [
      "La probabilidad es de: 0.376\n"
     ]
    }
   ],
   "source": [
    "# a =pertenece a Europa\n",
    "# b = clasificó\n",
    "\n",
    "print(f\"La probabilidad es de: {p_europa_segunda_ronda / p_clasificados}\")"
   ]
  },
  {
   "cell_type": "markdown",
   "id": "f9ba611e",
   "metadata": {},
   "source": [
    "#### b. pertenecer a Sudamérica, si se sabe que clasificó"
   ]
  },
  {
   "cell_type": "code",
   "execution_count": 244,
   "id": "2620c298",
   "metadata": {},
   "outputs": [
    {
     "name": "stdout",
     "output_type": "stream",
     "text": [
      "La probabilidad es de: 0.312\n"
     ]
    }
   ],
   "source": [
    "# a =pertenece a Sudamérica\n",
    "# b = clasificó\n",
    "\n",
    "print(f\"La probabilidad es de: {p_sudamerica_segunda_ronda / p_clasificados}\")"
   ]
  },
  {
   "cell_type": "markdown",
   "id": "13985a05",
   "metadata": {},
   "source": [
    "#### c. pertenecer a África, si se sabe que ganó al menos un partido"
   ]
  },
  {
   "cell_type": "code",
   "execution_count": 246,
   "id": "b41294b9",
   "metadata": {},
   "outputs": [
    {
     "name": "stdout",
     "output_type": "stream",
     "text": [
      "La probabilidad es de: 0.13043478260869565\n"
     ]
    }
   ],
   "source": [
    "# a =pertenece a África\n",
    "# b = Ganó al menos 1 partido\n",
    "\n",
    "print(f\"La probabilidad es de: {p_africa_y_ganar1partido_n / p_almenos1partido}\")\n"
   ]
  },
  {
   "cell_type": "markdown",
   "id": "b37667ea",
   "metadata": {},
   "source": [
    "#### d. haber ganado al menos un partido, si se sabe que clasificó"
   ]
  },
  {
   "cell_type": "code",
   "execution_count": 249,
   "id": "24f9a487",
   "metadata": {},
   "outputs": [
    {
     "name": "stdout",
     "output_type": "stream",
     "text": [
      "La probabilidad es de: 1.0\n"
     ]
    }
   ],
   "source": [
    "# a = Ganó al menos 1 partido\n",
    "# b = Clasificó\n",
    "\n",
    "\n",
    "print(f\"La probabilidad es de: {p_ganaralmenos1partido_y_clasificar / p_clasificados}\")\n",
    "\n"
   ]
  },
  {
   "cell_type": "markdown",
   "id": "b631dbc0",
   "metadata": {},
   "source": [
    "#### e. haber ganado al menos un partido, si se sabe que pertenece a Norteamérica"
   ]
  },
  {
   "cell_type": "code",
   "execution_count": 251,
   "id": "372bf4c8",
   "metadata": {},
   "outputs": [
    {
     "name": "stdout",
     "output_type": "stream",
     "text": [
      "La probabilidad es de: 0.78125\n"
     ]
    }
   ],
   "source": [
    "# a = Ganó al menos 1 partido\n",
    "# b = Pertnece a Norteamérica\n",
    "\n",
    "print(f\"La probabilidad es de: {p_norteamerica_y_ganar1partido_n / p_norteamerica}\")\n"
   ]
  },
  {
   "cell_type": "markdown",
   "id": "819d0a0e",
   "metadata": {},
   "source": [
    "#### f. NO haber clasificado, si se sabe que pertenece a África"
   ]
  },
  {
   "cell_type": "code",
   "execution_count": 278,
   "id": "2da06343",
   "metadata": {},
   "outputs": [
    {
     "name": "stdout",
     "output_type": "stream",
     "text": [
      "La probabilidad es de: 0.5\n"
     ]
    }
   ],
   "source": [
    "# a = No clasificó\n",
    "# b = Pertenece a África\n",
    "\n",
    "# Para saber los no clasificados, se saca el complemento\n",
    "complemento_no_clasificados = 1 - p_clasificados\n",
    "\n",
    "\n",
    "print(f\"La probabilidad es de: {complemento_no_clasificados * p_africa / p_africa}\")"
   ]
  },
  {
   "cell_type": "markdown",
   "metadata": {},
   "source": [
    "-\n",
    "-\n",
    "-\n",
    "___0_FiN__o___\n",
    "-\n",
    "-\n",
    "-"
   ]
  },
  {
   "cell_type": "markdown",
   "metadata": {},
   "source": [
    "### Requerimientos\n",
    "Dentro del archivo de Jupyter Notebook debes ir ejecutando las siguientes acciones y explicar lo que estás haciendo. Debes considerar los siguientes aspectos.\n",
    "\n",
    "1. Define condiciones para calcular probabilidades con Python. (2 Puntos)\n",
    "\n",
    "2. Calcula probabilidades de sucesos con datos en DataFrames. (3 Puntos)\n",
    "\n",
    "3. Interpreta y aplica la probabilidad condicional y el teorema de Bayes. (5 Puntos)"
   ]
  }
 ],
 "metadata": {
  "kernelspec": {
   "display_name": "desafiolatam1",
   "language": "python",
   "name": "python3"
  },
  "language_info": {
   "codemirror_mode": {
    "name": "ipython",
    "version": 3
   },
   "file_extension": ".py",
   "mimetype": "text/x-python",
   "name": "python",
   "nbconvert_exporter": "python",
   "pygments_lexer": "ipython3",
   "version": "3.9.18"
  }
 },
 "nbformat": 4,
 "nbformat_minor": 5
}
