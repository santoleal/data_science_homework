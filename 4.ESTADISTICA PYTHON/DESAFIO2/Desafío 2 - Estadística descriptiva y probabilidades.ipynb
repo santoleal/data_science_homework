{
 "cells": [
  {
   "cell_type": "markdown",
   "metadata": {},
   "source": [
    "# **DESAFÍO Nº2: ESTADÍSTICAS DESCRIPTIVAS Y PROBABILIDADES (PARTE II)**\n",
    "### **Análisis Estadístico con Python**\n",
    "#### *Carrera Data Science - G-93 - Desafio Latam*\n",
    "#### Estudiante: Felipe Leal Arancibia"
   ]
  },
  {
   "cell_type": "markdown",
   "metadata": {},
   "source": [
    "En este desafío validaremos nuestros conocimientos relacionados con probabilidades. Para lograrlo, necesitarás aplicar lo que has aprendido durante esa sesión.\n",
    "\n",
    "Lee todo el documento antes de comenzar el desarrollo individual, para asegurarte de tener el máximo de puntaje y enfocar bien los esfuerzos.\n",
    "\n",
    "Tiempo asociado: 2 horas cronológicas"
   ]
  },
  {
   "cell_type": "markdown",
   "metadata": {},
   "source": [
    "## Descripción\n",
    "\n",
    "#### Una casa de apuestas quiere perfeccionar sus modelos de estimaciones de factores de apuestas, por lo que quiere hacer una revisión sobre los resultados del Mundial 2014.\n",
    "\n",
    "#### Para resolver este desafío deberás cargar datos desde el dataset worldcup2014.csv, y realizar las operaciones necesarias para determinar lo pedido."
   ]
  },
  {
   "cell_type": "code",
   "execution_count": 1,
   "id": "51fa0f81",
   "metadata": {},
   "outputs": [],
   "source": [
    "# Se importan librerías para explorar bbdd en cvs\n",
    "import pandas as pd\n",
    "import numpy as np"
   ]
  },
  {
   "cell_type": "code",
   "execution_count": 2,
   "id": "3dcd4300",
   "metadata": {},
   "outputs": [
    {
     "data": {
      "text/html": [
       "<div>\n",
       "<style scoped>\n",
       "    .dataframe tbody tr th:only-of-type {\n",
       "        vertical-align: middle;\n",
       "    }\n",
       "\n",
       "    .dataframe tbody tr th {\n",
       "        vertical-align: top;\n",
       "    }\n",
       "\n",
       "    .dataframe thead th {\n",
       "        text-align: right;\n",
       "    }\n",
       "</style>\n",
       "<table border=\"1\" class=\"dataframe\">\n",
       "  <thead>\n",
       "    <tr style=\"text-align: right;\">\n",
       "      <th></th>\n",
       "      <th>team</th>\n",
       "      <th>continent</th>\n",
       "      <th>group</th>\n",
       "      <th>group_pos</th>\n",
       "      <th>cantidad_juegos</th>\n",
       "      <th>juegos_ganados</th>\n",
       "      <th>juegos_empatados</th>\n",
       "      <th>juegos_perdidos</th>\n",
       "      <th>goles_favor</th>\n",
       "      <th>goles_contra</th>\n",
       "      <th>goles_diferencia</th>\n",
       "      <th>puntos</th>\n",
       "      <th>clasificado</th>\n",
       "    </tr>\n",
       "  </thead>\n",
       "  <tbody>\n",
       "    <tr>\n",
       "      <th>0</th>\n",
       "      <td>Brazil</td>\n",
       "      <td>southamerica</td>\n",
       "      <td>A</td>\n",
       "      <td>1</td>\n",
       "      <td>3</td>\n",
       "      <td>2</td>\n",
       "      <td>1</td>\n",
       "      <td>0</td>\n",
       "      <td>7</td>\n",
       "      <td>2</td>\n",
       "      <td>5</td>\n",
       "      <td>7</td>\n",
       "      <td>1</td>\n",
       "    </tr>\n",
       "    <tr>\n",
       "      <th>1</th>\n",
       "      <td>Mexico</td>\n",
       "      <td>northamerica</td>\n",
       "      <td>A</td>\n",
       "      <td>2</td>\n",
       "      <td>3</td>\n",
       "      <td>2</td>\n",
       "      <td>1</td>\n",
       "      <td>0</td>\n",
       "      <td>4</td>\n",
       "      <td>1</td>\n",
       "      <td>3</td>\n",
       "      <td>7</td>\n",
       "      <td>1</td>\n",
       "    </tr>\n",
       "    <tr>\n",
       "      <th>2</th>\n",
       "      <td>Croatia</td>\n",
       "      <td>europe</td>\n",
       "      <td>A</td>\n",
       "      <td>3</td>\n",
       "      <td>3</td>\n",
       "      <td>1</td>\n",
       "      <td>0</td>\n",
       "      <td>2</td>\n",
       "      <td>6</td>\n",
       "      <td>6</td>\n",
       "      <td>0</td>\n",
       "      <td>3</td>\n",
       "      <td>0</td>\n",
       "    </tr>\n",
       "    <tr>\n",
       "      <th>3</th>\n",
       "      <td>Cameroon</td>\n",
       "      <td>africa</td>\n",
       "      <td>A</td>\n",
       "      <td>4</td>\n",
       "      <td>3</td>\n",
       "      <td>0</td>\n",
       "      <td>0</td>\n",
       "      <td>3</td>\n",
       "      <td>1</td>\n",
       "      <td>9</td>\n",
       "      <td>−8</td>\n",
       "      <td>0</td>\n",
       "      <td>0</td>\n",
       "    </tr>\n",
       "    <tr>\n",
       "      <th>4</th>\n",
       "      <td>Netherlands</td>\n",
       "      <td>europe</td>\n",
       "      <td>B</td>\n",
       "      <td>1</td>\n",
       "      <td>3</td>\n",
       "      <td>3</td>\n",
       "      <td>0</td>\n",
       "      <td>0</td>\n",
       "      <td>10</td>\n",
       "      <td>3</td>\n",
       "      <td>7</td>\n",
       "      <td>9</td>\n",
       "      <td>1</td>\n",
       "    </tr>\n",
       "    <tr>\n",
       "      <th>5</th>\n",
       "      <td>Chile</td>\n",
       "      <td>southamerica</td>\n",
       "      <td>B</td>\n",
       "      <td>2</td>\n",
       "      <td>3</td>\n",
       "      <td>2</td>\n",
       "      <td>0</td>\n",
       "      <td>1</td>\n",
       "      <td>5</td>\n",
       "      <td>3</td>\n",
       "      <td>2</td>\n",
       "      <td>6</td>\n",
       "      <td>1</td>\n",
       "    </tr>\n",
       "    <tr>\n",
       "      <th>6</th>\n",
       "      <td>Spain</td>\n",
       "      <td>europe</td>\n",
       "      <td>B</td>\n",
       "      <td>3</td>\n",
       "      <td>3</td>\n",
       "      <td>1</td>\n",
       "      <td>0</td>\n",
       "      <td>2</td>\n",
       "      <td>4</td>\n",
       "      <td>7</td>\n",
       "      <td>−3</td>\n",
       "      <td>3</td>\n",
       "      <td>0</td>\n",
       "    </tr>\n",
       "    <tr>\n",
       "      <th>7</th>\n",
       "      <td>Australia</td>\n",
       "      <td>asia</td>\n",
       "      <td>B</td>\n",
       "      <td>4</td>\n",
       "      <td>3</td>\n",
       "      <td>0</td>\n",
       "      <td>0</td>\n",
       "      <td>3</td>\n",
       "      <td>3</td>\n",
       "      <td>9</td>\n",
       "      <td>−6</td>\n",
       "      <td>0</td>\n",
       "      <td>0</td>\n",
       "    </tr>\n",
       "    <tr>\n",
       "      <th>8</th>\n",
       "      <td>Colombia</td>\n",
       "      <td>southamerica</td>\n",
       "      <td>C</td>\n",
       "      <td>1</td>\n",
       "      <td>3</td>\n",
       "      <td>3</td>\n",
       "      <td>0</td>\n",
       "      <td>0</td>\n",
       "      <td>9</td>\n",
       "      <td>2</td>\n",
       "      <td>7</td>\n",
       "      <td>9</td>\n",
       "      <td>1</td>\n",
       "    </tr>\n",
       "    <tr>\n",
       "      <th>9</th>\n",
       "      <td>Greece</td>\n",
       "      <td>europe</td>\n",
       "      <td>C</td>\n",
       "      <td>2</td>\n",
       "      <td>3</td>\n",
       "      <td>1</td>\n",
       "      <td>1</td>\n",
       "      <td>1</td>\n",
       "      <td>2</td>\n",
       "      <td>4</td>\n",
       "      <td>−2</td>\n",
       "      <td>4</td>\n",
       "      <td>1</td>\n",
       "    </tr>\n",
       "    <tr>\n",
       "      <th>10</th>\n",
       "      <td>Ivory Coast</td>\n",
       "      <td>africa</td>\n",
       "      <td>C</td>\n",
       "      <td>3</td>\n",
       "      <td>3</td>\n",
       "      <td>1</td>\n",
       "      <td>0</td>\n",
       "      <td>2</td>\n",
       "      <td>4</td>\n",
       "      <td>5</td>\n",
       "      <td>−1</td>\n",
       "      <td>3</td>\n",
       "      <td>0</td>\n",
       "    </tr>\n",
       "    <tr>\n",
       "      <th>11</th>\n",
       "      <td>Japan</td>\n",
       "      <td>asia</td>\n",
       "      <td>C</td>\n",
       "      <td>4</td>\n",
       "      <td>3</td>\n",
       "      <td>0</td>\n",
       "      <td>1</td>\n",
       "      <td>2</td>\n",
       "      <td>2</td>\n",
       "      <td>6</td>\n",
       "      <td>−4</td>\n",
       "      <td>1</td>\n",
       "      <td>0</td>\n",
       "    </tr>\n",
       "    <tr>\n",
       "      <th>12</th>\n",
       "      <td>Costa Rica</td>\n",
       "      <td>northamerica</td>\n",
       "      <td>D</td>\n",
       "      <td>1</td>\n",
       "      <td>3</td>\n",
       "      <td>2</td>\n",
       "      <td>1</td>\n",
       "      <td>0</td>\n",
       "      <td>4</td>\n",
       "      <td>1</td>\n",
       "      <td>3</td>\n",
       "      <td>7</td>\n",
       "      <td>1</td>\n",
       "    </tr>\n",
       "    <tr>\n",
       "      <th>13</th>\n",
       "      <td>Uruguay</td>\n",
       "      <td>southamerica</td>\n",
       "      <td>D</td>\n",
       "      <td>2</td>\n",
       "      <td>3</td>\n",
       "      <td>2</td>\n",
       "      <td>0</td>\n",
       "      <td>1</td>\n",
       "      <td>4</td>\n",
       "      <td>4</td>\n",
       "      <td>0</td>\n",
       "      <td>6</td>\n",
       "      <td>1</td>\n",
       "    </tr>\n",
       "    <tr>\n",
       "      <th>14</th>\n",
       "      <td>Italy</td>\n",
       "      <td>europe</td>\n",
       "      <td>D</td>\n",
       "      <td>3</td>\n",
       "      <td>3</td>\n",
       "      <td>1</td>\n",
       "      <td>0</td>\n",
       "      <td>2</td>\n",
       "      <td>2</td>\n",
       "      <td>3</td>\n",
       "      <td>−1</td>\n",
       "      <td>3</td>\n",
       "      <td>0</td>\n",
       "    </tr>\n",
       "    <tr>\n",
       "      <th>15</th>\n",
       "      <td>England</td>\n",
       "      <td>europe</td>\n",
       "      <td>D</td>\n",
       "      <td>4</td>\n",
       "      <td>3</td>\n",
       "      <td>0</td>\n",
       "      <td>1</td>\n",
       "      <td>2</td>\n",
       "      <td>2</td>\n",
       "      <td>4</td>\n",
       "      <td>−2</td>\n",
       "      <td>1</td>\n",
       "      <td>0</td>\n",
       "    </tr>\n",
       "    <tr>\n",
       "      <th>16</th>\n",
       "      <td>France</td>\n",
       "      <td>europe</td>\n",
       "      <td>E</td>\n",
       "      <td>1</td>\n",
       "      <td>3</td>\n",
       "      <td>2</td>\n",
       "      <td>1</td>\n",
       "      <td>0</td>\n",
       "      <td>8</td>\n",
       "      <td>2</td>\n",
       "      <td>6</td>\n",
       "      <td>7</td>\n",
       "      <td>1</td>\n",
       "    </tr>\n",
       "    <tr>\n",
       "      <th>17</th>\n",
       "      <td>Switzerland</td>\n",
       "      <td>europe</td>\n",
       "      <td>E</td>\n",
       "      <td>2</td>\n",
       "      <td>3</td>\n",
       "      <td>2</td>\n",
       "      <td>0</td>\n",
       "      <td>1</td>\n",
       "      <td>7</td>\n",
       "      <td>6</td>\n",
       "      <td>1</td>\n",
       "      <td>6</td>\n",
       "      <td>1</td>\n",
       "    </tr>\n",
       "    <tr>\n",
       "      <th>18</th>\n",
       "      <td>Ecuador</td>\n",
       "      <td>southamerica</td>\n",
       "      <td>E</td>\n",
       "      <td>3</td>\n",
       "      <td>3</td>\n",
       "      <td>1</td>\n",
       "      <td>1</td>\n",
       "      <td>1</td>\n",
       "      <td>3</td>\n",
       "      <td>3</td>\n",
       "      <td>0</td>\n",
       "      <td>4</td>\n",
       "      <td>0</td>\n",
       "    </tr>\n",
       "    <tr>\n",
       "      <th>19</th>\n",
       "      <td>Honduras</td>\n",
       "      <td>northamerica</td>\n",
       "      <td>E</td>\n",
       "      <td>4</td>\n",
       "      <td>3</td>\n",
       "      <td>0</td>\n",
       "      <td>0</td>\n",
       "      <td>3</td>\n",
       "      <td>1</td>\n",
       "      <td>8</td>\n",
       "      <td>−7</td>\n",
       "      <td>0</td>\n",
       "      <td>0</td>\n",
       "    </tr>\n",
       "    <tr>\n",
       "      <th>20</th>\n",
       "      <td>Argentina</td>\n",
       "      <td>southamerica</td>\n",
       "      <td>F</td>\n",
       "      <td>1</td>\n",
       "      <td>3</td>\n",
       "      <td>3</td>\n",
       "      <td>0</td>\n",
       "      <td>0</td>\n",
       "      <td>6</td>\n",
       "      <td>3</td>\n",
       "      <td>3</td>\n",
       "      <td>9</td>\n",
       "      <td>1</td>\n",
       "    </tr>\n",
       "    <tr>\n",
       "      <th>21</th>\n",
       "      <td>Nigeria</td>\n",
       "      <td>africa</td>\n",
       "      <td>F</td>\n",
       "      <td>2</td>\n",
       "      <td>3</td>\n",
       "      <td>1</td>\n",
       "      <td>1</td>\n",
       "      <td>1</td>\n",
       "      <td>3</td>\n",
       "      <td>3</td>\n",
       "      <td>0</td>\n",
       "      <td>4</td>\n",
       "      <td>1</td>\n",
       "    </tr>\n",
       "    <tr>\n",
       "      <th>22</th>\n",
       "      <td>Bosnia and Herzegovina</td>\n",
       "      <td>europe</td>\n",
       "      <td>F</td>\n",
       "      <td>3</td>\n",
       "      <td>3</td>\n",
       "      <td>1</td>\n",
       "      <td>0</td>\n",
       "      <td>2</td>\n",
       "      <td>4</td>\n",
       "      <td>4</td>\n",
       "      <td>0</td>\n",
       "      <td>3</td>\n",
       "      <td>0</td>\n",
       "    </tr>\n",
       "    <tr>\n",
       "      <th>23</th>\n",
       "      <td>Iran</td>\n",
       "      <td>asia</td>\n",
       "      <td>F</td>\n",
       "      <td>4</td>\n",
       "      <td>3</td>\n",
       "      <td>0</td>\n",
       "      <td>1</td>\n",
       "      <td>2</td>\n",
       "      <td>1</td>\n",
       "      <td>4</td>\n",
       "      <td>−3</td>\n",
       "      <td>1</td>\n",
       "      <td>0</td>\n",
       "    </tr>\n",
       "    <tr>\n",
       "      <th>24</th>\n",
       "      <td>Germany</td>\n",
       "      <td>europe</td>\n",
       "      <td>G</td>\n",
       "      <td>1</td>\n",
       "      <td>3</td>\n",
       "      <td>2</td>\n",
       "      <td>1</td>\n",
       "      <td>0</td>\n",
       "      <td>7</td>\n",
       "      <td>2</td>\n",
       "      <td>5</td>\n",
       "      <td>7</td>\n",
       "      <td>1</td>\n",
       "    </tr>\n",
       "    <tr>\n",
       "      <th>25</th>\n",
       "      <td>United States</td>\n",
       "      <td>northamerica</td>\n",
       "      <td>G</td>\n",
       "      <td>2</td>\n",
       "      <td>3</td>\n",
       "      <td>1</td>\n",
       "      <td>1</td>\n",
       "      <td>1</td>\n",
       "      <td>4</td>\n",
       "      <td>4</td>\n",
       "      <td>0</td>\n",
       "      <td>4</td>\n",
       "      <td>1</td>\n",
       "    </tr>\n",
       "    <tr>\n",
       "      <th>26</th>\n",
       "      <td>Portugal</td>\n",
       "      <td>europe</td>\n",
       "      <td>G</td>\n",
       "      <td>3</td>\n",
       "      <td>3</td>\n",
       "      <td>1</td>\n",
       "      <td>1</td>\n",
       "      <td>1</td>\n",
       "      <td>4</td>\n",
       "      <td>7</td>\n",
       "      <td>−3</td>\n",
       "      <td>4</td>\n",
       "      <td>0</td>\n",
       "    </tr>\n",
       "    <tr>\n",
       "      <th>27</th>\n",
       "      <td>Ghana</td>\n",
       "      <td>africa</td>\n",
       "      <td>G</td>\n",
       "      <td>4</td>\n",
       "      <td>3</td>\n",
       "      <td>0</td>\n",
       "      <td>1</td>\n",
       "      <td>2</td>\n",
       "      <td>4</td>\n",
       "      <td>6</td>\n",
       "      <td>−2</td>\n",
       "      <td>1</td>\n",
       "      <td>0</td>\n",
       "    </tr>\n",
       "    <tr>\n",
       "      <th>28</th>\n",
       "      <td>Belgium</td>\n",
       "      <td>europe</td>\n",
       "      <td>H</td>\n",
       "      <td>1</td>\n",
       "      <td>3</td>\n",
       "      <td>3</td>\n",
       "      <td>0</td>\n",
       "      <td>0</td>\n",
       "      <td>4</td>\n",
       "      <td>1</td>\n",
       "      <td>3</td>\n",
       "      <td>9</td>\n",
       "      <td>1</td>\n",
       "    </tr>\n",
       "    <tr>\n",
       "      <th>29</th>\n",
       "      <td>Algeria</td>\n",
       "      <td>africa</td>\n",
       "      <td>H</td>\n",
       "      <td>2</td>\n",
       "      <td>3</td>\n",
       "      <td>1</td>\n",
       "      <td>1</td>\n",
       "      <td>1</td>\n",
       "      <td>6</td>\n",
       "      <td>5</td>\n",
       "      <td>1</td>\n",
       "      <td>4</td>\n",
       "      <td>1</td>\n",
       "    </tr>\n",
       "    <tr>\n",
       "      <th>30</th>\n",
       "      <td>Russia</td>\n",
       "      <td>europe</td>\n",
       "      <td>H</td>\n",
       "      <td>3</td>\n",
       "      <td>3</td>\n",
       "      <td>0</td>\n",
       "      <td>2</td>\n",
       "      <td>1</td>\n",
       "      <td>2</td>\n",
       "      <td>3</td>\n",
       "      <td>−1</td>\n",
       "      <td>2</td>\n",
       "      <td>0</td>\n",
       "    </tr>\n",
       "    <tr>\n",
       "      <th>31</th>\n",
       "      <td>South Korea</td>\n",
       "      <td>asia</td>\n",
       "      <td>H</td>\n",
       "      <td>4</td>\n",
       "      <td>3</td>\n",
       "      <td>0</td>\n",
       "      <td>1</td>\n",
       "      <td>2</td>\n",
       "      <td>3</td>\n",
       "      <td>6</td>\n",
       "      <td>−3</td>\n",
       "      <td>1</td>\n",
       "      <td>0</td>\n",
       "    </tr>\n",
       "  </tbody>\n",
       "</table>\n",
       "</div>"
      ],
      "text/plain": [
       "                      team     continent group  group_pos  cantidad_juegos  \\\n",
       "0                   Brazil  southamerica     A          1                3   \n",
       "1                   Mexico  northamerica     A          2                3   \n",
       "2                  Croatia        europe     A          3                3   \n",
       "3                 Cameroon        africa     A          4                3   \n",
       "4              Netherlands        europe     B          1                3   \n",
       "5                    Chile  southamerica     B          2                3   \n",
       "6                    Spain        europe     B          3                3   \n",
       "7                Australia          asia     B          4                3   \n",
       "8                 Colombia  southamerica     C          1                3   \n",
       "9                   Greece        europe     C          2                3   \n",
       "10             Ivory Coast        africa     C          3                3   \n",
       "11                   Japan          asia     C          4                3   \n",
       "12              Costa Rica  northamerica     D          1                3   \n",
       "13                 Uruguay  southamerica     D          2                3   \n",
       "14                   Italy        europe     D          3                3   \n",
       "15                 England        europe     D          4                3   \n",
       "16                  France        europe     E          1                3   \n",
       "17             Switzerland        europe     E          2                3   \n",
       "18                 Ecuador  southamerica     E          3                3   \n",
       "19                Honduras  northamerica     E          4                3   \n",
       "20               Argentina  southamerica     F          1                3   \n",
       "21                 Nigeria        africa     F          2                3   \n",
       "22  Bosnia and Herzegovina        europe     F          3                3   \n",
       "23                    Iran          asia     F          4                3   \n",
       "24                 Germany        europe     G          1                3   \n",
       "25           United States  northamerica     G          2                3   \n",
       "26                Portugal        europe     G          3                3   \n",
       "27                   Ghana        africa     G          4                3   \n",
       "28                 Belgium        europe     H          1                3   \n",
       "29                 Algeria        africa     H          2                3   \n",
       "30                  Russia        europe     H          3                3   \n",
       "31             South Korea          asia     H          4                3   \n",
       "\n",
       "    juegos_ganados  juegos_empatados  juegos_perdidos  goles_favor  \\\n",
       "0                2                 1                0            7   \n",
       "1                2                 1                0            4   \n",
       "2                1                 0                2            6   \n",
       "3                0                 0                3            1   \n",
       "4                3                 0                0           10   \n",
       "5                2                 0                1            5   \n",
       "6                1                 0                2            4   \n",
       "7                0                 0                3            3   \n",
       "8                3                 0                0            9   \n",
       "9                1                 1                1            2   \n",
       "10               1                 0                2            4   \n",
       "11               0                 1                2            2   \n",
       "12               2                 1                0            4   \n",
       "13               2                 0                1            4   \n",
       "14               1                 0                2            2   \n",
       "15               0                 1                2            2   \n",
       "16               2                 1                0            8   \n",
       "17               2                 0                1            7   \n",
       "18               1                 1                1            3   \n",
       "19               0                 0                3            1   \n",
       "20               3                 0                0            6   \n",
       "21               1                 1                1            3   \n",
       "22               1                 0                2            4   \n",
       "23               0                 1                2            1   \n",
       "24               2                 1                0            7   \n",
       "25               1                 1                1            4   \n",
       "26               1                 1                1            4   \n",
       "27               0                 1                2            4   \n",
       "28               3                 0                0            4   \n",
       "29               1                 1                1            6   \n",
       "30               0                 2                1            2   \n",
       "31               0                 1                2            3   \n",
       "\n",
       "    goles_contra goles_diferencia  puntos  clasificado  \n",
       "0              2                5       7            1  \n",
       "1              1                3       7            1  \n",
       "2              6                0       3            0  \n",
       "3              9               −8       0            0  \n",
       "4              3                7       9            1  \n",
       "5              3                2       6            1  \n",
       "6              7               −3       3            0  \n",
       "7              9               −6       0            0  \n",
       "8              2                7       9            1  \n",
       "9              4               −2       4            1  \n",
       "10             5               −1       3            0  \n",
       "11             6               −4       1            0  \n",
       "12             1                3       7            1  \n",
       "13             4                0       6            1  \n",
       "14             3               −1       3            0  \n",
       "15             4               −2       1            0  \n",
       "16             2                6       7            1  \n",
       "17             6                1       6            1  \n",
       "18             3                0       4            0  \n",
       "19             8               −7       0            0  \n",
       "20             3                3       9            1  \n",
       "21             3                0       4            1  \n",
       "22             4                0       3            0  \n",
       "23             4               −3       1            0  \n",
       "24             2                5       7            1  \n",
       "25             4                0       4            1  \n",
       "26             7               −3       4            0  \n",
       "27             6               −2       1            0  \n",
       "28             1                3       9            1  \n",
       "29             5                1       4            1  \n",
       "30             3               −1       2            0  \n",
       "31             6               −3       1            0  "
      ]
     },
     "execution_count": 2,
     "metadata": {},
     "output_type": "execute_result"
    }
   ],
   "source": [
    "# Se cargan los datos de archivo\n",
    "\n",
    "mundial_2014 = pd.read_csv('worldcup2014.csv', delimiter=',')\n",
    "mundial_2014"
   ]
  },
  {
   "cell_type": "markdown",
   "metadata": {},
   "source": [
    "#### 1. Considerando el experimento de seleccionar un país participante al azar, se pide determinar las probabilidades de los siguientes sucesos:\n",
    "\n",
    "#### *Hint: define previamente condiciones para realizar los conteos*\n"
   ]
  },
  {
   "cell_type": "code",
   "execution_count": 4,
   "id": "fb62b7d1",
   "metadata": {},
   "outputs": [
    {
     "data": {
      "text/plain": [
       "continent\n",
       "europe          13\n",
       "southamerica     6\n",
       "africa           5\n",
       "northamerica     4\n",
       "asia             4\n",
       "Name: count, dtype: int64"
      ]
     },
     "execution_count": 4,
     "metadata": {},
     "output_type": "execute_result"
    }
   ],
   "source": [
    "# Se exploran y contabilizan los valores reiterados de la columna \"continente\"\n",
    "mundial_2014[\"continent\"].value_counts()"
   ]
  },
  {
   "cell_type": "code",
   "execution_count": 6,
   "id": "def7dac1",
   "metadata": {},
   "outputs": [],
   "source": [
    "# Definición de condiciones por continente, pero con un filtro amplio, no sólo para booleanos de columna continente\n",
    "equipos_europa = mundial_2014[mundial_2014[\"continent\"]  == 'europe']\n",
    "equipos_sudamerica = mundial_2014[mundial_2014[\"continent\"]  == 'southamerica']\n",
    "equipos_norteamerica = mundial_2014[mundial_2014[\"continent\"]  == 'northamerica']\n",
    "equipos_asia = mundial_2014[mundial_2014[\"continent\"]  == 'asia']\n",
    "equipos_africa = mundial_2014[mundial_2014[\"continent\"]  == 'africa']"
   ]
  },
  {
   "cell_type": "code",
   "execution_count": 7,
   "id": "2074cad9",
   "metadata": {},
   "outputs": [
    {
     "data": {
      "text/html": [
       "<div>\n",
       "<style scoped>\n",
       "    .dataframe tbody tr th:only-of-type {\n",
       "        vertical-align: middle;\n",
       "    }\n",
       "\n",
       "    .dataframe tbody tr th {\n",
       "        vertical-align: top;\n",
       "    }\n",
       "\n",
       "    .dataframe thead th {\n",
       "        text-align: right;\n",
       "    }\n",
       "</style>\n",
       "<table border=\"1\" class=\"dataframe\">\n",
       "  <thead>\n",
       "    <tr style=\"text-align: right;\">\n",
       "      <th></th>\n",
       "      <th>team</th>\n",
       "      <th>continent</th>\n",
       "      <th>group</th>\n",
       "      <th>group_pos</th>\n",
       "      <th>cantidad_juegos</th>\n",
       "      <th>juegos_ganados</th>\n",
       "      <th>juegos_empatados</th>\n",
       "      <th>juegos_perdidos</th>\n",
       "      <th>goles_favor</th>\n",
       "      <th>goles_contra</th>\n",
       "      <th>goles_diferencia</th>\n",
       "      <th>puntos</th>\n",
       "      <th>clasificado</th>\n",
       "    </tr>\n",
       "  </thead>\n",
       "  <tbody>\n",
       "    <tr>\n",
       "      <th>3</th>\n",
       "      <td>Cameroon</td>\n",
       "      <td>africa</td>\n",
       "      <td>A</td>\n",
       "      <td>4</td>\n",
       "      <td>3</td>\n",
       "      <td>0</td>\n",
       "      <td>0</td>\n",
       "      <td>3</td>\n",
       "      <td>1</td>\n",
       "      <td>9</td>\n",
       "      <td>−8</td>\n",
       "      <td>0</td>\n",
       "      <td>0</td>\n",
       "    </tr>\n",
       "    <tr>\n",
       "      <th>10</th>\n",
       "      <td>Ivory Coast</td>\n",
       "      <td>africa</td>\n",
       "      <td>C</td>\n",
       "      <td>3</td>\n",
       "      <td>3</td>\n",
       "      <td>1</td>\n",
       "      <td>0</td>\n",
       "      <td>2</td>\n",
       "      <td>4</td>\n",
       "      <td>5</td>\n",
       "      <td>−1</td>\n",
       "      <td>3</td>\n",
       "      <td>0</td>\n",
       "    </tr>\n",
       "    <tr>\n",
       "      <th>21</th>\n",
       "      <td>Nigeria</td>\n",
       "      <td>africa</td>\n",
       "      <td>F</td>\n",
       "      <td>2</td>\n",
       "      <td>3</td>\n",
       "      <td>1</td>\n",
       "      <td>1</td>\n",
       "      <td>1</td>\n",
       "      <td>3</td>\n",
       "      <td>3</td>\n",
       "      <td>0</td>\n",
       "      <td>4</td>\n",
       "      <td>1</td>\n",
       "    </tr>\n",
       "    <tr>\n",
       "      <th>27</th>\n",
       "      <td>Ghana</td>\n",
       "      <td>africa</td>\n",
       "      <td>G</td>\n",
       "      <td>4</td>\n",
       "      <td>3</td>\n",
       "      <td>0</td>\n",
       "      <td>1</td>\n",
       "      <td>2</td>\n",
       "      <td>4</td>\n",
       "      <td>6</td>\n",
       "      <td>−2</td>\n",
       "      <td>1</td>\n",
       "      <td>0</td>\n",
       "    </tr>\n",
       "    <tr>\n",
       "      <th>29</th>\n",
       "      <td>Algeria</td>\n",
       "      <td>africa</td>\n",
       "      <td>H</td>\n",
       "      <td>2</td>\n",
       "      <td>3</td>\n",
       "      <td>1</td>\n",
       "      <td>1</td>\n",
       "      <td>1</td>\n",
       "      <td>6</td>\n",
       "      <td>5</td>\n",
       "      <td>1</td>\n",
       "      <td>4</td>\n",
       "      <td>1</td>\n",
       "    </tr>\n",
       "  </tbody>\n",
       "</table>\n",
       "</div>"
      ],
      "text/plain": [
       "           team continent group  group_pos  cantidad_juegos  juegos_ganados  \\\n",
       "3      Cameroon    africa     A          4                3               0   \n",
       "10  Ivory Coast    africa     C          3                3               1   \n",
       "21      Nigeria    africa     F          2                3               1   \n",
       "27        Ghana    africa     G          4                3               0   \n",
       "29      Algeria    africa     H          2                3               1   \n",
       "\n",
       "    juegos_empatados  juegos_perdidos  goles_favor  goles_contra  \\\n",
       "3                  0                3            1             9   \n",
       "10                 0                2            4             5   \n",
       "21                 1                1            3             3   \n",
       "27                 1                2            4             6   \n",
       "29                 1                1            6             5   \n",
       "\n",
       "   goles_diferencia  puntos  clasificado  \n",
       "3                −8       0            0  \n",
       "10               −1       3            0  \n",
       "21                0       4            1  \n",
       "27               −2       1            0  \n",
       "29                1       4            1  "
      ]
     },
     "execution_count": 7,
     "metadata": {},
     "output_type": "execute_result"
    }
   ],
   "source": [
    "# Ejemplo\n",
    "equipos_africa"
   ]
  },
  {
   "cell_type": "code",
   "execution_count": 9,
   "id": "0a7f1dc7",
   "metadata": {},
   "outputs": [
    {
     "data": {
      "text/html": [
       "<div>\n",
       "<style scoped>\n",
       "    .dataframe tbody tr th:only-of-type {\n",
       "        vertical-align: middle;\n",
       "    }\n",
       "\n",
       "    .dataframe tbody tr th {\n",
       "        vertical-align: top;\n",
       "    }\n",
       "\n",
       "    .dataframe thead th {\n",
       "        text-align: right;\n",
       "    }\n",
       "</style>\n",
       "<table border=\"1\" class=\"dataframe\">\n",
       "  <thead>\n",
       "    <tr style=\"text-align: right;\">\n",
       "      <th></th>\n",
       "      <th>team</th>\n",
       "      <th>continent</th>\n",
       "      <th>group</th>\n",
       "      <th>group_pos</th>\n",
       "      <th>cantidad_juegos</th>\n",
       "      <th>juegos_ganados</th>\n",
       "      <th>juegos_empatados</th>\n",
       "      <th>juegos_perdidos</th>\n",
       "      <th>goles_favor</th>\n",
       "      <th>goles_contra</th>\n",
       "      <th>goles_diferencia</th>\n",
       "      <th>puntos</th>\n",
       "      <th>clasificado</th>\n",
       "    </tr>\n",
       "  </thead>\n",
       "  <tbody>\n",
       "    <tr>\n",
       "      <th>7</th>\n",
       "      <td>Australia</td>\n",
       "      <td>asia</td>\n",
       "      <td>B</td>\n",
       "      <td>4</td>\n",
       "      <td>3</td>\n",
       "      <td>0</td>\n",
       "      <td>0</td>\n",
       "      <td>3</td>\n",
       "      <td>3</td>\n",
       "      <td>9</td>\n",
       "      <td>−6</td>\n",
       "      <td>0</td>\n",
       "      <td>0</td>\n",
       "    </tr>\n",
       "    <tr>\n",
       "      <th>11</th>\n",
       "      <td>Japan</td>\n",
       "      <td>asia</td>\n",
       "      <td>C</td>\n",
       "      <td>4</td>\n",
       "      <td>3</td>\n",
       "      <td>0</td>\n",
       "      <td>1</td>\n",
       "      <td>2</td>\n",
       "      <td>2</td>\n",
       "      <td>6</td>\n",
       "      <td>−4</td>\n",
       "      <td>1</td>\n",
       "      <td>0</td>\n",
       "    </tr>\n",
       "    <tr>\n",
       "      <th>23</th>\n",
       "      <td>Iran</td>\n",
       "      <td>asia</td>\n",
       "      <td>F</td>\n",
       "      <td>4</td>\n",
       "      <td>3</td>\n",
       "      <td>0</td>\n",
       "      <td>1</td>\n",
       "      <td>2</td>\n",
       "      <td>1</td>\n",
       "      <td>4</td>\n",
       "      <td>−3</td>\n",
       "      <td>1</td>\n",
       "      <td>0</td>\n",
       "    </tr>\n",
       "    <tr>\n",
       "      <th>31</th>\n",
       "      <td>South Korea</td>\n",
       "      <td>asia</td>\n",
       "      <td>H</td>\n",
       "      <td>4</td>\n",
       "      <td>3</td>\n",
       "      <td>0</td>\n",
       "      <td>1</td>\n",
       "      <td>2</td>\n",
       "      <td>3</td>\n",
       "      <td>6</td>\n",
       "      <td>−3</td>\n",
       "      <td>1</td>\n",
       "      <td>0</td>\n",
       "    </tr>\n",
       "  </tbody>\n",
       "</table>\n",
       "</div>"
      ],
      "text/plain": [
       "           team continent group  group_pos  cantidad_juegos  juegos_ganados  \\\n",
       "7     Australia      asia     B          4                3               0   \n",
       "11        Japan      asia     C          4                3               0   \n",
       "23         Iran      asia     F          4                3               0   \n",
       "31  South Korea      asia     H          4                3               0   \n",
       "\n",
       "    juegos_empatados  juegos_perdidos  goles_favor  goles_contra  \\\n",
       "7                  0                3            3             9   \n",
       "11                 1                2            2             6   \n",
       "23                 1                2            1             4   \n",
       "31                 1                2            3             6   \n",
       "\n",
       "   goles_diferencia  puntos  clasificado  \n",
       "7                −6       0            0  \n",
       "11               −4       1            0  \n",
       "23               −3       1            0  \n",
       "31               −3       1            0  "
      ]
     },
     "execution_count": 9,
     "metadata": {},
     "output_type": "execute_result"
    }
   ],
   "source": [
    "equipos_asia"
   ]
  },
  {
   "cell_type": "code",
   "execution_count": 10,
   "id": "54730879",
   "metadata": {},
   "outputs": [],
   "source": [
    "# Se define un diccionario para mayor claridad de un próximo print de exploración inicial\n",
    "dict_eq_continentes = {\n",
    "    \"Europa\": equipos_europa, \n",
    "    \"Sudamérica\": equipos_sudamerica, \n",
    "    \"África\": equipos_africa, \n",
    "    \"Norteamérica\": equipos_norteamerica, \n",
    "    \"Asia\": equipos_asia} \n"
   ]
  },
  {
   "cell_type": "code",
   "execution_count": 12,
   "id": "8b756325",
   "metadata": {},
   "outputs": [
    {
     "name": "stdout",
     "output_type": "stream",
     "text": [
      "De Europa participan 13 selecciones.\n",
      "De Sudamérica participan 6 selecciones.\n",
      "De África participan 5 selecciones.\n",
      "De Norteamérica participan 4 selecciones.\n",
      "De Asia participan 4 selecciones.\n",
      "Total cantidad de países participantes: 32\n"
     ]
    }
   ],
   "source": [
    "# Ciclo para imprimir los valores del diccionario (cantidad de equipos participantes por continente).\n",
    "total_paises = 0\n",
    "for continente, cantidad in dict_eq_continentes.items():\n",
    "    cantidad_equipos = cantidad.shape[0]\n",
    "    print(f\"De {continente} participan {cantidad_equipos} selecciones.\")\n",
    "    total_paises += cantidad_equipos\n",
    "print(f\"Total cantidad de países participantes: {total_paises}\" )"
   ]
  },
  {
   "cell_type": "code",
   "execution_count": 13,
   "id": "cb2c9810",
   "metadata": {},
   "outputs": [
    {
     "data": {
      "text/plain": [
       "6"
      ]
     },
     "execution_count": 13,
     "metadata": {},
     "output_type": "execute_result"
    }
   ],
   "source": [
    "# En caso de querer ver la cantidad de equipos de un sólo continente se utilizará \".shape()\"\n",
    "#Ejemplo\n",
    "equipos_sudamerica.shape[0]"
   ]
  },
  {
   "cell_type": "code",
   "execution_count": 14,
   "id": "29c6d1bd",
   "metadata": {},
   "outputs": [],
   "source": [
    "# Crearé variables para facilitar este conteo por continentes\n",
    "\n",
    "conteo_europa = equipos_europa.shape[0]\n",
    "conteo_sudamerica = equipos_sudamerica.shape[0]\n",
    "conteo_africa = equipos_africa.shape[0]\n",
    "conteo_norteamerica = equipos_norteamerica.shape[0]\n",
    "conteo_asia = equipos_asia.shape[0]\n"
   ]
  },
  {
   "cell_type": "markdown",
   "id": "5ccad8bd",
   "metadata": {},
   "source": [
    "##### **a. pertenecer a África**"
   ]
  },
  {
   "cell_type": "code",
   "execution_count": 15,
   "metadata": {},
   "outputs": [
    {
     "name": "stdout",
     "output_type": "stream",
     "text": [
      "Conteo selecciones Africa en el Mundial 2014: 5\n"
     ]
    },
    {
     "data": {
      "text/plain": [
       "'La probabilidad de que una selección sea de África es de: 0.16'"
      ]
     },
     "execution_count": 15,
     "metadata": {},
     "output_type": "execute_result"
    }
   ],
   "source": [
    "# probabilidad --> p = casos / total\n",
    "\n",
    "print(f\"Conteo selecciones Africa en el Mundial 2014: {conteo_africa}\")\n",
    "p_africa = round((conteo_africa / len(mundial_2014)),2)\n",
    "f'La probabilidad de que una selección sea de África es de: {p_africa}'"
   ]
  },
  {
   "cell_type": "markdown",
   "id": "d8f7e07b",
   "metadata": {},
   "source": [
    "##### **b. pertenecer a Asia**"
   ]
  },
  {
   "cell_type": "code",
   "execution_count": 16,
   "id": "8f388901",
   "metadata": {},
   "outputs": [
    {
     "name": "stdout",
     "output_type": "stream",
     "text": [
      "Conteo selecciones Asia en el Mundial 2014: 4\n"
     ]
    },
    {
     "data": {
      "text/plain": [
       "'La probabilidad de que una selección sea de Asia es de: 0.12'"
      ]
     },
     "execution_count": 16,
     "metadata": {},
     "output_type": "execute_result"
    }
   ],
   "source": [
    "print(f\"Conteo selecciones Asia en el Mundial 2014: {conteo_asia}\")\n",
    "\n",
    "\n",
    "p_asia = round((conteo_asia / len(mundial_2014)),2)\n",
    "f'La probabilidad de que una selección sea de Asia es de: {p_asia}'"
   ]
  },
  {
   "cell_type": "markdown",
   "id": "53997a4c",
   "metadata": {},
   "source": [
    "##### **c. pertenecer a Europa**"
   ]
  },
  {
   "cell_type": "code",
   "execution_count": 17,
   "id": "badc6f0a",
   "metadata": {},
   "outputs": [
    {
     "name": "stdout",
     "output_type": "stream",
     "text": [
      "Conteo selecciones Europa en el Mundial 2014: 13\n"
     ]
    },
    {
     "data": {
      "text/plain": [
       "'La probabilidad de que una selección sea de Europa es de: 0.41'"
      ]
     },
     "execution_count": 17,
     "metadata": {},
     "output_type": "execute_result"
    }
   ],
   "source": [
    "print(f\"Conteo selecciones Europa en el Mundial 2014: {conteo_europa}\")\n",
    "\n",
    "\n",
    "p_europa = round((conteo_europa / len(mundial_2014)),2)\n",
    "f'La probabilidad de que una selección sea de Europa es de: {p_europa}'"
   ]
  },
  {
   "cell_type": "markdown",
   "id": "c91da452",
   "metadata": {},
   "source": [
    "##### **d. pertenecer a Norteamérica**"
   ]
  },
  {
   "cell_type": "code",
   "execution_count": 18,
   "id": "37829dc4",
   "metadata": {},
   "outputs": [
    {
     "name": "stdout",
     "output_type": "stream",
     "text": [
      "Conteo selecciones Norteamérica en el Mundial 2014: 4\n"
     ]
    }
   ],
   "source": [
    "print(f\"Conteo selecciones Norteamérica en el Mundial 2014: {conteo_norteamerica}\")\n",
    "\n"
   ]
  },
  {
   "cell_type": "code",
   "execution_count": 19,
   "id": "2dd94b90",
   "metadata": {},
   "outputs": [
    {
     "data": {
      "text/html": [
       "<div>\n",
       "<style scoped>\n",
       "    .dataframe tbody tr th:only-of-type {\n",
       "        vertical-align: middle;\n",
       "    }\n",
       "\n",
       "    .dataframe tbody tr th {\n",
       "        vertical-align: top;\n",
       "    }\n",
       "\n",
       "    .dataframe thead th {\n",
       "        text-align: right;\n",
       "    }\n",
       "</style>\n",
       "<table border=\"1\" class=\"dataframe\">\n",
       "  <thead>\n",
       "    <tr style=\"text-align: right;\">\n",
       "      <th></th>\n",
       "      <th>team</th>\n",
       "      <th>continent</th>\n",
       "      <th>group</th>\n",
       "      <th>group_pos</th>\n",
       "      <th>cantidad_juegos</th>\n",
       "      <th>juegos_ganados</th>\n",
       "      <th>juegos_empatados</th>\n",
       "      <th>juegos_perdidos</th>\n",
       "      <th>goles_favor</th>\n",
       "      <th>goles_contra</th>\n",
       "      <th>goles_diferencia</th>\n",
       "      <th>puntos</th>\n",
       "      <th>clasificado</th>\n",
       "    </tr>\n",
       "  </thead>\n",
       "  <tbody>\n",
       "    <tr>\n",
       "      <th>1</th>\n",
       "      <td>Mexico</td>\n",
       "      <td>northamerica</td>\n",
       "      <td>A</td>\n",
       "      <td>2</td>\n",
       "      <td>3</td>\n",
       "      <td>2</td>\n",
       "      <td>1</td>\n",
       "      <td>0</td>\n",
       "      <td>4</td>\n",
       "      <td>1</td>\n",
       "      <td>3</td>\n",
       "      <td>7</td>\n",
       "      <td>1</td>\n",
       "    </tr>\n",
       "    <tr>\n",
       "      <th>12</th>\n",
       "      <td>Costa Rica</td>\n",
       "      <td>northamerica</td>\n",
       "      <td>D</td>\n",
       "      <td>1</td>\n",
       "      <td>3</td>\n",
       "      <td>2</td>\n",
       "      <td>1</td>\n",
       "      <td>0</td>\n",
       "      <td>4</td>\n",
       "      <td>1</td>\n",
       "      <td>3</td>\n",
       "      <td>7</td>\n",
       "      <td>1</td>\n",
       "    </tr>\n",
       "    <tr>\n",
       "      <th>19</th>\n",
       "      <td>Honduras</td>\n",
       "      <td>northamerica</td>\n",
       "      <td>E</td>\n",
       "      <td>4</td>\n",
       "      <td>3</td>\n",
       "      <td>0</td>\n",
       "      <td>0</td>\n",
       "      <td>3</td>\n",
       "      <td>1</td>\n",
       "      <td>8</td>\n",
       "      <td>−7</td>\n",
       "      <td>0</td>\n",
       "      <td>0</td>\n",
       "    </tr>\n",
       "    <tr>\n",
       "      <th>25</th>\n",
       "      <td>United States</td>\n",
       "      <td>northamerica</td>\n",
       "      <td>G</td>\n",
       "      <td>2</td>\n",
       "      <td>3</td>\n",
       "      <td>1</td>\n",
       "      <td>1</td>\n",
       "      <td>1</td>\n",
       "      <td>4</td>\n",
       "      <td>4</td>\n",
       "      <td>0</td>\n",
       "      <td>4</td>\n",
       "      <td>1</td>\n",
       "    </tr>\n",
       "  </tbody>\n",
       "</table>\n",
       "</div>"
      ],
      "text/plain": [
       "             team     continent group  group_pos  cantidad_juegos  \\\n",
       "1          Mexico  northamerica     A          2                3   \n",
       "12     Costa Rica  northamerica     D          1                3   \n",
       "19       Honduras  northamerica     E          4                3   \n",
       "25  United States  northamerica     G          2                3   \n",
       "\n",
       "    juegos_ganados  juegos_empatados  juegos_perdidos  goles_favor  \\\n",
       "1                2                 1                0            4   \n",
       "12               2                 1                0            4   \n",
       "19               0                 0                3            1   \n",
       "25               1                 1                1            4   \n",
       "\n",
       "    goles_contra goles_diferencia  puntos  clasificado  \n",
       "1              1                3       7            1  \n",
       "12             1                3       7            1  \n",
       "19             8               −7       0            0  \n",
       "25             4                0       4            1  "
      ]
     },
     "execution_count": 19,
     "metadata": {},
     "output_type": "execute_result"
    }
   ],
   "source": [
    "# ¿Cuáles son? Porque tengo entendido que en América del Norte hay 3 países XD\n",
    "\n",
    "equipos_norteamerica"
   ]
  },
  {
   "cell_type": "code",
   "execution_count": 20,
   "id": "8191895a",
   "metadata": {},
   "outputs": [],
   "source": [
    "# Aah, incluyen Costa Rica y Honduras XD"
   ]
  },
  {
   "cell_type": "code",
   "execution_count": 21,
   "id": "6a122d19",
   "metadata": {},
   "outputs": [
    {
     "data": {
      "text/plain": [
       "'La probabilidad de que una selección sea de Norteamérica es de: 0.12'"
      ]
     },
     "execution_count": 21,
     "metadata": {},
     "output_type": "execute_result"
    }
   ],
   "source": [
    "p_norteamerica = round((conteo_norteamerica / len(mundial_2014)),2)\n",
    "f'La probabilidad de que una selección sea de Norteamérica es de: {p_norteamerica}'"
   ]
  },
  {
   "cell_type": "markdown",
   "id": "2e4894d5",
   "metadata": {},
   "source": [
    "##### **e. pertenecer a Sudamérica**"
   ]
  },
  {
   "cell_type": "code",
   "execution_count": 22,
   "id": "f8465e4e",
   "metadata": {},
   "outputs": [
    {
     "name": "stdout",
     "output_type": "stream",
     "text": [
      "Conteo selecciones Sudamérica en el Mundial 2014: 6\n"
     ]
    }
   ],
   "source": [
    "print(f\"Conteo selecciones Sudamérica en el Mundial 2014: {conteo_sudamerica}\")\n"
   ]
  },
  {
   "cell_type": "code",
   "execution_count": 23,
   "id": "5fa88dad",
   "metadata": {},
   "outputs": [
    {
     "data": {
      "text/plain": [
       "'La probabilidad de que una selección sea de Sudamérica es de: 0.19'"
      ]
     },
     "execution_count": 23,
     "metadata": {},
     "output_type": "execute_result"
    }
   ],
   "source": [
    "p_sudamerica = round((conteo_sudamerica / len(mundial_2014)),2)\n",
    "f'La probabilidad de que una selección sea de Sudamérica es de: {p_sudamerica}'"
   ]
  },
  {
   "cell_type": "markdown",
   "id": "b5c6f8ff",
   "metadata": {},
   "source": [
    "##### **f. clasificar a segunda ronda**"
   ]
  },
  {
   "cell_type": "code",
   "execution_count": 24,
   "id": "1238bac4",
   "metadata": {},
   "outputs": [
    {
     "data": {
      "text/html": [
       "<div>\n",
       "<style scoped>\n",
       "    .dataframe tbody tr th:only-of-type {\n",
       "        vertical-align: middle;\n",
       "    }\n",
       "\n",
       "    .dataframe tbody tr th {\n",
       "        vertical-align: top;\n",
       "    }\n",
       "\n",
       "    .dataframe thead th {\n",
       "        text-align: right;\n",
       "    }\n",
       "</style>\n",
       "<table border=\"1\" class=\"dataframe\">\n",
       "  <thead>\n",
       "    <tr style=\"text-align: right;\">\n",
       "      <th></th>\n",
       "      <th>team</th>\n",
       "      <th>continent</th>\n",
       "      <th>group</th>\n",
       "      <th>group_pos</th>\n",
       "      <th>cantidad_juegos</th>\n",
       "      <th>juegos_ganados</th>\n",
       "      <th>juegos_empatados</th>\n",
       "      <th>juegos_perdidos</th>\n",
       "      <th>goles_favor</th>\n",
       "      <th>goles_contra</th>\n",
       "      <th>goles_diferencia</th>\n",
       "      <th>puntos</th>\n",
       "      <th>clasificado</th>\n",
       "    </tr>\n",
       "  </thead>\n",
       "  <tbody>\n",
       "    <tr>\n",
       "      <th>0</th>\n",
       "      <td>Brazil</td>\n",
       "      <td>southamerica</td>\n",
       "      <td>A</td>\n",
       "      <td>1</td>\n",
       "      <td>3</td>\n",
       "      <td>2</td>\n",
       "      <td>1</td>\n",
       "      <td>0</td>\n",
       "      <td>7</td>\n",
       "      <td>2</td>\n",
       "      <td>5</td>\n",
       "      <td>7</td>\n",
       "      <td>1</td>\n",
       "    </tr>\n",
       "    <tr>\n",
       "      <th>1</th>\n",
       "      <td>Mexico</td>\n",
       "      <td>northamerica</td>\n",
       "      <td>A</td>\n",
       "      <td>2</td>\n",
       "      <td>3</td>\n",
       "      <td>2</td>\n",
       "      <td>1</td>\n",
       "      <td>0</td>\n",
       "      <td>4</td>\n",
       "      <td>1</td>\n",
       "      <td>3</td>\n",
       "      <td>7</td>\n",
       "      <td>1</td>\n",
       "    </tr>\n",
       "    <tr>\n",
       "      <th>4</th>\n",
       "      <td>Netherlands</td>\n",
       "      <td>europe</td>\n",
       "      <td>B</td>\n",
       "      <td>1</td>\n",
       "      <td>3</td>\n",
       "      <td>3</td>\n",
       "      <td>0</td>\n",
       "      <td>0</td>\n",
       "      <td>10</td>\n",
       "      <td>3</td>\n",
       "      <td>7</td>\n",
       "      <td>9</td>\n",
       "      <td>1</td>\n",
       "    </tr>\n",
       "    <tr>\n",
       "      <th>5</th>\n",
       "      <td>Chile</td>\n",
       "      <td>southamerica</td>\n",
       "      <td>B</td>\n",
       "      <td>2</td>\n",
       "      <td>3</td>\n",
       "      <td>2</td>\n",
       "      <td>0</td>\n",
       "      <td>1</td>\n",
       "      <td>5</td>\n",
       "      <td>3</td>\n",
       "      <td>2</td>\n",
       "      <td>6</td>\n",
       "      <td>1</td>\n",
       "    </tr>\n",
       "    <tr>\n",
       "      <th>8</th>\n",
       "      <td>Colombia</td>\n",
       "      <td>southamerica</td>\n",
       "      <td>C</td>\n",
       "      <td>1</td>\n",
       "      <td>3</td>\n",
       "      <td>3</td>\n",
       "      <td>0</td>\n",
       "      <td>0</td>\n",
       "      <td>9</td>\n",
       "      <td>2</td>\n",
       "      <td>7</td>\n",
       "      <td>9</td>\n",
       "      <td>1</td>\n",
       "    </tr>\n",
       "    <tr>\n",
       "      <th>9</th>\n",
       "      <td>Greece</td>\n",
       "      <td>europe</td>\n",
       "      <td>C</td>\n",
       "      <td>2</td>\n",
       "      <td>3</td>\n",
       "      <td>1</td>\n",
       "      <td>1</td>\n",
       "      <td>1</td>\n",
       "      <td>2</td>\n",
       "      <td>4</td>\n",
       "      <td>−2</td>\n",
       "      <td>4</td>\n",
       "      <td>1</td>\n",
       "    </tr>\n",
       "    <tr>\n",
       "      <th>12</th>\n",
       "      <td>Costa Rica</td>\n",
       "      <td>northamerica</td>\n",
       "      <td>D</td>\n",
       "      <td>1</td>\n",
       "      <td>3</td>\n",
       "      <td>2</td>\n",
       "      <td>1</td>\n",
       "      <td>0</td>\n",
       "      <td>4</td>\n",
       "      <td>1</td>\n",
       "      <td>3</td>\n",
       "      <td>7</td>\n",
       "      <td>1</td>\n",
       "    </tr>\n",
       "    <tr>\n",
       "      <th>13</th>\n",
       "      <td>Uruguay</td>\n",
       "      <td>southamerica</td>\n",
       "      <td>D</td>\n",
       "      <td>2</td>\n",
       "      <td>3</td>\n",
       "      <td>2</td>\n",
       "      <td>0</td>\n",
       "      <td>1</td>\n",
       "      <td>4</td>\n",
       "      <td>4</td>\n",
       "      <td>0</td>\n",
       "      <td>6</td>\n",
       "      <td>1</td>\n",
       "    </tr>\n",
       "    <tr>\n",
       "      <th>16</th>\n",
       "      <td>France</td>\n",
       "      <td>europe</td>\n",
       "      <td>E</td>\n",
       "      <td>1</td>\n",
       "      <td>3</td>\n",
       "      <td>2</td>\n",
       "      <td>1</td>\n",
       "      <td>0</td>\n",
       "      <td>8</td>\n",
       "      <td>2</td>\n",
       "      <td>6</td>\n",
       "      <td>7</td>\n",
       "      <td>1</td>\n",
       "    </tr>\n",
       "    <tr>\n",
       "      <th>17</th>\n",
       "      <td>Switzerland</td>\n",
       "      <td>europe</td>\n",
       "      <td>E</td>\n",
       "      <td>2</td>\n",
       "      <td>3</td>\n",
       "      <td>2</td>\n",
       "      <td>0</td>\n",
       "      <td>1</td>\n",
       "      <td>7</td>\n",
       "      <td>6</td>\n",
       "      <td>1</td>\n",
       "      <td>6</td>\n",
       "      <td>1</td>\n",
       "    </tr>\n",
       "    <tr>\n",
       "      <th>20</th>\n",
       "      <td>Argentina</td>\n",
       "      <td>southamerica</td>\n",
       "      <td>F</td>\n",
       "      <td>1</td>\n",
       "      <td>3</td>\n",
       "      <td>3</td>\n",
       "      <td>0</td>\n",
       "      <td>0</td>\n",
       "      <td>6</td>\n",
       "      <td>3</td>\n",
       "      <td>3</td>\n",
       "      <td>9</td>\n",
       "      <td>1</td>\n",
       "    </tr>\n",
       "    <tr>\n",
       "      <th>21</th>\n",
       "      <td>Nigeria</td>\n",
       "      <td>africa</td>\n",
       "      <td>F</td>\n",
       "      <td>2</td>\n",
       "      <td>3</td>\n",
       "      <td>1</td>\n",
       "      <td>1</td>\n",
       "      <td>1</td>\n",
       "      <td>3</td>\n",
       "      <td>3</td>\n",
       "      <td>0</td>\n",
       "      <td>4</td>\n",
       "      <td>1</td>\n",
       "    </tr>\n",
       "    <tr>\n",
       "      <th>24</th>\n",
       "      <td>Germany</td>\n",
       "      <td>europe</td>\n",
       "      <td>G</td>\n",
       "      <td>1</td>\n",
       "      <td>3</td>\n",
       "      <td>2</td>\n",
       "      <td>1</td>\n",
       "      <td>0</td>\n",
       "      <td>7</td>\n",
       "      <td>2</td>\n",
       "      <td>5</td>\n",
       "      <td>7</td>\n",
       "      <td>1</td>\n",
       "    </tr>\n",
       "    <tr>\n",
       "      <th>25</th>\n",
       "      <td>United States</td>\n",
       "      <td>northamerica</td>\n",
       "      <td>G</td>\n",
       "      <td>2</td>\n",
       "      <td>3</td>\n",
       "      <td>1</td>\n",
       "      <td>1</td>\n",
       "      <td>1</td>\n",
       "      <td>4</td>\n",
       "      <td>4</td>\n",
       "      <td>0</td>\n",
       "      <td>4</td>\n",
       "      <td>1</td>\n",
       "    </tr>\n",
       "    <tr>\n",
       "      <th>28</th>\n",
       "      <td>Belgium</td>\n",
       "      <td>europe</td>\n",
       "      <td>H</td>\n",
       "      <td>1</td>\n",
       "      <td>3</td>\n",
       "      <td>3</td>\n",
       "      <td>0</td>\n",
       "      <td>0</td>\n",
       "      <td>4</td>\n",
       "      <td>1</td>\n",
       "      <td>3</td>\n",
       "      <td>9</td>\n",
       "      <td>1</td>\n",
       "    </tr>\n",
       "    <tr>\n",
       "      <th>29</th>\n",
       "      <td>Algeria</td>\n",
       "      <td>africa</td>\n",
       "      <td>H</td>\n",
       "      <td>2</td>\n",
       "      <td>3</td>\n",
       "      <td>1</td>\n",
       "      <td>1</td>\n",
       "      <td>1</td>\n",
       "      <td>6</td>\n",
       "      <td>5</td>\n",
       "      <td>1</td>\n",
       "      <td>4</td>\n",
       "      <td>1</td>\n",
       "    </tr>\n",
       "  </tbody>\n",
       "</table>\n",
       "</div>"
      ],
      "text/plain": [
       "             team     continent group  group_pos  cantidad_juegos  \\\n",
       "0          Brazil  southamerica     A          1                3   \n",
       "1          Mexico  northamerica     A          2                3   \n",
       "4     Netherlands        europe     B          1                3   \n",
       "5           Chile  southamerica     B          2                3   \n",
       "8        Colombia  southamerica     C          1                3   \n",
       "9          Greece        europe     C          2                3   \n",
       "12     Costa Rica  northamerica     D          1                3   \n",
       "13        Uruguay  southamerica     D          2                3   \n",
       "16         France        europe     E          1                3   \n",
       "17    Switzerland        europe     E          2                3   \n",
       "20      Argentina  southamerica     F          1                3   \n",
       "21        Nigeria        africa     F          2                3   \n",
       "24        Germany        europe     G          1                3   \n",
       "25  United States  northamerica     G          2                3   \n",
       "28        Belgium        europe     H          1                3   \n",
       "29        Algeria        africa     H          2                3   \n",
       "\n",
       "    juegos_ganados  juegos_empatados  juegos_perdidos  goles_favor  \\\n",
       "0                2                 1                0            7   \n",
       "1                2                 1                0            4   \n",
       "4                3                 0                0           10   \n",
       "5                2                 0                1            5   \n",
       "8                3                 0                0            9   \n",
       "9                1                 1                1            2   \n",
       "12               2                 1                0            4   \n",
       "13               2                 0                1            4   \n",
       "16               2                 1                0            8   \n",
       "17               2                 0                1            7   \n",
       "20               3                 0                0            6   \n",
       "21               1                 1                1            3   \n",
       "24               2                 1                0            7   \n",
       "25               1                 1                1            4   \n",
       "28               3                 0                0            4   \n",
       "29               1                 1                1            6   \n",
       "\n",
       "    goles_contra goles_diferencia  puntos  clasificado  \n",
       "0              2                5       7            1  \n",
       "1              1                3       7            1  \n",
       "4              3                7       9            1  \n",
       "5              3                2       6            1  \n",
       "8              2                7       9            1  \n",
       "9              4               −2       4            1  \n",
       "12             1                3       7            1  \n",
       "13             4                0       6            1  \n",
       "16             2                6       7            1  \n",
       "17             6                1       6            1  \n",
       "20             3                3       9            1  \n",
       "21             3                0       4            1  \n",
       "24             2                5       7            1  \n",
       "25             4                0       4            1  \n",
       "28             1                3       9            1  \n",
       "29             5                1       4            1  "
      ]
     },
     "execution_count": 24,
     "metadata": {},
     "output_type": "execute_result"
    }
   ],
   "source": [
    "# Se considera que el valor 1 es \"clasificados\", por lo que se filtra el dataframe y se almacena en variable para futuras consultas\n",
    "filtro_clasificados = mundial_2014[mundial_2014['clasificado']== 1]\n",
    "filtro_clasificados"
   ]
  },
  {
   "cell_type": "code",
   "execution_count": 25,
   "id": "d63f6740",
   "metadata": {},
   "outputs": [
    {
     "name": "stdout",
     "output_type": "stream",
     "text": [
      "De las selecciones participantes, ****16**** clasificaron a segunda ronda.\n"
     ]
    }
   ],
   "source": [
    "# Se almacena en variable el número de selecciones clasificadas\n",
    "conteo_clasificados = filtro_clasificados.shape[0]\n",
    "print(f\"De las selecciones participantes, ****{conteo_clasificados}**** clasificaron a segunda ronda.\") \n"
   ]
  },
  {
   "cell_type": "code",
   "execution_count": 26,
   "id": "4dfdbe38",
   "metadata": {},
   "outputs": [
    {
     "name": "stdout",
     "output_type": "stream",
     "text": [
      "La probabilidad teória de que una selección clasifique a segunda ronda es:******* 0.5 *******, sin atender experiencia previa u otros antecedentes.\n"
     ]
    }
   ],
   "source": [
    "\n",
    "# prob = casos / total\n",
    "# Calcular la probabilidad de pasar a segunda ronda\n",
    "p_clasificados = round((conteo_clasificados / len(mundial_2014)),2)\n",
    "print(f'La probabilidad teória de que una selección clasifique a segunda ronda es:******* {p_clasificados} *******, sin atender experiencia previa u otros antecedentes.')\n",
    "\n"
   ]
  },
  {
   "cell_type": "code",
   "execution_count": 27,
   "id": "4dc4d172",
   "metadata": {},
   "outputs": [
    {
     "data": {
      "text/plain": [
       "0            Brazil\n",
       "1            Mexico\n",
       "4       Netherlands\n",
       "5             Chile\n",
       "8          Colombia\n",
       "9            Greece\n",
       "12       Costa Rica\n",
       "13          Uruguay\n",
       "16           France\n",
       "17      Switzerland\n",
       "20        Argentina\n",
       "21          Nigeria\n",
       "24          Germany\n",
       "25    United States\n",
       "28          Belgium\n",
       "29          Algeria\n",
       "Name: team, dtype: object"
      ]
     },
     "execution_count": 27,
     "metadata": {},
     "output_type": "execute_result"
    }
   ],
   "source": [
    "#La lista de selecciones que clasificaron a segunda ronda es la siguiente\n",
    "filtro_clasificados['team']"
   ]
  },
  {
   "cell_type": "markdown",
   "id": "dfc5d930",
   "metadata": {},
   "source": [
    "##### **g. ganar al menos un partido**"
   ]
  },
  {
   "cell_type": "code",
   "execution_count": 28,
   "id": "37a10dcb",
   "metadata": {},
   "outputs": [
    {
     "data": {
      "text/html": [
       "<div>\n",
       "<style scoped>\n",
       "    .dataframe tbody tr th:only-of-type {\n",
       "        vertical-align: middle;\n",
       "    }\n",
       "\n",
       "    .dataframe tbody tr th {\n",
       "        vertical-align: top;\n",
       "    }\n",
       "\n",
       "    .dataframe thead th {\n",
       "        text-align: right;\n",
       "    }\n",
       "</style>\n",
       "<table border=\"1\" class=\"dataframe\">\n",
       "  <thead>\n",
       "    <tr style=\"text-align: right;\">\n",
       "      <th></th>\n",
       "      <th>team</th>\n",
       "      <th>continent</th>\n",
       "      <th>group</th>\n",
       "      <th>group_pos</th>\n",
       "      <th>cantidad_juegos</th>\n",
       "      <th>juegos_ganados</th>\n",
       "      <th>juegos_empatados</th>\n",
       "      <th>juegos_perdidos</th>\n",
       "      <th>goles_favor</th>\n",
       "      <th>goles_contra</th>\n",
       "      <th>goles_diferencia</th>\n",
       "      <th>puntos</th>\n",
       "      <th>clasificado</th>\n",
       "    </tr>\n",
       "  </thead>\n",
       "  <tbody>\n",
       "    <tr>\n",
       "      <th>0</th>\n",
       "      <td>Brazil</td>\n",
       "      <td>southamerica</td>\n",
       "      <td>A</td>\n",
       "      <td>1</td>\n",
       "      <td>3</td>\n",
       "      <td>2</td>\n",
       "      <td>1</td>\n",
       "      <td>0</td>\n",
       "      <td>7</td>\n",
       "      <td>2</td>\n",
       "      <td>5</td>\n",
       "      <td>7</td>\n",
       "      <td>1</td>\n",
       "    </tr>\n",
       "    <tr>\n",
       "      <th>1</th>\n",
       "      <td>Mexico</td>\n",
       "      <td>northamerica</td>\n",
       "      <td>A</td>\n",
       "      <td>2</td>\n",
       "      <td>3</td>\n",
       "      <td>2</td>\n",
       "      <td>1</td>\n",
       "      <td>0</td>\n",
       "      <td>4</td>\n",
       "      <td>1</td>\n",
       "      <td>3</td>\n",
       "      <td>7</td>\n",
       "      <td>1</td>\n",
       "    </tr>\n",
       "    <tr>\n",
       "      <th>2</th>\n",
       "      <td>Croatia</td>\n",
       "      <td>europe</td>\n",
       "      <td>A</td>\n",
       "      <td>3</td>\n",
       "      <td>3</td>\n",
       "      <td>1</td>\n",
       "      <td>0</td>\n",
       "      <td>2</td>\n",
       "      <td>6</td>\n",
       "      <td>6</td>\n",
       "      <td>0</td>\n",
       "      <td>3</td>\n",
       "      <td>0</td>\n",
       "    </tr>\n",
       "    <tr>\n",
       "      <th>4</th>\n",
       "      <td>Netherlands</td>\n",
       "      <td>europe</td>\n",
       "      <td>B</td>\n",
       "      <td>1</td>\n",
       "      <td>3</td>\n",
       "      <td>3</td>\n",
       "      <td>0</td>\n",
       "      <td>0</td>\n",
       "      <td>10</td>\n",
       "      <td>3</td>\n",
       "      <td>7</td>\n",
       "      <td>9</td>\n",
       "      <td>1</td>\n",
       "    </tr>\n",
       "    <tr>\n",
       "      <th>5</th>\n",
       "      <td>Chile</td>\n",
       "      <td>southamerica</td>\n",
       "      <td>B</td>\n",
       "      <td>2</td>\n",
       "      <td>3</td>\n",
       "      <td>2</td>\n",
       "      <td>0</td>\n",
       "      <td>1</td>\n",
       "      <td>5</td>\n",
       "      <td>3</td>\n",
       "      <td>2</td>\n",
       "      <td>6</td>\n",
       "      <td>1</td>\n",
       "    </tr>\n",
       "    <tr>\n",
       "      <th>6</th>\n",
       "      <td>Spain</td>\n",
       "      <td>europe</td>\n",
       "      <td>B</td>\n",
       "      <td>3</td>\n",
       "      <td>3</td>\n",
       "      <td>1</td>\n",
       "      <td>0</td>\n",
       "      <td>2</td>\n",
       "      <td>4</td>\n",
       "      <td>7</td>\n",
       "      <td>−3</td>\n",
       "      <td>3</td>\n",
       "      <td>0</td>\n",
       "    </tr>\n",
       "    <tr>\n",
       "      <th>8</th>\n",
       "      <td>Colombia</td>\n",
       "      <td>southamerica</td>\n",
       "      <td>C</td>\n",
       "      <td>1</td>\n",
       "      <td>3</td>\n",
       "      <td>3</td>\n",
       "      <td>0</td>\n",
       "      <td>0</td>\n",
       "      <td>9</td>\n",
       "      <td>2</td>\n",
       "      <td>7</td>\n",
       "      <td>9</td>\n",
       "      <td>1</td>\n",
       "    </tr>\n",
       "    <tr>\n",
       "      <th>9</th>\n",
       "      <td>Greece</td>\n",
       "      <td>europe</td>\n",
       "      <td>C</td>\n",
       "      <td>2</td>\n",
       "      <td>3</td>\n",
       "      <td>1</td>\n",
       "      <td>1</td>\n",
       "      <td>1</td>\n",
       "      <td>2</td>\n",
       "      <td>4</td>\n",
       "      <td>−2</td>\n",
       "      <td>4</td>\n",
       "      <td>1</td>\n",
       "    </tr>\n",
       "    <tr>\n",
       "      <th>10</th>\n",
       "      <td>Ivory Coast</td>\n",
       "      <td>africa</td>\n",
       "      <td>C</td>\n",
       "      <td>3</td>\n",
       "      <td>3</td>\n",
       "      <td>1</td>\n",
       "      <td>0</td>\n",
       "      <td>2</td>\n",
       "      <td>4</td>\n",
       "      <td>5</td>\n",
       "      <td>−1</td>\n",
       "      <td>3</td>\n",
       "      <td>0</td>\n",
       "    </tr>\n",
       "    <tr>\n",
       "      <th>12</th>\n",
       "      <td>Costa Rica</td>\n",
       "      <td>northamerica</td>\n",
       "      <td>D</td>\n",
       "      <td>1</td>\n",
       "      <td>3</td>\n",
       "      <td>2</td>\n",
       "      <td>1</td>\n",
       "      <td>0</td>\n",
       "      <td>4</td>\n",
       "      <td>1</td>\n",
       "      <td>3</td>\n",
       "      <td>7</td>\n",
       "      <td>1</td>\n",
       "    </tr>\n",
       "    <tr>\n",
       "      <th>13</th>\n",
       "      <td>Uruguay</td>\n",
       "      <td>southamerica</td>\n",
       "      <td>D</td>\n",
       "      <td>2</td>\n",
       "      <td>3</td>\n",
       "      <td>2</td>\n",
       "      <td>0</td>\n",
       "      <td>1</td>\n",
       "      <td>4</td>\n",
       "      <td>4</td>\n",
       "      <td>0</td>\n",
       "      <td>6</td>\n",
       "      <td>1</td>\n",
       "    </tr>\n",
       "    <tr>\n",
       "      <th>14</th>\n",
       "      <td>Italy</td>\n",
       "      <td>europe</td>\n",
       "      <td>D</td>\n",
       "      <td>3</td>\n",
       "      <td>3</td>\n",
       "      <td>1</td>\n",
       "      <td>0</td>\n",
       "      <td>2</td>\n",
       "      <td>2</td>\n",
       "      <td>3</td>\n",
       "      <td>−1</td>\n",
       "      <td>3</td>\n",
       "      <td>0</td>\n",
       "    </tr>\n",
       "    <tr>\n",
       "      <th>16</th>\n",
       "      <td>France</td>\n",
       "      <td>europe</td>\n",
       "      <td>E</td>\n",
       "      <td>1</td>\n",
       "      <td>3</td>\n",
       "      <td>2</td>\n",
       "      <td>1</td>\n",
       "      <td>0</td>\n",
       "      <td>8</td>\n",
       "      <td>2</td>\n",
       "      <td>6</td>\n",
       "      <td>7</td>\n",
       "      <td>1</td>\n",
       "    </tr>\n",
       "    <tr>\n",
       "      <th>17</th>\n",
       "      <td>Switzerland</td>\n",
       "      <td>europe</td>\n",
       "      <td>E</td>\n",
       "      <td>2</td>\n",
       "      <td>3</td>\n",
       "      <td>2</td>\n",
       "      <td>0</td>\n",
       "      <td>1</td>\n",
       "      <td>7</td>\n",
       "      <td>6</td>\n",
       "      <td>1</td>\n",
       "      <td>6</td>\n",
       "      <td>1</td>\n",
       "    </tr>\n",
       "    <tr>\n",
       "      <th>18</th>\n",
       "      <td>Ecuador</td>\n",
       "      <td>southamerica</td>\n",
       "      <td>E</td>\n",
       "      <td>3</td>\n",
       "      <td>3</td>\n",
       "      <td>1</td>\n",
       "      <td>1</td>\n",
       "      <td>1</td>\n",
       "      <td>3</td>\n",
       "      <td>3</td>\n",
       "      <td>0</td>\n",
       "      <td>4</td>\n",
       "      <td>0</td>\n",
       "    </tr>\n",
       "    <tr>\n",
       "      <th>20</th>\n",
       "      <td>Argentina</td>\n",
       "      <td>southamerica</td>\n",
       "      <td>F</td>\n",
       "      <td>1</td>\n",
       "      <td>3</td>\n",
       "      <td>3</td>\n",
       "      <td>0</td>\n",
       "      <td>0</td>\n",
       "      <td>6</td>\n",
       "      <td>3</td>\n",
       "      <td>3</td>\n",
       "      <td>9</td>\n",
       "      <td>1</td>\n",
       "    </tr>\n",
       "    <tr>\n",
       "      <th>21</th>\n",
       "      <td>Nigeria</td>\n",
       "      <td>africa</td>\n",
       "      <td>F</td>\n",
       "      <td>2</td>\n",
       "      <td>3</td>\n",
       "      <td>1</td>\n",
       "      <td>1</td>\n",
       "      <td>1</td>\n",
       "      <td>3</td>\n",
       "      <td>3</td>\n",
       "      <td>0</td>\n",
       "      <td>4</td>\n",
       "      <td>1</td>\n",
       "    </tr>\n",
       "    <tr>\n",
       "      <th>22</th>\n",
       "      <td>Bosnia and Herzegovina</td>\n",
       "      <td>europe</td>\n",
       "      <td>F</td>\n",
       "      <td>3</td>\n",
       "      <td>3</td>\n",
       "      <td>1</td>\n",
       "      <td>0</td>\n",
       "      <td>2</td>\n",
       "      <td>4</td>\n",
       "      <td>4</td>\n",
       "      <td>0</td>\n",
       "      <td>3</td>\n",
       "      <td>0</td>\n",
       "    </tr>\n",
       "    <tr>\n",
       "      <th>24</th>\n",
       "      <td>Germany</td>\n",
       "      <td>europe</td>\n",
       "      <td>G</td>\n",
       "      <td>1</td>\n",
       "      <td>3</td>\n",
       "      <td>2</td>\n",
       "      <td>1</td>\n",
       "      <td>0</td>\n",
       "      <td>7</td>\n",
       "      <td>2</td>\n",
       "      <td>5</td>\n",
       "      <td>7</td>\n",
       "      <td>1</td>\n",
       "    </tr>\n",
       "    <tr>\n",
       "      <th>25</th>\n",
       "      <td>United States</td>\n",
       "      <td>northamerica</td>\n",
       "      <td>G</td>\n",
       "      <td>2</td>\n",
       "      <td>3</td>\n",
       "      <td>1</td>\n",
       "      <td>1</td>\n",
       "      <td>1</td>\n",
       "      <td>4</td>\n",
       "      <td>4</td>\n",
       "      <td>0</td>\n",
       "      <td>4</td>\n",
       "      <td>1</td>\n",
       "    </tr>\n",
       "    <tr>\n",
       "      <th>26</th>\n",
       "      <td>Portugal</td>\n",
       "      <td>europe</td>\n",
       "      <td>G</td>\n",
       "      <td>3</td>\n",
       "      <td>3</td>\n",
       "      <td>1</td>\n",
       "      <td>1</td>\n",
       "      <td>1</td>\n",
       "      <td>4</td>\n",
       "      <td>7</td>\n",
       "      <td>−3</td>\n",
       "      <td>4</td>\n",
       "      <td>0</td>\n",
       "    </tr>\n",
       "    <tr>\n",
       "      <th>28</th>\n",
       "      <td>Belgium</td>\n",
       "      <td>europe</td>\n",
       "      <td>H</td>\n",
       "      <td>1</td>\n",
       "      <td>3</td>\n",
       "      <td>3</td>\n",
       "      <td>0</td>\n",
       "      <td>0</td>\n",
       "      <td>4</td>\n",
       "      <td>1</td>\n",
       "      <td>3</td>\n",
       "      <td>9</td>\n",
       "      <td>1</td>\n",
       "    </tr>\n",
       "    <tr>\n",
       "      <th>29</th>\n",
       "      <td>Algeria</td>\n",
       "      <td>africa</td>\n",
       "      <td>H</td>\n",
       "      <td>2</td>\n",
       "      <td>3</td>\n",
       "      <td>1</td>\n",
       "      <td>1</td>\n",
       "      <td>1</td>\n",
       "      <td>6</td>\n",
       "      <td>5</td>\n",
       "      <td>1</td>\n",
       "      <td>4</td>\n",
       "      <td>1</td>\n",
       "    </tr>\n",
       "  </tbody>\n",
       "</table>\n",
       "</div>"
      ],
      "text/plain": [
       "                      team     continent group  group_pos  cantidad_juegos  \\\n",
       "0                   Brazil  southamerica     A          1                3   \n",
       "1                   Mexico  northamerica     A          2                3   \n",
       "2                  Croatia        europe     A          3                3   \n",
       "4              Netherlands        europe     B          1                3   \n",
       "5                    Chile  southamerica     B          2                3   \n",
       "6                    Spain        europe     B          3                3   \n",
       "8                 Colombia  southamerica     C          1                3   \n",
       "9                   Greece        europe     C          2                3   \n",
       "10             Ivory Coast        africa     C          3                3   \n",
       "12              Costa Rica  northamerica     D          1                3   \n",
       "13                 Uruguay  southamerica     D          2                3   \n",
       "14                   Italy        europe     D          3                3   \n",
       "16                  France        europe     E          1                3   \n",
       "17             Switzerland        europe     E          2                3   \n",
       "18                 Ecuador  southamerica     E          3                3   \n",
       "20               Argentina  southamerica     F          1                3   \n",
       "21                 Nigeria        africa     F          2                3   \n",
       "22  Bosnia and Herzegovina        europe     F          3                3   \n",
       "24                 Germany        europe     G          1                3   \n",
       "25           United States  northamerica     G          2                3   \n",
       "26                Portugal        europe     G          3                3   \n",
       "28                 Belgium        europe     H          1                3   \n",
       "29                 Algeria        africa     H          2                3   \n",
       "\n",
       "    juegos_ganados  juegos_empatados  juegos_perdidos  goles_favor  \\\n",
       "0                2                 1                0            7   \n",
       "1                2                 1                0            4   \n",
       "2                1                 0                2            6   \n",
       "4                3                 0                0           10   \n",
       "5                2                 0                1            5   \n",
       "6                1                 0                2            4   \n",
       "8                3                 0                0            9   \n",
       "9                1                 1                1            2   \n",
       "10               1                 0                2            4   \n",
       "12               2                 1                0            4   \n",
       "13               2                 0                1            4   \n",
       "14               1                 0                2            2   \n",
       "16               2                 1                0            8   \n",
       "17               2                 0                1            7   \n",
       "18               1                 1                1            3   \n",
       "20               3                 0                0            6   \n",
       "21               1                 1                1            3   \n",
       "22               1                 0                2            4   \n",
       "24               2                 1                0            7   \n",
       "25               1                 1                1            4   \n",
       "26               1                 1                1            4   \n",
       "28               3                 0                0            4   \n",
       "29               1                 1                1            6   \n",
       "\n",
       "    goles_contra goles_diferencia  puntos  clasificado  \n",
       "0              2                5       7            1  \n",
       "1              1                3       7            1  \n",
       "2              6                0       3            0  \n",
       "4              3                7       9            1  \n",
       "5              3                2       6            1  \n",
       "6              7               −3       3            0  \n",
       "8              2                7       9            1  \n",
       "9              4               −2       4            1  \n",
       "10             5               −1       3            0  \n",
       "12             1                3       7            1  \n",
       "13             4                0       6            1  \n",
       "14             3               −1       3            0  \n",
       "16             2                6       7            1  \n",
       "17             6                1       6            1  \n",
       "18             3                0       4            0  \n",
       "20             3                3       9            1  \n",
       "21             3                0       4            1  \n",
       "22             4                0       3            0  \n",
       "24             2                5       7            1  \n",
       "25             4                0       4            1  \n",
       "26             7               −3       4            0  \n",
       "28             1                3       9            1  \n",
       "29             5                1       4            1  "
      ]
     },
     "execution_count": 28,
     "metadata": {},
     "output_type": "execute_result"
    }
   ],
   "source": [
    "filtro_partidos_ganados = mundial_2014[mundial_2014['juegos_ganados'] >= 1]\n",
    "filtro_partidos_ganados"
   ]
  },
  {
   "cell_type": "code",
   "execution_count": 29,
   "id": "af15404a",
   "metadata": {},
   "outputs": [
    {
     "data": {
      "text/plain": [
       "juegos_ganados\n",
       "1    11\n",
       "2     8\n",
       "3     4\n",
       "Name: count, dtype: int64"
      ]
     },
     "execution_count": 29,
     "metadata": {},
     "output_type": "execute_result"
    }
   ],
   "source": [
    "# Variable de cantidad de equipos que ganaron más de un partido\n",
    "conteo_eq_que_ganaron = filtro_partidos_ganados['juegos_ganados'].value_counts()\n",
    "\n",
    "conteo_eq_que_ganaron\n"
   ]
  },
  {
   "cell_type": "code",
   "execution_count": 30,
   "id": "7a73de2d",
   "metadata": {},
   "outputs": [
    {
     "data": {
      "text/plain": [
       "np.int64(39)"
      ]
     },
     "execution_count": 30,
     "metadata": {},
     "output_type": "execute_result"
    }
   ],
   "source": [
    "# Variable de cantidad de partidos ganados, que es distinta, ya que 1 equipo pudo ganar hasta 3 partidos.\n",
    "\n",
    "conteo_partidos_ganados = filtro_partidos_ganados['juegos_ganados'].sum()\n",
    "conteo_partidos_ganados\n"
   ]
  },
  {
   "cell_type": "code",
   "execution_count": 32,
   "id": "6c88cd4f",
   "metadata": {},
   "outputs": [
    {
     "name": "stdout",
     "output_type": "stream",
     "text": [
      "Selecciones con 1 partido ganado: 11.\n",
      "Selecciones con 2 partidos ganados: 8.\n",
      "Selecciones con 3 partidos ganados: 4.\n",
      "Total equipos que ganaron al menos 1 partido: 23\n",
      "Total de partidos ganados: 39\n"
     ]
    }
   ],
   "source": [
    "# Visualización para distinguir ambas variables\n",
    "total_eq = 0\n",
    "for n_ganados, cantidad in conteo_eq_que_ganaron.items():\n",
    "    if n_ganados == 1:\n",
    "        print(f'Selecciones con {n_ganados} partido ganado: {cantidad}.')\n",
    "    else:\n",
    "        print(f'Selecciones con {n_ganados} partidos ganados: {cantidad}.')\n",
    "\n",
    "    total_eq += cantidad\n",
    "print(f\"Total equipos que ganaron al menos 1 partido: {total_eq}\") \n",
    "print(f\"Total de partidos ganados: {conteo_partidos_ganados}\") \n"
   ]
  },
  {
   "cell_type": "code",
   "execution_count": 33,
   "id": "ea295721",
   "metadata": {},
   "outputs": [
    {
     "name": "stdout",
     "output_type": "stream",
     "text": [
      "La probabilidad de un equipo de ganar al menos 1 partido es de: 0.71875\n"
     ]
    }
   ],
   "source": [
    "# Probabilidad de que una selección gane al menos 1 partido. \n",
    "\n",
    "p_almenos1partido = conteo_eq_que_ganaron.sum() / len(mundial_2014) \n",
    "print(f\"La probabilidad de un equipo de ganar al menos 1 partido es de: {p_almenos1partido}\")"
   ]
  },
  {
   "cell_type": "code",
   "execution_count": null,
   "id": "08057140",
   "metadata": {},
   "outputs": [],
   "source": []
  },
  {
   "cell_type": "markdown",
   "id": "735f56cc",
   "metadata": {},
   "source": [
    "##### **h. pertenecer a África y clasificar a segunda ronda**"
   ]
  },
  {
   "cell_type": "markdown",
   "id": "94a004ac",
   "metadata": {},
   "source": [
    "La fórmula a utilizar en los siguientes ejercicios sería:\n",
    "P (AyB) = P(A) x P (B | A)"
   ]
  },
  {
   "cell_type": "code",
   "execution_count": 36,
   "id": "ad395e6b",
   "metadata": {},
   "outputs": [
    {
     "data": {
      "text/plain": [
       "'Probabilidad de pertenecer a África: 0.16'"
      ]
     },
     "execution_count": 36,
     "metadata": {},
     "output_type": "execute_result"
    }
   ],
   "source": [
    "# P de pertenecer a África\n",
    "f'Probabilidad de pertenecer a África: {p_africa}'"
   ]
  },
  {
   "cell_type": "code",
   "execution_count": 37,
   "id": "71a704fd",
   "metadata": {},
   "outputs": [
    {
     "data": {
      "text/plain": [
       "'Probabilidad de pertenecer a segunda ronda: 0.5'"
      ]
     },
     "execution_count": 37,
     "metadata": {},
     "output_type": "execute_result"
    }
   ],
   "source": [
    "# P de pertenecer a clasificar a segunda ronda\n",
    "f'Probabilidad de pertenecer a segunda ronda: {p_clasificados}'"
   ]
  },
  {
   "cell_type": "code",
   "execution_count": 38,
   "id": "a610bdda",
   "metadata": {},
   "outputs": [
    {
     "data": {
      "text/plain": [
       "'La probabilidad de que sea de África y pase a segunda ronda es de: 0.08 o de un 8.0%.'"
      ]
     },
     "execution_count": 38,
     "metadata": {},
     "output_type": "execute_result"
    }
   ],
   "source": [
    "# Probabilidad de pertenecer a África Y clasificar a segunda ronda   ---> P (A|B) =  P(A) * P (B|A) \n",
    "\n",
    "# Como ambos sucesos son independientes (no hay limitaciones para clasificar) ---> P (B|A) = P (B)\n",
    "# \n",
    "#Entonces quedaría la fórmula --------->  P (A ∩ B) =  P(A) * P (B)\n",
    "\n",
    "p_segunda_ronda_y_africa =  p_africa * p_clasificados\n",
    "\n",
    "f'La probabilidad de que sea de África y pase a segunda ronda es de: {p_segunda_ronda_y_africa} o de un {p_segunda_ronda_y_africa * 100}%.'"
   ]
  },
  {
   "cell_type": "markdown",
   "id": "079e604e",
   "metadata": {},
   "source": [
    "##### **i. pertenecer a Europa y clasificar a segunda ronda**"
   ]
  },
  {
   "cell_type": "code",
   "execution_count": 39,
   "id": "0b6d13f5",
   "metadata": {},
   "outputs": [
    {
     "data": {
      "text/plain": [
       "'Probabilidad de pertenecer a Europa: 0.41'"
      ]
     },
     "execution_count": 39,
     "metadata": {},
     "output_type": "execute_result"
    }
   ],
   "source": [
    "f'Probabilidad de pertenecer a Europa: {p_europa}'"
   ]
  },
  {
   "cell_type": "code",
   "execution_count": 40,
   "id": "dfbe50e1",
   "metadata": {},
   "outputs": [
    {
     "data": {
      "text/plain": [
       "'Probabilidad de pertenecer a segunda ronda: 0.5'"
      ]
     },
     "execution_count": 40,
     "metadata": {},
     "output_type": "execute_result"
    }
   ],
   "source": [
    "f'Probabilidad de pertenecer a segunda ronda: {p_clasificados}'"
   ]
  },
  {
   "cell_type": "code",
   "execution_count": 41,
   "id": "f021ca39",
   "metadata": {},
   "outputs": [
    {
     "data": {
      "text/plain": [
       "'La probabilidad de que sea de Europa y pase a segunda ronda es de: 0.205 o de un 20.5%.'"
      ]
     },
     "execution_count": 41,
     "metadata": {},
     "output_type": "execute_result"
    }
   ],
   "source": [
    "p_segunda_ronda_y_europa =  p_europa * p_clasificados\n",
    "\n",
    "f'La probabilidad de que sea de Europa y pase a segunda ronda es de: {p_segunda_ronda_y_europa} o de un {p_segunda_ronda_y_europa * 100}%.'"
   ]
  },
  {
   "cell_type": "markdown",
   "id": "cf8456e4",
   "metadata": {},
   "source": [
    "##### **j. pertenecer a Asia y clasificar a segunda ronda**"
   ]
  },
  {
   "cell_type": "code",
   "execution_count": 42,
   "id": "2a6594de",
   "metadata": {},
   "outputs": [
    {
     "data": {
      "text/plain": [
       "'Probabilidad de pertenecer a Asia: 0.12'"
      ]
     },
     "execution_count": 42,
     "metadata": {},
     "output_type": "execute_result"
    }
   ],
   "source": [
    "f'Probabilidad de pertenecer a Asia: {p_asia}'\n"
   ]
  },
  {
   "cell_type": "code",
   "execution_count": 43,
   "id": "8e0297f6",
   "metadata": {},
   "outputs": [
    {
     "data": {
      "text/plain": [
       "'Probabilidad de pertenecer a segunda ronda: 0.5'"
      ]
     },
     "execution_count": 43,
     "metadata": {},
     "output_type": "execute_result"
    }
   ],
   "source": [
    "f'Probabilidad de pertenecer a segunda ronda: {p_clasificados}'"
   ]
  },
  {
   "cell_type": "code",
   "execution_count": 44,
   "id": "7121dd69",
   "metadata": {},
   "outputs": [
    {
     "data": {
      "text/plain": [
       "'La probabilidad de que sea de Asia y pase a segunda ronda es de: 0.06 o de un 6.0%.'"
      ]
     },
     "execution_count": 44,
     "metadata": {},
     "output_type": "execute_result"
    }
   ],
   "source": [
    "p_segunda_ronda_y_asia =  p_asia * p_clasificados\n",
    "\n",
    "f'La probabilidad de que sea de Asia y pase a segunda ronda es de: {p_segunda_ronda_y_asia} o de un {p_segunda_ronda_y_asia * 100}%.'"
   ]
  },
  {
   "cell_type": "markdown",
   "id": "598043b0",
   "metadata": {},
   "source": []
  },
  {
   "cell_type": "markdown",
   "id": "e0410851",
   "metadata": {},
   "source": [
    "##### **k. pertenecer a Sudamérica y clasificar a segunda ronda**"
   ]
  },
  {
   "cell_type": "code",
   "execution_count": 45,
   "id": "9250123b",
   "metadata": {},
   "outputs": [
    {
     "data": {
      "text/plain": [
       "'Probabilidad de pertenecer a Sudamérica: 0.19'"
      ]
     },
     "execution_count": 45,
     "metadata": {},
     "output_type": "execute_result"
    }
   ],
   "source": [
    "f'Probabilidad de pertenecer a Sudamérica: {p_sudamerica}'"
   ]
  },
  {
   "cell_type": "code",
   "execution_count": 46,
   "id": "634cf465",
   "metadata": {},
   "outputs": [
    {
     "data": {
      "text/plain": [
       "'Probabilidad de pertenecer a segunda ronda: 0.5'"
      ]
     },
     "execution_count": 46,
     "metadata": {},
     "output_type": "execute_result"
    }
   ],
   "source": [
    "f'Probabilidad de pertenecer a segunda ronda: {p_clasificados}'"
   ]
  },
  {
   "cell_type": "code",
   "execution_count": 47,
   "id": "e8b846a2",
   "metadata": {},
   "outputs": [
    {
     "data": {
      "text/plain": [
       "'La probabilidad de que sea de Sudamérica y pase a segunda ronda es de: 0.095 o de un 9.5%.'"
      ]
     },
     "execution_count": 47,
     "metadata": {},
     "output_type": "execute_result"
    }
   ],
   "source": [
    "p_segunda_ronda_y_sudamerica =  p_sudamerica * p_clasificados\n",
    "\n",
    "f'La probabilidad de que sea de Sudamérica y pase a segunda ronda es de: {p_segunda_ronda_y_sudamerica} o de un {p_segunda_ronda_y_sudamerica * 100}%.'"
   ]
  },
  {
   "cell_type": "markdown",
   "id": "402a914c",
   "metadata": {},
   "source": [
    "##### **l. pertenecer a Norteamérica y clasificar a segunda ronda**"
   ]
  },
  {
   "cell_type": "code",
   "execution_count": 48,
   "id": "299b2119",
   "metadata": {},
   "outputs": [
    {
     "data": {
      "text/plain": [
       "'Probabilidad de pertenecer a Norteamérica: 0.12'"
      ]
     },
     "execution_count": 48,
     "metadata": {},
     "output_type": "execute_result"
    }
   ],
   "source": [
    "f'Probabilidad de pertenecer a Norteamérica: {p_norteamerica}'"
   ]
  },
  {
   "cell_type": "code",
   "execution_count": 49,
   "id": "55ede52f",
   "metadata": {},
   "outputs": [
    {
     "data": {
      "text/plain": [
       "'La probabilidad de que sea de Norteamérica y pase a segunda ronda es de: 0.06 o de un 6.0%.'"
      ]
     },
     "execution_count": 49,
     "metadata": {},
     "output_type": "execute_result"
    }
   ],
   "source": [
    "p_segunda_ronda_y_norteamerica =  p_norteamerica * p_clasificados\n",
    "\n",
    "f'La probabilidad de que sea de Norteamérica y pase a segunda ronda es de: {p_segunda_ronda_y_norteamerica} o de un {p_segunda_ronda_y_norteamerica * 100}%.'"
   ]
  },
  {
   "cell_type": "markdown",
   "id": "1e206ed7",
   "metadata": {},
   "source": [
    "##### **m. pertenecer a África o clasificar a segunda ronda**"
   ]
  },
  {
   "cell_type": "markdown",
   "id": "0d4374cf",
   "metadata": {},
   "source": [
    "La fórmula a utilizar en los siguientes ejercicios sería:\n",
    "P (A u B) = P(A) + P (B) - P (A ∩ B)"
   ]
  },
  {
   "cell_type": "code",
   "execution_count": 50,
   "id": "7e9b1d22",
   "metadata": {},
   "outputs": [
    {
     "data": {
      "text/plain": [
       "'Probabilidad de pertenecer a África: 0.16 + Probabilidad de clasificar a segunda ronda: 0.5 = 0.66 '"
      ]
     },
     "execution_count": 50,
     "metadata": {},
     "output_type": "execute_result"
    }
   ],
   "source": [
    "f'Probabilidad de pertenecer a África: {p_africa} + Probabilidad de clasificar a segunda ronda: {p_clasificados} = {p_africa + p_clasificados} '"
   ]
  },
  {
   "cell_type": "code",
   "execution_count": 51,
   "id": "4d06e190",
   "metadata": {},
   "outputs": [
    {
     "data": {
      "text/plain": [
       "'Probabilidad pertenecer a África o clasificar a segunda ronda: 0.58'"
      ]
     },
     "execution_count": 51,
     "metadata": {},
     "output_type": "execute_result"
    }
   ],
   "source": [
    "# Unión\n",
    "p_segunda_ronda_o_africa = (p_africa + p_clasificados) - p_segunda_ronda_y_africa\n",
    "f'Probabilidad pertenecer a África o clasificar a segunda ronda: {round(p_segunda_ronda_o_africa, 4)}'"
   ]
  },
  {
   "cell_type": "markdown",
   "id": "55c7c5fd",
   "metadata": {},
   "source": [
    "##### **n. pertenecer a Europa o clasificar a segunda ronda**"
   ]
  },
  {
   "cell_type": "code",
   "execution_count": 52,
   "id": "4436e3d4",
   "metadata": {},
   "outputs": [
    {
     "data": {
      "text/plain": [
       "'Probabilidad de pertenecer a Europa: 0.41 + Probabilidad de clasificar a segunda ronda: 0.5 = 0.9099999999999999 '"
      ]
     },
     "execution_count": 52,
     "metadata": {},
     "output_type": "execute_result"
    }
   ],
   "source": [
    "f'Probabilidad de pertenecer a Europa: {p_europa} + Probabilidad de clasificar a segunda ronda: {p_clasificados} = {p_europa + p_clasificados} '"
   ]
  },
  {
   "cell_type": "code",
   "execution_count": 53,
   "id": "0f90e36d",
   "metadata": {},
   "outputs": [
    {
     "data": {
      "text/plain": [
       "'Probabilidad pertenecer a Europa o clasificar a segunda ronda: 0.705'"
      ]
     },
     "execution_count": 53,
     "metadata": {},
     "output_type": "execute_result"
    }
   ],
   "source": [
    "p_segunda_ronda_o_europa = (p_europa + p_clasificados) - p_segunda_ronda_y_europa\n",
    "f'Probabilidad pertenecer a Europa o clasificar a segunda ronda: {round(p_segunda_ronda_o_europa, 4)}'"
   ]
  },
  {
   "cell_type": "markdown",
   "id": "d27ab5a0",
   "metadata": {},
   "source": [
    "##### **o. pertenecer a Asia o clasificar a segunda ronda**"
   ]
  },
  {
   "cell_type": "code",
   "execution_count": 54,
   "id": "2bf99597",
   "metadata": {},
   "outputs": [
    {
     "data": {
      "text/plain": [
       "'Probabilidad de pertenecer a Asia: 0.12 + Probabilidad de clasificar a segunda ronda: 0.5 = 0.62 '"
      ]
     },
     "execution_count": 54,
     "metadata": {},
     "output_type": "execute_result"
    }
   ],
   "source": [
    "f'Probabilidad de pertenecer a Asia: {p_asia} + Probabilidad de clasificar a segunda ronda: {p_clasificados} = {p_asia + p_clasificados} '"
   ]
  },
  {
   "cell_type": "code",
   "execution_count": 55,
   "id": "87b895f5",
   "metadata": {},
   "outputs": [
    {
     "data": {
      "text/plain": [
       "'Probabilidad pertenecer a Asia o clasificar a segunda ronda: 0.56'"
      ]
     },
     "execution_count": 55,
     "metadata": {},
     "output_type": "execute_result"
    }
   ],
   "source": [
    "p_segunda_ronda_o_asia = (p_asia + p_clasificados) - p_segunda_ronda_y_asia\n",
    "f'Probabilidad pertenecer a Asia o clasificar a segunda ronda: {round(p_segunda_ronda_o_asia, 4)}'"
   ]
  },
  {
   "cell_type": "markdown",
   "id": "7e696dbe",
   "metadata": {},
   "source": [
    "##### **p. pertenecer a Sudamérica o clasificar a segunda ronda**"
   ]
  },
  {
   "cell_type": "code",
   "execution_count": 56,
   "id": "29575133",
   "metadata": {},
   "outputs": [
    {
     "data": {
      "text/plain": [
       "'Probabilidad de pertenecer a Sudamérica: 0.19 + Probabilidad de clasificar a segunda ronda: 0.5 = 0.69 '"
      ]
     },
     "execution_count": 56,
     "metadata": {},
     "output_type": "execute_result"
    }
   ],
   "source": [
    "f'Probabilidad de pertenecer a Sudamérica: {p_sudamerica} + Probabilidad de clasificar a segunda ronda: {p_clasificados} = {p_sudamerica + p_clasificados} '"
   ]
  },
  {
   "cell_type": "code",
   "execution_count": 57,
   "id": "dae946b7",
   "metadata": {},
   "outputs": [
    {
     "data": {
      "text/plain": [
       "'Probabilidad pertenecer a Sudamérica o clasificar a segunda ronda: 0.595'"
      ]
     },
     "execution_count": 57,
     "metadata": {},
     "output_type": "execute_result"
    }
   ],
   "source": [
    "p_segunda_ronda_o_sudamerica = (p_sudamerica + p_clasificados) - p_segunda_ronda_y_sudamerica\n",
    "f'Probabilidad pertenecer a Sudamérica o clasificar a segunda ronda: {round(p_segunda_ronda_o_sudamerica, 4)}'"
   ]
  },
  {
   "cell_type": "markdown",
   "id": "2b0a49d5",
   "metadata": {},
   "source": [
    "##### **q. pertenecer a Norteamérica o clasificar a segunda ronda**"
   ]
  },
  {
   "cell_type": "code",
   "execution_count": 58,
   "id": "348ca4bb",
   "metadata": {},
   "outputs": [
    {
     "data": {
      "text/plain": [
       "'Probabilidad de pertenecer a Norteamérica: 0.12 + Probabilidad de clasificar a segunda ronda: 0.5 = 0.62 '"
      ]
     },
     "execution_count": 58,
     "metadata": {},
     "output_type": "execute_result"
    }
   ],
   "source": [
    "f'Probabilidad de pertenecer a Norteamérica: {p_norteamerica} + Probabilidad de clasificar a segunda ronda: {p_clasificados} = {p_norteamerica + p_clasificados} '"
   ]
  },
  {
   "cell_type": "code",
   "execution_count": 59,
   "id": "5b5d41ec",
   "metadata": {},
   "outputs": [
    {
     "data": {
      "text/plain": [
       "'Probabilidad pertenecer a Norteamérica o clasificar a segunda ronda: 0.56'"
      ]
     },
     "execution_count": 59,
     "metadata": {},
     "output_type": "execute_result"
    }
   ],
   "source": [
    "p_segunda_ronda_o_norteamerica = (p_norteamerica + p_clasificados) - p_segunda_ronda_y_norteamerica\n",
    "f'Probabilidad pertenecer a Norteamérica o clasificar a segunda ronda: {round(p_segunda_ronda_o_norteamerica, 4)}'"
   ]
  },
  {
   "cell_type": "markdown",
   "id": "f1b021f3",
   "metadata": {},
   "source": []
  },
  {
   "cell_type": "markdown",
   "id": "70e564df",
   "metadata": {},
   "source": [
    "##### **r. pertenecer a África y haber ganado al menos un partido**"
   ]
  },
  {
   "cell_type": "code",
   "execution_count": 60,
   "id": "d6647c29",
   "metadata": {},
   "outputs": [
    {
     "name": "stdout",
     "output_type": "stream",
     "text": [
      "La probabilidad de pertenecer a África y haber ganado al menos un partido es de: 0.115\n"
     ]
    }
   ],
   "source": [
    "# Se calcula la probabilidad multiplicando las dos probabilidades sacadas anteriormente, dado que son sucesos independientes.\n",
    "\n",
    "\n",
    "# Serían probabilidades teóricas, dado que no se basan en valores reales del dataframe\n",
    "p_africa_y_ganar1partido = round((p_africa * p_almenos1partido),3)\n",
    "\n",
    "print(f\"La probabilidad de pertenecer a África y haber ganado al menos un partido es de: {p_africa_y_ganar1partido}\")"
   ]
  },
  {
   "cell_type": "code",
   "execution_count": 61,
   "id": "45d553fa",
   "metadata": {},
   "outputs": [
    {
     "data": {
      "text/plain": [
       "3"
      ]
     },
     "execution_count": 61,
     "metadata": {},
     "output_type": "execute_result"
    }
   ],
   "source": [
    "# Probabilidad experimental, a partir de la intersección real del dataframe\n",
    "\n",
    "cond_africa_y_ganar1partido =  mundial_2014[(mundial_2014[\"continent\"]==\"africa\") & (mundial_2014[\"juegos_ganados\"]>=1) ]\n",
    "len(cond_africa_y_ganar1partido)"
   ]
  },
  {
   "cell_type": "code",
   "execution_count": 62,
   "id": "51c7e7cb",
   "metadata": {},
   "outputs": [
    {
     "data": {
      "text/html": [
       "<div>\n",
       "<style scoped>\n",
       "    .dataframe tbody tr th:only-of-type {\n",
       "        vertical-align: middle;\n",
       "    }\n",
       "\n",
       "    .dataframe tbody tr th {\n",
       "        vertical-align: top;\n",
       "    }\n",
       "\n",
       "    .dataframe thead th {\n",
       "        text-align: right;\n",
       "    }\n",
       "</style>\n",
       "<table border=\"1\" class=\"dataframe\">\n",
       "  <thead>\n",
       "    <tr style=\"text-align: right;\">\n",
       "      <th></th>\n",
       "      <th>team</th>\n",
       "      <th>continent</th>\n",
       "      <th>group</th>\n",
       "      <th>group_pos</th>\n",
       "      <th>cantidad_juegos</th>\n",
       "      <th>juegos_ganados</th>\n",
       "      <th>juegos_empatados</th>\n",
       "      <th>juegos_perdidos</th>\n",
       "      <th>goles_favor</th>\n",
       "      <th>goles_contra</th>\n",
       "      <th>goles_diferencia</th>\n",
       "      <th>puntos</th>\n",
       "      <th>clasificado</th>\n",
       "    </tr>\n",
       "  </thead>\n",
       "  <tbody>\n",
       "    <tr>\n",
       "      <th>10</th>\n",
       "      <td>Ivory Coast</td>\n",
       "      <td>africa</td>\n",
       "      <td>C</td>\n",
       "      <td>3</td>\n",
       "      <td>3</td>\n",
       "      <td>1</td>\n",
       "      <td>0</td>\n",
       "      <td>2</td>\n",
       "      <td>4</td>\n",
       "      <td>5</td>\n",
       "      <td>−1</td>\n",
       "      <td>3</td>\n",
       "      <td>0</td>\n",
       "    </tr>\n",
       "    <tr>\n",
       "      <th>21</th>\n",
       "      <td>Nigeria</td>\n",
       "      <td>africa</td>\n",
       "      <td>F</td>\n",
       "      <td>2</td>\n",
       "      <td>3</td>\n",
       "      <td>1</td>\n",
       "      <td>1</td>\n",
       "      <td>1</td>\n",
       "      <td>3</td>\n",
       "      <td>3</td>\n",
       "      <td>0</td>\n",
       "      <td>4</td>\n",
       "      <td>1</td>\n",
       "    </tr>\n",
       "    <tr>\n",
       "      <th>29</th>\n",
       "      <td>Algeria</td>\n",
       "      <td>africa</td>\n",
       "      <td>H</td>\n",
       "      <td>2</td>\n",
       "      <td>3</td>\n",
       "      <td>1</td>\n",
       "      <td>1</td>\n",
       "      <td>1</td>\n",
       "      <td>6</td>\n",
       "      <td>5</td>\n",
       "      <td>1</td>\n",
       "      <td>4</td>\n",
       "      <td>1</td>\n",
       "    </tr>\n",
       "  </tbody>\n",
       "</table>\n",
       "</div>"
      ],
      "text/plain": [
       "           team continent group  group_pos  cantidad_juegos  juegos_ganados  \\\n",
       "10  Ivory Coast    africa     C          3                3               1   \n",
       "21      Nigeria    africa     F          2                3               1   \n",
       "29      Algeria    africa     H          2                3               1   \n",
       "\n",
       "    juegos_empatados  juegos_perdidos  goles_favor  goles_contra  \\\n",
       "10                 0                2            4             5   \n",
       "21                 1                1            3             3   \n",
       "29                 1                1            6             5   \n",
       "\n",
       "   goles_diferencia  puntos  clasificado  \n",
       "10               −1       3            0  \n",
       "21                0       4            1  \n",
       "29                1       4            1  "
      ]
     },
     "execution_count": 62,
     "metadata": {},
     "output_type": "execute_result"
    }
   ],
   "source": [
    "cond_africa_y_ganar1partido"
   ]
  },
  {
   "cell_type": "code",
   "execution_count": 63,
   "id": "16b1663b",
   "metadata": {},
   "outputs": [
    {
     "name": "stdout",
     "output_type": "stream",
     "text": [
      "La probabilidad de pertenecer a África y haber ganado al menos un partido es de: 0.09375\n"
     ]
    }
   ],
   "source": [
    "p_africa_y_ganar1partido_n =  len(cond_africa_y_ganar1partido) / len(mundial_2014) \n",
    "\n",
    "print(f\"La probabilidad de pertenecer a África y haber ganado al menos un partido es de: {p_africa_y_ganar1partido_n}\")"
   ]
  },
  {
   "cell_type": "markdown",
   "id": "4f3b6a27",
   "metadata": {},
   "source": [
    "En este caso, la probabilidad teórica sería más alta (0.115), dado que hay más selecciones africanas participando en relación a la cantidad de equipos de África que efectivamente ganaron al menos 1 partido (0.09375)."
   ]
  },
  {
   "cell_type": "markdown",
   "id": "7c91f220",
   "metadata": {},
   "source": [
    "##### **s. pertenecer a Europa y haber ganado al menos un partido**"
   ]
  },
  {
   "cell_type": "code",
   "execution_count": 64,
   "id": "e5f8ed7c",
   "metadata": {},
   "outputs": [
    {
     "data": {
      "text/plain": [
       "0.41"
      ]
     },
     "execution_count": 64,
     "metadata": {},
     "output_type": "execute_result"
    }
   ],
   "source": [
    "p_europa"
   ]
  },
  {
   "cell_type": "code",
   "execution_count": 65,
   "id": "230d4142",
   "metadata": {},
   "outputs": [
    {
     "name": "stdout",
     "output_type": "stream",
     "text": [
      "La probabilidad teórica de pertenecer a Europa y haber ganado al menos un partido es de: 0.295\n"
     ]
    }
   ],
   "source": [
    "# Probabilidad teórica\n",
    "p_europa_y_ganar1partido = round((p_europa * p_almenos1partido),3)\n",
    "\n",
    "print(f\"La probabilidad teórica de pertenecer a Europa y haber ganado al menos un partido es de: {p_europa_y_ganar1partido}\")"
   ]
  },
  {
   "cell_type": "code",
   "execution_count": 66,
   "id": "25260838",
   "metadata": {},
   "outputs": [
    {
     "name": "stdout",
     "output_type": "stream",
     "text": [
      "La probabilidad experimental de pertenecer a Europa y haber ganado al menos un partido es de: 0.34375\n"
     ]
    }
   ],
   "source": [
    "# Probabilidad experimental, a partir de la intersección real del dataframe\n",
    "\n",
    "cond_europa_y_ganar1partido =  mundial_2014[(mundial_2014[\"continent\"]==\"europe\") & (mundial_2014[\"juegos_ganados\"]>=1) ]\n",
    "\n",
    "p_europa_y_ganar1partido_n =  len(cond_europa_y_ganar1partido) / len(mundial_2014) \n",
    "\n",
    "print(f\"La probabilidad experimental de pertenecer a Europa y haber ganado al menos un partido es de: {p_europa_y_ganar1partido_n}\")"
   ]
  },
  {
   "cell_type": "markdown",
   "id": "ed8d1e03",
   "metadata": {},
   "source": [
    "##### t. pertenecer a Asia y haber ganado al menos un partido\n"
   ]
  },
  {
   "cell_type": "code",
   "execution_count": 71,
   "id": "84c3b85b",
   "metadata": {},
   "outputs": [
    {
     "name": "stdout",
     "output_type": "stream",
     "text": [
      "La probabilidad de pertenecer a Asia (0.12) y haber ganado al menos un partido (0.71875) es de: 0.086\n"
     ]
    }
   ],
   "source": [
    "# Probabilidad teórica\n",
    "\n",
    "p_asia_y_ganar1partido = round((p_asia * p_almenos1partido),3)\n",
    "\n",
    "print(f\"La probabilidad de pertenecer a Asia ({p_asia}) y haber ganado al menos un partido ({p_almenos1partido}) es de: {p_asia_y_ganar1partido}\")"
   ]
  },
  {
   "cell_type": "code",
   "execution_count": 68,
   "id": "128e7456",
   "metadata": {},
   "outputs": [
    {
     "data": {
      "text/html": [
       "<div>\n",
       "<style scoped>\n",
       "    .dataframe tbody tr th:only-of-type {\n",
       "        vertical-align: middle;\n",
       "    }\n",
       "\n",
       "    .dataframe tbody tr th {\n",
       "        vertical-align: top;\n",
       "    }\n",
       "\n",
       "    .dataframe thead th {\n",
       "        text-align: right;\n",
       "    }\n",
       "</style>\n",
       "<table border=\"1\" class=\"dataframe\">\n",
       "  <thead>\n",
       "    <tr style=\"text-align: right;\">\n",
       "      <th></th>\n",
       "      <th>team</th>\n",
       "      <th>continent</th>\n",
       "      <th>group</th>\n",
       "      <th>group_pos</th>\n",
       "      <th>cantidad_juegos</th>\n",
       "      <th>juegos_ganados</th>\n",
       "      <th>juegos_empatados</th>\n",
       "      <th>juegos_perdidos</th>\n",
       "      <th>goles_favor</th>\n",
       "      <th>goles_contra</th>\n",
       "      <th>goles_diferencia</th>\n",
       "      <th>puntos</th>\n",
       "      <th>clasificado</th>\n",
       "    </tr>\n",
       "  </thead>\n",
       "  <tbody>\n",
       "    <tr>\n",
       "      <th>7</th>\n",
       "      <td>Australia</td>\n",
       "      <td>asia</td>\n",
       "      <td>B</td>\n",
       "      <td>4</td>\n",
       "      <td>3</td>\n",
       "      <td>0</td>\n",
       "      <td>0</td>\n",
       "      <td>3</td>\n",
       "      <td>3</td>\n",
       "      <td>9</td>\n",
       "      <td>−6</td>\n",
       "      <td>0</td>\n",
       "      <td>0</td>\n",
       "    </tr>\n",
       "    <tr>\n",
       "      <th>11</th>\n",
       "      <td>Japan</td>\n",
       "      <td>asia</td>\n",
       "      <td>C</td>\n",
       "      <td>4</td>\n",
       "      <td>3</td>\n",
       "      <td>0</td>\n",
       "      <td>1</td>\n",
       "      <td>2</td>\n",
       "      <td>2</td>\n",
       "      <td>6</td>\n",
       "      <td>−4</td>\n",
       "      <td>1</td>\n",
       "      <td>0</td>\n",
       "    </tr>\n",
       "    <tr>\n",
       "      <th>23</th>\n",
       "      <td>Iran</td>\n",
       "      <td>asia</td>\n",
       "      <td>F</td>\n",
       "      <td>4</td>\n",
       "      <td>3</td>\n",
       "      <td>0</td>\n",
       "      <td>1</td>\n",
       "      <td>2</td>\n",
       "      <td>1</td>\n",
       "      <td>4</td>\n",
       "      <td>−3</td>\n",
       "      <td>1</td>\n",
       "      <td>0</td>\n",
       "    </tr>\n",
       "    <tr>\n",
       "      <th>31</th>\n",
       "      <td>South Korea</td>\n",
       "      <td>asia</td>\n",
       "      <td>H</td>\n",
       "      <td>4</td>\n",
       "      <td>3</td>\n",
       "      <td>0</td>\n",
       "      <td>1</td>\n",
       "      <td>2</td>\n",
       "      <td>3</td>\n",
       "      <td>6</td>\n",
       "      <td>−3</td>\n",
       "      <td>1</td>\n",
       "      <td>0</td>\n",
       "    </tr>\n",
       "  </tbody>\n",
       "</table>\n",
       "</div>"
      ],
      "text/plain": [
       "           team continent group  group_pos  cantidad_juegos  juegos_ganados  \\\n",
       "7     Australia      asia     B          4                3               0   \n",
       "11        Japan      asia     C          4                3               0   \n",
       "23         Iran      asia     F          4                3               0   \n",
       "31  South Korea      asia     H          4                3               0   \n",
       "\n",
       "    juegos_empatados  juegos_perdidos  goles_favor  goles_contra  \\\n",
       "7                  0                3            3             9   \n",
       "11                 1                2            2             6   \n",
       "23                 1                2            1             4   \n",
       "31                 1                2            3             6   \n",
       "\n",
       "   goles_diferencia  puntos  clasificado  \n",
       "7                −6       0            0  \n",
       "11               −4       1            0  \n",
       "23               −3       1            0  \n",
       "31               −3       1            0  "
      ]
     },
     "execution_count": 68,
     "metadata": {},
     "output_type": "execute_result"
    }
   ],
   "source": [
    "# Tantear las selecciones de Asia y juegos ganados (incluye 0 ganados, para verlos todos), en extenso\n",
    "mundial_2014[(mundial_2014[\"continent\"]==\"asia\") & (mundial_2014[\"juegos_ganados\"]>=0) ]"
   ]
  },
  {
   "cell_type": "code",
   "execution_count": 72,
   "id": "ab39a607",
   "metadata": {},
   "outputs": [
    {
     "name": "stdout",
     "output_type": "stream",
     "text": [
      "0\n",
      "La probabilidad de pertenecer a Asia y haber ganado al menos un partido es de: 0.0\n"
     ]
    }
   ],
   "source": [
    "# Probabilidad experimental, a partir de la intersección real del dataframe\n",
    "\n",
    "cond_asia_y_ganar1partido =  mundial_2014[(mundial_2014[\"continent\"]==\"asia\") & (mundial_2014[\"juegos_ganados\"]>=1) ]\n",
    "print(f'{len(cond_asia_y_ganar1partido)}')\n",
    "\n",
    "p_asia_y_ganar1partido_n =  len(cond_asia_y_ganar1partido) / len(mundial_2014) \n",
    "\n",
    "print(f\"La probabilidad de pertenecer a Asia y haber ganado al menos un partido es de: {p_asia_y_ganar1partido_n}\")"
   ]
  },
  {
   "cell_type": "markdown",
   "id": "793ca99d",
   "metadata": {},
   "source": [
    "##### u. pertenecer a Sudamérica y haber ganado al menos un partido"
   ]
  },
  {
   "cell_type": "code",
   "execution_count": 120,
   "id": "90064a2d",
   "metadata": {},
   "outputs": [
    {
     "name": "stdout",
     "output_type": "stream",
     "text": [
      "La probabilidad de pertenecer a Sudamérica y haber ganado al menos un partido es de: 0.137\n"
     ]
    }
   ],
   "source": [
    "# Probabilidad teórica\n",
    "\n",
    "p_sudamerica_y_ganar1partido = round((p_sudamerica * p_almenos1partido),3)\n",
    "\n",
    "print(f\"La probabilidad de pertenecer a Sudamérica y haber ganado al menos un partido es de: {p_sudamerica_y_ganar1partido}\")"
   ]
  },
  {
   "cell_type": "code",
   "execution_count": 121,
   "id": "3b07ad56",
   "metadata": {},
   "outputs": [
    {
     "name": "stdout",
     "output_type": "stream",
     "text": [
      "La probabilidad de pertenecer a Sudamérica y haber ganado al menos un partido es de: 0.1875\n"
     ]
    }
   ],
   "source": [
    "# Probabilidad experimental, a partir de la intersección real del dataframe\n",
    "\n",
    "cond_sudamerica_y_ganar1partido =  mundial_2014[(mundial_2014[\"continent\"]==\"southamerica\") & (mundial_2014[\"juegos_ganados\"]>=1) ]\n",
    "\n",
    "p_sudamerica_y_ganar1partido_n =  len(cond_sudamerica_y_ganar1partido) / len(mundial_2014) \n",
    "\n",
    "print(f\"La probabilidad de pertenecer a Sudamérica y haber ganado al menos un partido es de: {p_sudamerica_y_ganar1partido_n}\")"
   ]
  },
  {
   "cell_type": "markdown",
   "id": "44d19f95",
   "metadata": {},
   "source": [
    "##### v. pertenecer a Norteamérica y haber ganado al menos un partido"
   ]
  },
  {
   "cell_type": "code",
   "execution_count": 122,
   "id": "31ed2b79",
   "metadata": {},
   "outputs": [
    {
     "name": "stdout",
     "output_type": "stream",
     "text": [
      "La probabilidad de pertenecer a Norteamérica y haber ganado al menos un partido es de: 0.086\n"
     ]
    }
   ],
   "source": [
    "# Probabilidad teórica\n",
    "\n",
    "p_norteamerica_y_ganar1partido = round((p_norteamerica * p_almenos1partido),3)\n",
    "print(f\"La probabilidad de pertenecer a Norteamérica y haber ganado al menos un partido es de: {p_norteamerica_y_ganar1partido}\")"
   ]
  },
  {
   "cell_type": "code",
   "execution_count": 123,
   "id": "f6a13cd6",
   "metadata": {},
   "outputs": [
    {
     "name": "stdout",
     "output_type": "stream",
     "text": [
      "La probabilidad de pertenecer a Norteamérica y haber ganado al menos un partido es de: 0.09375\n"
     ]
    }
   ],
   "source": [
    "# Probabilidad experimental, a partir de la intersección real del dataframe\n",
    "cond_norteamerica_y_ganar1partido =  mundial_2014[(mundial_2014[\"continent\"]==\"northamerica\") & (mundial_2014[\"juegos_ganados\"]>=1) ]\n",
    "\n",
    "p_norteamerica_y_ganar1partido_n =  len(cond_norteamerica_y_ganar1partido) / len(mundial_2014) \n",
    "\n",
    "print(f\"La probabilidad de pertenecer a Norteamérica y haber ganado al menos un partido es de: {p_norteamerica_y_ganar1partido_n}\")"
   ]
  },
  {
   "cell_type": "markdown",
   "id": "3b8fff81",
   "metadata": {},
   "source": [
    "##### w. haber ganado al menos un partido y clasificar a segunda ronda"
   ]
  },
  {
   "cell_type": "code",
   "execution_count": 143,
   "id": "cfc2cccb",
   "metadata": {},
   "outputs": [
    {
     "name": "stdout",
     "output_type": "stream",
     "text": [
      "Cantidad de equipos que han ganado desde 1 partido: 23\n"
     ]
    }
   ],
   "source": [
    "print(f\"Cantidad de equipos que han ganado desde 1 partido: {conteo_desde_1_partido_ganado}\")"
   ]
  },
  {
   "cell_type": "code",
   "execution_count": 134,
   "id": "767a47a0",
   "metadata": {},
   "outputs": [
    {
     "data": {
      "text/plain": [
       "np.float64(0.71875)"
      ]
     },
     "execution_count": 134,
     "metadata": {},
     "output_type": "execute_result"
    }
   ],
   "source": [
    "# probabilidad de haber ganado un partido\n",
    "p_almenos1partido"
   ]
  },
  {
   "cell_type": "code",
   "execution_count": 135,
   "id": "9c739e50",
   "metadata": {},
   "outputs": [
    {
     "data": {
      "text/plain": [
       "np.float64(0.5)"
      ]
     },
     "execution_count": 135,
     "metadata": {},
     "output_type": "execute_result"
    }
   ],
   "source": [
    "# prob. clasificar a segunda ronda\n",
    "p_clasificados"
   ]
  },
  {
   "cell_type": "code",
   "execution_count": 137,
   "id": "a45bdac9",
   "metadata": {},
   "outputs": [
    {
     "name": "stdout",
     "output_type": "stream",
     "text": [
      "La probabilidad de haber ganado al menos un partido y clasificar a segunda ronda sería de:  0.359375\n"
     ]
    }
   ],
   "source": [
    "# Ambos son eventos independientes, dado que el haber ganado un partido no asegura clasificar\n",
    "\n",
    "p_ganaralmenos1partido_y_clasificar = p_almenos1partido * p_clasificados\n",
    "\n",
    "print(f\"La probabilidad de haber ganado al menos un partido y clasificar a segunda ronda sería de:  {p_ganaralmenos1partido_y_clasificar}\")\n",
    "\n"
   ]
  },
  {
   "cell_type": "code",
   "execution_count": 139,
   "id": "41923e72",
   "metadata": {},
   "outputs": [
    {
     "name": "stdout",
     "output_type": "stream",
     "text": [
      "Suma de equipos que han ganado desde 2 partidos: 12\n"
     ]
    }
   ],
   "source": [
    "# Sólo por curiosidad, sumo para ver eventos favorables desde 2 partidos ganados, por equipo\n",
    "conteo_desde_2_partidos_ganados = conteo_partidos_ganados[2] + conteo_partidos_ganados[3] \n",
    "print(f\"Suma de equipos que han ganado desde 2 partidos: {conteo_desde_2_partidos_ganados}\")"
   ]
  },
  {
   "cell_type": "code",
   "execution_count": 141,
   "id": "85609f4f",
   "metadata": {},
   "outputs": [
    {
     "name": "stdout",
     "output_type": "stream",
     "text": [
      "La probabilidad de un equipo de ganar al menos 2 partido es de: 0.375\n"
     ]
    }
   ],
   "source": [
    "# Probabilidad de ganar al menos 2 partidos. \n",
    "p_almenos2partidos = conteo_desde_2_partidos_ganados / len(mundial_2014)\n",
    "print(f\"La probabilidad de un equipo de ganar al menos 2 partido es de: {p_almenos2partidos}\")"
   ]
  },
  {
   "cell_type": "code",
   "execution_count": 142,
   "id": "ee8872e8",
   "metadata": {},
   "outputs": [
    {
     "name": "stdout",
     "output_type": "stream",
     "text": [
      "La probabilidad de haber ganado al menos dos partidos y clasificar a segunda ronda sería de:  0.1875\n"
     ]
    }
   ],
   "source": [
    "p_ganaralmenos2partidos_y_clasificar = p_almenos2partidos * p_clasificados\n",
    "print(f\"La probabilidad de haber ganado al menos dos partidos y clasificar a segunda ronda sería de:  {p_ganaralmenos2partidos_y_clasificar}\")\n"
   ]
  },
  {
   "cell_type": "code",
   "execution_count": null,
   "id": "c5878eca",
   "metadata": {},
   "outputs": [
    {
     "name": "stdout",
     "output_type": "stream",
     "text": [
      "La probabilidad de haber ganado al menos un partido y clasificar a segunda ronda sería de:  0.5\n"
     ]
    }
   ],
   "source": [
    "# Esta condición seŕia dependiente, por lo que la prob P (A y B)= P(A) x P(B | A)\n",
    "\n",
    "p_ganaralmenos1partido_y_clasificar =   p_clasificados * p_almenos1partido / p_almenos1partido\n",
    "\n",
    "print(f\"La probabilidad de haber ganado al menos un partido y clasificar a segunda ronda sería de:  {p_ganaralmenos1partido_y_clasificar}\")"
   ]
  },
  {
   "cell_type": "code",
   "execution_count": null,
   "id": "29c2d043",
   "metadata": {},
   "outputs": [],
   "source": [
    "# Esta condición seŕia dependiente, por lo que la prob P (A y B)= P(A) x P(B | A)\n",
    "# P(B | A) = (P(A | B) * P(B)) / P(A)\n",
    "\n",
    "p_ganaralmenos1partido_y_clasificar =   p_clasificados * p_almenos1partido / p_almenos1partido\n",
    "\n",
    "print(f\"La probabilidad de haber ganado al menos un partido y clasificar a segunda ronda sería de:  {p_ganaralmenos1partido_y_clasificar}\")"
   ]
  },
  {
   "cell_type": "markdown",
   "metadata": {},
   "source": [
    "-\n",
    "-\n",
    "-\n",
    "___0___o___\n",
    "-\n",
    "-\n",
    "-"
   ]
  },
  {
   "cell_type": "markdown",
   "id": "e66fee70",
   "metadata": {},
   "source": [
    "#### 2. A partir de las probabilidades anteriores, y sin realizar conteos, calcular las siguientes probabilidades:\n"
   ]
  },
  {
   "cell_type": "code",
   "execution_count": 227,
   "id": "28339964",
   "metadata": {},
   "outputs": [],
   "source": [
    "# P ( a | b ) = P ( a y b) / b"
   ]
  },
  {
   "cell_type": "markdown",
   "metadata": {},
   "source": [
    "#### a. pertenecer a Europa, si se sabe que clasificó"
   ]
  },
  {
   "cell_type": "code",
   "execution_count": 127,
   "id": "3aa1a9ce",
   "metadata": {},
   "outputs": [
    {
     "name": "stdout",
     "output_type": "stream",
     "text": [
      "La probabilidad es de: 0.38\n"
     ]
    }
   ],
   "source": [
    "# a =pertenece a Europa\n",
    "# b = clasificó\n",
    "\n",
    "print(f\"La probabilidad es de: {p_europa_segunda_ronda / p_clasificados}\")"
   ]
  },
  {
   "cell_type": "markdown",
   "id": "f9ba611e",
   "metadata": {},
   "source": [
    "#### b. pertenecer a Sudamérica, si se sabe que clasificó"
   ]
  },
  {
   "cell_type": "code",
   "execution_count": 124,
   "id": "2620c298",
   "metadata": {},
   "outputs": [
    {
     "name": "stdout",
     "output_type": "stream",
     "text": [
      "La probabilidad es de: 0.32\n"
     ]
    }
   ],
   "source": [
    "# a =pertenece a Sudamérica\n",
    "# b = clasificó\n",
    "\n",
    "print(f\"La probabilidad es de: {p_sudamerica_segunda_ronda / p_clasificados}\")"
   ]
  },
  {
   "cell_type": "markdown",
   "id": "13985a05",
   "metadata": {},
   "source": [
    "#### c. pertenecer a África, si se sabe que ganó al menos un partido"
   ]
  },
  {
   "cell_type": "code",
   "execution_count": 128,
   "id": "b41294b9",
   "metadata": {},
   "outputs": [
    {
     "name": "stdout",
     "output_type": "stream",
     "text": [
      "La probabilidad es de: 0.13043478260869565\n"
     ]
    }
   ],
   "source": [
    "# a =pertenece a África\n",
    "# b = Ganó al menos 1 partido\n",
    "\n",
    "print(f\"La probabilidad es de: {p_africa_y_ganar1partido_n / p_almenos1partido}\")\n"
   ]
  },
  {
   "cell_type": "markdown",
   "id": "b37667ea",
   "metadata": {},
   "source": [
    "#### d. haber ganado al menos un partido, si se sabe que clasificó"
   ]
  },
  {
   "cell_type": "code",
   "execution_count": 129,
   "id": "24f9a487",
   "metadata": {},
   "outputs": [
    {
     "name": "stdout",
     "output_type": "stream",
     "text": [
      "La probabilidad es de: 1.0\n"
     ]
    }
   ],
   "source": [
    "# a = Ganó al menos 1 partido\n",
    "# b = Clasificó\n",
    "\n",
    "\n",
    "print(f\"La probabilidad es de: {p_ganaralmenos1partido_y_clasificar / p_clasificados}\")\n",
    "\n"
   ]
  },
  {
   "cell_type": "markdown",
   "id": "b631dbc0",
   "metadata": {},
   "source": [
    "#### e. haber ganado al menos un partido, si se sabe que pertenece a Norteamérica"
   ]
  },
  {
   "cell_type": "code",
   "execution_count": 130,
   "id": "372bf4c8",
   "metadata": {},
   "outputs": [
    {
     "name": "stdout",
     "output_type": "stream",
     "text": [
      "La probabilidad es de: 0.78125\n"
     ]
    }
   ],
   "source": [
    "# a = Ganó al menos 1 partido\n",
    "# b = Pertnece a Norteamérica\n",
    "\n",
    "print(f\"La probabilidad es de: {p_norteamerica_y_ganar1partido_n / p_norteamerica}\")\n"
   ]
  },
  {
   "cell_type": "markdown",
   "id": "819d0a0e",
   "metadata": {},
   "source": [
    "#### f. NO haber clasificado, si se sabe que pertenece a África"
   ]
  },
  {
   "cell_type": "code",
   "execution_count": 144,
   "id": "2da06343",
   "metadata": {},
   "outputs": [
    {
     "name": "stdout",
     "output_type": "stream",
     "text": [
      "Probabilidad de clasificar a 2da fase: 0.5\n",
      "Probabilidad de África a 2da fase: 0.16\n",
      "La probabilidad es de: 0.84\n"
     ]
    }
   ],
   "source": [
    "# a = No clasificó\n",
    "# b = Pertenece a África\n",
    "\n",
    "# Para saber los no clasificados, se saca el complemento\n",
    "print(f\"Probabilidad de clasificar a 2da fase: {p_clasificados}\")\n",
    "print(f\"Probabilidad de África a 2da fase: {p_africa}\")\n",
    "\n",
    "complemento_no_clasificados = 1 - p_africa\n",
    "\n",
    "\n",
    "print(f\"La probabilidad es de: {(complemento_no_clasificados * p_africa) / p_africa}\")"
   ]
  },
  {
   "cell_type": "markdown",
   "metadata": {},
   "source": [
    "-\n",
    "-\n",
    "-\n",
    "___0_FiN__o___\n",
    "-\n",
    "-\n",
    "-"
   ]
  },
  {
   "cell_type": "markdown",
   "metadata": {},
   "source": [
    "### Requerimientos\n",
    "Dentro del archivo de Jupyter Notebook debes ir ejecutando las siguientes acciones y explicar lo que estás haciendo. Debes considerar los siguientes aspectos.\n",
    "\n",
    "1. Define condiciones para calcular probabilidades con Python. (2 Puntos)\n",
    "\n",
    "2. Calcula probabilidades de sucesos con datos en DataFrames. (3 Puntos)\n",
    "\n",
    "3. Interpreta y aplica la probabilidad condicional y el teorema de Bayes. (5 Puntos)"
   ]
  }
 ],
 "metadata": {
  "kernelspec": {
   "display_name": "datascience",
   "language": "python",
   "name": "python3"
  },
  "language_info": {
   "codemirror_mode": {
    "name": "ipython",
    "version": 3
   },
   "file_extension": ".py",
   "mimetype": "text/x-python",
   "name": "python",
   "nbconvert_exporter": "python",
   "pygments_lexer": "ipython3",
   "version": "3.10.12"
  }
 },
 "nbformat": 4,
 "nbformat_minor": 5
}
