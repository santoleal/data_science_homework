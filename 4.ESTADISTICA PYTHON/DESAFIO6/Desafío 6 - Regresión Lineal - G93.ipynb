{
 "cells": [
  {
   "cell_type": "markdown",
   "id": "10fb8fa9",
   "metadata": {},
   "source": [
    "# **DESAFÍO Nº6: REGRESIÓN LINEAL**\n",
    "### **Módulo 4: Análisis Estadístico con Python**\n",
    "#### *Carrera Data Science - G-93 - Desafio Latam*\n",
    "#### Estudiante: Felipe Leal Arancibia"
   ]
  },
  {
   "cell_type": "markdown",
   "id": "514d87d9",
   "metadata": {},
   "source": [
    "En este desafío validaremos nuestros conocimientos aprendidos de regresión lineal. Para lograrlo, necesitarás aplicar los modelos aprendidos en clase, utilizando de apoyo el archivo fish.csv.\n",
    "\n",
    "Lee todo el documento antes de comenzar el desarrollo individual, para asegurarte de tener el máximo de puntaje y enfocar bien los esfuerzos.\n",
    "\n",
    "Tiempo asociado: 2 horas cronológicas"
   ]
  },
  {
   "cell_type": "markdown",
   "id": "68d91972",
   "metadata": {},
   "source": [
    "## Descripción\n",
    "\n",
    "#### Este conjunto de datos es un registro de las ventas en el mercado de 7 especies comunes de peces diferentes. Con este conjunto de datos, se busca realizar un modelo predictivo utilizando datos adecuados para máquinas y estimar el peso de los peces basándose en la longitud y ancho del pez.\n",
    "\n",
    "#### El conjunto de datos incluye información sobre varias dimensiones del pez, que se utilizan para predecir su peso. Cada fila en el conjunto de datos representa una entrada de un pez individual y contiene varias columnas con información relevante. Las dimensiones del pez y otros atributos en el conjunto de datos podrían incluir:\n",
    "\n",
    "##### - Species: La especie del pez.\n",
    "##### - Weight: El peso del pez, que es la variable que se intenta predecir.\n",
    "##### - Length1, Length2, Length3: Diferentes longitudes del pez.\n",
    "##### - Height: Altura del pez.\n",
    "##### - Width: Ancho del pez.\n",
    "\n",
    "\n",
    "#### Los datos en este archivo permiten realizar análisis estadísticos y modelado predictivo para determinar cómo las dimensiones del pez están relacionadas con su peso. Esto puede ser útil en la industria pesquera y en la investigación científica para comprender mejor las relaciones entre las características físicas de los peces y su peso. Para esto se te solicita:"
   ]
  },
  {
   "cell_type": "code",
   "execution_count": 1,
   "id": "f7c7412d",
   "metadata": {},
   "outputs": [],
   "source": [
    "# Primero importar todas las potenciales librería sa utilizar\n",
    "import pandas as pd\n",
    "import numpy as np\n",
    "import matplotlib.pyplot as plt\n",
    "import scipy.stats as stats\n"
   ]
  },
  {
   "cell_type": "markdown",
   "id": "64a19f66",
   "metadata": {},
   "source": [
    "#### 1. Crea una nueva columna que incluya el volumen de pez, asumiéndolo como un cilindro. Para un cilindro con una base circular, el área de la base (A) es igual a πr2, donde \"r\" es el radio de la base del cilindro, y la altura (h) es la distancia entre las dos bases circulares."
   ]
  },
  {
   "cell_type": "code",
   "execution_count": null,
   "id": "60dee1ce",
   "metadata": {},
   "outputs": [],
   "source": []
  },
  {
   "cell_type": "markdown",
   "id": "f96072f2",
   "metadata": {},
   "source": [
    "#### 2. Verifica la correlación posible entre las variables, numérica y gráficamente. ¿Aumenta la correlación al añadir el volumen? Explica."
   ]
  },
  {
   "cell_type": "code",
   "execution_count": null,
   "id": "086f0e5e",
   "metadata": {},
   "outputs": [],
   "source": []
  },
  {
   "cell_type": "markdown",
   "id": "ab9407ba",
   "metadata": {},
   "source": [
    "#### 3. Construye un modelo de regresión lineal que relacione el volumen y el peso de los peces. Realiza una breve evaluación del modelo y grafícalo."
   ]
  },
  {
   "cell_type": "code",
   "execution_count": null,
   "id": "053bb811",
   "metadata": {},
   "outputs": [],
   "source": []
  },
  {
   "cell_type": "markdown",
   "id": "fa83c147",
   "metadata": {},
   "source": [
    "#### 4. ¿Qué sucede si aplicas el modelo anterior por separado a cada especie de peces? Explica.\n"
   ]
  },
  {
   "cell_type": "code",
   "execution_count": null,
   "id": "421390a6",
   "metadata": {},
   "outputs": [],
   "source": []
  },
  {
   "cell_type": "markdown",
   "id": "2c84f445",
   "metadata": {},
   "source": [
    "\n",
    "#### 5. Construye un modelo de regresión que relacione dos o más variables con el peso de los peces. Realiza una breve evaluación del modelo."
   ]
  },
  {
   "cell_type": "code",
   "execution_count": null,
   "id": "8e482c97",
   "metadata": {},
   "outputs": [],
   "source": []
  },
  {
   "cell_type": "code",
   "execution_count": 5,
   "id": "93ff1ef2",
   "metadata": {},
   "outputs": [
    {
     "name": "stdout",
     "output_type": "stream",
     "text": [
      "<class 'pandas.core.frame.DataFrame'>\n",
      "RangeIndex: 1816 entries, 0 to 1815\n",
      "Data columns (total 15 columns):\n",
      " #   Column            Non-Null Count  Dtype  \n",
      "---  ------            --------------  -----  \n",
      " 0   height            1816 non-null   int64  \n",
      " 1   weight            1789 non-null   float64\n",
      " 2   male              1816 non-null   int64  \n",
      " 3   earn              1816 non-null   float64\n",
      " 4   earnk             1816 non-null   float64\n",
      " 5   ethnicity         1816 non-null   object \n",
      " 6   education         1814 non-null   float64\n",
      " 7   mother_education  1572 non-null   float64\n",
      " 8   father_education  1521 non-null   float64\n",
      " 9   walk              1816 non-null   int64  \n",
      " 10  exercise          1816 non-null   int64  \n",
      " 11  smokenow          1815 non-null   float64\n",
      " 12  tense             1815 non-null   float64\n",
      " 13  angry             1815 non-null   float64\n",
      " 14  age               1816 non-null   int64  \n",
      "dtypes: float64(9), int64(5), object(1)\n",
      "memory usage: 212.9+ KB\n"
     ]
    }
   ],
   "source": [
    "# 1. Considerando las variables earn, height y age, vamos a suponer que nuestro dataset fuera una población completa. (Prepara los datos adecuadamente).\n",
    "\n",
    "# Cargamos el dataset\n",
    "df_earnings = pd.read_csv('earnings.csv')\n",
    "\n",
    "df_earnings.info()"
   ]
  },
  {
   "cell_type": "markdown",
   "id": "19982c29",
   "metadata": {},
   "source": [
    "-\n",
    "-\n",
    "-\n",
    "___0___o___\n",
    "-\n",
    "-\n",
    "-"
   ]
  },
  {
   "cell_type": "code",
   "execution_count": null,
   "id": "ad695810",
   "metadata": {},
   "outputs": [],
   "source": []
  },
  {
   "cell_type": "markdown",
   "id": "9cce3263",
   "metadata": {},
   "source": [
    "-\n",
    "-\n",
    "-\n",
    "___0___o___\n",
    "-\n",
    "-\n",
    "-"
   ]
  },
  {
   "cell_type": "code",
   "execution_count": null,
   "id": "5fa21396",
   "metadata": {},
   "outputs": [],
   "source": []
  },
  {
   "cell_type": "markdown",
   "id": "7df9b0ad",
   "metadata": {},
   "source": [
    "-\n",
    "-\n",
    "-\n",
    "___0_FiN__o___\n",
    "-\n",
    "-\n",
    "-"
   ]
  },
  {
   "cell_type": "code",
   "execution_count": null,
   "id": "214bb4e6",
   "metadata": {},
   "outputs": [],
   "source": []
  },
  {
   "cell_type": "markdown",
   "id": "02bc4f88",
   "metadata": {},
   "source": [
    "### Requerimientos\n",
    "\n",
    "1. Analiza correlaciones entre variables de un dataset, en forma numérica y gráfica. (2 Puntos)\n",
    "2. Construye modelos de relación lineal en Python. (5 Puntos)\n",
    "3. Evalúa modelos de regresión lineal. (3 Puntos)\n",
    "\n",
    "¡Mucho éxito!\n",
    "\n",
    "Consideraciones y recomendaciones\n",
    "\n",
    "Considera que el pez es un cilindro por tanto el volumen de este será:\n",
    "Volumen = Área de la base × Altura\n",
    "Para un cilindro con una base circular, el área de la base (A) es igual a πr2, donde \"r\" es el radio de la base del cilindro, y la altura (h) es la distancia entre las dos bases circulares.\n",
    "\n",
    "Por lo tanto, la ecuación general para el volumen (V) de un cilindro es:\n",
    "\n",
    "np.pi*df['Height']*(df['Width']/2)**2"
   ]
  }
 ],
 "metadata": {
  "kernelspec": {
   "display_name": "desafiolatam1",
   "language": "python",
   "name": "python3"
  },
  "language_info": {
   "codemirror_mode": {
    "name": "ipython",
    "version": 3
   },
   "file_extension": ".py",
   "mimetype": "text/x-python",
   "name": "python",
   "nbconvert_exporter": "python",
   "pygments_lexer": "ipython3",
   "version": "3.9.18"
  }
 },
 "nbformat": 4,
 "nbformat_minor": 5
}
