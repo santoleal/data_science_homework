{
 "cells": [
  {
   "cell_type": "markdown",
   "metadata": {},
   "source": [
    "# **DESAFÍO Nº5: INFERENCIA E HIPÓTESIS**\n",
    "### **Módulo 4: Análisis Estadístico con Python**\n",
    "#### *Carrera Data Science - G-93 - Desafio Latam*\n",
    "#### Estudiante: Felipe Leal Arancibia"
   ]
  },
  {
   "cell_type": "markdown",
   "metadata": {},
   "source": [
    "En este desafío validaremos nuestros conocimientos de estadística inferencial. Para lograrlo, realizarás inferencias y pruebas de hipótesis a partir de la base de datos\n",
    "earnings.csv.\n",
    "\n",
    "Lee todo el documento antes de comenzar el desarrollo individual, para asegurarte de tener el máximo de puntaje y enfocar bien los esfuerzos.\n",
    "\n",
    "Tiempo asociado: 2 horas cronológicas"
   ]
  },
  {
   "cell_type": "markdown",
   "metadata": {},
   "source": [
    "## Descripción\n",
    "\n",
    "#### Podemos registrar muchas características de una persona, y buscar ver si algunas influyen o no en otras. Realiza las siguientes actividades para verificarlo."
   ]
  },
  {
   "cell_type": "code",
   "execution_count": 2,
   "id": "f7c7412d",
   "metadata": {},
   "outputs": [],
   "source": [
    "# Primero importar todas las potenciales librería sa utilizar\n",
    "import pandas as pd\n",
    "import numpy as np\n",
    "import matplotlib.pyplot as plt\n",
    "import scipy.stats as stats\n"
   ]
  },
  {
   "cell_type": "markdown",
   "metadata": {},
   "source": [
    "#### 1. Considerando las variables earn, height y age, vamos a suponer que nuestro dataset fuera una población completa. (Prepara los datos adecuadamente)."
   ]
  },
  {
   "cell_type": "code",
   "execution_count": 3,
   "id": "93ff1ef2",
   "metadata": {},
   "outputs": [
    {
     "data": {
      "text/plain": [
       "(1816, 15)"
      ]
     },
     "execution_count": 3,
     "metadata": {},
     "output_type": "execute_result"
    }
   ],
   "source": [
    "\n",
    "# Cargamos el dataset\n",
    "df_earnings = pd.read_csv('earnings.csv')\n",
    "\n",
    "df_earnings.shape"
   ]
  },
  {
   "cell_type": "code",
   "execution_count": 4,
   "id": "43f244eb",
   "metadata": {},
   "outputs": [
    {
     "name": "stdout",
     "output_type": "stream",
     "text": [
      "<class 'pandas.core.frame.DataFrame'>\n",
      "RangeIndex: 1816 entries, 0 to 1815\n",
      "Data columns (total 15 columns):\n",
      " #   Column            Non-Null Count  Dtype  \n",
      "---  ------            --------------  -----  \n",
      " 0   height            1816 non-null   int64  \n",
      " 1   weight            1789 non-null   float64\n",
      " 2   male              1816 non-null   int64  \n",
      " 3   earn              1816 non-null   float64\n",
      " 4   earnk             1816 non-null   float64\n",
      " 5   ethnicity         1816 non-null   object \n",
      " 6   education         1814 non-null   float64\n",
      " 7   mother_education  1572 non-null   float64\n",
      " 8   father_education  1521 non-null   float64\n",
      " 9   walk              1816 non-null   int64  \n",
      " 10  exercise          1816 non-null   int64  \n",
      " 11  smokenow          1815 non-null   float64\n",
      " 12  tense             1815 non-null   float64\n",
      " 13  angry             1815 non-null   float64\n",
      " 14  age               1816 non-null   int64  \n",
      "dtypes: float64(9), int64(5), object(1)\n",
      "memory usage: 212.9+ KB\n"
     ]
    }
   ],
   "source": [
    "df_earnings.info()"
   ]
  },
  {
   "cell_type": "code",
   "execution_count": 5,
   "id": "933b4eef",
   "metadata": {},
   "outputs": [
    {
     "data": {
      "text/html": [
       "<div>\n",
       "<style scoped>\n",
       "    .dataframe tbody tr th:only-of-type {\n",
       "        vertical-align: middle;\n",
       "    }\n",
       "\n",
       "    .dataframe tbody tr th {\n",
       "        vertical-align: top;\n",
       "    }\n",
       "\n",
       "    .dataframe thead th {\n",
       "        text-align: right;\n",
       "    }\n",
       "</style>\n",
       "<table border=\"1\" class=\"dataframe\">\n",
       "  <thead>\n",
       "    <tr style=\"text-align: right;\">\n",
       "      <th></th>\n",
       "      <th>height</th>\n",
       "      <th>weight</th>\n",
       "      <th>male</th>\n",
       "      <th>earn</th>\n",
       "      <th>earnk</th>\n",
       "      <th>ethnicity</th>\n",
       "      <th>education</th>\n",
       "      <th>mother_education</th>\n",
       "      <th>father_education</th>\n",
       "      <th>walk</th>\n",
       "      <th>exercise</th>\n",
       "      <th>smokenow</th>\n",
       "      <th>tense</th>\n",
       "      <th>angry</th>\n",
       "      <th>age</th>\n",
       "    </tr>\n",
       "  </thead>\n",
       "  <tbody>\n",
       "    <tr>\n",
       "      <th>1813</th>\n",
       "      <td>72</td>\n",
       "      <td>194.0</td>\n",
       "      <td>1</td>\n",
       "      <td>60000.0</td>\n",
       "      <td>60.0</td>\n",
       "      <td>White</td>\n",
       "      <td>12.0</td>\n",
       "      <td>12.0</td>\n",
       "      <td>12.0</td>\n",
       "      <td>2</td>\n",
       "      <td>1</td>\n",
       "      <td>2.0</td>\n",
       "      <td>0.0</td>\n",
       "      <td>0.0</td>\n",
       "      <td>50</td>\n",
       "    </tr>\n",
       "    <tr>\n",
       "      <th>1814</th>\n",
       "      <td>63</td>\n",
       "      <td>155.0</td>\n",
       "      <td>0</td>\n",
       "      <td>15000.0</td>\n",
       "      <td>15.0</td>\n",
       "      <td>Other</td>\n",
       "      <td>14.0</td>\n",
       "      <td>14.0</td>\n",
       "      <td>14.0</td>\n",
       "      <td>6</td>\n",
       "      <td>1</td>\n",
       "      <td>2.0</td>\n",
       "      <td>2.0</td>\n",
       "      <td>2.0</td>\n",
       "      <td>69</td>\n",
       "    </tr>\n",
       "    <tr>\n",
       "      <th>1815</th>\n",
       "      <td>68</td>\n",
       "      <td>150.0</td>\n",
       "      <td>1</td>\n",
       "      <td>6000.0</td>\n",
       "      <td>6.0</td>\n",
       "      <td>White</td>\n",
       "      <td>12.0</td>\n",
       "      <td>12.0</td>\n",
       "      <td>12.0</td>\n",
       "      <td>1</td>\n",
       "      <td>6</td>\n",
       "      <td>1.0</td>\n",
       "      <td>2.0</td>\n",
       "      <td>2.0</td>\n",
       "      <td>27</td>\n",
       "    </tr>\n",
       "  </tbody>\n",
       "</table>\n",
       "</div>"
      ],
      "text/plain": [
       "      height  weight  male     earn  earnk ethnicity  education  \\\n",
       "1813      72   194.0     1  60000.0   60.0     White       12.0   \n",
       "1814      63   155.0     0  15000.0   15.0     Other       14.0   \n",
       "1815      68   150.0     1   6000.0    6.0     White       12.0   \n",
       "\n",
       "      mother_education  father_education  walk  exercise  smokenow  tense  \\\n",
       "1813              12.0              12.0     2         1       2.0    0.0   \n",
       "1814              14.0              14.0     6         1       2.0    2.0   \n",
       "1815              12.0              12.0     1         6       1.0    2.0   \n",
       "\n",
       "      angry  age  \n",
       "1813    0.0   50  \n",
       "1814    2.0   69  \n",
       "1815    2.0   27  "
      ]
     },
     "execution_count": 5,
     "metadata": {},
     "output_type": "execute_result"
    }
   ],
   "source": [
    "df_earnings.tail(3)"
   ]
  },
  {
   "cell_type": "markdown",
   "id": "b53b907e",
   "metadata": {},
   "source": [
    "Allí se puede ver el cuadro síntesis de nuestra  \"población completa\", a tener en cuenta en pasos siguientes."
   ]
  },
  {
   "cell_type": "markdown",
   "id": "00a959fb",
   "metadata": {},
   "source": [
    "Se crea una variable que contenga un filtro de las categorías del dataset: earn, height y age."
   ]
  },
  {
   "cell_type": "code",
   "execution_count": 6,
   "id": "1df63e3a",
   "metadata": {},
   "outputs": [
    {
     "data": {
      "text/html": [
       "<div>\n",
       "<style scoped>\n",
       "    .dataframe tbody tr th:only-of-type {\n",
       "        vertical-align: middle;\n",
       "    }\n",
       "\n",
       "    .dataframe tbody tr th {\n",
       "        vertical-align: top;\n",
       "    }\n",
       "\n",
       "    .dataframe thead th {\n",
       "        text-align: right;\n",
       "    }\n",
       "</style>\n",
       "<table border=\"1\" class=\"dataframe\">\n",
       "  <thead>\n",
       "    <tr style=\"text-align: right;\">\n",
       "      <th></th>\n",
       "      <th>height</th>\n",
       "      <th>earn</th>\n",
       "      <th>age</th>\n",
       "    </tr>\n",
       "  </thead>\n",
       "  <tbody>\n",
       "    <tr>\n",
       "      <th>0</th>\n",
       "      <td>74</td>\n",
       "      <td>50000.0</td>\n",
       "      <td>45</td>\n",
       "    </tr>\n",
       "    <tr>\n",
       "      <th>1</th>\n",
       "      <td>66</td>\n",
       "      <td>60000.0</td>\n",
       "      <td>58</td>\n",
       "    </tr>\n",
       "    <tr>\n",
       "      <th>2</th>\n",
       "      <td>64</td>\n",
       "      <td>30000.0</td>\n",
       "      <td>29</td>\n",
       "    </tr>\n",
       "    <tr>\n",
       "      <th>3</th>\n",
       "      <td>65</td>\n",
       "      <td>25000.0</td>\n",
       "      <td>57</td>\n",
       "    </tr>\n",
       "    <tr>\n",
       "      <th>4</th>\n",
       "      <td>63</td>\n",
       "      <td>50000.0</td>\n",
       "      <td>91</td>\n",
       "    </tr>\n",
       "    <tr>\n",
       "      <th>...</th>\n",
       "      <td>...</td>\n",
       "      <td>...</td>\n",
       "      <td>...</td>\n",
       "    </tr>\n",
       "    <tr>\n",
       "      <th>1811</th>\n",
       "      <td>61</td>\n",
       "      <td>15000.0</td>\n",
       "      <td>82</td>\n",
       "    </tr>\n",
       "    <tr>\n",
       "      <th>1812</th>\n",
       "      <td>64</td>\n",
       "      <td>8000.0</td>\n",
       "      <td>33</td>\n",
       "    </tr>\n",
       "    <tr>\n",
       "      <th>1813</th>\n",
       "      <td>72</td>\n",
       "      <td>60000.0</td>\n",
       "      <td>50</td>\n",
       "    </tr>\n",
       "    <tr>\n",
       "      <th>1814</th>\n",
       "      <td>63</td>\n",
       "      <td>15000.0</td>\n",
       "      <td>69</td>\n",
       "    </tr>\n",
       "    <tr>\n",
       "      <th>1815</th>\n",
       "      <td>68</td>\n",
       "      <td>6000.0</td>\n",
       "      <td>27</td>\n",
       "    </tr>\n",
       "  </tbody>\n",
       "</table>\n",
       "<p>1816 rows × 3 columns</p>\n",
       "</div>"
      ],
      "text/plain": [
       "      height     earn  age\n",
       "0         74  50000.0   45\n",
       "1         66  60000.0   58\n",
       "2         64  30000.0   29\n",
       "3         65  25000.0   57\n",
       "4         63  50000.0   91\n",
       "...      ...      ...  ...\n",
       "1811      61  15000.0   82\n",
       "1812      64   8000.0   33\n",
       "1813      72  60000.0   50\n",
       "1814      63  15000.0   69\n",
       "1815      68   6000.0   27\n",
       "\n",
       "[1816 rows x 3 columns]"
      ]
     },
     "execution_count": 6,
     "metadata": {},
     "output_type": "execute_result"
    }
   ],
   "source": [
    "# Crear variable que filtre columnas earn, height y age\n",
    "filtro_earnings = df_earnings[['height','earn', 'age']] \n",
    "filtro_earnings\n"
   ]
  },
  {
   "cell_type": "code",
   "execution_count": 7,
   "id": "489f14e7",
   "metadata": {},
   "outputs": [
    {
     "data": {
      "text/plain": [
       "height    0\n",
       "earn      0\n",
       "age       0\n",
       "dtype: int64"
      ]
     },
     "execution_count": 7,
     "metadata": {},
     "output_type": "execute_result"
    }
   ],
   "source": [
    "filtro_earnings.isna().sum()"
   ]
  },
  {
   "cell_type": "code",
   "execution_count": 8,
   "id": "2420ab26",
   "metadata": {},
   "outputs": [
    {
     "data": {
      "text/html": [
       "<div>\n",
       "<style scoped>\n",
       "    .dataframe tbody tr th:only-of-type {\n",
       "        vertical-align: middle;\n",
       "    }\n",
       "\n",
       "    .dataframe tbody tr th {\n",
       "        vertical-align: top;\n",
       "    }\n",
       "\n",
       "    .dataframe thead th {\n",
       "        text-align: right;\n",
       "    }\n",
       "</style>\n",
       "<table border=\"1\" class=\"dataframe\">\n",
       "  <thead>\n",
       "    <tr style=\"text-align: right;\">\n",
       "      <th></th>\n",
       "      <th>height</th>\n",
       "      <th>earn</th>\n",
       "      <th>age</th>\n",
       "    </tr>\n",
       "  </thead>\n",
       "  <tbody>\n",
       "    <tr>\n",
       "      <th>count</th>\n",
       "      <td>1816.0</td>\n",
       "      <td>1816.0</td>\n",
       "      <td>1816.0</td>\n",
       "    </tr>\n",
       "    <tr>\n",
       "      <th>mean</th>\n",
       "      <td>66.6</td>\n",
       "      <td>21147.3</td>\n",
       "      <td>42.9</td>\n",
       "    </tr>\n",
       "    <tr>\n",
       "      <th>std</th>\n",
       "      <td>3.8</td>\n",
       "      <td>22531.8</td>\n",
       "      <td>17.2</td>\n",
       "    </tr>\n",
       "    <tr>\n",
       "      <th>min</th>\n",
       "      <td>57.0</td>\n",
       "      <td>0.0</td>\n",
       "      <td>18.0</td>\n",
       "    </tr>\n",
       "    <tr>\n",
       "      <th>25%</th>\n",
       "      <td>64.0</td>\n",
       "      <td>6000.0</td>\n",
       "      <td>29.0</td>\n",
       "    </tr>\n",
       "    <tr>\n",
       "      <th>50%</th>\n",
       "      <td>66.0</td>\n",
       "      <td>16000.0</td>\n",
       "      <td>39.0</td>\n",
       "    </tr>\n",
       "    <tr>\n",
       "      <th>75%</th>\n",
       "      <td>69.2</td>\n",
       "      <td>27000.0</td>\n",
       "      <td>56.0</td>\n",
       "    </tr>\n",
       "    <tr>\n",
       "      <th>max</th>\n",
       "      <td>82.0</td>\n",
       "      <td>400000.0</td>\n",
       "      <td>91.0</td>\n",
       "    </tr>\n",
       "  </tbody>\n",
       "</table>\n",
       "</div>"
      ],
      "text/plain": [
       "       height      earn     age\n",
       "count  1816.0    1816.0  1816.0\n",
       "mean     66.6   21147.3    42.9\n",
       "std       3.8   22531.8    17.2\n",
       "min      57.0       0.0    18.0\n",
       "25%      64.0    6000.0    29.0\n",
       "50%      66.0   16000.0    39.0\n",
       "75%      69.2   27000.0    56.0\n",
       "max      82.0  400000.0    91.0"
      ]
     },
     "execution_count": 8,
     "metadata": {},
     "output_type": "execute_result"
    }
   ],
   "source": [
    "# Se muestran algunos parámetros de las columnas a trabajar. Incluye mean y std.\n",
    "round(filtro_earnings.describe(),1)"
   ]
  },
  {
   "cell_type": "markdown",
   "id": "0015bea4",
   "metadata": {},
   "source": [
    "##### a. Realiza 4 pruebas con muestras de tamaño n = 25, en cada caso, con niveles de significancia diferentes pero inferiores a 0,1, para confirmar o rechazar las siguientes hipótesis considerando las alternativas. Crea para ello una fórmula que reciba los parámetros adecuados y responda \"con nivel de confianza del ...%, se acepta la hipótesis nula/alternativa\"."
   ]
  },
  {
   "cell_type": "code",
   "execution_count": 9,
   "id": "8288d6a9",
   "metadata": {},
   "outputs": [],
   "source": [
    "# Paso a paso recomendado para hacer prueba de hipótesis\n",
    "# Paso 1: Planteamiento de hipótesis\n",
    "# Paso 2: Elección nivel de significancia\n",
    "# Paso 3: Selección y cálculo de un estadístico de prueba\n",
    "# Paso 4: Determinación de la región crítica - P values\n",
    "# Paso 5: Toma de decisión\n",
    "\n",
    "# Se modifican un poco "
   ]
  },
  {
   "cell_type": "code",
   "execution_count": 10,
   "id": "0fd754b9",
   "metadata": {},
   "outputs": [],
   "source": [
    "# Paso 1: Planteamiento de hipótesis"
   ]
  },
  {
   "cell_type": "code",
   "execution_count": 11,
   "id": "c9b675ed",
   "metadata": {},
   "outputs": [],
   "source": [
    "#earn                        height                  age\n",
    "#H0: x == 20000        |       H0: x == 55       |       H0: x == 44\n",
    "#H1: x != 20000        |       H1: x != 55       |       H1: x != 44\n",
    "# ______________________________________________________________\n",
    "#H0: x == 35000        |       H0: x == 68        |      H0: x == 56\n",
    "#H1: x != 35000        |       H1: x != 68        |      H1: x != 56\n",
    "#_______________________________________________________________\n",
    "#H0: x <= 25000        |       H0: x <= 63        |      H0: x <= 51\n",
    "#H1: x > 25000        |       H1: x > 63        |      H1: x > 51\n",
    "#_______________________________________________________________\n",
    "#H0: x >= 32000        |       H0: x >= 70        |      H0: x >= 62\n",
    "#H1: x < 32000        |       H1: x < 70        |      H1: x < 62"
   ]
  },
  {
   "cell_type": "code",
   "execution_count": 12,
   "id": "e7e72162",
   "metadata": {},
   "outputs": [],
   "source": [
    "# Paso 2: Elección nivel de significancia y valores del ejercicio\n",
    "n = 25\n",
    "alphas = [0.03, 0.05, 0.07, 0.09]  # se hace una lista con 4 valores de significancia distinta, menores a 0.1"
   ]
  },
  {
   "cell_type": "code",
   "execution_count": 13,
   "id": "07492205",
   "metadata": {},
   "outputs": [],
   "source": [
    "# Se traducen valores descritos y retoman las hipótesis por cada una de las variables, a modo de listas para luego iterar sobre ellas\n",
    "\n",
    "hipotesis_earn = [\n",
    "    (20000, 'two-sided', alphas[0]),\n",
    "    (35000, 'two-sided', alphas[1]),\n",
    "    (25000, 'greater', alphas[2]),\n",
    "    (32000, 'less', alphas[3]),\n",
    "]\n",
    "\n",
    "hipotesis_height = [\n",
    "    (55, 'two-sided', alphas[0]),\n",
    "    (68, 'two-sided', alphas[1]),\n",
    "    (63, 'greater', alphas[2]),\n",
    "    (70, 'less', alphas[3]),\n",
    "]\n",
    "\n",
    "hipotesis_age = [\n",
    "    (44, 'two-sided', alphas[0]),\n",
    "    (56, 'two-sided', alphas[1]),\n",
    "    (51, 'greater', alphas[2]),\n",
    "    (62, 'less', alphas[3]),\n",
    "]\n",
    " "
   ]
  },
  {
   "cell_type": "code",
   "execution_count": 46,
   "id": "6c19404a",
   "metadata": {},
   "outputs": [],
   "source": [
    "# Paso 3: Selección y cálculo de un estadístico de prueba\n",
    "# Paso 4: Determinación de la región crítica - P values\n",
    "\n",
    "# Se crea una función para realizar las pruebas de hiótesis, considerando distribución t student, ya que la muestra es menor a 30\n",
    "\n",
    "def prueba_hipotesis(df, variable, n, h0, alternative, alpha):\n",
    "\n",
    "    # Se hace validación d eparametros\n",
    "    if variable not in df.columns:\n",
    "        raise ValueError(f\"La variable '{variable}' no existe en el DataFrame.\")\n",
    "    if alternative not in ['two-sided', 'greater', 'less']:\n",
    "        raise ValueError(\"El parámetro 'alternative' debe ser: 'two-sided', 'greater' o 'less'.\")\n",
    "    \n",
    "    # Se toma una muestra \n",
    "    muestra = df[variable].sample(n, random_state=1)\n",
    "    confianza = (1-alpha)*100\n",
    "    \n",
    "    # Se calcula la media de la muestra, t student y p value (valor crítico)\n",
    "    t_stat, p_value = stats.ttest_1samp(muestra, h0, alternative=alternative)\n",
    "\n",
    "    # Voy a traducir los valores de alternative a español\n",
    "    traduccion_alternative = {\n",
    "        'two-sided': 'diferente',\n",
    "        'greater': 'mayor',\n",
    "        'less': 'menor'}\n",
    "    alternativa_traducida = traduccion_alternative[alternative]\n",
    "\n",
    "\n",
    "\n",
    "    \n",
    "    # Imprimir valores:\n",
    "    print(f\"Variable: {variable}\")\n",
    "    print(f\"Tamaño muestral: {n}\")\n",
    "    print(f\"H0: Media poblacional es {h0}.\")\n",
    "    print(f\"H1: Media poblacional es {alternativa_traducida} a {h0}.\")\n",
    "    print(f\"Nivel de significancia: {alpha}\")\n",
    "    print(f\"Valor t: {t_stat}\")\n",
    "    print(f\"Valor p: {p_value}\")\n",
    "    \n",
    "    # Comprobar si el valor p es menor que alfa para rechazar la hipótesis nula\n",
    "    if p_value < alpha:\n",
    "        resultado = f\"Con nivel de confianza de {confianza}%, se rechaza la hipótesis nula, a favor de una hipótesis alternativa.\"\n",
    "    else:\n",
    "        resultado = f\"Con nivel de confianza de {confianza}%, NO se rechaza la hipótesis nula.\"\n",
    "\n",
    "    print(resultado, \"\\n\")\n",
    "    \n",
    "    return {\n",
    "        \"t_stat\": t_stat,\n",
    "        \"variable\": variable,\n",
    "        \"n\": n,\n",
    "        \"h0\": h0,\n",
    "        \"h1\": f\"Media poblacional {alternativa_traducida} a {h0}\",\n",
    "        \"alpha\": alpha,\n",
    "        \"t_stat\": t_stat,\n",
    "        \"p_value\": p_value,\n",
    "        \"resultado\": resultado\n",
    "    }\n",
    "\n",
    "    \n"
   ]
  },
  {
   "cell_type": "code",
   "execution_count": 47,
   "id": "80c0bc7d",
   "metadata": {},
   "outputs": [
    {
     "name": "stdout",
     "output_type": "stream",
     "text": [
      "Variable: earn\n",
      "Tamaño muestral: 25\n",
      "H0: Media poblacional es 20000.\n",
      "H1: Media poblacional es diferente a 20000.\n",
      "Nivel de significancia: 0.03\n",
      "Valor t: -2.1380387085215293\n",
      "Valor p: 0.04290057846389046\n",
      "Con nivel de confianza de 97.0%, NO se rechaza la hipótesis nula. \n",
      "\n",
      "Variable: earn\n",
      "Tamaño muestral: 25\n",
      "H0: Media poblacional es 35000.\n",
      "H1: Media poblacional es diferente a 35000.\n",
      "Nivel de significancia: 0.05\n",
      "Valor t: -8.011771424240017\n",
      "Valor p: 3.074893587522929e-08\n",
      "Con nivel de confianza de 95.0%, se rechaza la hipótesis nula, a favor de una hipótesis alternativa. \n",
      "\n",
      "Variable: earn\n",
      "Tamaño muestral: 25\n",
      "H0: Media poblacional es 25000.\n",
      "H1: Media poblacional es mayor a 25000.\n",
      "Nivel de significancia: 0.07\n",
      "Valor t: -4.095949613761025\n",
      "Valor p: 0.9997933263436519\n",
      "Con nivel de confianza de 93.0%, NO se rechaza la hipótesis nula. \n",
      "\n",
      "Variable: earn\n",
      "Tamaño muestral: 25\n",
      "H0: Media poblacional es 32000.\n",
      "H1: Media poblacional es menor a 32000.\n",
      "Nivel de significancia: 0.09\n",
      "Valor t: -6.837024881096319\n",
      "Valor p: 2.2606687787549353e-07\n",
      "Con nivel de confianza de 91.0%, se rechaza la hipótesis nula, a favor de una hipótesis alternativa. \n",
      "\n"
     ]
    }
   ],
   "source": [
    "# Paso 5: Toma de decisión\n",
    "\n",
    "# Se procede con las 4 pruebas de columna earn\n",
    "pruebas_earn = [prueba_hipotesis(filtro_earnings, 'earn', n, h0, alternative, alpha) for h0, alternative, alpha in hipotesis_earn]\n"
   ]
  },
  {
   "cell_type": "code",
   "execution_count": 48,
   "id": "f754d6a3",
   "metadata": {},
   "outputs": [
    {
     "name": "stdout",
     "output_type": "stream",
     "text": [
      "Variable: height\n",
      "Tamaño muestral: 25\n",
      "H0: Media poblacional es 55.\n",
      "H1: Media poblacional es diferente a 55.\n",
      "Nivel de significancia: 0.03\n",
      "Valor t: 17.64352905875293\n",
      "Valor p: 3.0170593817782123e-15\n",
      "Con nivel de confianza de 97.0%, se rechaza la hipótesis nula, a favor de una hipótesis alternativa. \n",
      "\n",
      "Variable: height\n",
      "Tamaño muestral: 25\n",
      "H0: Media poblacional es 68.\n",
      "H1: Media poblacional es diferente a 68.\n",
      "Nivel de significancia: 0.05\n",
      "Valor t: -1.860372111637205\n",
      "Valor p: 0.07513055727534948\n",
      "Con nivel de confianza de 95.0%, NO se rechaza la hipótesis nula. \n",
      "\n",
      "Variable: height\n",
      "Tamaño muestral: 25\n",
      "H0: Media poblacional es 63.\n",
      "H1: Media poblacional es mayor a 63.\n",
      "Nivel de significancia: 0.07\n",
      "Valor t: 5.641128338512846\n",
      "Valor p: 4.142944593189397e-06\n",
      "Con nivel de confianza de 93.0%, se rechaza la hipótesis nula, a favor de una hipótesis alternativa. \n",
      "\n",
      "Variable: height\n",
      "Tamaño muestral: 25\n",
      "H0: Media poblacional es 70.\n",
      "H1: Media poblacional es menor a 70.\n",
      "Nivel de significancia: 0.09\n",
      "Valor t: -4.860972291697226\n",
      "Valor p: 2.9574031768416157e-05\n",
      "Con nivel de confianza de 91.0%, se rechaza la hipótesis nula, a favor de una hipótesis alternativa. \n",
      "\n"
     ]
    }
   ],
   "source": [
    "# Se procede con las 4 pruebas de columna height\n",
    "pruebas_height = [prueba_hipotesis(filtro_earnings, 'height', n, h0, alternative, alpha) for h0, alternative, alpha in hipotesis_height]"
   ]
  },
  {
   "cell_type": "code",
   "execution_count": 49,
   "id": "28156db7",
   "metadata": {},
   "outputs": [
    {
     "name": "stdout",
     "output_type": "stream",
     "text": [
      "Variable: age\n",
      "Tamaño muestral: 25\n",
      "H0: Media poblacional es 44.\n",
      "H1: Media poblacional es diferente a 44.\n",
      "Nivel de significancia: 0.03\n",
      "Valor t: -1.3023984977655982\n",
      "Valor p: 0.2051405295742126\n",
      "Con nivel de confianza de 97.0%, NO se rechaza la hipótesis nula. \n",
      "\n",
      "Variable: age\n",
      "Tamaño muestral: 25\n",
      "H0: Media poblacional es 56.\n",
      "H1: Media poblacional es diferente a 56.\n",
      "Nivel de significancia: 0.05\n",
      "Valor t: -4.354894976903721\n",
      "Valor p: 0.00021422444987887325\n",
      "Con nivel de confianza de 95.0%, se rechaza la hipótesis nula, a favor de una hipótesis alternativa. \n",
      "\n",
      "Variable: age\n",
      "Tamaño muestral: 25\n",
      "H0: Media poblacional es 51.\n",
      "H1: Media poblacional es mayor a 51.\n",
      "Nivel de significancia: 0.07\n",
      "Valor t: -3.0830214439295034\n",
      "Valor p: 0.9974547081913591\n",
      "Con nivel de confianza de 93.0%, NO se rechaza la hipótesis nula. \n",
      "\n",
      "Variable: age\n",
      "Tamaño muestral: 25\n",
      "H0: Media poblacional es 62.\n",
      "H1: Media poblacional es menor a 62.\n",
      "Nivel de significancia: 0.09\n",
      "Valor t: -5.881143216472783\n",
      "Valor p: 2.2835783990432878e-06\n",
      "Con nivel de confianza de 91.0%, se rechaza la hipótesis nula, a favor de una hipótesis alternativa. \n",
      "\n"
     ]
    }
   ],
   "source": [
    "# Se procede con las 4 pruebas de columna age\n",
    "pruebas_age = [prueba_hipotesis(filtro_earnings, 'age', n, h0, alternative, alpha) for h0, alternative, alpha in hipotesis_age]"
   ]
  },
  {
   "cell_type": "markdown",
   "id": "623a8ebd",
   "metadata": {},
   "source": [
    "##### b. Calcula la media poblacional para cada variable. ¿Son correctos los resultados obtenidos por tus pruebas?"
   ]
  },
  {
   "cell_type": "code",
   "execution_count": 50,
   "id": "986bbb4e",
   "metadata": {},
   "outputs": [
    {
     "name": "stdout",
     "output_type": "stream",
     "text": [
      "Media poblacional de variable 'earn': 21147.3\n",
      "Media poblacional de variable 'height': 66.57\n",
      "Media poblacional de variable 'age': 42.93\n"
     ]
    }
   ],
   "source": [
    "# Se calcula la media poblacional para cada variable\n",
    "media_poblacional_earn = round(df_earnings['earn'].mean(),2)\n",
    "media_poblacional_height = round(df_earnings['height'].mean(),2)\n",
    "media_poblacional_age = round(df_earnings['age'].mean(),2)\n",
    "\n",
    "# Se imprimen resultados\n",
    "print(f\"Media poblacional de variable 'earn': {media_poblacional_earn}\")\n",
    "print(f\"Media poblacional de variable 'height': {media_poblacional_height}\")\n",
    "print(f\"Media poblacional de variable 'age': {media_poblacional_age}\")"
   ]
  },
  {
   "cell_type": "code",
   "execution_count": 51,
   "id": "5a4ef58b",
   "metadata": {},
   "outputs": [],
   "source": [
    "# Se extrae algunas variables h0, h1 y resultado de pruebas realizadas para utilizarlas en función posterior\n",
    "resultados_test_earn = [(pruebahipotesis['h0'], pruebahipotesis['h1'], pruebahipotesis['alpha'], pruebahipotesis['t_stat'],pruebahipotesis['resultado']) for pruebahipotesis in pruebas_earn]\n",
    "resultados_test_height = [(pruebahipotesis['h0'], pruebahipotesis['h1'], pruebahipotesis['alpha'], pruebahipotesis['t_stat'],pruebahipotesis['resultado']) for pruebahipotesis in pruebas_height]\n",
    "resultados_test_age = [(pruebahipotesis['h0'], pruebahipotesis['h1'], pruebahipotesis['alpha'], pruebahipotesis['t_stat'],pruebahipotesis['resultado']) for pruebahipotesis in pruebas_age]\n"
   ]
  },
  {
   "cell_type": "code",
   "execution_count": 63,
   "id": "61967b80",
   "metadata": {},
   "outputs": [],
   "source": [
    "def comparacion_parametros_estimadores(df, variable, resultados_test):\n",
    "    media_poblacional = round(df[variable].mean(), 2)\n",
    "    print(f\"Media poblacional de la variable {variable}: {media_poblacional}\")\n",
    "\n",
    "    i = 1\n",
    "\n",
    "    for h0, h1, alpha, t_stat, resultado in resultados_test:\n",
    "        print(f\"\"\"********\n",
    "Para la prueba de hipótesis '{variable}' número {i}, con:\n",
    "        - H0 = {h0} y H1: {h1}\n",
    "        - t-student: {t_stat}\n",
    "        - {resultado}\"\"\")\n",
    "        \n",
    "        # Se calcula diferencia entre la media poblacional y H0\n",
    "        diferencia = media_poblacional - h0\n",
    "        print(f\"La diferencia entre la media poblacional y H0 es de: {round(diferencia, 2)}\")\n",
    "        \n",
    "        # Se calcula  el intervalo de confianza\n",
    "        a, b = stats.t.interval(\n",
    "            confidence=1-alpha,  # Nivel de confianza\n",
    "            df=len(df[variable]) - 1,  # Grados de libertad\n",
    "            loc=media_poblacional,  # Media poblacional\n",
    "            scale=stats.sem(df[variable])  # Error estándar de la media\n",
    "        )\n",
    "        \n",
    "        # Se calcula margen de error\n",
    "        error = round(b - media_poblacional, 2)\n",
    "        \n",
    "        print(f\"Con un nivel de significancia de {alpha}, y un margen de error de {error}, el intervalo de confianza va desde {round(a, 1)} hasta {round(b, 1)}.\")\n",
    "\n",
    "        if h0 < a or h0 > b:\n",
    "            print(f\"__________Valor de h0 está fuera de intervalo de confianza, por lo que se debería rechazar la hipótesis nula.\\n\")\n",
    "        else:\n",
    "            print(f\"__________Valor de h0 está dentro del intervalo de confianza, por lo que se debería NO rechazar la hipótesis nula.\\n\")\n",
    "        \n",
    "        i += 1\n",
    "        \n",
    "\n"
   ]
  },
  {
   "cell_type": "code",
   "execution_count": 64,
   "id": "eb1b994a",
   "metadata": {},
   "outputs": [
    {
     "name": "stdout",
     "output_type": "stream",
     "text": [
      "Media poblacional de la variable earn: 21147.3\n",
      "********\n",
      "Para la prueba de hipótesis 'earn' número 1, con:\n",
      "        - H0 = 20000 y H1: Media poblacional diferente a 20000\n",
      "        - t-student: -2.1380387085215293\n",
      "        - Con nivel de confianza de 97.0%, NO se rechaza la hipótesis nula.\n",
      "La diferencia entre la media poblacional y H0 es de: 1147.3\n",
      "Con un nivel de significancia de 0.03, y un margen de error de 1148.3, el intervalo de confianza va desde 19999.0 hasta 22295.6.\n",
      "__________Valor de h0 está dentro del intervalo de confianza, por lo que se debería NO rechazar la hipótesis nula.\n",
      "\n",
      "********\n",
      "Para la prueba de hipótesis 'earn' número 2, con:\n",
      "        - H0 = 35000 y H1: Media poblacional diferente a 35000\n",
      "        - t-student: -8.011771424240017\n",
      "        - Con nivel de confianza de 95.0%, se rechaza la hipótesis nula, a favor de una hipótesis alternativa.\n",
      "La diferencia entre la media poblacional y H0 es de: -13852.7\n",
      "Con un nivel de significancia de 0.05, y un margen de error de 1036.99, el intervalo de confianza va desde 20110.3 hasta 22184.3.\n",
      "__________Valor de h0 está fuera de intervalo de confianza, por lo que se debería rechazar la hipótesis nula.\n",
      "\n",
      "********\n",
      "Para la prueba de hipótesis 'earn' número 3, con:\n",
      "        - H0 = 25000 y H1: Media poblacional mayor a 25000\n",
      "        - t-student: -4.095949613761025\n",
      "        - Con nivel de confianza de 93.0%, NO se rechaza la hipótesis nula.\n",
      "La diferencia entre la media poblacional y H0 es de: -3852.7\n",
      "Con un nivel de significancia de 0.07, y un margen de error de 958.58, el intervalo de confianza va desde 20188.7 hasta 22105.9.\n",
      "__________Valor de h0 está fuera de intervalo de confianza, por lo que se debería rechazar la hipótesis nula.\n",
      "\n",
      "********\n",
      "Para la prueba de hipótesis 'earn' número 4, con:\n",
      "        - H0 = 32000 y H1: Media poblacional menor a 32000\n",
      "        - t-student: -6.837024881096319\n",
      "        - Con nivel de confianza de 91.0%, se rechaza la hipótesis nula, a favor de una hipótesis alternativa.\n",
      "La diferencia entre la media poblacional y H0 es de: -10852.7\n",
      "Con un nivel de significancia de 0.09, y un margen de error de 896.89, el intervalo de confianza va desde 20250.4 hasta 22044.2.\n",
      "__________Valor de h0 está fuera de intervalo de confianza, por lo que se debería rechazar la hipótesis nula.\n",
      "\n"
     ]
    }
   ],
   "source": [
    "comparacion_parametros_estimadores(df_earnings, 'earn', resultados_test_earn)"
   ]
  },
  {
   "cell_type": "markdown",
   "id": "1699e10d",
   "metadata": {},
   "source": [
    "    Todos los resultados coinciden, menos la prueba número 3, en donde NO se rechaza h0, pero luego aparece que SÍ se debería rechazar.Veeamos qué ocurre con las otras variables."
   ]
  },
  {
   "cell_type": "code",
   "execution_count": 65,
   "id": "f4291ef3",
   "metadata": {},
   "outputs": [
    {
     "name": "stdout",
     "output_type": "stream",
     "text": [
      "Media poblacional de la variable height: 66.57\n",
      "********\n",
      "Para la prueba de hipótesis 'height' número 1, con:\n",
      "        - H0 = 55 y H1: Media poblacional diferente a 55\n",
      "        - t-student: 17.64352905875293\n",
      "        - Con nivel de confianza de 97.0%, se rechaza la hipótesis nula, a favor de una hipótesis alternativa.\n",
      "La diferencia entre la media poblacional y H0 es de: 11.57\n",
      "Con un nivel de significancia de 0.03, y un margen de error de 0.2, el intervalo de confianza va desde 66.4 hasta 66.8.\n",
      "__________Valor de h0 está fuera de intervalo de confianza, por lo que se debería rechazar la hipótesis nula.\n",
      "\n",
      "********\n",
      "Para la prueba de hipótesis 'height' número 2, con:\n",
      "        - H0 = 68 y H1: Media poblacional diferente a 68\n",
      "        - t-student: -1.860372111637205\n",
      "        - Con nivel de confianza de 95.0%, NO se rechaza la hipótesis nula.\n",
      "La diferencia entre la media poblacional y H0 es de: -1.43\n",
      "Con un nivel de significancia de 0.05, y un margen de error de 0.18, el intervalo de confianza va desde 66.4 hasta 66.7.\n",
      "__________Valor de h0 está fuera de intervalo de confianza, por lo que se debería rechazar la hipótesis nula.\n",
      "\n",
      "********\n",
      "Para la prueba de hipótesis 'height' número 3, con:\n",
      "        - H0 = 63 y H1: Media poblacional mayor a 63\n",
      "        - t-student: 5.641128338512846\n",
      "        - Con nivel de confianza de 93.0%, se rechaza la hipótesis nula, a favor de una hipótesis alternativa.\n",
      "La diferencia entre la media poblacional y H0 es de: 3.57\n",
      "Con un nivel de significancia de 0.07, y un margen de error de 0.16, el intervalo de confianza va desde 66.4 hasta 66.7.\n",
      "__________Valor de h0 está fuera de intervalo de confianza, por lo que se debería rechazar la hipótesis nula.\n",
      "\n",
      "********\n",
      "Para la prueba de hipótesis 'height' número 4, con:\n",
      "        - H0 = 70 y H1: Media poblacional menor a 70\n",
      "        - t-student: -4.860972291697226\n",
      "        - Con nivel de confianza de 91.0%, se rechaza la hipótesis nula, a favor de una hipótesis alternativa.\n",
      "La diferencia entre la media poblacional y H0 es de: -3.43\n",
      "Con un nivel de significancia de 0.09, y un margen de error de 0.15, el intervalo de confianza va desde 66.4 hasta 66.7.\n",
      "__________Valor de h0 está fuera de intervalo de confianza, por lo que se debería rechazar la hipótesis nula.\n",
      "\n"
     ]
    }
   ],
   "source": [
    "comparacion_parametros_estimadores(df_earnings, 'height', resultados_test_height)"
   ]
  },
  {
   "cell_type": "code",
   "execution_count": 67,
   "id": "88d0ee7a",
   "metadata": {},
   "outputs": [
    {
     "name": "stdout",
     "output_type": "stream",
     "text": [
      "Media poblacional de la variable age: 42.93\n",
      "********\n",
      "Para la prueba de hipótesis 'age' número 1, con:\n",
      "        - H0 = 44 y H1: Media poblacional diferente a 44\n",
      "        - t-student: -1.3023984977655982\n",
      "        - Con nivel de confianza de 97.0%, NO se rechaza la hipótesis nula.\n",
      "La diferencia entre la media poblacional y H0 es de: -1.07\n",
      "Con un nivel de significancia de 0.03, y un margen de error de 0.87, el intervalo de confianza va desde 42.1 hasta 43.8.\n",
      "__________Valor de h0 está fuera de intervalo de confianza, por lo que se debería rechazar la hipótesis nula.\n",
      "\n",
      "********\n",
      "Para la prueba de hipótesis 'age' número 2, con:\n",
      "        - H0 = 56 y H1: Media poblacional diferente a 56\n",
      "        - t-student: -4.354894976903721\n",
      "        - Con nivel de confianza de 95.0%, se rechaza la hipótesis nula, a favor de una hipótesis alternativa.\n",
      "La diferencia entre la media poblacional y H0 es de: -13.07\n",
      "Con un nivel de significancia de 0.05, y un margen de error de 0.79, el intervalo de confianza va desde 42.1 hasta 43.7.\n",
      "__________Valor de h0 está fuera de intervalo de confianza, por lo que se debería rechazar la hipótesis nula.\n",
      "\n",
      "********\n",
      "Para la prueba de hipótesis 'age' número 3, con:\n",
      "        - H0 = 51 y H1: Media poblacional mayor a 51\n",
      "        - t-student: -3.0830214439295034\n",
      "        - Con nivel de confianza de 93.0%, NO se rechaza la hipótesis nula.\n",
      "La diferencia entre la media poblacional y H0 es de: -8.07\n",
      "Con un nivel de significancia de 0.07, y un margen de error de 0.73, el intervalo de confianza va desde 42.2 hasta 43.7.\n",
      "__________Valor de h0 está fuera de intervalo de confianza, por lo que se debería rechazar la hipótesis nula.\n",
      "\n",
      "********\n",
      "Para la prueba de hipótesis 'age' número 4, con:\n",
      "        - H0 = 62 y H1: Media poblacional menor a 62\n",
      "        - t-student: -5.881143216472783\n",
      "        - Con nivel de confianza de 91.0%, se rechaza la hipótesis nula, a favor de una hipótesis alternativa.\n",
      "La diferencia entre la media poblacional y H0 es de: -19.07\n",
      "Con un nivel de significancia de 0.09, y un margen de error de 0.68, el intervalo de confianza va desde 42.2 hasta 43.6.\n",
      "__________Valor de h0 está fuera de intervalo de confianza, por lo que se debería rechazar la hipótesis nula.\n",
      "\n"
     ]
    }
   ],
   "source": [
    "comparacion_parametros_estimadores(df_earnings, 'age', resultados_test_age)"
   ]
  },
  {
   "cell_type": "markdown",
   "id": "2193a2e1",
   "metadata": {},
   "source": [
    "    En esta última, no coincide ni la prueba 1 ni la 3"
   ]
  },
  {
   "cell_type": "markdown",
   "id": "19982c29",
   "metadata": {},
   "source": [
    "-\n",
    "-\n",
    "-\n",
    "___0___o___\n",
    "-\n",
    "-\n",
    "-"
   ]
  },
  {
   "cell_type": "markdown",
   "id": "f22289d9",
   "metadata": {},
   "source": [
    "#### 2. Crea una función que estime la proporción de hombres en el dataset, considerando una muestra de 50 individuos, con niveles de significancia de 0,05 y 0,01. Escribe con palabras tus resultados ejecutar la función e interpreta. Compara con la proporción real."
   ]
  },
  {
   "cell_type": "code",
   "execution_count": 22,
   "id": "c714d6c6",
   "metadata": {},
   "outputs": [
    {
     "name": "stdout",
     "output_type": "stream",
     "text": [
      "Proporción de hombres en la muestra (alpha=0.05): 0.3\n",
      "Proporción real de hombres en la población: 0.3716960352422907\n",
      "Resultado (alpha=0.05): Con nivel de confianza del 95.0%, se acepta la hipótesis nula\n",
      "Proporción de hombres en la muestra (alpha=0.01): 0.3\n",
      "Resultado (alpha=0.01): Con nivel de confianza del 99.0%, se acepta la hipótesis nula\n"
     ]
    }
   ],
   "source": [
    "def estimar_proporcion_hombres(data, n=50, alpha=0.05):\n",
    "    # Tomar una muestra de tamaño n\n",
    "    muestra = data['male'].sample(n=n, random_state=1)\n",
    "    \n",
    "    # Calcular la proporción de hombres en la muestra\n",
    "    proporcion_muestra = muestra.mean()\n",
    "    \n",
    "    # Calcular la proporción real de hombres en la población\n",
    "    proporcion_real = data['male'].mean()\n",
    "    \n",
    "    # Calcular el estadístico z\n",
    "    p_hat = proporcion_muestra\n",
    "    p = proporcion_real\n",
    "    z = (p_hat - p) / np.sqrt((p * (1 - p)) / n)\n",
    "    \n",
    "    # Calcular el valor crítico\n",
    "    z_critico = stats.norm.ppf(1 - alpha/2)\n",
    "    \n",
    "    # Determinar si se rechaza o no la hipótesis nula\n",
    "    if abs(z) > z_critico:\n",
    "        resultado = f\"Con nivel de confianza del {100*(1-alpha)}%, se rechaza la hipótesis nula\"\n",
    "    else:\n",
    "        resultado = f\"Con nivel de confianza del {100*(1-alpha)}%, se acepta la hipótesis nula\"\n",
    "    \n",
    "    return proporcion_muestra, proporcion_real, resultado\n",
    "\n",
    "# Aplicar la función con niveles de significancia de 0.05 y 0.01\n",
    "proporcion_muestra_005, proporcion_real, resultado_005 = estimar_proporcion_hombres(df_earnings, alpha=0.05)\n",
    "proporcion_muestra_001, _, resultado_001 = estimar_proporcion_hombres(df_earnings, alpha=0.01)\n",
    "\n",
    "# Mostrar los resultados\n",
    "print(f\"Proporción de hombres en la muestra (alpha=0.05): {proporcion_muestra_005}\")\n",
    "print(f\"Proporción real de hombres en la población: {proporcion_real}\")\n",
    "print(f\"Resultado (alpha=0.05): {resultado_005}\")\n",
    "\n",
    "print(f\"Proporción de hombres en la muestra (alpha=0.01): {proporcion_muestra_001}\")\n",
    "print(f\"Resultado (alpha=0.01): {resultado_001}\")"
   ]
  },
  {
   "cell_type": "markdown",
   "id": "9cce3263",
   "metadata": {},
   "source": [
    "-\n",
    "-\n",
    "-\n",
    "___0___o___\n",
    "-\n",
    "-\n",
    "-"
   ]
  },
  {
   "cell_type": "markdown",
   "id": "bf2d3102",
   "metadata": {},
   "source": [
    "#### 3. Considerando el dataset como una muestra, verifica si el género (male=1 significa ‘hombre”) influye sobre el sueldo “earn” de las personas. Explica y justifica tu procedimiento."
   ]
  },
  {
   "cell_type": "code",
   "execution_count": 72,
   "id": "b5daf069",
   "metadata": {},
   "outputs": [],
   "source": [
    "# Se separan las variables independientes en dos grupos: hombres y mujeres\n",
    "sueldo_hombres = df_earnings[df_earnings['male'] == 1]['earn']\n",
    "sueldo_mujeres = df_earnings[df_earnings['male'] == 0]['earn']\n"
   ]
  },
  {
   "cell_type": "code",
   "execution_count": 81,
   "id": "97425fa7",
   "metadata": {},
   "outputs": [
    {
     "data": {
      "text/plain": [
       "count       675.000000\n",
       "mean      30105.179259\n",
       "std       28851.517976\n",
       "min           0.000000\n",
       "25%       15000.000000\n",
       "50%       25000.000000\n",
       "75%       36000.000000\n",
       "max      400000.000000\n",
       "Name: earn, dtype: float64"
      ]
     },
     "execution_count": 81,
     "metadata": {},
     "output_type": "execute_result"
    }
   ],
   "source": [
    "sueldo_hombres.describe()"
   ]
  },
  {
   "cell_type": "code",
   "execution_count": 82,
   "id": "6f95e709",
   "metadata": {},
   "outputs": [
    {
     "data": {
      "text/plain": [
       "count      1141.000000\n",
       "mean      15847.935145\n",
       "std       15508.575961\n",
       "min           0.000000\n",
       "25%        5000.000000\n",
       "50%       15000.000000\n",
       "75%       24000.000000\n",
       "max      136500.000000\n",
       "Name: earn, dtype: float64"
      ]
     },
     "execution_count": 82,
     "metadata": {},
     "output_type": "execute_result"
    }
   ],
   "source": [
    "sueldo_mujeres.describe()"
   ]
  },
  {
   "cell_type": "code",
   "execution_count": 77,
   "id": "5038cd32",
   "metadata": {},
   "outputs": [
    {
     "name": "stdout",
     "output_type": "stream",
     "text": [
      "11.86459381795286\n",
      "2.7373648004575493e-30\n"
     ]
    }
   ],
   "source": [
    "# Se realiza una prueba t para muestras independientes\n",
    "t_stat, p_value = stats.ttest_ind(sueldo_hombres, sueldo_mujeres, equal_var=False)\n",
    "print(t_stat)\n",
    "print(p_value)"
   ]
  },
  {
   "cell_type": "code",
   "execution_count": 75,
   "id": "7db3c555",
   "metadata": {},
   "outputs": [],
   "source": [
    "# Nivel de significancia\n",
    "alpha = 0.05"
   ]
  },
  {
   "cell_type": "code",
   "execution_count": 78,
   "id": "8caa0fdc",
   "metadata": {},
   "outputs": [],
   "source": [
    "# Se interpretan los resultados\n",
    "if p_value < alpha:\n",
    "    resultado = f\"Con un nivel de significancia de {alpha}, se rechaza la hipótesis nula. Hay una diferencia significativa en los sueldos entre hombres y mujeres.\"\n",
    "else:\n",
    "    resultado = f\"Con un nivel de significancia de {alpha}, no se rechaza la hipótesis nula. No hay una diferencia significativa en los sueldos entre hombres y mujeres.\""
   ]
  },
  {
   "cell_type": "code",
   "execution_count": 80,
   "id": "7a6828c4",
   "metadata": {},
   "outputs": [
    {
     "name": "stdout",
     "output_type": "stream",
     "text": [
      "Estadístico t: 11.86459381795286\n",
      "Valor p: 2.7373648004575493e-30\n",
      "Con un nivel de significancia de 0.05, se rechaza la hipótesis nula. Hay una diferencia significativa en los sueldos entre hombres y mujeres.\n"
     ]
    }
   ],
   "source": [
    "# Se muestran los resultados\n",
    "print(f\"Estadístico t: {t_stat}\")\n",
    "print(f\"Valor p: {p_value}\")\n",
    "print(resultado)\n"
   ]
  },
  {
   "cell_type": "markdown",
   "id": "e9601c15",
   "metadata": {},
   "source": [
    "Explicación y justificación del procedimiento\n",
    "\n",
    "Para verificar si el género influye sobre el sueldo, se realizó una prueba t para muestras independientes.\n",
    "Esta prueba compara las medias de dos grupos independientes (hombres y mujeres) para determinar si hay una diferencia significativa entre ellas.\n",
    "\n",
    "Pasos realizados:\n",
    "1. Se separaron los datos en dos grupos: hombres y mujeres.\n",
    "2. Se realizó la prueba t para muestras independientes, asumiendo varianzas desiguales (equal_var=False).\n",
    "3. Se calculó el estadístico t y el valor p.\n",
    "4. Se comparó el valor p con el nivel de significancia (alpha = 0.05) para determinar si se rechaza o no la hipótesis nula.\n",
    "\n",
    "Esto dio como ressultado:\n",
    "con un nivel de significancia de 0.05, se rechaza la hipótesis nula. Esto indica que hay una diferencia significativa en los sueldos entre hombres y mujeres."
   ]
  },
  {
   "cell_type": "code",
   "execution_count": null,
   "id": "5fa21396",
   "metadata": {},
   "outputs": [],
   "source": []
  },
  {
   "cell_type": "markdown",
   "metadata": {},
   "source": [
    "-\n",
    "-\n",
    "-\n",
    "___0_FiN__o___\n",
    "-\n",
    "-\n",
    "-"
   ]
  },
  {
   "cell_type": "code",
   "execution_count": null,
   "metadata": {},
   "outputs": [],
   "source": []
  },
  {
   "cell_type": "markdown",
   "metadata": {},
   "source": [
    "### Requerimientos\n",
    "\n",
    "1. Realiza pruebas de hipótesis, considerando el enunciado de cada una y las implementa en Python mediante funciones (5 Puntos)\n",
    "\n",
    "2. Infiere sobre medias poblacionales y proporciones, interpretando error y significancia. (2 Puntos)\n",
    "\n",
    "3. Plantea, interpreta e implementa hipótesis de prueba para muestras independientes. (3 Puntos)"
   ]
  }
 ],
 "metadata": {
  "kernelspec": {
   "display_name": ".env-datascience",
   "language": "python",
   "name": "python3"
  },
  "language_info": {
   "codemirror_mode": {
    "name": "ipython",
    "version": 3
   },
   "file_extension": ".py",
   "mimetype": "text/x-python",
   "name": "python",
   "nbconvert_exporter": "python",
   "pygments_lexer": "ipython3",
   "version": "3.10.12"
  }
 },
 "nbformat": 4,
 "nbformat_minor": 5
}
