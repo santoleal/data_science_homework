{
 "cells": [
  {
   "cell_type": "markdown",
   "metadata": {},
   "source": [
    "# **DESAFÍO Nº5: INFERENCIA E HIPÓTESIS**\n",
    "### **Módulo 4: Análisis Estadístico con Python**\n",
    "#### *Carrera Data Science - G-93 - Desafio Latam*\n",
    "#### Estudiante: Felipe Leal Arancibia"
   ]
  },
  {
   "cell_type": "markdown",
   "metadata": {},
   "source": [
    "En este desafío validaremos nuestros conocimientos de estadística inferencial. Para lograrlo, realizarás inferencias y pruebas de hipótesis a partir de la base de datos\n",
    "earnings.csv.\n",
    "\n",
    "Lee todo el documento antes de comenzar el desarrollo individual, para asegurarte de tener el máximo de puntaje y enfocar bien los esfuerzos.\n",
    "\n",
    "Tiempo asociado: 2 horas cronológicas"
   ]
  },
  {
   "cell_type": "markdown",
   "metadata": {},
   "source": [
    "## Descripción\n",
    "\n",
    "#### Podemos registrar muchas características de una persona, y buscar ver si algunas influyen o no en otras. Realiza las siguientes actividades para verificarlo."
   ]
  },
  {
   "cell_type": "code",
   "execution_count": 1,
   "id": "f7c7412d",
   "metadata": {},
   "outputs": [],
   "source": [
    "# Primero importar todas las potenciales librería sa utilizar\n",
    "import pandas as pd\n",
    "import numpy as np\n",
    "import matplotlib.pyplot as plt\n",
    "import scipy.stats as stats\n"
   ]
  },
  {
   "cell_type": "markdown",
   "metadata": {},
   "source": [
    "#### 1. Considerando las variables earn, height y age, vamos a suponer que nuestro dataset fuera una población completa. (Prepara los datos adecuadamente)."
   ]
  },
  {
   "cell_type": "code",
   "execution_count": 4,
   "id": "93ff1ef2",
   "metadata": {},
   "outputs": [
    {
     "data": {
      "text/plain": [
       "(1816, 15)"
      ]
     },
     "execution_count": 4,
     "metadata": {},
     "output_type": "execute_result"
    }
   ],
   "source": [
    "\n",
    "# Cargamos el dataset\n",
    "df_earnings = pd.read_csv('earnings.csv')\n",
    "\n",
    "df_earnings.shape"
   ]
  },
  {
   "cell_type": "code",
   "execution_count": 5,
   "id": "43f244eb",
   "metadata": {},
   "outputs": [
    {
     "name": "stdout",
     "output_type": "stream",
     "text": [
      "<class 'pandas.core.frame.DataFrame'>\n",
      "RangeIndex: 1816 entries, 0 to 1815\n",
      "Data columns (total 15 columns):\n",
      " #   Column            Non-Null Count  Dtype  \n",
      "---  ------            --------------  -----  \n",
      " 0   height            1816 non-null   int64  \n",
      " 1   weight            1789 non-null   float64\n",
      " 2   male              1816 non-null   int64  \n",
      " 3   earn              1816 non-null   float64\n",
      " 4   earnk             1816 non-null   float64\n",
      " 5   ethnicity         1816 non-null   object \n",
      " 6   education         1814 non-null   float64\n",
      " 7   mother_education  1572 non-null   float64\n",
      " 8   father_education  1521 non-null   float64\n",
      " 9   walk              1816 non-null   int64  \n",
      " 10  exercise          1816 non-null   int64  \n",
      " 11  smokenow          1815 non-null   float64\n",
      " 12  tense             1815 non-null   float64\n",
      " 13  angry             1815 non-null   float64\n",
      " 14  age               1816 non-null   int64  \n",
      "dtypes: float64(9), int64(5), object(1)\n",
      "memory usage: 212.9+ KB\n"
     ]
    }
   ],
   "source": [
    "df_earnings.info()"
   ]
  },
  {
   "cell_type": "code",
   "execution_count": 6,
   "id": "933b4eef",
   "metadata": {},
   "outputs": [
    {
     "data": {
      "text/html": [
       "<div>\n",
       "<style scoped>\n",
       "    .dataframe tbody tr th:only-of-type {\n",
       "        vertical-align: middle;\n",
       "    }\n",
       "\n",
       "    .dataframe tbody tr th {\n",
       "        vertical-align: top;\n",
       "    }\n",
       "\n",
       "    .dataframe thead th {\n",
       "        text-align: right;\n",
       "    }\n",
       "</style>\n",
       "<table border=\"1\" class=\"dataframe\">\n",
       "  <thead>\n",
       "    <tr style=\"text-align: right;\">\n",
       "      <th></th>\n",
       "      <th>height</th>\n",
       "      <th>weight</th>\n",
       "      <th>male</th>\n",
       "      <th>earn</th>\n",
       "      <th>earnk</th>\n",
       "      <th>ethnicity</th>\n",
       "      <th>education</th>\n",
       "      <th>mother_education</th>\n",
       "      <th>father_education</th>\n",
       "      <th>walk</th>\n",
       "      <th>exercise</th>\n",
       "      <th>smokenow</th>\n",
       "      <th>tense</th>\n",
       "      <th>angry</th>\n",
       "      <th>age</th>\n",
       "    </tr>\n",
       "  </thead>\n",
       "  <tbody>\n",
       "    <tr>\n",
       "      <th>1813</th>\n",
       "      <td>72</td>\n",
       "      <td>194.0</td>\n",
       "      <td>1</td>\n",
       "      <td>60000.0</td>\n",
       "      <td>60.0</td>\n",
       "      <td>White</td>\n",
       "      <td>12.0</td>\n",
       "      <td>12.0</td>\n",
       "      <td>12.0</td>\n",
       "      <td>2</td>\n",
       "      <td>1</td>\n",
       "      <td>2.0</td>\n",
       "      <td>0.0</td>\n",
       "      <td>0.0</td>\n",
       "      <td>50</td>\n",
       "    </tr>\n",
       "    <tr>\n",
       "      <th>1814</th>\n",
       "      <td>63</td>\n",
       "      <td>155.0</td>\n",
       "      <td>0</td>\n",
       "      <td>15000.0</td>\n",
       "      <td>15.0</td>\n",
       "      <td>Other</td>\n",
       "      <td>14.0</td>\n",
       "      <td>14.0</td>\n",
       "      <td>14.0</td>\n",
       "      <td>6</td>\n",
       "      <td>1</td>\n",
       "      <td>2.0</td>\n",
       "      <td>2.0</td>\n",
       "      <td>2.0</td>\n",
       "      <td>69</td>\n",
       "    </tr>\n",
       "    <tr>\n",
       "      <th>1815</th>\n",
       "      <td>68</td>\n",
       "      <td>150.0</td>\n",
       "      <td>1</td>\n",
       "      <td>6000.0</td>\n",
       "      <td>6.0</td>\n",
       "      <td>White</td>\n",
       "      <td>12.0</td>\n",
       "      <td>12.0</td>\n",
       "      <td>12.0</td>\n",
       "      <td>1</td>\n",
       "      <td>6</td>\n",
       "      <td>1.0</td>\n",
       "      <td>2.0</td>\n",
       "      <td>2.0</td>\n",
       "      <td>27</td>\n",
       "    </tr>\n",
       "  </tbody>\n",
       "</table>\n",
       "</div>"
      ],
      "text/plain": [
       "      height  weight  male     earn  earnk ethnicity  education  \\\n",
       "1813      72   194.0     1  60000.0   60.0     White       12.0   \n",
       "1814      63   155.0     0  15000.0   15.0     Other       14.0   \n",
       "1815      68   150.0     1   6000.0    6.0     White       12.0   \n",
       "\n",
       "      mother_education  father_education  walk  exercise  smokenow  tense  \\\n",
       "1813              12.0              12.0     2         1       2.0    0.0   \n",
       "1814              14.0              14.0     6         1       2.0    2.0   \n",
       "1815              12.0              12.0     1         6       1.0    2.0   \n",
       "\n",
       "      angry  age  \n",
       "1813    0.0   50  \n",
       "1814    2.0   69  \n",
       "1815    2.0   27  "
      ]
     },
     "execution_count": 6,
     "metadata": {},
     "output_type": "execute_result"
    }
   ],
   "source": [
    "df_earnings.tail(3)"
   ]
  },
  {
   "cell_type": "code",
   "execution_count": 7,
   "id": "882c8907",
   "metadata": {},
   "outputs": [
    {
     "data": {
      "text/plain": [
       "father_education    295\n",
       "mother_education    244\n",
       "weight               27\n",
       "education             2\n",
       "tense                 1\n",
       "smokenow              1\n",
       "angry                 1\n",
       "ethnicity             0\n",
       "earnk                 0\n",
       "earn                  0\n",
       "male                  0\n",
       "height                0\n",
       "walk                  0\n",
       "exercise              0\n",
       "age                   0\n",
       "dtype: int64"
      ]
     },
     "execution_count": 7,
     "metadata": {},
     "output_type": "execute_result"
    }
   ],
   "source": [
    "# Evalúo ahora cuántos valores nulos hay, y los ordeno\n",
    "\n",
    "df_earnings.apply(lambda x: sum(x.isnull()), axis=0).sort_values(ascending=False)\n",
    "\n"
   ]
  },
  {
   "cell_type": "code",
   "execution_count": 8,
   "id": "99cb16db",
   "metadata": {},
   "outputs": [],
   "source": [
    "# función para contar y listar los valores nulos de una columna\n",
    "def listar_nulos(df, columna):\n",
    "\n",
    "    datos_nulos = df[columna].isnull()\n",
    "    cantidad_nulos = datos_nulos.sum()\n",
    "    porcentaje_nulos = round(cantidad_nulos / len(df[columna]) * 100, 2)\n",
    "\n",
    "    return f\"Nombre columna: '{columna}'; Cantidad de nulos: {cantidad_nulos}; Porcentaje de nulos en columna: {porcentaje_nulos}%\""
   ]
  },
  {
   "cell_type": "code",
   "execution_count": 9,
   "id": "05a83aba",
   "metadata": {},
   "outputs": [
    {
     "data": {
      "text/plain": [
       "\"Nombre columna: 'father_education'; Cantidad de nulos: 295; Porcentaje de nulos en columna: 16.24%\""
      ]
     },
     "execution_count": 9,
     "metadata": {},
     "output_type": "execute_result"
    }
   ],
   "source": [
    "listar_nulos(df_earnings, 'father_education')"
   ]
  },
  {
   "cell_type": "markdown",
   "id": "b0352935",
   "metadata": {},
   "source": [
    "Esa columna 'father_education' es la que más valores nulos tiene, y representa a menos de 1/5 de la muestra. Lo dejaré con valores nan por ahora, hasta que se necesite relizar acción distinta."
   ]
  },
  {
   "cell_type": "code",
   "execution_count": 12,
   "id": "47bbeb3b",
   "metadata": {},
   "outputs": [
    {
     "data": {
      "text/html": [
       "<div>\n",
       "<style scoped>\n",
       "    .dataframe tbody tr th:only-of-type {\n",
       "        vertical-align: middle;\n",
       "    }\n",
       "\n",
       "    .dataframe tbody tr th {\n",
       "        vertical-align: top;\n",
       "    }\n",
       "\n",
       "    .dataframe thead th {\n",
       "        text-align: right;\n",
       "    }\n",
       "</style>\n",
       "<table border=\"1\" class=\"dataframe\">\n",
       "  <thead>\n",
       "    <tr style=\"text-align: right;\">\n",
       "      <th></th>\n",
       "      <th>height</th>\n",
       "      <th>weight</th>\n",
       "      <th>male</th>\n",
       "      <th>earn</th>\n",
       "      <th>earnk</th>\n",
       "      <th>education</th>\n",
       "      <th>mother_education</th>\n",
       "      <th>father_education</th>\n",
       "      <th>walk</th>\n",
       "      <th>exercise</th>\n",
       "      <th>smokenow</th>\n",
       "      <th>tense</th>\n",
       "      <th>angry</th>\n",
       "      <th>age</th>\n",
       "    </tr>\n",
       "  </thead>\n",
       "  <tbody>\n",
       "    <tr>\n",
       "      <th>count</th>\n",
       "      <td>1816.0</td>\n",
       "      <td>1789.0</td>\n",
       "      <td>1816.0</td>\n",
       "      <td>1816.0</td>\n",
       "      <td>1816.0</td>\n",
       "      <td>1814.0</td>\n",
       "      <td>1572.0</td>\n",
       "      <td>1521.0</td>\n",
       "      <td>1816.0</td>\n",
       "      <td>1816.0</td>\n",
       "      <td>1815.0</td>\n",
       "      <td>1815.0</td>\n",
       "      <td>1815.0</td>\n",
       "      <td>1816.0</td>\n",
       "    </tr>\n",
       "    <tr>\n",
       "      <th>mean</th>\n",
       "      <td>66.6</td>\n",
       "      <td>156.3</td>\n",
       "      <td>0.4</td>\n",
       "      <td>21147.3</td>\n",
       "      <td>21.1</td>\n",
       "      <td>13.2</td>\n",
       "      <td>13.6</td>\n",
       "      <td>13.7</td>\n",
       "      <td>5.3</td>\n",
       "      <td>3.0</td>\n",
       "      <td>1.7</td>\n",
       "      <td>1.4</td>\n",
       "      <td>1.4</td>\n",
       "      <td>42.9</td>\n",
       "    </tr>\n",
       "    <tr>\n",
       "      <th>std</th>\n",
       "      <td>3.8</td>\n",
       "      <td>34.6</td>\n",
       "      <td>0.5</td>\n",
       "      <td>22531.8</td>\n",
       "      <td>22.5</td>\n",
       "      <td>2.6</td>\n",
       "      <td>3.2</td>\n",
       "      <td>3.3</td>\n",
       "      <td>2.6</td>\n",
       "      <td>2.3</td>\n",
       "      <td>0.4</td>\n",
       "      <td>2.2</td>\n",
       "      <td>2.2</td>\n",
       "      <td>17.2</td>\n",
       "    </tr>\n",
       "    <tr>\n",
       "      <th>min</th>\n",
       "      <td>57.0</td>\n",
       "      <td>80.0</td>\n",
       "      <td>0.0</td>\n",
       "      <td>0.0</td>\n",
       "      <td>0.0</td>\n",
       "      <td>2.0</td>\n",
       "      <td>3.0</td>\n",
       "      <td>3.0</td>\n",
       "      <td>1.0</td>\n",
       "      <td>1.0</td>\n",
       "      <td>1.0</td>\n",
       "      <td>0.0</td>\n",
       "      <td>0.0</td>\n",
       "      <td>18.0</td>\n",
       "    </tr>\n",
       "    <tr>\n",
       "      <th>25%</th>\n",
       "      <td>64.0</td>\n",
       "      <td>130.0</td>\n",
       "      <td>0.0</td>\n",
       "      <td>6000.0</td>\n",
       "      <td>6.0</td>\n",
       "      <td>12.0</td>\n",
       "      <td>12.0</td>\n",
       "      <td>12.0</td>\n",
       "      <td>3.0</td>\n",
       "      <td>1.0</td>\n",
       "      <td>1.0</td>\n",
       "      <td>0.0</td>\n",
       "      <td>0.0</td>\n",
       "      <td>29.0</td>\n",
       "    </tr>\n",
       "    <tr>\n",
       "      <th>50%</th>\n",
       "      <td>66.0</td>\n",
       "      <td>150.0</td>\n",
       "      <td>0.0</td>\n",
       "      <td>16000.0</td>\n",
       "      <td>16.0</td>\n",
       "      <td>12.0</td>\n",
       "      <td>13.0</td>\n",
       "      <td>13.0</td>\n",
       "      <td>6.0</td>\n",
       "      <td>2.0</td>\n",
       "      <td>2.0</td>\n",
       "      <td>0.0</td>\n",
       "      <td>0.0</td>\n",
       "      <td>39.0</td>\n",
       "    </tr>\n",
       "    <tr>\n",
       "      <th>75%</th>\n",
       "      <td>69.2</td>\n",
       "      <td>180.0</td>\n",
       "      <td>1.0</td>\n",
       "      <td>27000.0</td>\n",
       "      <td>27.0</td>\n",
       "      <td>15.0</td>\n",
       "      <td>16.0</td>\n",
       "      <td>16.0</td>\n",
       "      <td>8.0</td>\n",
       "      <td>5.0</td>\n",
       "      <td>2.0</td>\n",
       "      <td>2.0</td>\n",
       "      <td>2.0</td>\n",
       "      <td>56.0</td>\n",
       "    </tr>\n",
       "    <tr>\n",
       "      <th>max</th>\n",
       "      <td>82.0</td>\n",
       "      <td>342.0</td>\n",
       "      <td>1.0</td>\n",
       "      <td>400000.0</td>\n",
       "      <td>400.0</td>\n",
       "      <td>18.0</td>\n",
       "      <td>99.0</td>\n",
       "      <td>99.0</td>\n",
       "      <td>8.0</td>\n",
       "      <td>7.0</td>\n",
       "      <td>2.0</td>\n",
       "      <td>7.0</td>\n",
       "      <td>7.0</td>\n",
       "      <td>91.0</td>\n",
       "    </tr>\n",
       "  </tbody>\n",
       "</table>\n",
       "</div>"
      ],
      "text/plain": [
       "       height  weight    male      earn   earnk  education  mother_education  \\\n",
       "count  1816.0  1789.0  1816.0    1816.0  1816.0     1814.0            1572.0   \n",
       "mean     66.6   156.3     0.4   21147.3    21.1       13.2              13.6   \n",
       "std       3.8    34.6     0.5   22531.8    22.5        2.6               3.2   \n",
       "min      57.0    80.0     0.0       0.0     0.0        2.0               3.0   \n",
       "25%      64.0   130.0     0.0    6000.0     6.0       12.0              12.0   \n",
       "50%      66.0   150.0     0.0   16000.0    16.0       12.0              13.0   \n",
       "75%      69.2   180.0     1.0   27000.0    27.0       15.0              16.0   \n",
       "max      82.0   342.0     1.0  400000.0   400.0       18.0              99.0   \n",
       "\n",
       "       father_education    walk  exercise  smokenow   tense   angry     age  \n",
       "count            1521.0  1816.0    1816.0    1815.0  1815.0  1815.0  1816.0  \n",
       "mean               13.7     5.3       3.0       1.7     1.4     1.4    42.9  \n",
       "std                 3.3     2.6       2.3       0.4     2.2     2.2    17.2  \n",
       "min                 3.0     1.0       1.0       1.0     0.0     0.0    18.0  \n",
       "25%                12.0     3.0       1.0       1.0     0.0     0.0    29.0  \n",
       "50%                13.0     6.0       2.0       2.0     0.0     0.0    39.0  \n",
       "75%                16.0     8.0       5.0       2.0     2.0     2.0    56.0  \n",
       "max                99.0     8.0       7.0       2.0     7.0     7.0    91.0  "
      ]
     },
     "execution_count": 12,
     "metadata": {},
     "output_type": "execute_result"
    }
   ],
   "source": [
    "round(df_earnings.describe(),1)"
   ]
  },
  {
   "cell_type": "markdown",
   "id": "b53b907e",
   "metadata": {},
   "source": [
    "Allí se puede ver el cuadro síntesis de nuestra  \"polación completa\", a tener en cuenta en pasos siguientes."
   ]
  },
  {
   "cell_type": "markdown",
   "id": "0015bea4",
   "metadata": {},
   "source": [
    "##### a. Realiza 5 pruebas con muestras de tamaño n = 25, en cada caso, con niveles de significancia diferentes pero inferiores a 0,1, para confirmar o rechazar las siguientes hipótesis considerando las alternativas. Crea para ello una fórmula que reciba los parámetros adecuados y responda \"con nivel de confianza del ...%, se acepta la hipótesis nula/alternativa\".\n",
    "\n",
    "earn                        height                  age\n",
    "H0: x = 20000        |       H0: x = 55       |       H0: x = 44\n",
    "H1: x ≠ 20000        |       H1: x ≠ 55       |       H1: x ≠ 44\n",
    "\n",
    "H0: x = 35000        |       H0: x = 68        |      H0: x = 56\n",
    "H1: x ≠ 35000        |       H1: x ≠ 68        |      H1: x ≠ 56\n",
    "\n",
    "H0: x = 25000        |       H0: x = 63        |      H0: x = 51\n",
    "H1: x > 25000        |       H1: x > 63        |      H1: x > 51\n",
    "\n",
    "H0: x = 32000        |       H0: x = 70        |      H0: x = 62\n",
    "H1: x < 32000        |       H1: x < 70        |      H1: x < 62"
   ]
  },
  {
   "cell_type": "code",
   "execution_count": 22,
   "id": "a579e66c",
   "metadata": {},
   "outputs": [
    {
     "name": "stdout",
     "output_type": "stream",
     "text": [
      "Hipótesis 1: Con nivel de confianza del 95.0%, se rechaza la hipótesis nula\n",
      "Hipótesis 2: Con nivel de confianza del 95.0%, se rechaza la hipótesis nula\n",
      "Hipótesis 3: Con nivel de confianza del 95.0%, se acepta la hipótesis nula\n",
      "Hipótesis 4: Con nivel de confianza del 99.0%, se rechaza la hipótesis nula\n",
      "Hipótesis 5: Con nivel de confianza del 99.0%, se acepta la hipótesis nula\n"
     ]
    }
   ],
   "source": [
    "def prueba_hipotesis(data, variable, h0, h1, alpha):\n",
    "    # Tomar una muestra de tamaño n=25\n",
    "    muestra = data[variable].sample(n=25, random_state=1)\n",
    "    \n",
    "    # Calcular la media y el estadístico t\n",
    "    media_muestra = muestra.mean()\n",
    "    estadistico_t = (media_muestra - h0) / (muestra.std(ddof=1) / np.sqrt(len(muestra)))\n",
    "    \n",
    "    # Calcular el valor crítico\n",
    "    valor_critico = stats.t.ppf(1 - alpha/2, df=len(muestra)-1)\n",
    "    \n",
    "    # Determinar si se rechaza o no la hipótesis nula\n",
    "    if abs(estadistico_t) > valor_critico:\n",
    "        resultado = f\"Con nivel de confianza del {100*(1-alpha)}%, se rechaza la hipótesis nula\"\n",
    "    else:\n",
    "        resultado = f\"Con nivel de confianza del {100*(1-alpha)}%, se acepta la hipótesis nula\"\n",
    "    \n",
    "    return resultado\n",
    "\n",
    "# Definir las hipótesis y niveles de significancia\n",
    "hipotesis = [\n",
    "    ('earn', 20000, 'x ≠ 20000', 0.05),\n",
    "    ('height', 55, 'x ≠ 55', 0.05),\n",
    "    ('age', 44, 'x ≠ 44', 0.05),\n",
    "    ('earn', 35000, 'x ≠ 35000', 0.01),\n",
    "    ('height', 68, 'x ≠ 68', 0.01)\n",
    "]\n",
    "\n",
    "# Aplicar la función a cada hipótesis\n",
    "resultados = [prueba_hipotesis(df_earnings, var, h0, h1, alpha) for var, h0, h1, alpha in hipotesis]\n",
    "\n",
    "# Mostrar los resultados\n",
    "for i, resultado in enumerate(resultados):\n",
    "    print(f\"Hipótesis {i+1}: {resultado}\")"
   ]
  },
  {
   "cell_type": "code",
   "execution_count": null,
   "id": "cf1f570c",
   "metadata": {},
   "outputs": [],
   "source": []
  },
  {
   "cell_type": "code",
   "execution_count": null,
   "id": "478ec384",
   "metadata": {},
   "outputs": [],
   "source": []
  },
  {
   "cell_type": "markdown",
   "id": "623a8ebd",
   "metadata": {},
   "source": [
    "##### b. Calcula la media poblacional para cada variable. ¿Son correctos los resultados obtenidos por tus pruebas?"
   ]
  },
  {
   "cell_type": "code",
   "execution_count": 14,
   "id": "986bbb4e",
   "metadata": {},
   "outputs": [
    {
     "name": "stdout",
     "output_type": "stream",
     "text": [
      "Media poblacional de 'earn': 21147.296255506608\n",
      "Media poblacional de 'height': 66.56883259911895\n",
      "Media poblacional de 'age': 42.934471365638764\n"
     ]
    }
   ],
   "source": [
    "# Calcular la media poblacional para cada variable\n",
    "media_earn = df_earnings['earn'].mean()\n",
    "media_height = df_earnings['height'].mean()\n",
    "media_age = df_earnings['age'].mean()\n",
    "\n",
    "# Mostrar los resultados\n",
    "print(f\"Media poblacional de 'earn': {media_earn}\")\n",
    "print(f\"Media poblacional de 'height': {media_height}\")\n",
    "print(f\"Media poblacional de 'age': {media_age}\")"
   ]
  },
  {
   "cell_type": "markdown",
   "id": "19982c29",
   "metadata": {},
   "source": [
    "-\n",
    "-\n",
    "-\n",
    "___0___o___\n",
    "-\n",
    "-\n",
    "-"
   ]
  },
  {
   "cell_type": "markdown",
   "id": "f22289d9",
   "metadata": {},
   "source": [
    "#### 2. Crea una función que estime la proporción de hombres en el dataset, considerando una muestra de 50 individuos, con niveles de significancia de 0,05 y 0,01. Escribe con palabras tus resultados ejecutar la función e interpreta. Compara con la proporción real."
   ]
  },
  {
   "cell_type": "code",
   "execution_count": 15,
   "id": "c714d6c6",
   "metadata": {},
   "outputs": [
    {
     "name": "stdout",
     "output_type": "stream",
     "text": [
      "Proporción de hombres en la muestra (alpha=0.05): 0.3\n",
      "Proporción real de hombres en la población: 0.3716960352422907\n",
      "Resultado (alpha=0.05): Con nivel de confianza del 95.0%, se acepta la hipótesis nula\n",
      "Proporción de hombres en la muestra (alpha=0.01): 0.3\n",
      "Resultado (alpha=0.01): Con nivel de confianza del 99.0%, se acepta la hipótesis nula\n"
     ]
    }
   ],
   "source": [
    "def estimar_proporcion_hombres(data, n=50, alpha=0.05):\n",
    "    # Tomar una muestra de tamaño n\n",
    "    muestra = data['male'].sample(n=n, random_state=1)\n",
    "    \n",
    "    # Calcular la proporción de hombres en la muestra\n",
    "    proporcion_muestra = muestra.mean()\n",
    "    \n",
    "    # Calcular la proporción real de hombres en la población\n",
    "    proporcion_real = data['male'].mean()\n",
    "    \n",
    "    # Calcular el estadístico z\n",
    "    p_hat = proporcion_muestra\n",
    "    p = proporcion_real\n",
    "    z = (p_hat - p) / np.sqrt((p * (1 - p)) / n)\n",
    "    \n",
    "    # Calcular el valor crítico\n",
    "    z_critico = stats.norm.ppf(1 - alpha/2)\n",
    "    \n",
    "    # Determinar si se rechaza o no la hipótesis nula\n",
    "    if abs(z) > z_critico:\n",
    "        resultado = f\"Con nivel de confianza del {100*(1-alpha)}%, se rechaza la hipótesis nula\"\n",
    "    else:\n",
    "        resultado = f\"Con nivel de confianza del {100*(1-alpha)}%, se acepta la hipótesis nula\"\n",
    "    \n",
    "    return proporcion_muestra, proporcion_real, resultado\n",
    "\n",
    "# Aplicar la función con niveles de significancia de 0.05 y 0.01\n",
    "proporcion_muestra_005, proporcion_real, resultado_005 = estimar_proporcion_hombres(df_earnings, alpha=0.05)\n",
    "proporcion_muestra_001, _, resultado_001 = estimar_proporcion_hombres(df_earnings, alpha=0.01)\n",
    "\n",
    "# Mostrar los resultados\n",
    "print(f\"Proporción de hombres en la muestra (alpha=0.05): {proporcion_muestra_005}\")\n",
    "print(f\"Proporción real de hombres en la población: {proporcion_real}\")\n",
    "print(f\"Resultado (alpha=0.05): {resultado_005}\")\n",
    "\n",
    "print(f\"Proporción de hombres en la muestra (alpha=0.01): {proporcion_muestra_001}\")\n",
    "print(f\"Resultado (alpha=0.01): {resultado_001}\")"
   ]
  },
  {
   "cell_type": "markdown",
   "id": "9cce3263",
   "metadata": {},
   "source": [
    "-\n",
    "-\n",
    "-\n",
    "___0___o___\n",
    "-\n",
    "-\n",
    "-"
   ]
  },
  {
   "cell_type": "markdown",
   "id": "bf2d3102",
   "metadata": {},
   "source": [
    "#### 3. Considerando el dataset como una muestra, verifica si el género (male=1 significa ‘hombre”) influye sobre el sueldo “earn” de las personas. Explica y justifica tu procedimiento."
   ]
  },
  {
   "cell_type": "code",
   "execution_count": 21,
   "id": "1e07ccbd",
   "metadata": {
    "vscode": {
     "languageId": "markdown"
    }
   },
   "outputs": [
    {
     "name": "stdout",
     "output_type": "stream",
     "text": [
      "Estadístico t: 11.86459381795286\n",
      "Valor p: 2.7373648004575493e-30\n",
      "Con un nivel de significancia de 0.05, se rechaza la hipótesis nula. Hay una diferencia significativa en los sueldos entre hombres y mujeres.\n"
     ]
    }
   ],
   "source": [
    "# Separar los datos en dos grupos: hombres y mujeres\n",
    "sueldo_hombres = df_earnings[df_earnings['male'] == 1]['earn']\n",
    "sueldo_mujeres = df_earnings[df_earnings['male'] == 0]['earn']\n",
    "\n",
    "# Realizar la prueba t para muestras independientes\n",
    "t_stat, p_value = stats.ttest_ind(sueldo_hombres, sueldo_mujeres, equal_var=False)\n",
    "\n",
    "# Nivel de significancia\n",
    "alpha = 0.05\n",
    "\n",
    "# Interpretar los resultados\n",
    "if p_value < alpha:\n",
    "    resultado = f\"Con un nivel de significancia de {alpha}, se rechaza la hipótesis nula. Hay una diferencia significativa en los sueldos entre hombres y mujeres.\"\n",
    "else:\n",
    "    resultado = f\"Con un nivel de significancia de {alpha}, no se rechaza la hipótesis nula. No hay una diferencia significativa en los sueldos entre hombres y mujeres.\"\n",
    "\n",
    "# Mostrar los resultados\n",
    "print(f\"Estadístico t: {t_stat}\")\n",
    "print(f\"Valor p: {p_value}\")\n",
    "print(resultado)\n",
    "# Explicación y justificación del procedimiento\n",
    "# \n",
    "# Para verificar si el género influye sobre el sueldo, se realizó una prueba t para muestras independientes.\n",
    "# Esta prueba compara las medias de dos grupos independientes (hombres y mujeres) para determinar si hay una diferencia significativa entre ellas.\n",
    "# \n",
    "# Pasos realizados:\n",
    "# 1. Se separaron los datos en dos grupos: hombres y mujeres.\n",
    "# 2. Se realizó la prueba t para muestras independientes, asumiendo varianzas desiguales (equal_var=False).\n",
    "# 3. Se calculó el estadístico t y el valor p.\n",
    "# 4. Se comparó el valor p con el nivel de significancia (alpha = 0.05) para determinar si se rechaza o no la hipótesis nula.\n",
    "# \n",
    "# Resultado:\n",
    "# Con un nivel de significancia de 0.05, se rechaza la hipótesis nula. Esto indica que hay una diferencia significativa en los sueldos entre hombres y mujeres."
   ]
  },
  {
   "cell_type": "code",
   "execution_count": null,
   "id": "5fa21396",
   "metadata": {},
   "outputs": [],
   "source": []
  },
  {
   "cell_type": "markdown",
   "metadata": {},
   "source": [
    "-\n",
    "-\n",
    "-\n",
    "___0_FiN__o___\n",
    "-\n",
    "-\n",
    "-"
   ]
  },
  {
   "cell_type": "code",
   "execution_count": null,
   "metadata": {},
   "outputs": [],
   "source": []
  },
  {
   "cell_type": "markdown",
   "metadata": {},
   "source": [
    "### Requerimientos\n",
    "\n",
    "1. Realiza pruebas de hipótesis, considerando el enunciado de cada una y las implementa en Python mediante funciones (5 Puntos)\n",
    "\n",
    "2. Infiere sobre medias poblacionales y proporciones, interpretando error y significancia. (2 Puntos)\n",
    "\n",
    "3. Plantea, interpreta e implementa hipótesis de prueba para muestras independientes. (3 Puntos)"
   ]
  }
 ],
 "metadata": {
  "kernelspec": {
   "display_name": ".env-datascience",
   "language": "python",
   "name": "python3"
  },
  "language_info": {
   "codemirror_mode": {
    "name": "ipython",
    "version": 3
   },
   "file_extension": ".py",
   "mimetype": "text/x-python",
   "name": "python",
   "nbconvert_exporter": "python",
   "pygments_lexer": "ipython3",
   "version": "3.10.12"
  }
 },
 "nbformat": 4,
 "nbformat_minor": 5
}
