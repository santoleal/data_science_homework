{
 "cells": [
  {
   "cell_type": "markdown",
   "metadata": {},
   "source": [
    "# **DESAFÍO Nº5: INFERENCIA E HIPÓTESIS**\n",
    "### **Módulo 4: Análisis Estadístico con Python**\n",
    "#### *Carrera Data Science - G-68 - Desafio Latam*\n",
    "#### Estudiante: Felipe Leal Arancibia"
   ]
  },
  {
   "cell_type": "markdown",
   "metadata": {},
   "source": [
    "En este desafío validaremos nuestros conocimientos de estadística inferencial. Para lograrlo, realizarás inferencias y pruebas de hipótesis a partir de la base de datos\n",
    "earnings.csv.\n",
    "\n",
    "Lee todo el documento antes de comenzar el desarrollo individual, para asegurarte de tener el máximo de puntaje y enfocar bien los esfuerzos.\n",
    "\n",
    "Tiempo asociado: 2 horas cronológicas"
   ]
  },
  {
   "cell_type": "markdown",
   "metadata": {},
   "source": [
    "## Descripción\n",
    "\n",
    "#### Podemos registrar muchas características de una persona, y buscar ver si algunas influyen o no en otras. Realiza las siguientes actividades para verificarlo."
   ]
  },
  {
   "cell_type": "code",
   "execution_count": 1,
   "id": "f7c7412d",
   "metadata": {},
   "outputs": [],
   "source": [
    "# Primero importar todas las potenciales librería sa utilizar\n",
    "import pandas as pd\n",
    "import numpy as np\n",
    "import matplotlib.pyplot as plt\n",
    "import scipy.stats as stats\n"
   ]
  },
  {
   "cell_type": "markdown",
   "metadata": {},
   "source": [
    "#### 1. Considerando las variables earn, height y age, vamos a suponer que nuestro dataset fuera una población completa. (Prepara los datos adecuadamente)."
   ]
  },
  {
   "cell_type": "code",
   "execution_count": 5,
   "id": "93ff1ef2",
   "metadata": {},
   "outputs": [
    {
     "name": "stdout",
     "output_type": "stream",
     "text": [
      "<class 'pandas.core.frame.DataFrame'>\n",
      "RangeIndex: 1816 entries, 0 to 1815\n",
      "Data columns (total 15 columns):\n",
      " #   Column            Non-Null Count  Dtype  \n",
      "---  ------            --------------  -----  \n",
      " 0   height            1816 non-null   int64  \n",
      " 1   weight            1789 non-null   float64\n",
      " 2   male              1816 non-null   int64  \n",
      " 3   earn              1816 non-null   float64\n",
      " 4   earnk             1816 non-null   float64\n",
      " 5   ethnicity         1816 non-null   object \n",
      " 6   education         1814 non-null   float64\n",
      " 7   mother_education  1572 non-null   float64\n",
      " 8   father_education  1521 non-null   float64\n",
      " 9   walk              1816 non-null   int64  \n",
      " 10  exercise          1816 non-null   int64  \n",
      " 11  smokenow          1815 non-null   float64\n",
      " 12  tense             1815 non-null   float64\n",
      " 13  angry             1815 non-null   float64\n",
      " 14  age               1816 non-null   int64  \n",
      "dtypes: float64(9), int64(5), object(1)\n",
      "memory usage: 212.9+ KB\n"
     ]
    }
   ],
   "source": [
    "# 1. Considerando las variables earn, height y age, vamos a suponer que nuestro dataset fuera una población completa. (Prepara los datos adecuadamente).\n",
    "\n",
    "# Cargamos el dataset\n",
    "df_earnings = pd.read_csv('earnings.csv')\n",
    "\n",
    "df_earnings.info()"
   ]
  },
  {
   "cell_type": "code",
   "execution_count": null,
   "id": "882c8907",
   "metadata": {},
   "outputs": [],
   "source": [
    "\n",
    "\n"
   ]
  },
  {
   "cell_type": "markdown",
   "id": "0015bea4",
   "metadata": {},
   "source": [
    "##### a. Realiza 5 pruebas con muestras de tamaño n = 25, en cada caso, con niveles de significancia diferentes pero inferiores a 0,1, para confirmar o rechazar las siguientes hipótesis considerando las alternativas. Crea para ello una fórmula que reciba los parámetros adecuados y responda \"con nivel de confianza del ...%, se acepta la hipótesis nula/alternativa\".\n",
    "\n",
    "earn                        height                  age\n",
    "H0: x = 20000        |       H0: x = 55       |       H0: x = 44\n",
    "H1: x ≠ 20000        |       H1: x ≠ 55       |       H1: x ≠ 44\n",
    "\n",
    "H0: x = 35000        |       H0: x = 68        |      H0: x = 56\n",
    "H1: x ≠ 35000        |       H1: x ≠ 68        |      H1: x ≠ 56\n",
    "\n",
    "H0: x = 25000        |       H0: x = 63        |      H0: x = 51\n",
    "H1: x > 25000        |       H1: x > 63        |      H1: x > 51\n",
    "\n",
    "H0: x = 32000        |       H0: x = 70        |      H0: x = 62\n",
    "H1: x < 32000        |       H1: x < 70        |      H1: x < 62"
   ]
  },
  {
   "cell_type": "code",
   "execution_count": null,
   "id": "478ec384",
   "metadata": {},
   "outputs": [],
   "source": []
  },
  {
   "cell_type": "markdown",
   "id": "623a8ebd",
   "metadata": {},
   "source": [
    "##### b. Calcula la media poblacional para cada variable. ¿Son correctos los resultados obtenidos por tus pruebas?"
   ]
  },
  {
   "cell_type": "markdown",
   "id": "19982c29",
   "metadata": {},
   "source": [
    "-\n",
    "-\n",
    "-\n",
    "___0___o___\n",
    "-\n",
    "-\n",
    "-"
   ]
  },
  {
   "cell_type": "markdown",
   "id": "f22289d9",
   "metadata": {},
   "source": [
    "#### 2. Crea una función que estime la proporción de hombres en el dataset, considerando una muestra de 50 individuos, con niveles de significancia de 0,05 y 0,01. Escribe con palabras tus resultados ejecutar la función e interpreta. Compara con la proporción real."
   ]
  },
  {
   "cell_type": "markdown",
   "id": "9cce3263",
   "metadata": {},
   "source": [
    "-\n",
    "-\n",
    "-\n",
    "___0___o___\n",
    "-\n",
    "-\n",
    "-"
   ]
  },
  {
   "cell_type": "markdown",
   "id": "bf2d3102",
   "metadata": {},
   "source": [
    "#### 3. Considerando el dataset como una muestra, verifica si el género (male=1 significa ‘hombre”) influye sobre el sueldo “earn” de las personas. Explica y justifica tu procedimiento."
   ]
  },
  {
   "cell_type": "code",
   "execution_count": null,
   "id": "5fa21396",
   "metadata": {},
   "outputs": [],
   "source": []
  },
  {
   "cell_type": "markdown",
   "metadata": {},
   "source": [
    "-\n",
    "-\n",
    "-\n",
    "___0_FiN__o___\n",
    "-\n",
    "-\n",
    "-"
   ]
  },
  {
   "cell_type": "code",
   "execution_count": null,
   "metadata": {},
   "outputs": [],
   "source": []
  },
  {
   "cell_type": "markdown",
   "metadata": {},
   "source": [
    "### Requerimientos\n",
    "\n",
    "1. Realiza pruebas de hipótesis, considerando el enunciado de cada una y las implementa en Python mediante funciones (5 Puntos)\n",
    "\n",
    "2. Infiere sobre medias poblacionales y proporciones, interpretando error y significancia. (2 Puntos)\n",
    "\n",
    "3. Plantea, interpreta e implementa hipótesis de prueba para muestras independientes. (3 Puntos)"
   ]
  }
 ],
 "metadata": {
  "kernelspec": {
   "display_name": "desafiolatam1",
   "language": "python",
   "name": "python3"
  },
  "language_info": {
   "codemirror_mode": {
    "name": "ipython",
    "version": 3
   },
   "file_extension": ".py",
   "mimetype": "text/x-python",
   "name": "python",
   "nbconvert_exporter": "python",
   "pygments_lexer": "ipython3",
   "version": "3.9.18"
  }
 },
 "nbformat": 4,
 "nbformat_minor": 5
}
