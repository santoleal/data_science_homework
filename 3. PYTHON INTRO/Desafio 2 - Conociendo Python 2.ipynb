{
 "cells": [
  {
   "cell_type": "markdown",
   "metadata": {},
   "source": [
    "# **DESAFÍO Nº2: CONOCIENDO PYTHON (PARTE 2)**\n",
    "### **Módulo 3: Python para análisis de datos**\n",
    "#### *Carrera Data Science - G-68 - Desafio Latam*\n",
    "#### Estudiante: Felipe Leal Arancibia"
   ]
  },
  {
   "cell_type": "markdown",
   "metadata": {},
   "source": []
  },
  {
   "cell_type": "markdown",
   "metadata": {},
   "source": [
    "##### *Problema 1:*\n",
    "##### **Suma de números pares** \n",
    "Escribe un programa que pida al usuario dos números enteros y calcule la suma de todos los números pares entre ellos. El programa deberá imprimir el resultado. (hint: utilice la función range() para generar la secuencia de números enteros)"
   ]
  },
  {
   "cell_type": "code",
   "execution_count": null,
   "metadata": {},
   "outputs": [],
   "source": [
    "# FORMA 1\n",
    "# Datos de entrada\n",
    "num1 = int(input(\"Ingrese un número inicial: \" ))\n",
    "num2 = int(input(\"Ingrese un número final: \"))\n",
    "num_pares = []\n",
    "suma_pares = 0\n",
    "\n",
    "# Operación\n",
    "for n in range(num1, num2+1, 1):\n",
    "    if n % 2 == 0:\n",
    "        print(f\"Se identificó el número par {n}\")\n",
    "        num_pares.append(n)\n",
    "        suma_pares += n \n",
    "\n",
    "# Salida\n",
    "\n",
    "print(f\"La lista de números pares es: {num_pares}\")\n",
    "print(f\"La suma de los pares entre los números ingresados es: {suma_pares}\")\n"
   ]
  },
  {
   "cell_type": "code",
   "execution_count": null,
   "metadata": {},
   "outputs": [],
   "source": [
    "# FORMA 2: CON COMPREHENSIONS \n",
    "\n",
    "# Datos de entrada\n",
    "num1 = int(input(\"Ingrese un número inicial: \" ))\n",
    "num2 = int(input(\"Ingrese un número final: \"))\n",
    "\n",
    "# Operación \n",
    "\n",
    "numeros_pares = [ n for n in range(num1, num2+1) if n % 2 == 0 ]\n",
    "suma_pares = sum(numeros_pares)\n",
    "\n",
    "\n",
    "# Salida\n",
    "for n in numeros_pares: # Esto es opcional, lo hago para que quede igual que el anterior\n",
    "    print(f\"Se identificó el número par {n}\")\n",
    "    \n",
    "print(f\"Lista de números pares: {numeros_pares}\")\n",
    "print(f\"La suma de los pares entre los números ingresados es: {suma_pares}\")\n",
    "\n"
   ]
  },
  {
   "cell_type": "markdown",
   "metadata": {},
   "source": [
    "\n",
    "----º----"
   ]
  },
  {
   "cell_type": "markdown",
   "metadata": {},
   "source": [
    "##### *Problema 2:*\n",
    "##### **Calculadora de áreas**\n",
    "\n",
    "Escribe un programa que pida al usuario el tipo de figura geométrica de la que quiere calcular el área (cuadrado, triángulo o círculo) y las medidas correspondientes. El programa deberá calcular y mostrar el área de la figura seleccionada. (hint: para obtener el número pi puedes utilizar la librería math)."
   ]
  },
  {
   "cell_type": "code",
   "execution_count": null,
   "metadata": {},
   "outputs": [],
   "source": [
    "import math\n",
    "\n",
    "while True: \n",
    "\n",
    "# Datos de entrada dentro del ciclo (entrada por menú)\n",
    "\n",
    "    pregunta_figura = input('''Qué área geométrica quiere calcular: \n",
    "                            (1) Cuadrado\n",
    "                            (2) Triángulo\n",
    "                            (3) Círculo\n",
    "                            (99) Salir \n",
    "                            \n",
    "                            -->  ''')\n",
    "    \n",
    "# Operaciones y salidas\n",
    "    \n",
    "    if pregunta_figura == \"1\":\n",
    "        lado = float(input(\"Ingrese medida del lado en centímetros: \"))\n",
    "        lado_mt = round((lado * 0.01),2) #Se pasa de centimetros a metros\n",
    "        area_cuadrado = round((lado_mt * lado_mt), 2)  \n",
    "        print(f\"Si cada lado es de {lado} cm ({lado_mt} mt), el área del cuadrado es {area_cuadrado} m2.\")\n",
    "        break\n",
    "\n",
    "    elif pregunta_figura == \"2\":\n",
    "        base = float(input(\"Ingrese medida de la base el triángulo en centímetros: \"))\n",
    "        altura = float(input(\"Ingrese medida de la altura el triángulo en centímetros: \"))\n",
    "        base_mt = round((base * 0.01), 2)\n",
    "        altura_mt = round((altura * 0.01),2) # se pasa cm a metro\n",
    "        area_triangulo = round(((base_mt * altura_mt / 2)), 2) \n",
    "        print(f\"Si la base es de {base} cm ({base_mt} mt) y la altura es de {altura} cm ({altura_mt}, mt), el área del triángulo es {area_triangulo} m2.\")\n",
    "        break\n",
    "\n",
    "    elif pregunta_figura == \"3\":\n",
    "        diametro = float(input(\"Ingrese el diámetro del círculo, en centrímetros: \"))\n",
    "        diametro_mt = round((diametro * 0.01),2)  # se pasa cm a metro\n",
    "        area_circulo = round(math.pi,2) * round(((diametro_mt/2)**2),2) \n",
    "        print(f\"Si el radio es {diametro / 2} cm ({diametro_mt / 2} mt), el área del círculo es {area_circulo} mt2.\") \n",
    "        break\n",
    "\n",
    "    elif pregunta_figura == \"99\":\n",
    "        break\n",
    "    else:\n",
    "        print(\"Opción no reconocida\")\n",
    "    \n",
    "print(\"Vuelva pronto...\")\n"
   ]
  },
  {
   "cell_type": "markdown",
   "metadata": {},
   "source": [
    "\n",
    "----º----"
   ]
  },
  {
   "cell_type": "markdown",
   "metadata": {},
   "source": [
    "##### *Problema 3:*\n",
    "##### **Adivina el número**\n",
    "\n",
    "Escribe un programa que genere un número aleatorio entre 1 y 100 y pida al usuario que adivine cuál es. El programa deberá dar pistas al usuario diciendo si el número que ha introducido es mayor o menor que el número aleatorio. El programa deberá\n",
    "continuar pidiendo números hasta que el usuario adivine el número correcto. (hint: utiliza un ciclo while para mantener al programa pidiendo números)"
   ]
  },
  {
   "cell_type": "code",
   "execution_count": null,
   "metadata": {},
   "outputs": [],
   "source": [
    "import random\n",
    "# Datos de entrada\n",
    "\n",
    "num = random.randint(1,100)\n",
    "\n",
    "# Operación y salida\n",
    "\n",
    "while True: \n",
    "    adivinar = int(input(\"La máquina tiene un número de 1 a 100. Adivine qué número es: \"))\n",
    "\n",
    "    if adivinar == num:\n",
    "        print(f\"EXCELENTE!! Adivinaste el número incógnito: {num}\")\n",
    "        break\n",
    "    elif adivinar < num:\n",
    "        print(f\"El número ES MAYOR al entregado ({adivinar})\")\n",
    "\n",
    "    elif adivinar > num: \n",
    "        print(f\"El número ES MENOR al entregado ({adivinar})\") \n",
    "    else:\n",
    "        print(\"Opción no reconocida. \")\n",
    "\n",
    "print(\"Nos vemos!\")\n",
    "\n"
   ]
  },
  {
   "cell_type": "markdown",
   "metadata": {},
   "source": [
    "----º----"
   ]
  },
  {
   "cell_type": "markdown",
   "metadata": {},
   "source": [
    "##### *Problema 4:*\n",
    "##### **¡Maratón de caracoles!**\n",
    "\n",
    "Crea un programa que simule un caracol que va corriendo una maratón. Pide al usuario que ingrese la velocidad a la que puede correr el caracol. Debes usar un ciclo while, para ir mostrando un emoji de caracol 🐌 que se vaya moviendo hacia la derecha en cada impresión."
   ]
  },
  {
   "cell_type": "code",
   "execution_count": null,
   "metadata": {},
   "outputs": [],
   "source": [
    "import math\n",
    "\n",
    "# Datos de entrada\n",
    "velocidad_caracol = int(input(\"Ingresa cuántos metros avanza tu caracol 🐌 por cada hora: \"))\n",
    "velocidad_caracol_kh = velocidad_caracol * 0.001 # Paso de metros a kilómetros / hora \n",
    "distancia_maraton = 42\n",
    "distancia_recorrida = 0\n",
    "\n",
    "# Operación y salidas\n",
    "\n",
    "tiempo_maraton = math.ceil(distancia_maraton / velocidad_caracol_kh)\n",
    "\n",
    "\n",
    "print(f\"- Velocidad del caracol (km/hr): {velocidad_caracol_kh}\")\n",
    "print(f\"- Tiempo estimado de lo que se demorará el caracol en la maratón: {tiempo_maraton} horas\")\n",
    "\n",
    "\n",
    "while distancia_recorrida <= distancia_maraton:\n",
    "\n",
    "    for tramo in range(0,distancia_maraton+1,6):\n",
    "\n",
    "        distancia_recorrida += tramo\n",
    "\n",
    "        if tramo != 0:\n",
    "            tiempo_tramo = tramo / velocidad_caracol_kh\n",
    "            tiempo_trancurrido = tiempo_tramo\n",
    "\n",
    "\n",
    "        avance = \"__\" * tramo\n",
    "\n",
    "        if tramo == 0:\n",
    "            print(f\"|KM: {tramo}_________ 🐌 INICIO\")\n",
    "        elif tramo == 42:\n",
    "            print(f\"|KM: {tramo} _{avance} 🐌 LLEGÓ A LA META! (Tiempo total: {math.ceil(tiempo_trancurrido)} hrs.)\")\n",
    "        else:\n",
    "            print(f\"|KM: {tramo} _{avance} 🐌 (Tiempo transcurrido: {math.ceil(tiempo_trancurrido)} hrs.)\")\n",
    "\n",
    "print(\"Nos vemos!\")\n"
   ]
  }
 ],
 "metadata": {
  "kernelspec": {
   "display_name": "desafiolatam1",
   "language": "python",
   "name": "python3"
  },
  "language_info": {
   "codemirror_mode": {
    "name": "ipython",
    "version": 3
   },
   "file_extension": ".py",
   "mimetype": "text/x-python",
   "name": "python",
   "nbconvert_exporter": "python",
   "pygments_lexer": "ipython3",
   "version": "3.9.18"
  }
 },
 "nbformat": 4,
 "nbformat_minor": 2
}
