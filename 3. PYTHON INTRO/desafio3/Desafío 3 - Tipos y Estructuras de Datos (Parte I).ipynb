{
 "cells": [
  {
   "cell_type": "markdown",
   "id": "1d23ed80",
   "metadata": {},
   "source": [
    "# **DESAFÍO Nº3: TIPOS Y ESTRUCTURAS DE DATOS (PARTE I)**\n",
    "### **Módulo 3: Python para análisis de datos**\n",
    "#### *Carrera Data Science - G-68 - Desafio Latam*\n",
    "#### Estudiante: Felipe Leal Arancibia"
   ]
  },
  {
   "cell_type": "markdown",
   "id": "0a77b06b",
   "metadata": {},
   "source": [
    "##### *Problema 1:*\n",
    "##### **Modificación de lista** \n",
    "lista = [\"manzana\", \"pera\", \"naranja\", \"plátano\", \"kiwi\", \"uva\", \"piña\",\n",
    "\"mango\", \"sandía\", \"melón\"]\n",
    "\n",
    "a. Imprime el quinto elemento de la lista.\n",
    "b. Imprime del cuarto al sexto inclusive.\n",
    "c. Elimina el elemento en la posición 3\n",
    "d. Agrega dos nuevos elementos a la lista\n",
    "e. Ordena la lista alfabéticamente.\n",
    "f. Genera un diccionario usando lista1 como llaves y lista como valores\n",
    "\n",
    "lista1 = [\"uno\", \"dos\", \"tres\", \"cuatro\", \"cinco\", \"seis\", \"siete\",\n",
    "\"ocho\", \"nueve\", \"diez\"]"
   ]
  },
  {
   "cell_type": "code",
   "execution_count": 13,
   "id": "d24aaf25",
   "metadata": {},
   "outputs": [],
   "source": [
    "lista = [\"manzana\", \"pera\", \"naranja\", \"plátano\", \"kiwi\", \"uva\", \"piña\",\n",
    "\"mango\", \"sandía\", \"melón\"]"
   ]
  },
  {
   "cell_type": "code",
   "execution_count": 14,
   "id": "310a2683",
   "metadata": {},
   "outputs": [
    {
     "name": "stdout",
     "output_type": "stream",
     "text": [
      "kiwi\n"
     ]
    }
   ],
   "source": [
    "# a. Imprime el quinto elemento de la lista.  --> Considero al primer elemento en la posición 0. Por ello 4ta posición = 5 elemento\n",
    "print(lista[4])"
   ]
  },
  {
   "cell_type": "code",
   "execution_count": 15,
   "id": "8ec8c5d6",
   "metadata": {},
   "outputs": [
    {
     "name": "stdout",
     "output_type": "stream",
     "text": [
      "['kiwi', 'uva', 'piña']\n"
     ]
    }
   ],
   "source": [
    "# b. Imprime del cuarto al sexto inclusive.   --> Lo mismo que lo anterior. La 6ta posición es el 7mo elemento, pero no se considera en el slicing, cortando en el 6) \n",
    "print(lista[3:6:1])\n"
   ]
  },
  {
   "cell_type": "code",
   "execution_count": 16,
   "id": "6052c9ca",
   "metadata": {},
   "outputs": [
    {
     "name": "stdout",
     "output_type": "stream",
     "text": [
      "plátano\n",
      "['manzana', 'pera', 'naranja', 'kiwi', 'uva', 'piña', 'mango', 'sandía', 'melón']\n"
     ]
    }
   ],
   "source": [
    "# c. Elimina el elemento en la posición 3\n",
    "print(lista.pop(3))\n",
    "print(lista)"
   ]
  },
  {
   "cell_type": "code",
   "execution_count": 18,
   "id": "8cf13dcc",
   "metadata": {},
   "outputs": [
    {
     "name": "stdout",
     "output_type": "stream",
     "text": [
      "['manzana', 'pera', 'naranja', 'kiwi', 'uva', 'piña', 'mango', 'sandía', 'melón', 'frutilla', 'arándano']\n"
     ]
    }
   ],
   "source": [
    "# d. Agrega dos nuevos elementos a la lista\n",
    "otras_frutas = ['frutilla', \"arándano\"]\n",
    "lista.extend(otras_frutas)\n",
    "print(lista)\n"
   ]
  },
  {
   "cell_type": "code",
   "execution_count": 20,
   "id": "4385a1d2",
   "metadata": {},
   "outputs": [
    {
     "name": "stdout",
     "output_type": "stream",
     "text": [
      "['arándano', 'frutilla', 'kiwi', 'mango', 'manzana', 'melón', 'naranja', 'pera', 'piña', 'sandía', 'uva']\n"
     ]
    }
   ],
   "source": [
    "# e. Ordena la lista alfabéticamente.\n",
    "lista.sort()\n",
    "print(lista)"
   ]
  },
  {
   "cell_type": "code",
   "execution_count": 24,
   "id": "70effc99",
   "metadata": {},
   "outputs": [
    {
     "data": {
      "text/plain": [
       "{'uno': 'arándano',\n",
       " 'dos': 'frutilla',\n",
       " 'tres': 'kiwi',\n",
       " 'cuatro': 'mango',\n",
       " 'cinco': 'manzana',\n",
       " 'seis': 'melón',\n",
       " 'siete': 'naranja',\n",
       " 'ocho': 'pera',\n",
       " 'nueve': 'piña',\n",
       " 'diez': 'sandía'}"
      ]
     },
     "execution_count": 24,
     "metadata": {},
     "output_type": "execute_result"
    }
   ],
   "source": [
    "# f. Genera un diccionario usando lista1 como llaves y lista como valores\n",
    "\n",
    "lista1 = [\"uno\", \"dos\", \"tres\", \"cuatro\", \"cinco\", \"seis\", \"siete\",\n",
    "\"ocho\", \"nueve\", \"diez\"]\n",
    "\n",
    "diccionario = dict(zip(lista1, lista))\n",
    "diccionario\n"
   ]
  },
  {
   "cell_type": "markdown",
   "id": "ae8f7a3e",
   "metadata": {},
   "source": [
    "\n",
    "----º----"
   ]
  },
  {
   "cell_type": "markdown",
   "id": "c692c585",
   "metadata": {},
   "source": [
    "##### *Problema 2:*\n",
    "##### **Fabricación de cerveza artesanal** \n",
    "\n",
    "El LIC y el LSC son calculados utilizando la media y la desviación estándar de los datos del\n",
    "proceso. La idea es que la mayoría de los datos del proceso se encuentren dentro de los límites\n",
    "de control (entre el LIC y el LSC), y si un dato cae fuera de estos límites, se puede considerar\n",
    "que el proceso está fuera de control y se requiere una acción correctiva para investigar y\n",
    "corregir la causa de la variación. El valor del LIC se calcula como la media menos tres veces la\n",
    "desviación estándar, y el valor del LSC se calcula como la media más tres veces la\n",
    "desviación estándar. Estos límites representan el rango en el que la mayoría de los datos del\n",
    "proceso deberían estar.\n",
    "\n",
    "Para poder asegurar de que la cantidad de alcohol en cada lote de cerveza sea consistente,\n",
    "debes medir el porcentaje de alcohol de cada lote y registrar los datos en una hoja de cálculo.\n",
    "Esta información ya ha sido recolectada a partir de 1.000 lotes de cerveza y se encuentra en el\n",
    "archivo alcohol_cerveza.csv.\n",
    "\n",
    "El objetivo del ejercicio es calcular la media, la desviación estándar, el LIC y el LSC del\n",
    "porcentaje de alcohol y guardarlos en variables.\n",
    "\n",
    "Para asegurarte de que los lotes de cerveza se estén elaborando de forma consistente y que el\n",
    "nivel de alcohol sea el adecuado, una vez calculadas las medidas anteriores, indicar cuáles\n",
    "valores quedarían fuera de los límites de control y cuántos son.\n"
   ]
  },
  {
   "cell_type": "code",
   "execution_count": 29,
   "id": "1ff1d374",
   "metadata": {},
   "outputs": [],
   "source": [
    "# Importa la librería NumPy.\n",
    "import numpy as np"
   ]
  },
  {
   "cell_type": "code",
   "execution_count": 61,
   "id": "d07534b7",
   "metadata": {},
   "outputs": [
    {
     "name": "stdout",
     "output_type": "stream",
     "text": [
      "[5.06 4.29 4.84 4.93 5.09 4.95 4.89 5.1  4.17 4.46 5.07 5.19 4.82 5.07\n",
      " 4.54 4.99 5.06 4.92 4.61 5.14 5.31 4.74 5.34 4.78 4.9  5.27 5.4  5.4\n",
      " 5.21 5.04 4.73 5.49 4.98 4.96 4.92 5.16 4.91 5.4  4.93 5.03 5.1  5.1\n",
      " 4.82 4.82 4.94 5.09 4.69 5.14 5.18 5.17 4.98 5.79 4.55 4.57 5.47 5.07\n",
      " 5.4  4.87 4.98 4.86 5.02 5.11 5.33 5.19 4.99 4.84 5.16 5.22 5.03 4.85\n",
      " 5.   4.86 5.05 5.04 5.17 4.48 5.01 5.31 4.86 5.27 5.12 5.31 4.62 4.65\n",
      " 4.95 4.86 4.37 5.11 4.73 5.38 5.25 4.86 5.14 5.48 5.7  4.62 5.28 5.13\n",
      " 5.23 4.93 5.44 4.44 5.08 5.   4.45 4.62 4.88 5.02 5.38 4.88 4.9  5.22\n",
      " 5.52 4.71 5.04 5.37 4.73 5.14 4.28 4.69 4.96 5.19 4.71 5.68 4.39 5.16\n",
      " 4.53 5.26 4.82 5.05 4.7  4.61 5.04 4.4  5.12 4.77 5.39 5.57 4.34 5.04\n",
      " 4.86 4.88 5.44 4.92 5.18 5.13 5.42 4.66 4.78 5.03 4.88 5.22 5.36 4.54\n",
      " 4.9  4.67 4.97 4.95 5.38 5.21 5.08 4.91 4.79 4.96 4.93 5.05 4.89 5.07\n",
      " 4.84 5.19 5.21 4.83 5.27 5.08 5.11 4.93 5.31 4.5  5.18 4.93 4.92 5.02\n",
      " 4.66 5.21 5.19 5.1  4.87 5.09 4.87 4.86 4.54 5.   4.81 5.16 5.26 4.8\n",
      " 4.62 5.26 5.24 5.4  4.62 4.91 5.4  4.88 4.83 4.36 5.02 5.08 4.45 5.03\n",
      " 4.25 4.77 5.32 5.2  4.86 4.11 4.71 4.82 5.16 4.53 4.93 4.8  5.21 5.07\n",
      " 5.25 4.91 5.5  4.91 4.76 4.84 5.32 5.   5.4  4.58 5.3  4.92 5.06 4.91\n",
      " 5.09 5.17 5.13 4.42 5.18 4.4  4.86 5.36 4.55 4.88 4.34 4.92 5.19 4.33\n",
      " 4.96 4.36 5.62 4.59 5.   5.19 5.55 4.99 5.62 5.29 5.09 4.91 4.8  5.05\n",
      " 5.39 4.64 5.11 4.53 4.69 4.71 4.96 4.81 5.12 4.83 5.45 5.43 4.66 4.43\n",
      " 5.38 4.75 5.15 5.5  5.2  5.57 4.84 5.01 5.39 4.76 5.11 5.28 5.16 5.01\n",
      " 4.45 5.17 4.96 4.63 4.86 5.47 4.88 4.65 5.15 5.07 4.61 5.37 4.99 5.16\n",
      " 5.11 4.73 5.29 4.81 5.12 4.98 5.61 4.25 4.85 4.62 4.83 4.9  4.47 5.15\n",
      " 5.15 4.86 5.5  5.17 4.93 5.17 4.68 5.19 5.61 5.5  4.98 5.3  5.15 5.34\n",
      " 4.74 4.5  4.65 5.24 4.54 4.96 5.4  5.25 5.37 5.32 4.91 3.87 4.7  4.68\n",
      " 4.35 5.05 5.26 4.43 4.33 4.82 5.45 5.07 4.76 4.82 4.76 5.45 4.96 4.97\n",
      " 4.93 5.55 5.06 4.83 5.16 4.98 4.98 5.13 4.83 5.16 4.85 4.79 5.38 5.15\n",
      " 5.28 5.22 5.29 5.15 4.65 4.95 5.33 5.08 4.82 5.03 5.17 5.08 5.33 4.68\n",
      " 4.74 5.14 4.93 5.45 4.98 4.81 5.07 4.57 5.05 5.06 4.92 4.77 4.85 4.43\n",
      " 5.43 4.76 4.58 5.09 5.02 4.84 4.96 4.86 5.43 5.32 5.32 5.35 5.41 4.89\n",
      " 4.94 4.97 5.21 5.21 4.55 4.91 4.86 4.76 5.21 5.29 5.16 5.23 4.61 5.29\n",
      " 5.34 4.82 4.98 4.84 4.55 5.21 4.91 4.71 4.89 5.13 4.63 4.51 5.1  4.77\n",
      " 5.69 4.89 4.6  4.66 5.21 5.61 5.67 5.34 4.63 4.96 4.78 4.76 5.63 4.47\n",
      " 4.78 4.94 5.03 5.16 4.97 5.1  5.25 5.6  5.36 5.13 5.25 5.08 4.79 4.91\n",
      " 5.11 4.84 5.09 5.26 4.4  5.26 5.07 5.16 4.77 4.99 4.84 5.18 5.15 5.2\n",
      " 4.62 4.81 4.82 5.31 4.85 5.05 5.55 5.56 4.93 5.14 4.73 5.21 5.38 4.79\n",
      " 5.38 4.79 5.59 5.16 5.32 5.19 5.5  4.82 5.17 5.49 5.02 5.05 5.4  5.13\n",
      " 4.64 5.23 5.09 4.76 4.37 4.37 4.84 4.39 4.63 4.83 5.49 4.34 5.12 4.76\n",
      " 4.57 5.21 4.65 4.81 4.91 4.92 5.25 5.06 4.8  4.39 5.36 5.21 5.47 4.78\n",
      " 5.03 4.33 5.02 4.92 4.81 4.76 4.96 5.19 5.26 5.37 5.23 5.16 5.52 4.79\n",
      " 4.44 5.05 4.87 5.24 4.99 4.7  4.7  5.36 5.11 5.48 4.99 5.17 4.85 5.31\n",
      " 5.61 5.42 4.63 5.15 4.98 5.12 5.25 4.63 5.23 4.95 4.83 5.27 5.19 4.95\n",
      " 5.27 5.02 5.14 5.61 4.96 4.88 4.74 5.64 4.82 4.59 4.76 5.14 4.58 5.18\n",
      " 5.18 5.23 5.15 5.3  4.09 5.19 5.36 5.24 4.44 4.63 5.33 4.95 4.6  5.12\n",
      " 5.06 5.38 5.05 4.45 4.59 5.1  5.07 5.11 5.28 5.31 5.07 4.94 4.55 5.07\n",
      " 5.12 4.98 5.7  5.1  5.05 4.49 5.   5.18 4.77 4.26 5.22 5.32 4.73 4.92\n",
      " 4.8  4.9  4.88 5.22 5.12 5.12 5.11 4.84 4.78 4.97 4.57 4.81 5.59 5.2\n",
      " 5.04 4.66 4.91 4.77 5.02 5.17 5.56 4.87 4.81 5.29 5.09 4.57 5.13 5.26\n",
      " 5.12 4.6  5.08 5.66 4.16 5.11 4.95 4.62 4.27 5.28 4.59 5.43 5.02 5.16\n",
      " 5.42 4.92 4.37 4.71 5.25 4.82 4.73 4.4  4.82 5.35 4.58 5.22 5.19 5.18\n",
      " 5.19 4.9  4.93 4.73 5.02 4.81 4.67 5.51 4.73 5.09 5.06 4.86 5.1  5.46\n",
      " 4.88 5.4  5.02 5.45 5.18 5.09 4.43 5.34 4.2  4.6  5.19 5.04 5.38 5.36\n",
      " 4.98 5.4  5.13 4.62 4.46 5.07 5.09 4.91 5.13 5.21 5.01 5.4  4.79 4.76\n",
      " 4.7  5.49 5.04 5.26 5.33 5.12 5.25 4.91 5.22 5.62 4.86 4.95 5.09 4.57\n",
      " 4.72 4.93 4.47 4.91 4.89 5.07 4.71 4.78 5.13 5.28 5.01 5.28 5.18 5.17\n",
      " 5.08 5.03 5.39 4.5  5.43 5.26 4.4  5.3  5.12 5.22 4.47 4.87 5.35 5.22\n",
      " 5.54 4.94 4.76 4.85 5.13 5.41 5.2  5.51 5.13 5.03 5.   5.38 5.35 5.3\n",
      " 5.3  5.1  4.54 4.93 4.3  5.29 5.12 4.51 5.14 4.64 5.27 5.32 5.06 5.38\n",
      " 5.5  5.05 5.02 5.22 4.85 4.78 4.73 4.9  4.73 4.82 4.47 4.63 4.96 4.85\n",
      " 5.15 5.06 5.14 5.31 5.12 5.2  5.47 4.92 4.72 4.98 4.7  4.39 5.36 5.62\n",
      " 4.83 5.34 5.   4.57 4.94 5.63 5.3  5.1  5.75 5.29 5.28 5.19 4.82 5.46\n",
      " 5.01 5.52 4.76 5.36 4.94 5.47 5.2  5.14 4.57 4.8  5.08 4.75 5.04 4.67\n",
      " 5.17 5.3  4.78 4.48 4.5  4.94 5.23 4.94 5.09 5.05 5.24 4.53 5.22 5.34\n",
      " 4.83 4.9  5.13 5.42 5.21 5.39 4.92 5.08 5.06 5.22 5.42 5.45 4.91 4.71\n",
      " 5.14 5.   5.54 5.63 4.99 5.26 4.73 4.63 5.01 5.26 4.91 5.01 5.19 5.07\n",
      " 5.6  5.01 5.23 5.01 5.1  4.57 5.46 5.41 4.86 4.75 4.85 5.43 5.73 5.48\n",
      " 5.46 4.81 4.38 4.6  4.92 5.23 5.02 5.07 4.47 5.85 5.29 4.68 5.29 6.02\n",
      " 4.76 5.38 5.   5.19 4.77 4.99 4.78 5.26 5.25 4.81 5.   4.78 5.11 5.28\n",
      " 5.32 4.96 4.58 5.39 4.43 4.94 4.99 4.59 5.43 4.75 5.24 4.79 5.4  5.31\n",
      " 5.05 4.75 4.78 4.9  5.03 4.34 4.62 4.48 5.4  5.42 5.04 5.23 5.36 4.86\n",
      " 5.41 4.63 5.   5.13 4.87 4.87 5.26 5.5  5.01 4.93 5.15 5.09 4.3  5.47\n",
      " 5.71 4.87 5.28 4.68 5.12 4.92]\n"
     ]
    }
   ],
   "source": [
    "# Carga los datos del archivo csv en una variable llamada array, usando np.loadtxt(“alcohol_cerveza.csv”) y modifica los parámetros necesarios para leer bien el archivo.\n",
    "\n",
    "array = np.loadtxt('alcohol_cerveza.csv', delimiter=',', skiprows=1)\n",
    "\n",
    "print(array)"
   ]
  },
  {
   "cell_type": "code",
   "execution_count": 77,
   "id": "2d38c3fa",
   "metadata": {},
   "outputs": [
    {
     "data": {
      "text/plain": [
       "5.01034"
      ]
     },
     "execution_count": 77,
     "metadata": {},
     "output_type": "execute_result"
    }
   ],
   "source": [
    "# Calcula la media de los datos utilizando la función mean de NumPy y almacena el resultado en una variable llamada media.\n",
    "media = np.mean(array)\n",
    "media"
   ]
  },
  {
   "cell_type": "code",
   "execution_count": 76,
   "id": "fa35bb1e",
   "metadata": {},
   "outputs": [
    {
     "data": {
      "text/plain": [
       "0.31158992987579043"
      ]
     },
     "execution_count": 76,
     "metadata": {},
     "output_type": "execute_result"
    }
   ],
   "source": [
    "# Calcula la desviación estándar de los datos utilizando la función std de NumPy y almacena el resultado en una variable llamada desviacion.\n",
    "desviacion = np.std(array)\n",
    "desviacion"
   ]
  },
  {
   "cell_type": "code",
   "execution_count": 75,
   "id": "b3a6ef51",
   "metadata": {},
   "outputs": [
    {
     "data": {
      "text/plain": [
       "4.075570210372629"
      ]
     },
     "execution_count": 75,
     "metadata": {},
     "output_type": "execute_result"
    }
   ],
   "source": [
    "# Calcula el límite inferior de control (LIC) utilizando la fórmula: media - (3 * desviacion) y almacena el resultado en una variable llamada lic.\n",
    "\n",
    "lic = media - (3 * desviacion) \n",
    "lic"
   ]
  },
  {
   "cell_type": "code",
   "execution_count": 74,
   "id": "8db2fa4a",
   "metadata": {},
   "outputs": [
    {
     "data": {
      "text/plain": [
       "5.945109789627372"
      ]
     },
     "execution_count": 74,
     "metadata": {},
     "output_type": "execute_result"
    }
   ],
   "source": [
    "# Calcula el límite superior de control (LSC) utilizando la fórmula: media + (3 * desviacion) y almacena el resultado en una variable llamada lsc\n",
    "lsc = media + (3* desviacion)\n",
    "lsc\n"
   ]
  },
  {
   "cell_type": "code",
   "execution_count": 78,
   "id": "7142cb7b",
   "metadata": {},
   "outputs": [
    {
     "name": "stdout",
     "output_type": "stream",
     "text": [
      "\n",
      "Media:                              5.01\n",
      "Desviación Estándar:                0.312\n",
      "Límite Inferior de Control (LIC):   4.076\n",
      "Límite Superior de Control (LSC):   5.945 \n",
      "      \n",
      "      \n"
     ]
    }
   ],
   "source": [
    "# Imprime los resultados de la media, la desviación estándar, el LIC y el LSC\n",
    "print(f'''\n",
    "Media:                              {round(media,3)}\n",
    "Desviación Estándar:                {round(desviacion,3)}\n",
    "Límite Inferior de Control (LIC):   {round(lic,3)}\n",
    "Límite Superior de Control (LSC):   {round(lsc,3)} \n",
    "      \n",
    "      ''')"
   ]
  },
  {
   "cell_type": "code",
   "execution_count": 82,
   "id": "6195c2d6",
   "metadata": {},
   "outputs": [
    {
     "data": {
      "text/plain": [
       "array([3.87, 6.02])"
      ]
     },
     "execution_count": 82,
     "metadata": {},
     "output_type": "execute_result"
    }
   ],
   "source": [
    "# Filtra el array utilizando np.logical_or(condicion1, condicion2) para obtener los valores fuera de los límites de control.\n",
    "\n",
    "array[np.logical_or(array<lic, array> lsc)]\n"
   ]
  },
  {
   "cell_type": "markdown",
   "id": "4cd95279",
   "metadata": {},
   "source": [
    "_Para asegurarte de que los lotes de cerveza se estén elaborando de forma consistente y que el nivel de alcohol sea el adecuado, una vez calculadas las medidas anteriores, indicar cuáles valores quedarían fuera de los límites de control y cuántos son._\n",
    "\n",
    "*_Respuesta:_* \n",
    "\n",
    "De los 1000 (mil) registros de lotes de cerveza disponibles en la base de datos, sólo 2 casos están por fuera de los límites.\n",
    "\n",
    "Uno de ellos está debajo del LIC, con un valor de 3,87% de alcohol.\n",
    "\n",
    "El otro caso está sobre el LSC, con un 6,02% de alcohol.\n",
    "\n",
    "Estos dos casos no están muy lejanos a los límites, por lo que se puede ver que se ha hecho un buen trabajo de control del proceso productivo. "
   ]
  }
 ],
 "metadata": {
  "kernelspec": {
   "display_name": "Python 3 (ipykernel)",
   "language": "python",
   "name": "python3"
  },
  "language_info": {
   "codemirror_mode": {
    "name": "ipython",
    "version": 3
   },
   "file_extension": ".py",
   "mimetype": "text/x-python",
   "name": "python",
   "nbconvert_exporter": "python",
   "pygments_lexer": "ipython3",
   "version": "3.9.18"
  }
 },
 "nbformat": 4,
 "nbformat_minor": 5
}
