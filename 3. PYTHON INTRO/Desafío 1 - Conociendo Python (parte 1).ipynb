{
 "cells": [
  {
   "cell_type": "markdown",
   "id": "60376e4b",
   "metadata": {},
   "source": [
    "# **DESAFÍO Nº1: CONOCIENDO PYTHON (PARTE 1)**\n",
    "### **Módulo 3: Python para análisis de datos**\n",
    "#### *Carrera Data Science - G-68 - Desafio Latam*\n",
    "#### Estudiante: Felipe Leal Arancibia"
   ]
  },
  {
   "cell_type": "markdown",
   "id": "dae501f8",
   "metadata": {},
   "source": []
  },
  {
   "cell_type": "markdown",
   "id": "743361b2",
   "metadata": {},
   "source": [
    "##### *Problema 1:*\n",
    "##### **Calculando el salario semanal** \n",
    "\n",
    "Un vendedor gana un salario base de $500 más una comisión del 10% sobre sus ventas totales. Escribe un programa donde se pueda ingresar el monto de las ventas totales del vendedor y calcule su salario total."
   ]
  },
  {
   "cell_type": "code",
   "execution_count": null,
   "id": "0851831c",
   "metadata": {},
   "outputs": [],
   "source": [
    "# Datos de entrada:\n",
    "sueldo_base = 500000\n",
    "ventas_semana = float(input(\"Ingrese monto de las ventas totales de la semana: \"))\n",
    "\n",
    "# Operación:\n",
    "salario_semanal = sueldo_base + (ventas_semana * 10 / 100)\n",
    "\n",
    "# Salida:\n",
    "print(f\"Dado el sueldo base más la comisión de ventas totales, el salario semanal del vendedor X es: ${salario_semanal} pesos.\")"
   ]
  },
  {
   "cell_type": "markdown",
   "id": "64ebf967",
   "metadata": {},
   "source": [
    "\n",
    "----º----"
   ]
  },
  {
   "cell_type": "markdown",
   "id": "7bdd1e4a",
   "metadata": {},
   "source": [
    "##### *Problema 2:*\n",
    "##### **Bienvenido a la frutería virtual**\n",
    "En este ejercicio, vamos a crear un diccionario vacío llamado catalogo_frutas {'fruta': precio} y agregar algunas frutas con sus precios. Luego, le pediremos al usuario que ingrese el nombre de una fruta y verificaremos si esa fruta está en el diccionario. Si la fruta está en el diccionario, mostraremos el precio al usuario. Si la fruta no está en el diccionario, le diremos al usuario que no se encuentra esa fruta en nuestra tienda."
   ]
  },
  {
   "cell_type": "code",
   "execution_count": null,
   "id": "ca556c67",
   "metadata": {},
   "outputs": [],
   "source": [
    "# Datos de entrada:\n",
    "catalogo_frutas = {\n",
    "    'manzanas': 700,\n",
    "    'naranjas': 800,\n",
    "    'uvas': 1200,\n",
    "    'platanos': 1500,\n",
    "    'frutillas': 2500\n",
    "    }\n",
    "consulta_usuario = input(\"¿Qué fruta quiere comprar? \").lower()\n",
    "\n",
    "# Operación y salida:\n",
    "if consulta_usuario in catalogo_frutas.keys():\n",
    "    print(f\"El precio de {consulta_usuario} es de ${catalogo_frutas[consulta_usuario]} pesos.\")\n",
    "else:\n",
    "    print(f\"Lo siento, no tenemos {consulta_usuario} en nuestra frutería.\")\n"
   ]
  },
  {
   "cell_type": "markdown",
   "id": "1c91e201",
   "metadata": {},
   "source": [
    "\n",
    "----º----"
   ]
  },
  {
   "cell_type": "markdown",
   "id": "a809f7c8",
   "metadata": {},
   "source": [
    "##### *Problema 3:*\n",
    "##### **Bienvenido al casino**\n",
    "En este juego, tienes que lanzar dos dados y el programa mostrará los valores\n",
    "obtenidos en cada dado y la suma de ambos valores. Debes generar dos números\n",
    "aleatorios entre 1 y 6 que representan los valores obtenidos en cada dado usando la\n",
    "librería random. Luego, el programa debe mostrar los valores obtenidos en cada\n",
    "dado y la suma de ambos valores en la pantalla."
   ]
  },
  {
   "cell_type": "code",
   "execution_count": null,
   "id": "3e26cc23",
   "metadata": {},
   "outputs": [],
   "source": [
    "import random\n",
    "\n",
    "# Datos de entrada:\n",
    "dado1 = random.randint(1,6)\n",
    "dado2 = random.randint(1,6)\n",
    "\n",
    "# Operación y salida:\n",
    "\n",
    "print(f\"El valor del dado 1 es: {dado1}\")\n",
    "print(f\"El valor del dado 2 es: {dado2}\")\n",
    "print(f\"La suma del dado 1 y el dado 2 es igual a {dado1 + dado2}.\")"
   ]
  },
  {
   "cell_type": "markdown",
   "id": "3c3cf43d",
   "metadata": {},
   "source": [
    "\n",
    "----º----"
   ]
  },
  {
   "cell_type": "markdown",
   "id": "0f2d58a6",
   "metadata": {},
   "source": [
    "##### *Problema 4:*\n",
    "##### **Calculadora de chocolate**\n",
    "Crea un programa que calcule la cantidad de chocolate que puedes comer sin pasarte de tu límite diario de calorías. El programa debe preguntar al usuario su límite diario de calorías y la cantidad de calorías que tiene una porción de chocolate. Luego, debe calcular la cantidad máxima de chocolate que se puede comer sin exceder el límite diario de calorías y mostrarla en pantalla."
   ]
  },
  {
   "cell_type": "code",
   "execution_count": null,
   "id": "41c802b2",
   "metadata": {},
   "outputs": [],
   "source": [
    "# Datos entrada\n",
    "limite_calorias_persona = float(input(\"¿Cuál es tu límite diario de calorías? \"))\n",
    "calorias_porcion_chocolate = float(input(\"¿Cuántas calorías (kgrs) tiene una porción de chocolate? \"))\n",
    "\n",
    "# Operación \n",
    "chocolate_x_dia = round((limite_calorias_persona / calorias_porcion_chocolate),2)\n",
    "\n",
    "# Salida\n",
    "print(f\"La cantidad de chocolate que puedes comer es de {chocolate_x_dia} barras al día.\")"
   ]
  }
 ],
 "metadata": {
  "kernelspec": {
   "display_name": "Python 3 (ipykernel)",
   "language": "python",
   "name": "python3"
  },
  "language_info": {
   "codemirror_mode": {
    "name": "ipython",
    "version": 3
   },
   "file_extension": ".py",
   "mimetype": "text/x-python",
   "name": "python",
   "nbconvert_exporter": "python",
   "pygments_lexer": "ipython3",
   "version": "3.9.18"
  }
 },
 "nbformat": 4,
 "nbformat_minor": 5
}
