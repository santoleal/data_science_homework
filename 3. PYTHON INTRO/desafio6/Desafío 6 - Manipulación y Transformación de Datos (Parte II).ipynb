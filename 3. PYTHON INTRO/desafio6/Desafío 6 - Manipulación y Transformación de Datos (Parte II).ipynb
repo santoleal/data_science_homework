{
 "cells": [
  {
   "cell_type": "markdown",
   "metadata": {},
   "source": [
    "# **DESAFÍO Nº6: MANIPULACIÓN Y TRANSFORMACIÓN DE DATOS (PARTE II)**\n",
    "### **Módulo 3: Python para análisis de datos**\n",
    "#### *Carrera Data Science - G-68 - Desafio Latam*\n",
    "#### Estudiante: Felipe Leal Arancibia"
   ]
  },
  {
   "cell_type": "markdown",
   "metadata": {},
   "source": [
    "La empresa ADL se dedica a la venta de productos a nivel regional en los Estados Unidos, con equipos de ventas que operan en diferentes estados. La compañía ha establecido un sistema de comisiones para incentivar a sus equipos de ventas a preferir la venta de productos de alto margen antes que los de bajo margen de utilidad.\n",
    "\n",
    "Como Analista de Datos, le solicitan analizar información sobre las ventas realizadas por los equipos de ventas de ADL, incluyendo detalles sobre los productos vendidos, los clientes, las fechas de los pedidos y los plazos de entrega.\n",
    "\n",
    "Para resolver este desafío deberás cargar datos desde Hojas de Excel del archivo US_Regional_Sales_Data.xlsx. En base a esto, debe generar una visualización de datos como la que se muestra en las hojas Reporte1 y Reporte2 del archivo reporte.xlsx. \n",
    "\n",
    "Para cumplir con lo solicitado, puedes aplicar los siguientes pasos:\n",
    "\n"
   ]
  },
  {
   "cell_type": "markdown",
   "metadata": {},
   "source": [
    "\n",
    "1. Carga los datos de cada pestaña del archivo US_Regional_Sales_Data.xlsx en un\n",
    "DataFrame independiente. (hint: Puedes obtener los nombres de las hojas usando\n",
    "pd.ExcelFile(archivo).sheet_names)\n"
   ]
  },
  {
   "cell_type": "markdown",
   "metadata": {},
   "source": [
    "2. Cruza todos los DataFrames usando validación many_to_one, y guarda el resultado\n",
    "en una nueva variable llamada df_base.\n"
   ]
  },
  {
   "cell_type": "markdown",
   "metadata": {},
   "source": [
    "3. Agrega las siguientes columnas a df_ base:\n",
    "\n",
    "Columna                 Cálculo\n",
    "ProcurementDays         OrderDate-ProcuredDate\n",
    "ShippingDays            ShipDate-OrderDate\n",
    "DeliveryDays            DeliveryDate-ShipDate\n",
    "CustomerDays            ShippingDays+DeliveryDays\n",
    "\n",
    "hint: Asegúrate de que las columnas sean de tipo datetime.\n"
   ]
  },
  {
   "cell_type": "markdown",
   "metadata": {},
   "source": [
    "\n",
    "4. Agrega una nueva columna discreta al df_base, con el nombre CustomerDaysInterval\n",
    "que clasifique los valores de la columna CustomerDays en los siguientes intervalos:\n",
    "○ 0 to 15 days\n",
    "○ 15 to 30 days\n",
    "○ 30 to 45 days\n",
    "○ 45 to 60 days\n",
    "○ 60 to 75 days\n",
    "○ 75 to 90 days\n",
    "\n",
    "\n",
    "hint: Utiliza pd.cut con estas etiquetas de Intervalo. Puedes convertir previamente\n",
    "la columna CustomerDays a valores numéricos con pd.to_numeric(). Considera que\n",
    "en este caso, el resultado es entregado en formato 10**9 segundos, por lo que\n",
    "debes dividir el resultado por este valor\n",
    "\n"
   ]
  },
  {
   "cell_type": "markdown",
   "metadata": {},
   "source": [
    "\n",
    "5. Utiliza una tabla pivote para mostrar el conteo de órdenes agrupando por Sales\n",
    "Team en las filas y CustomerDaysInterval en las columnas. Este reporte debe\n",
    "cuadrar con los datos de la pestaña Reporte1 del archivo reportes.xlsx\n",
    "\n"
   ]
  },
  {
   "cell_type": "markdown",
   "metadata": {},
   "source": [
    "\n",
    "6. Agrega la siguiente columna calculada a la base:\n",
    "KPI                 Cálculo\n",
    "GrossMargin         OrderQuantity*(UnitPrice*(1-Discount Applied)-UnitCost)\n",
    "\n",
    "Visión de Negocio: El margen bruto es un indicador financiero que muestra la diferencia entre\n",
    "los ingresos generados por la venta de un producto o servicio y los costos directos asociados\n",
    "con su producción o adquisición.\n",
    "\n"
   ]
  },
  {
   "cell_type": "markdown",
   "metadata": {},
   "source": [
    "7. En esta parte debes aplicar un porcentaje a la columna GrossMargin, pero ese\n",
    "porcentaje dependerá del intervalo en que se encuentre GrossMargin.\n",
    "\n",
    "\n",
    "KPI                         Cálculo\n",
    "CommissionsPercentage       % de comisión según la tabla de comisiones\n",
    "\n",
    "hint: Utiliza pd.cut con labels numéricas para que la columna resultante sea de tipo float.\n",
    "\n"
   ]
  },
  {
   "cell_type": "markdown",
   "metadata": {},
   "source": [
    "\n",
    "8. Calcula el monto de la comisión, utilizando la Tabla del Anexo.\n",
    "KPI                             Cálculo\n",
    "CommissionsAmount               GrossMargin*CommissionsPercentage\n",
    "\n"
   ]
  },
  {
   "cell_type": "markdown",
   "metadata": {},
   "source": [
    "\n",
    "9. Calcula la comisión sobre el margen bruto.\n",
    "KPI                     Cálculo\n",
    "NetMargin               GrossMargin-CommissionsAmount\n",
    "\n"
   ]
  },
  {
   "cell_type": "markdown",
   "metadata": {},
   "source": [
    "\n",
    "10. Utilizando una tabla pivote, muestra la suma de los valores GrossMargin, NetMargin y\n",
    "CommissionAmount agrupando por Sales Team en las filas. Este reporte debe cuadrar con\n",
    "los datos de la pestaña Reporte2 del archivo reportes.xlsx\n",
    "\n",
    "\n",
    "\n",
    "Anexo\n",
    "Tabla de comisiones\n",
    "\n",
    "\n",
    "Intervalo                               Comisión\n",
    "GrossMargin entre $0 y $100             5%\n",
    "GrossMargin entre $100 y $1000          10%\n",
    "GrossMargin entre $1000 y $10000        15%\n",
    "GrossMargin entre $10000 y $100000      20%"
   ]
  }
 ],
 "metadata": {
  "kernelspec": {
   "display_name": "desafiolatam1",
   "language": "python",
   "name": "python3"
  },
  "language_info": {
   "name": "python",
   "version": "3.9.18"
  }
 },
 "nbformat": 4,
 "nbformat_minor": 5
}
